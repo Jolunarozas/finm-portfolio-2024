{
 "cells": [
  {
   "cell_type": "markdown",
   "id": "a97c4251",
   "metadata": {},
   "source": [
    "# Homework 1\n",
    "\n",
    "## FINM 36700 - 2024\n",
    "\n",
    "### UChicago Financial Mathematics\n",
    "\n",
    "* Mark Hendricks\n",
    "* hendricks@uchicago.edu\n",
    "\n",
    "## HBS Case\n",
    "\n",
    "### *The Harvard Management Company and Inflation-Indexed Bonds*"
   ]
  },
  {
   "cell_type": "markdown",
   "id": "cef92ba4",
   "metadata": {},
   "source": [
    "### Notation\n",
    "(Hidden LaTeX commands)\n",
    "\n",
    "$$\\newcommand{\\mux}{\\tilde{\\boldsymbol{\\mu}}}$$\n",
    "$$\\newcommand{\\wtan}{\\boldsymbol{\\text{w}}^{\\text{tan}}}$$\n",
    "$$\\newcommand{\\wtarg}{\\boldsymbol{\\text{w}}^{\\text{port}}}$$\n",
    "$$\\newcommand{\\mutarg}{\\tilde{\\boldsymbol{\\mu}}^{\\text{port}}}$$\n",
    "$$\\newcommand{\\wEW}{\\boldsymbol{\\text{w}}^{\\text{EW}}}$$\n",
    "$$\\newcommand{\\wRP}{\\boldsymbol{\\text{w}}^{\\text{RP}}}$$\n",
    "$$\\newcommand{\\wREG}{\\boldsymbol{\\text{w}}^{\\text{REG}}}$$"
   ]
  },
  {
   "cell_type": "markdown",
   "id": "cbb624b4",
   "metadata": {},
   "source": [
    "***"
   ]
  },
  {
   "cell_type": "markdown",
   "id": "31dfdadc",
   "metadata": {},
   "source": [
    "# 1. HMC's Approach\n",
    "\n",
    "**Section 1 is not graded**, and you do not need to submit your answers. But you are encouraged to think about them, and we will discuss them."
   ]
  },
  {
   "cell_type": "markdown",
   "id": "77eafffb",
   "metadata": {},
   "source": [
    "### 1. \n",
    "There are thousands of individual risky assets in which HMC can invest.  Explain why MV optimization across 1,000 securities is infeasible.\n",
    "\n",
    "### 2.\n",
    "Rather than optimize across all securities directly, HMC runs a two-stage optimization.\n",
    "1. They build asset class portfolios with each one optimized over the securities of the specific asset class.  \n",
    "2. HMC combines the asset-class portfolios into one total optimized portfolio.\n",
    "\n",
    "In order for the two-stage optimization to be a good approximation of the full MV-optimization on all assets, what must be true of the partition of securities into asset classes?\n",
    "\n",
    "### 3.\n",
    "Should TIPS form a new asset class or be grouped into one of the other 11 classes?\n",
    "\n",
    "### 4. \n",
    "Why does HMC focus on real returns when analyzing its portfolio allocation? Is this just a matter of scaling, or does using real returns versus nominal returns potentially change the MV solution?\n",
    "\n",
    "### 5.\n",
    "The case discusses the fact that Harvard places bounds on the portfolio allocation rather than implementing whatever numbers come out of the MV optimization problem.\n",
    "\n",
    "How might we adjust the stated optimization problem in the lecture notes to reflect the extra constraints Harvard is using in their bounded solutions given in Exhibits 5 and 6?\n",
    "\n",
    "### 6. \n",
    "Exhibits 5 shows zero allocation to domestic equities and domestic bonds across the entire computed range of targeted returns, (5.75% to 7.25%). Conceptually, why is the constraint binding in all these cases? What would the unconstrained portfolio want to do with those allocations and why?\n",
    "\n",
    "### 7.\n",
    "Exhibit 6 changes the constraints, (tightening them in most cases.) How much deterioration do we see in the mean-variance tradeoff that Harvard achieved?"
   ]
  },
  {
   "cell_type": "markdown",
   "id": "f7d7adf1",
   "metadata": {},
   "source": [
    "***"
   ]
  },
  {
   "cell_type": "markdown",
   "id": "d1614003",
   "metadata": {},
   "source": [
    "# 2 Mean-Variance Optimization\n",
    "\n",
    "<i>This section is graded for a good-faith effort by your group. Submit your write-up- along with your supporting code. </i>\n",
    "\n",
    "### Data\n",
    "You will need the file in the github repo, `data/multi_asset_etf_data.xlsx`.\n",
    "- The time-series data gives monthly returns for the 11 asset classes and a short-term Treasury-bill fund return, (\"SHV\",) which we consider as the risk-free rate.\n",
    "- The data is provided in total returns, (in which case you should ignore the SHV column,) as well as excess returns, (where SHV has been subtracted from the other columns.)\n",
    "- These are nominal returns-they are not adjusted for inflation, and in our calculations we are not making any adjustment for inflation.\n",
    "- The exhibit data that comes via Harvard with the case is unnecessary for our analysis.\n",
    "\n",
    "### Model\n",
    "We are going to analyze the problem in terms of **excess** returns.\n",
    "- Thus, you will focus on the `Excess Returns` section of the lecture notes, especially the formulas on slide 50.\n",
    "- Be sure to use the`excess returns` tab of the data.\n",
    "\n",
    "### Format\n",
    "In the questions below, **annualize the statistics** you report.\n",
    "- Annualize the mean of monthly returns with a scaling of 12.\n",
    "- Annualize the volatility of monthly returns with a scaling of $\\sqrt{12}$\n",
    "- The Sharpe Ratio is the mean return divided by the volatility of returns. Accordingly, we can annualize the Sharpe Ratio with a scaling of $\\sqrt{12}$\n",
    "- Note that we are not scaling the raw timeseries data, just the statistics computed from it (mean, vol, Sharpe). "
   ]
  },
  {
   "cell_type": "markdown",
   "id": "afa47172",
   "metadata": {},
   "source": [
    "### Footnotes\n",
    "\n",
    "#### Data File\n",
    "* The case does not give time-series data, so this data has been compiled outside of the case, and it intends to represent the main asset classes under consideration via various ETFs. For details on the specific securities/indexes, check the “Info” tab of the data.\n",
    "\n",
    "#### Risk-free rate\n",
    "* In the lecture-note we considered a constant risk-free rate. It is okay that our risk-free rate changes over time, but the assumption is that investors know it’s value one-period ahead of time. Thus, at any given point in time, it is a risk-free rate for the next period. (This is often discussed as the \"bank account\" or \"money market account\" in other settings."
   ]
  },
  {
   "cell_type": "code",
   "execution_count": 21,
   "id": "c9273242",
   "metadata": {},
   "outputs": [],
   "source": [
    "import pandas as pd\n",
    "import numpy as np\n",
    "import seaborn as sns\n",
    "\n",
    "filename = '../data/multi_asset_etf_data.xlsx'\n",
    "# filename = r\"C:\\Users\\josel\\Downloads\\multi_asset_etf_data (1).xlsx\"\n",
    "data_Total_Return = pd.read_excel(filename,sheet_name=\"total returns\",index_col=\"Date\")\n",
    "data_Excess_Return = pd.read_excel(filename,sheet_name=\"excess returns\",index_col=\"Date\")"
   ]
  },
  {
   "cell_type": "markdown",
   "id": "5dde0313",
   "metadata": {},
   "source": [
    "## 1. Summary Statistics\n",
    "* Calculate and display the mean and volatility of each asset’s excess return. (Recall we use volatility to refer to standard deviation.)\n",
    "* Which assets have the best and worst Sharpe ratios? Recall that the Sharpe Ratio is simply the ratio of the mean-to-volatility of excess returns:\n",
    "$$\\text{sharpe ratio of investment }i = \\frac{\\mux_i}{\\sigma_i}$$\n"
   ]
  },
  {
   "cell_type": "code",
   "execution_count": 22,
   "id": "1154cd0f",
   "metadata": {},
   "outputs": [
    {
     "data": {
      "text/html": [
       "<style type=\"text/css\">\n",
       "</style>\n",
       "<table id=\"T_46a48\">\n",
       "  <thead>\n",
       "    <tr>\n",
       "      <th class=\"blank level0\" >&nbsp;</th>\n",
       "      <th id=\"T_46a48_level0_col0\" class=\"col_heading level0 col0\" >Mean</th>\n",
       "      <th id=\"T_46a48_level0_col1\" class=\"col_heading level0 col1\" >Volatility</th>\n",
       "      <th id=\"T_46a48_level0_col2\" class=\"col_heading level0 col2\" >Sharpe_Ratio</th>\n",
       "    </tr>\n",
       "  </thead>\n",
       "  <tbody>\n",
       "    <tr>\n",
       "      <th id=\"T_46a48_level0_row0\" class=\"row_heading level0 row0\" >BWX</th>\n",
       "      <td id=\"T_46a48_row0_col0\" class=\"data row0 col0\" >-1.19%</td>\n",
       "      <td id=\"T_46a48_row0_col1\" class=\"data row0 col1\" >8.17%</td>\n",
       "      <td id=\"T_46a48_row0_col2\" class=\"data row0 col2\" >-14.56%</td>\n",
       "    </tr>\n",
       "    <tr>\n",
       "      <th id=\"T_46a48_level0_row1\" class=\"row_heading level0 row1\" >DBC</th>\n",
       "      <td id=\"T_46a48_row1_col0\" class=\"data row1 col0\" >-0.91%</td>\n",
       "      <td id=\"T_46a48_row1_col1\" class=\"data row1 col1\" >16.85%</td>\n",
       "      <td id=\"T_46a48_row1_col2\" class=\"data row1 col2\" >-5.39%</td>\n",
       "    </tr>\n",
       "    <tr>\n",
       "      <th id=\"T_46a48_level0_row2\" class=\"row_heading level0 row2\" >EEM</th>\n",
       "      <td id=\"T_46a48_row2_col0\" class=\"data row2 col0\" >2.70%</td>\n",
       "      <td id=\"T_46a48_row2_col1\" class=\"data row2 col1\" >17.99%</td>\n",
       "      <td id=\"T_46a48_row2_col2\" class=\"data row2 col2\" >14.98%</td>\n",
       "    </tr>\n",
       "    <tr>\n",
       "      <th id=\"T_46a48_level0_row3\" class=\"row_heading level0 row3\" >IEF</th>\n",
       "      <td id=\"T_46a48_row3_col0\" class=\"data row3 col0\" >1.39%</td>\n",
       "      <td id=\"T_46a48_row3_col1\" class=\"data row3 col1\" >6.32%</td>\n",
       "      <td id=\"T_46a48_row3_col2\" class=\"data row3 col2\" >22.06%</td>\n",
       "    </tr>\n",
       "    <tr>\n",
       "      <th id=\"T_46a48_level0_row4\" class=\"row_heading level0 row4\" >QAI</th>\n",
       "      <td id=\"T_46a48_row4_col0\" class=\"data row4 col0\" >1.50%</td>\n",
       "      <td id=\"T_46a48_row4_col1\" class=\"data row4 col1\" >4.90%</td>\n",
       "      <td id=\"T_46a48_row4_col2\" class=\"data row4 col2\" >30.52%</td>\n",
       "    </tr>\n",
       "    <tr>\n",
       "      <th id=\"T_46a48_level0_row5\" class=\"row_heading level0 row5\" >TIP</th>\n",
       "      <td id=\"T_46a48_row5_col0\" class=\"data row5 col0\" >1.68%</td>\n",
       "      <td id=\"T_46a48_row5_col1\" class=\"data row5 col1\" >5.13%</td>\n",
       "      <td id=\"T_46a48_row5_col2\" class=\"data row5 col2\" >32.86%</td>\n",
       "    </tr>\n",
       "    <tr>\n",
       "      <th id=\"T_46a48_level0_row6\" class=\"row_heading level0 row6\" >EFA</th>\n",
       "      <td id=\"T_46a48_row6_col0\" class=\"data row6 col0\" >5.50%</td>\n",
       "      <td id=\"T_46a48_row6_col1\" class=\"data row6 col1\" >15.22%</td>\n",
       "      <td id=\"T_46a48_row6_col2\" class=\"data row6 col2\" >36.16%</td>\n",
       "    </tr>\n",
       "    <tr>\n",
       "      <th id=\"T_46a48_level0_row7\" class=\"row_heading level0 row7\" >PSP</th>\n",
       "      <td id=\"T_46a48_row7_col0\" class=\"data row7 col0\" >9.29%</td>\n",
       "      <td id=\"T_46a48_row7_col1\" class=\"data row7 col1\" >21.52%</td>\n",
       "      <td id=\"T_46a48_row7_col2\" class=\"data row7 col2\" >43.14%</td>\n",
       "    </tr>\n",
       "    <tr>\n",
       "      <th id=\"T_46a48_level0_row8\" class=\"row_heading level0 row8\" >IYR</th>\n",
       "      <td id=\"T_46a48_row8_col0\" class=\"data row8 col0\" >7.79%</td>\n",
       "      <td id=\"T_46a48_row8_col1\" class=\"data row8 col1\" >16.96%</td>\n",
       "      <td id=\"T_46a48_row8_col2\" class=\"data row8 col2\" >45.94%</td>\n",
       "    </tr>\n",
       "    <tr>\n",
       "      <th id=\"T_46a48_level0_row9\" class=\"row_heading level0 row9\" >HYG</th>\n",
       "      <td id=\"T_46a48_row9_col0\" class=\"data row9 col0\" >3.74%</td>\n",
       "      <td id=\"T_46a48_row9_col1\" class=\"data row9 col1\" >7.73%</td>\n",
       "      <td id=\"T_46a48_row9_col2\" class=\"data row9 col2\" >48.33%</td>\n",
       "    </tr>\n",
       "    <tr>\n",
       "      <th id=\"T_46a48_level0_row10\" class=\"row_heading level0 row10\" >SPY</th>\n",
       "      <td id=\"T_46a48_row10_col0\" class=\"data row10 col0\" >12.70%</td>\n",
       "      <td id=\"T_46a48_row10_col1\" class=\"data row10 col1\" >14.31%</td>\n",
       "      <td id=\"T_46a48_row10_col2\" class=\"data row10 col2\" >88.76%</td>\n",
       "    </tr>\n",
       "  </tbody>\n",
       "</table>\n"
      ],
      "text/plain": [
       "<pandas.io.formats.style.Styler at 0x25c73c43f50>"
      ]
     },
     "execution_count": 22,
     "metadata": {},
     "output_type": "execute_result"
    }
   ],
   "source": [
    "anualized_data = pd.DataFrame({\"Mean\": data_Excess_Return.mean()*12,\"Volatility\":data_Excess_Return.std()*np.sqrt(12)})\n",
    "anualized_data[\"Sharpe_Ratio\"] = (data_Excess_Return.mean() / data_Excess_Return.std()) * np.sqrt(12)\n",
    "anualized_data = anualized_data.sort_values(by=[\"Sharpe_Ratio\"])\n",
    "anualized_data.style.format('{:.2%}')"
   ]
  },
  {
   "cell_type": "markdown",
   "id": "0cf67c92",
   "metadata": {},
   "source": [
    "### Analysis"
   ]
  },
  {
   "cell_type": "code",
   "execution_count": 23,
   "id": "3cdc418e",
   "metadata": {},
   "outputs": [
    {
     "name": "stdout",
     "output_type": "stream",
     "text": [
      "Asset with best Sharpe Ratio (SR) is SPY. \n",
      "The asset with the worst SR is BWX.\n"
     ]
    }
   ],
   "source": [
    "print(f\"Asset with best Sharpe Ratio (SR) is {anualized_data[anualized_data.Sharpe_Ratio == anualized_data.Sharpe_Ratio.max()].index[0]}. \\nThe asset with the worst SR is {anualized_data[anualized_data.Sharpe_Ratio == anualized_data.Sharpe_Ratio.min()].index[0]}.\")"
   ]
  },
  {
   "cell_type": "markdown",
   "id": "33af7279",
   "metadata": {},
   "source": [
    "\n",
    "## 2. Descriptive Analysis\n",
    "* Calculate the correlation matrix of the returns. Which pair has the highest correlation? And the lowest?\n",
    "* How well have TIPS done in our sample? Have they outperformed domestic bonds? Foreign bonds?"
   ]
  },
  {
   "cell_type": "code",
   "execution_count": 24,
   "id": "b36bc099",
   "metadata": {},
   "outputs": [
    {
     "data": {
      "image/png": "[encoded data removed]",
      "text/plain": [
       "<Figure size 640x480 with 2 Axes>"
      ]
     },
     "metadata": {},
     "output_type": "display_data"
    }
   ],
   "source": [
    "corr_matrix = data_Excess_Return.corr()\n",
    "sns.heatmap(corr_matrix,annot=True)\n",
    "corr_matrix = corr_matrix.unstack().reset_index()\n",
    "corr_matrix.columns = [\"Asset 1\",\"Asset 2\",\"Correlation\"]\n",
    "corr_matrix = corr_matrix[corr_matrix[\"Asset 1\"] != corr_matrix[\"Asset 2\"]].sort_values(by=[\"Correlation\"])"
   ]
  },
  {
   "cell_type": "markdown",
   "id": "f3355bd9",
   "metadata": {},
   "source": [
    "### Analysis"
   ]
  },
  {
   "cell_type": "code",
   "execution_count": 25,
   "id": "37fc7ca1",
   "metadata": {},
   "outputs": [
    {
     "name": "stdout",
     "output_type": "stream",
     "text": [
      "The assets with the highest corralation are: \n",
      "   Asset 1 Asset 2  Correlation\n",
      "56     IEF     DBC    -0.300523.        \n",
      "\n",
      "The assets with the lowest corralation are: \n",
      "   Asset 1 Asset 2  Correlation\n",
      "80     PSP     EFA     0.910596.\n"
     ]
    }
   ],
   "source": [
    "print(f\"The assets with the highest corralation are: \\n{corr_matrix.head(1)}. \\\n",
    "       \\n\\nThe assets with the lowest corralation are: \\n{corr_matrix.tail(1)}.\")"
   ]
  },
  {
   "cell_type": "markdown",
   "id": "0350826d",
   "metadata": {},
   "source": [
    "We can see that `TIP` (TIPS Bond ETF) presented both, a higher Mean Return and Sharpe Ration in this timeframe than `IEF` (7-10 year Treasury Bond) and `BWX` (International Investment Grade Bonds). However, High Yield Corporate Bonds `HYG` showed a better performance. "
   ]
  },
  {
   "cell_type": "code",
   "execution_count": 26,
   "id": "8da8a8ee",
   "metadata": {},
   "outputs": [
    {
     "data": {
      "text/html": [
       "<style type=\"text/css\">\n",
       "</style>\n",
       "<table id=\"T_d0fcb\">\n",
       "  <thead>\n",
       "    <tr>\n",
       "      <th class=\"blank level0\" >&nbsp;</th>\n",
       "      <th id=\"T_d0fcb_level0_col0\" class=\"col_heading level0 col0\" >Mean</th>\n",
       "      <th id=\"T_d0fcb_level0_col1\" class=\"col_heading level0 col1\" >Volatility</th>\n",
       "      <th id=\"T_d0fcb_level0_col2\" class=\"col_heading level0 col2\" >Sharpe_Ratio</th>\n",
       "    </tr>\n",
       "  </thead>\n",
       "  <tbody>\n",
       "    <tr>\n",
       "      <th id=\"T_d0fcb_level0_row0\" class=\"row_heading level0 row0\" >BWX</th>\n",
       "      <td id=\"T_d0fcb_row0_col0\" class=\"data row0 col0\" >-1.19%</td>\n",
       "      <td id=\"T_d0fcb_row0_col1\" class=\"data row0 col1\" >8.17%</td>\n",
       "      <td id=\"T_d0fcb_row0_col2\" class=\"data row0 col2\" >-14.56%</td>\n",
       "    </tr>\n",
       "    <tr>\n",
       "      <th id=\"T_d0fcb_level0_row1\" class=\"row_heading level0 row1\" >DBC</th>\n",
       "      <td id=\"T_d0fcb_row1_col0\" class=\"data row1 col0\" >-0.91%</td>\n",
       "      <td id=\"T_d0fcb_row1_col1\" class=\"data row1 col1\" >16.85%</td>\n",
       "      <td id=\"T_d0fcb_row1_col2\" class=\"data row1 col2\" >-5.39%</td>\n",
       "    </tr>\n",
       "    <tr>\n",
       "      <th id=\"T_d0fcb_level0_row2\" class=\"row_heading level0 row2\" >EEM</th>\n",
       "      <td id=\"T_d0fcb_row2_col0\" class=\"data row2 col0\" >2.70%</td>\n",
       "      <td id=\"T_d0fcb_row2_col1\" class=\"data row2 col1\" >17.99%</td>\n",
       "      <td id=\"T_d0fcb_row2_col2\" class=\"data row2 col2\" >14.98%</td>\n",
       "    </tr>\n",
       "    <tr>\n",
       "      <th id=\"T_d0fcb_level0_row3\" class=\"row_heading level0 row3\" >IEF</th>\n",
       "      <td id=\"T_d0fcb_row3_col0\" class=\"data row3 col0\" >1.39%</td>\n",
       "      <td id=\"T_d0fcb_row3_col1\" class=\"data row3 col1\" >6.32%</td>\n",
       "      <td id=\"T_d0fcb_row3_col2\" class=\"data row3 col2\" >22.06%</td>\n",
       "    </tr>\n",
       "    <tr>\n",
       "      <th id=\"T_d0fcb_level0_row4\" class=\"row_heading level0 row4\" >QAI</th>\n",
       "      <td id=\"T_d0fcb_row4_col0\" class=\"data row4 col0\" >1.50%</td>\n",
       "      <td id=\"T_d0fcb_row4_col1\" class=\"data row4 col1\" >4.90%</td>\n",
       "      <td id=\"T_d0fcb_row4_col2\" class=\"data row4 col2\" >30.52%</td>\n",
       "    </tr>\n",
       "    <tr>\n",
       "      <th id=\"T_d0fcb_level0_row5\" class=\"row_heading level0 row5\" >TIP</th>\n",
       "      <td id=\"T_d0fcb_row5_col0\" class=\"data row5 col0\" >1.68%</td>\n",
       "      <td id=\"T_d0fcb_row5_col1\" class=\"data row5 col1\" >5.13%</td>\n",
       "      <td id=\"T_d0fcb_row5_col2\" class=\"data row5 col2\" >32.86%</td>\n",
       "    </tr>\n",
       "    <tr>\n",
       "      <th id=\"T_d0fcb_level0_row6\" class=\"row_heading level0 row6\" >EFA</th>\n",
       "      <td id=\"T_d0fcb_row6_col0\" class=\"data row6 col0\" >5.50%</td>\n",
       "      <td id=\"T_d0fcb_row6_col1\" class=\"data row6 col1\" >15.22%</td>\n",
       "      <td id=\"T_d0fcb_row6_col2\" class=\"data row6 col2\" >36.16%</td>\n",
       "    </tr>\n",
       "    <tr>\n",
       "      <th id=\"T_d0fcb_level0_row7\" class=\"row_heading level0 row7\" >PSP</th>\n",
       "      <td id=\"T_d0fcb_row7_col0\" class=\"data row7 col0\" >9.29%</td>\n",
       "      <td id=\"T_d0fcb_row7_col1\" class=\"data row7 col1\" >21.52%</td>\n",
       "      <td id=\"T_d0fcb_row7_col2\" class=\"data row7 col2\" >43.14%</td>\n",
       "    </tr>\n",
       "    <tr>\n",
       "      <th id=\"T_d0fcb_level0_row8\" class=\"row_heading level0 row8\" >IYR</th>\n",
       "      <td id=\"T_d0fcb_row8_col0\" class=\"data row8 col0\" >7.79%</td>\n",
       "      <td id=\"T_d0fcb_row8_col1\" class=\"data row8 col1\" >16.96%</td>\n",
       "      <td id=\"T_d0fcb_row8_col2\" class=\"data row8 col2\" >45.94%</td>\n",
       "    </tr>\n",
       "    <tr>\n",
       "      <th id=\"T_d0fcb_level0_row9\" class=\"row_heading level0 row9\" >HYG</th>\n",
       "      <td id=\"T_d0fcb_row9_col0\" class=\"data row9 col0\" >3.74%</td>\n",
       "      <td id=\"T_d0fcb_row9_col1\" class=\"data row9 col1\" >7.73%</td>\n",
       "      <td id=\"T_d0fcb_row9_col2\" class=\"data row9 col2\" >48.33%</td>\n",
       "    </tr>\n",
       "    <tr>\n",
       "      <th id=\"T_d0fcb_level0_row10\" class=\"row_heading level0 row10\" >SPY</th>\n",
       "      <td id=\"T_d0fcb_row10_col0\" class=\"data row10 col0\" >12.70%</td>\n",
       "      <td id=\"T_d0fcb_row10_col1\" class=\"data row10 col1\" >14.31%</td>\n",
       "      <td id=\"T_d0fcb_row10_col2\" class=\"data row10 col2\" >88.76%</td>\n",
       "    </tr>\n",
       "  </tbody>\n",
       "</table>\n"
      ],
      "text/plain": [
       "<pandas.io.formats.style.Styler at 0x25c75c82ab0>"
      ]
     },
     "execution_count": 26,
     "metadata": {},
     "output_type": "execute_result"
    }
   ],
   "source": [
    "anualized_data.style.format('{:.2%}')"
   ]
  },
  {
   "cell_type": "markdown",
   "id": "d1a6cde9",
   "metadata": {},
   "source": [
    "\n",
    "## 3. The MV frontier.\n",
    "* Compute and display the weights of the tangency portfolios: $\\wtan$.\n",
    "* Does the ranking of weights align with the ranking of Sharpe ratios?\n",
    "* Compute the mean, volatility, and Sharpe ratio for the tangency portfolio corresponding to\n",
    "$\\wtan$."
   ]
  },
  {
   "cell_type": "code",
   "execution_count": 27,
   "id": "97e6c0bb",
   "metadata": {},
   "outputs": [],
   "source": [
    "def weights_tang(return_db):\n",
    "    sigma = (return_db.cov()*12)\n",
    "    mu_excess = (return_db.mean()*12)\n",
    "    vector = np.ones(len(mu_excess))\n",
    "    w_tan = (np.linalg.inv(sigma) @ mu_excess )/(np.transpose(vector) @ np.linalg.inv(sigma) @ mu_excess)\n",
    "    weights_db = pd.DataFrame({\"w_tan\": w_tan})\n",
    "    weights_db.index = return_db.columns\n",
    "    return weights_db"
   ]
  },
  {
   "cell_type": "code",
   "execution_count": 28,
   "id": "f6cd55d5",
   "metadata": {},
   "outputs": [
    {
     "data": {
      "text/html": [
       "<style type=\"text/css\">\n",
       "</style>\n",
       "<table id=\"T_f18b6\">\n",
       "  <thead>\n",
       "    <tr>\n",
       "      <th class=\"blank level0\" >&nbsp;</th>\n",
       "      <th id=\"T_f18b6_level0_col0\" class=\"col_heading level0 col0\" >Mean</th>\n",
       "      <th id=\"T_f18b6_level0_col1\" class=\"col_heading level0 col1\" >Volatility</th>\n",
       "      <th id=\"T_f18b6_level0_col2\" class=\"col_heading level0 col2\" >Sharpe_Ratio</th>\n",
       "      <th id=\"T_f18b6_level0_col3\" class=\"col_heading level0 col3\" >w_tan</th>\n",
       "    </tr>\n",
       "  </thead>\n",
       "  <tbody>\n",
       "    <tr>\n",
       "      <th id=\"T_f18b6_level0_row0\" class=\"row_heading level0 row0\" >BWX</th>\n",
       "      <td id=\"T_f18b6_row0_col0\" class=\"data row0 col0\" >-1.19%</td>\n",
       "      <td id=\"T_f18b6_row0_col1\" class=\"data row0 col1\" >8.17%</td>\n",
       "      <td id=\"T_f18b6_row0_col2\" class=\"data row0 col2\" >-14.56%</td>\n",
       "      <td id=\"T_f18b6_row0_col3\" class=\"data row0 col3\" >273.03%</td>\n",
       "    </tr>\n",
       "    <tr>\n",
       "      <th id=\"T_f18b6_level0_row1\" class=\"row_heading level0 row1\" >DBC</th>\n",
       "      <td id=\"T_f18b6_row1_col0\" class=\"data row1 col0\" >-0.91%</td>\n",
       "      <td id=\"T_f18b6_row1_col1\" class=\"data row1 col1\" >16.85%</td>\n",
       "      <td id=\"T_f18b6_row1_col2\" class=\"data row1 col2\" >-5.39%</td>\n",
       "      <td id=\"T_f18b6_row1_col3\" class=\"data row1 col3\" >-11.12%</td>\n",
       "    </tr>\n",
       "    <tr>\n",
       "      <th id=\"T_f18b6_level0_row2\" class=\"row_heading level0 row2\" >EEM</th>\n",
       "      <td id=\"T_f18b6_row2_col0\" class=\"data row2 col0\" >2.70%</td>\n",
       "      <td id=\"T_f18b6_row2_col1\" class=\"data row2 col1\" >17.99%</td>\n",
       "      <td id=\"T_f18b6_row2_col2\" class=\"data row2 col2\" >14.98%</td>\n",
       "      <td id=\"T_f18b6_row2_col3\" class=\"data row2 col3\" >-61.57%</td>\n",
       "    </tr>\n",
       "    <tr>\n",
       "      <th id=\"T_f18b6_level0_row3\" class=\"row_heading level0 row3\" >IEF</th>\n",
       "      <td id=\"T_f18b6_row3_col0\" class=\"data row3 col0\" >1.39%</td>\n",
       "      <td id=\"T_f18b6_row3_col1\" class=\"data row3 col1\" >6.32%</td>\n",
       "      <td id=\"T_f18b6_row3_col2\" class=\"data row3 col2\" >22.06%</td>\n",
       "      <td id=\"T_f18b6_row3_col3\" class=\"data row3 col3\" >-468.25%</td>\n",
       "    </tr>\n",
       "    <tr>\n",
       "      <th id=\"T_f18b6_level0_row4\" class=\"row_heading level0 row4\" >QAI</th>\n",
       "      <td id=\"T_f18b6_row4_col0\" class=\"data row4 col0\" >1.50%</td>\n",
       "      <td id=\"T_f18b6_row4_col1\" class=\"data row4 col1\" >4.90%</td>\n",
       "      <td id=\"T_f18b6_row4_col2\" class=\"data row4 col2\" >30.52%</td>\n",
       "      <td id=\"T_f18b6_row4_col3\" class=\"data row4 col3\" >722.06%</td>\n",
       "    </tr>\n",
       "    <tr>\n",
       "      <th id=\"T_f18b6_level0_row5\" class=\"row_heading level0 row5\" >TIP</th>\n",
       "      <td id=\"T_f18b6_row5_col0\" class=\"data row5 col0\" >1.68%</td>\n",
       "      <td id=\"T_f18b6_row5_col1\" class=\"data row5 col1\" >5.13%</td>\n",
       "      <td id=\"T_f18b6_row5_col2\" class=\"data row5 col2\" >32.86%</td>\n",
       "      <td id=\"T_f18b6_row5_col3\" class=\"data row5 col3\" >51.04%</td>\n",
       "    </tr>\n",
       "    <tr>\n",
       "      <th id=\"T_f18b6_level0_row6\" class=\"row_heading level0 row6\" >EFA</th>\n",
       "      <td id=\"T_f18b6_row6_col0\" class=\"data row6 col0\" >5.50%</td>\n",
       "      <td id=\"T_f18b6_row6_col1\" class=\"data row6 col1\" >15.22%</td>\n",
       "      <td id=\"T_f18b6_row6_col2\" class=\"data row6 col2\" >36.16%</td>\n",
       "      <td id=\"T_f18b6_row6_col3\" class=\"data row6 col3\" >53.07%</td>\n",
       "    </tr>\n",
       "    <tr>\n",
       "      <th id=\"T_f18b6_level0_row7\" class=\"row_heading level0 row7\" >PSP</th>\n",
       "      <td id=\"T_f18b6_row7_col0\" class=\"data row7 col0\" >9.29%</td>\n",
       "      <td id=\"T_f18b6_row7_col1\" class=\"data row7 col1\" >21.52%</td>\n",
       "      <td id=\"T_f18b6_row7_col2\" class=\"data row7 col2\" >43.14%</td>\n",
       "      <td id=\"T_f18b6_row7_col3\" class=\"data row7 col3\" >27.70%</td>\n",
       "    </tr>\n",
       "    <tr>\n",
       "      <th id=\"T_f18b6_level0_row8\" class=\"row_heading level0 row8\" >IYR</th>\n",
       "      <td id=\"T_f18b6_row8_col0\" class=\"data row8 col0\" >7.79%</td>\n",
       "      <td id=\"T_f18b6_row8_col1\" class=\"data row8 col1\" >16.96%</td>\n",
       "      <td id=\"T_f18b6_row8_col2\" class=\"data row8 col2\" >45.94%</td>\n",
       "      <td id=\"T_f18b6_row8_col3\" class=\"data row8 col3\" >87.71%</td>\n",
       "    </tr>\n",
       "    <tr>\n",
       "      <th id=\"T_f18b6_level0_row9\" class=\"row_heading level0 row9\" >HYG</th>\n",
       "      <td id=\"T_f18b6_row9_col0\" class=\"data row9 col0\" >3.74%</td>\n",
       "      <td id=\"T_f18b6_row9_col1\" class=\"data row9 col1\" >7.73%</td>\n",
       "      <td id=\"T_f18b6_row9_col2\" class=\"data row9 col2\" >48.33%</td>\n",
       "      <td id=\"T_f18b6_row9_col3\" class=\"data row9 col3\" >-83.26%</td>\n",
       "    </tr>\n",
       "    <tr>\n",
       "      <th id=\"T_f18b6_level0_row10\" class=\"row_heading level0 row10\" >SPY</th>\n",
       "      <td id=\"T_f18b6_row10_col0\" class=\"data row10 col0\" >12.70%</td>\n",
       "      <td id=\"T_f18b6_row10_col1\" class=\"data row10 col1\" >14.31%</td>\n",
       "      <td id=\"T_f18b6_row10_col2\" class=\"data row10 col2\" >88.76%</td>\n",
       "      <td id=\"T_f18b6_row10_col3\" class=\"data row10 col3\" >-490.41%</td>\n",
       "    </tr>\n",
       "  </tbody>\n",
       "</table>\n"
      ],
      "text/plain": [
       "<pandas.io.formats.style.Styler at 0x25c74072630>"
      ]
     },
     "execution_count": 28,
     "metadata": {},
     "output_type": "execute_result"
    }
   ],
   "source": [
    "w_tan = weights_tang(data_Excess_Return)\n",
    "anualized_data.merge(w_tan,left_index=True,right_index=True).style.format('{:.2%}')"
   ]
  },
  {
   "cell_type": "code",
   "execution_count": 29,
   "id": "7f59ef80",
   "metadata": {},
   "outputs": [
    {
     "data": {
      "text/html": [
       "<style type=\"text/css\">\n",
       "</style>\n",
       "<table id=\"T_273f1\">\n",
       "  <thead>\n",
       "    <tr>\n",
       "      <th class=\"blank level0\" >&nbsp;</th>\n",
       "      <th id=\"T_273f1_level0_col0\" class=\"col_heading level0 col0\" >Mean</th>\n",
       "      <th id=\"T_273f1_level0_col1\" class=\"col_heading level0 col1\" >Volatility</th>\n",
       "      <th id=\"T_273f1_level0_col2\" class=\"col_heading level0 col2\" >Sharpe_Ratio</th>\n",
       "    </tr>\n",
       "  </thead>\n",
       "  <tbody>\n",
       "    <tr>\n",
       "      <th id=\"T_273f1_level0_row0\" class=\"row_heading level0 row0\" >w_tan</th>\n",
       "      <td id=\"T_273f1_row0_col0\" class=\"data row0 col0\" >-52.73%</td>\n",
       "      <td id=\"T_273f1_row0_col1\" class=\"data row0 col1\" >32.85%</td>\n",
       "      <td id=\"T_273f1_row0_col2\" class=\"data row0 col2\" >-160.50%</td>\n",
       "    </tr>\n",
       "  </tbody>\n",
       "</table>\n"
      ],
      "text/plain": [
       "<pandas.io.formats.style.Styler at 0x25c75cd3a70>"
      ]
     },
     "execution_count": 29,
     "metadata": {},
     "output_type": "execute_result"
    }
   ],
   "source": [
    "port_tan = data_Excess_Return @ w_tan\n",
    "port_tan_metrics = pd.DataFrame({\"Mean\": port_tan.mean()*12,\"Volatility\":port_tan.std()*np.sqrt(12)})\n",
    "port_tan_metrics[\"Sharpe_Ratio\"] = (port_tan.mean() / port_tan.std()) * np.sqrt(12)\n",
    "port_tan_metrics = port_tan_metrics.sort_values(by=[\"Sharpe_Ratio\"])\n",
    "port_tan_metrics.style.format('{:.2%}')"
   ]
  },
  {
   "cell_type": "markdown",
   "id": "f3793238",
   "metadata": {},
   "source": [
    "### Analysis\n",
    "\n",
    "We obtain a tangent portfolio with a negative Sharpe Ratio, which is short on the assets with good SR (for example, SPY). We attribute this result to the possible shape of the efficient frontier given this set of assets, where the only tangent point of the frontier and the risk-free rate lies at this 'inefficient' tangent portfolio. In practical cases, an investor should take a short position in this portfolio."
   ]
  },
  {
   "cell_type": "code",
   "execution_count": 30,
   "id": "2e9db315",
   "metadata": {},
   "outputs": [
    {
     "data": {
      "text/plain": [
       "<Axes: xlabel='Volatility', ylabel='Mean'>"
      ]
     },
     "execution_count": 30,
     "metadata": {},
     "output_type": "execute_result"
    },
    {
     "data": {
      "image/png": "[encoded data removed]",
      "text/plain": [
       "<Figure size 640x480 with 1 Axes>"
      ]
     },
     "metadata": {},
     "output_type": "display_data"
    }
   ],
   "source": [
    "sns.scatterplot(pd.concat([anualized_data,port_tan_metrics]), x = \"Volatility\", y = \"Mean\",)\n"
   ]
  },
  {
   "cell_type": "markdown",
   "id": "d3962427",
   "metadata": {},
   "source": [
    "\n",
    "\n",
    "\n",
    "## 4. TIPS\n",
    "Assess how much the tangency portfolio (and performance) change if...\n",
    "* TIPS are dropped completely from the investment set.\n",
    "* The expected excess return to TIPS is adjusted to be 0.0012 higher than what the historic sample shows.\n",
    "\n",
    "Based on the analysis, do TIPS seem to expand the investment opportunity set, implying that Harvard should consider them as a separate asset?"
   ]
  },
  {
   "cell_type": "code",
   "execution_count": 31,
   "id": "386a755f",
   "metadata": {},
   "outputs": [
    {
     "data": {
      "text/html": [
       "<style type=\"text/css\">\n",
       "</style>\n",
       "<table id=\"T_df414\">\n",
       "  <thead>\n",
       "    <tr>\n",
       "      <th class=\"blank level0\" >&nbsp;</th>\n",
       "      <th id=\"T_df414_level0_col0\" class=\"col_heading level0 col0\" >Mean</th>\n",
       "      <th id=\"T_df414_level0_col1\" class=\"col_heading level0 col1\" >Volatility</th>\n",
       "      <th id=\"T_df414_level0_col2\" class=\"col_heading level0 col2\" >Sharpe_Ratio</th>\n",
       "    </tr>\n",
       "  </thead>\n",
       "  <tbody>\n",
       "    <tr>\n",
       "      <th id=\"T_df414_level0_row0\" class=\"row_heading level0 row0\" >w_tan_wout_TIP</th>\n",
       "      <td id=\"T_df414_row0_col0\" class=\"data row0 col0\" >-58.08%</td>\n",
       "      <td id=\"T_df414_row0_col1\" class=\"data row0 col1\" >36.21%</td>\n",
       "      <td id=\"T_df414_row0_col2\" class=\"data row0 col2\" >-160.39%</td>\n",
       "    </tr>\n",
       "  </tbody>\n",
       "</table>\n"
      ],
      "text/plain": [
       "<pandas.io.formats.style.Styler at 0x25c75db2f00>"
      ]
     },
     "execution_count": 31,
     "metadata": {},
     "output_type": "execute_result"
    }
   ],
   "source": [
    "w_tan_wout_TIP = weights_tang(data_Excess_Return.drop([\"TIP\"],axis = 1))\n",
    "w_tan_wout_TIP.columns = [\"w_tan_wout_TIP\"]\n",
    "anualized_data.merge(w_tan_wout_TIP,left_index=True,right_index=True).style.format('{:.2%}')\n",
    "\n",
    "port_tan_wout_TIP = data_Excess_Return.drop([\"TIP\"],axis = 1) @ w_tan_wout_TIP\n",
    "port_tan_metrics_wout_TIP = pd.DataFrame({\"Mean\": port_tan_wout_TIP.mean()*12,\"Volatility\":port_tan_wout_TIP.std()*np.sqrt(12)})\n",
    "port_tan_metrics_wout_TIP[\"Sharpe_Ratio\"] = (port_tan_wout_TIP.mean() / port_tan_wout_TIP.std()) * np.sqrt(12)\n",
    "port_tan_metrics_wout_TIP = port_tan_metrics_wout_TIP.sort_values(by=[\"Sharpe_Ratio\"])\n",
    "port_tan_metrics_wout_TIP.style.format('{:.2%}')"
   ]
  },
  {
   "cell_type": "code",
   "execution_count": 32,
   "id": "2bad4b0f",
   "metadata": {},
   "outputs": [
    {
     "data": {
      "text/html": [
       "<style type=\"text/css\">\n",
       "</style>\n",
       "<table id=\"T_28f72\">\n",
       "  <thead>\n",
       "    <tr>\n",
       "      <th class=\"blank level0\" >&nbsp;</th>\n",
       "      <th id=\"T_28f72_level0_col0\" class=\"col_heading level0 col0\" >Mean</th>\n",
       "      <th id=\"T_28f72_level0_col1\" class=\"col_heading level0 col1\" >Volatility</th>\n",
       "      <th id=\"T_28f72_level0_col2\" class=\"col_heading level0 col2\" >Sharpe_Ratio</th>\n",
       "    </tr>\n",
       "  </thead>\n",
       "  <tbody>\n",
       "    <tr>\n",
       "      <th id=\"T_28f72_level0_row0\" class=\"row_heading level0 row0\" >w_tan_adj_TIP</th>\n",
       "      <td id=\"T_28f72_row0_col0\" class=\"data row0 col0\" >-617.40%</td>\n",
       "      <td id=\"T_28f72_row0_col1\" class=\"data row0 col1\" >365.58%</td>\n",
       "      <td id=\"T_28f72_row0_col2\" class=\"data row0 col2\" >-168.88%</td>\n",
       "    </tr>\n",
       "  </tbody>\n",
       "</table>\n"
      ],
      "text/plain": [
       "<pandas.io.formats.style.Styler at 0x25c7417b0b0>"
      ]
     },
     "execution_count": 32,
     "metadata": {},
     "output_type": "execute_result"
    }
   ],
   "source": [
    "data_Excess_Return_TIP_adj = data_Excess_Return.copy()\n",
    "data_Excess_Return_TIP_adj[\"TIP\"] += 0.0012\n",
    "\n",
    "w_tan_adj_TIP = weights_tang(data_Excess_Return_TIP_adj)\n",
    "w_tan_adj_TIP.columns = [\"w_tan_adj_TIP\"]\n",
    "anualized_data.merge(w_tan_adj_TIP,left_index=True,right_index=True).style.format('{:.2%}')\n",
    "\n",
    "port_tan_adj_TIP = data_Excess_Return_TIP_adj @ w_tan_adj_TIP\n",
    "port_tan_metrics_adj_TIP = pd.DataFrame({\"Mean\": port_tan_adj_TIP.mean()*12,\"Volatility\":port_tan_adj_TIP.std()*np.sqrt(12)})\n",
    "port_tan_metrics_adj_TIP[\"Sharpe_Ratio\"] = (port_tan_adj_TIP.mean() / port_tan_adj_TIP.std()) * np.sqrt(12)\n",
    "port_tan_metrics_adj_TIP = port_tan_metrics_adj_TIP.sort_values(by=[\"Sharpe_Ratio\"])\n",
    "port_tan_metrics_adj_TIP.style.format('{:.2%}')"
   ]
  },
  {
   "cell_type": "code",
   "execution_count": 33,
   "id": "5e2a2377",
   "metadata": {},
   "outputs": [
    {
     "data": {
      "text/html": [
       "<style type=\"text/css\">\n",
       "</style>\n",
       "<table id=\"T_d5ae4\">\n",
       "  <thead>\n",
       "    <tr>\n",
       "      <th class=\"blank level0\" >&nbsp;</th>\n",
       "      <th id=\"T_d5ae4_level0_col0\" class=\"col_heading level0 col0\" >Mean</th>\n",
       "      <th id=\"T_d5ae4_level0_col1\" class=\"col_heading level0 col1\" >Volatility</th>\n",
       "      <th id=\"T_d5ae4_level0_col2\" class=\"col_heading level0 col2\" >Sharpe_Ratio</th>\n",
       "    </tr>\n",
       "  </thead>\n",
       "  <tbody>\n",
       "    <tr>\n",
       "      <th id=\"T_d5ae4_level0_row0\" class=\"row_heading level0 row0\" >w_tan</th>\n",
       "      <td id=\"T_d5ae4_row0_col0\" class=\"data row0 col0\" >-52.73%</td>\n",
       "      <td id=\"T_d5ae4_row0_col1\" class=\"data row0 col1\" >32.85%</td>\n",
       "      <td id=\"T_d5ae4_row0_col2\" class=\"data row0 col2\" >-160.50%</td>\n",
       "    </tr>\n",
       "    <tr>\n",
       "      <th id=\"T_d5ae4_level0_row1\" class=\"row_heading level0 row1\" >w_tan_wout_TIP</th>\n",
       "      <td id=\"T_d5ae4_row1_col0\" class=\"data row1 col0\" >-58.08%</td>\n",
       "      <td id=\"T_d5ae4_row1_col1\" class=\"data row1 col1\" >36.21%</td>\n",
       "      <td id=\"T_d5ae4_row1_col2\" class=\"data row1 col2\" >-160.39%</td>\n",
       "    </tr>\n",
       "    <tr>\n",
       "      <th id=\"T_d5ae4_level0_row2\" class=\"row_heading level0 row2\" >w_tan_adj_TIP</th>\n",
       "      <td id=\"T_d5ae4_row2_col0\" class=\"data row2 col0\" >-617.40%</td>\n",
       "      <td id=\"T_d5ae4_row2_col1\" class=\"data row2 col1\" >365.58%</td>\n",
       "      <td id=\"T_d5ae4_row2_col2\" class=\"data row2 col2\" >-168.88%</td>\n",
       "    </tr>\n",
       "  </tbody>\n",
       "</table>\n"
      ],
      "text/plain": [
       "<pandas.io.formats.style.Styler at 0x25c75d18500>"
      ]
     },
     "execution_count": 33,
     "metadata": {},
     "output_type": "execute_result"
    }
   ],
   "source": [
    "pd.concat([port_tan_metrics,port_tan_metrics_wout_TIP,port_tan_metrics_adj_TIP]).style.format('{:.2%}')"
   ]
  },
  {
   "cell_type": "markdown",
   "id": "4c510e00",
   "metadata": {},
   "source": [
    "### Analysis\n",
    "In terms of SR, the tangent portfolio did not show a significant change when we removed the TIP asset or adjusted it with an addition of 1.2% monthly. However, in terms of individual mean and volatility, when we adjusted TIP by +1.2%, the portfolio showed a significant increase of 963% and 909%, respectively, but the Sharpe Ratio (SR) remained nearly unchanged."
   ]
  },
  {
   "cell_type": "markdown",
   "id": "a8609d16",
   "metadata": {},
   "source": [
    "***"
   ]
  },
  {
   "cell_type": "markdown",
   "id": "c59490d8",
   "metadata": {},
   "source": [
    "# 3. Allocations\n",
    "\n",
    "<i>This section is graded for a good-faith effort by your group. Submit your write-up- along with your supporting code."
   ]
  },
  {
   "cell_type": "markdown",
   "id": "8e5eb238",
   "metadata": {},
   "source": [
    "* Continue with the same data file as the previous section.\n",
    "\n",
    "* Suppose the investor has a targeted mean excess return (per month) of $\\mutarg$ = 0.01."
   ]
  },
  {
   "cell_type": "markdown",
   "id": "1d46b44c",
   "metadata": {},
   "source": [
    "Build the following portfolios:\n",
    "\n",
    "#### Equally-weighted (EW)\n",
    "Rescale the entire weighting vector to have target mean $\\mutarg$. Thus, the $i$ element of the weight vector is,\n",
    "$$\\wEW_i = \\frac{1}{n}$$\n",
    "\n",
    "#### “Risk-parity” (RP)\n",
    "Risk-parity is a term used in a variety of ways, but here we have in mind setting the weight of the portfolio to be proportional to the inverse of its full-sample variance estimate. Thus, the $i$ element of the weight vector is,\n",
    "$$\\wRP_i = \\frac{1}{\\sigma_i^2}$$\n",
    "\n",
    "#### Regularized (REG)\n",
    "Much like the Mean-Variance portfolio, set the weights proportional to \n",
    "$$\\wREG \\sim \\widehat{\\Sigma}^{-1}\\mux$$\n",
    "but this time, use a regularized covariance matrix,\n",
    "$$\\widehat{\\Sigma} = \\frac{\\Sigma + \\Sigma_D}{2}$$\n",
    "where $\\Sigma_D$ denotes a *diagonal* matrix of the security variances, with zeros in the off-diagonals.\n",
    "\n",
    "Thus, $\\widehat{\\Sigma}$ is obtained from the usual covariance matrix, $\\Sigma$, but shrinking all the covariances to half their estimated values. \n",
    "\n",
    "\n",
    "### Comparing\n",
    "\n",
    "In order to compare all these allocation methods, (those above, along with the tangency portfolio obtained in the previous section,) rescale each weight vector, such that it has targeted mean return of $\\mutarg$.\n",
    "\n",
    "* Calculate the performance of each of these portfolios over the sample.\n",
    "* Report their mean, volatility, and Sharpe ratio. \n",
    "* How do these compare across the four allocation methods?"
   ]
  },
  {
   "cell_type": "code",
   "execution_count": 34,
   "id": "25d70a48",
   "metadata": {},
   "outputs": [],
   "source": [
    "def weights_tag_reg(return_db):\n",
    "    sigma = (return_db.cov()*12)\n",
    "    sigma_reg = (sigma+np.diag(np.diag(sigma)))/2\n",
    "    mu_excess = (return_db.mean()*12)\n",
    "    vector = np.ones(len(mu_excess))\n",
    "    w_tan = (np.linalg.inv(sigma_reg) @ mu_excess )/(np.transpose(vector) @ np.linalg.inv(sigma_reg) @ mu_excess)\n",
    "    weights_db = pd.DataFrame({\"w_tan_reg\": w_tan})\n",
    "    weights_db.index = return_db.columns\n",
    "    return weights_db"
   ]
  },
  {
   "cell_type": "code",
   "execution_count": 38,
   "id": "fa98358e",
   "metadata": {},
   "outputs": [
    {
     "data": {
      "text/html": [
       "<style type=\"text/css\">\n",
       "</style>\n",
       "<table id=\"T_cbe7f\">\n",
       "  <thead>\n",
       "    <tr>\n",
       "      <th class=\"blank level0\" >&nbsp;</th>\n",
       "      <th id=\"T_cbe7f_level0_col0\" class=\"col_heading level0 col0\" >w_tan_adj_TIP</th>\n",
       "      <th id=\"T_cbe7f_level0_col1\" class=\"col_heading level0 col1\" >w_tan_wout_TIP</th>\n",
       "      <th id=\"T_cbe7f_level0_col2\" class=\"col_heading level0 col2\" >w_tan_reg</th>\n",
       "      <th id=\"T_cbe7f_level0_col3\" class=\"col_heading level0 col3\" >EW</th>\n",
       "      <th id=\"T_cbe7f_level0_col4\" class=\"col_heading level0 col4\" >RP</th>\n",
       "    </tr>\n",
       "  </thead>\n",
       "  <tbody>\n",
       "    <tr>\n",
       "      <th id=\"T_cbe7f_level0_row0\" class=\"row_heading level0 row0\" >BWX</th>\n",
       "      <td id=\"T_cbe7f_row0_col0\" class=\"data row0 col0\" >-63.85%</td>\n",
       "      <td id=\"T_cbe7f_row0_col1\" class=\"data row0 col1\" >-62.31%</td>\n",
       "      <td id=\"T_cbe7f_row0_col2\" class=\"data row0 col2\" >-67.54%</td>\n",
       "      <td id=\"T_cbe7f_row0_col3\" class=\"data row0 col3\" >27.16%</td>\n",
       "      <td id=\"T_cbe7f_row0_col4\" class=\"data row0 col4\" >52.29%</td>\n",
       "    </tr>\n",
       "    <tr>\n",
       "      <th id=\"T_cbe7f_level0_row1\" class=\"row_heading level0 row1\" >DBC</th>\n",
       "      <td id=\"T_cbe7f_row1_col0\" class=\"data row1 col0\" >-3.87%</td>\n",
       "      <td id=\"T_cbe7f_row1_col1\" class=\"data row1 col1\" >1.88%</td>\n",
       "      <td id=\"T_cbe7f_row1_col2\" class=\"data row1 col2\" >-13.62%</td>\n",
       "      <td id=\"T_cbe7f_row1_col3\" class=\"data row1 col3\" >27.16%</td>\n",
       "      <td id=\"T_cbe7f_row1_col4\" class=\"data row1 col4\" >12.29%</td>\n",
       "    </tr>\n",
       "    <tr>\n",
       "      <th id=\"T_cbe7f_level0_row2\" class=\"row_heading level0 row2\" >EEM</th>\n",
       "      <td id=\"T_cbe7f_row2_col0\" class=\"data row2 col0\" >11.18%</td>\n",
       "      <td id=\"T_cbe7f_row2_col1\" class=\"data row2 col1\" >13.72%</td>\n",
       "      <td id=\"T_cbe7f_row2_col2\" class=\"data row2 col2\" >-6.62%</td>\n",
       "      <td id=\"T_cbe7f_row2_col3\" class=\"data row2 col3\" >27.16%</td>\n",
       "      <td id=\"T_cbe7f_row2_col4\" class=\"data row2 col4\" >10.77%</td>\n",
       "    </tr>\n",
       "    <tr>\n",
       "      <th id=\"T_cbe7f_level0_row3\" class=\"row_heading level0 row3\" >EFA</th>\n",
       "      <td id=\"T_cbe7f_row3_col0\" class=\"data row3 col0\" >-3.17%</td>\n",
       "      <td id=\"T_cbe7f_row3_col1\" class=\"data row3 col1\" >-11.17%</td>\n",
       "      <td id=\"T_cbe7f_row3_col2\" class=\"data row3 col2\" >3.73%</td>\n",
       "      <td id=\"T_cbe7f_row3_col3\" class=\"data row3 col3\" >27.16%</td>\n",
       "      <td id=\"T_cbe7f_row3_col4\" class=\"data row3 col4\" >15.06%</td>\n",
       "    </tr>\n",
       "    <tr>\n",
       "      <th id=\"T_cbe7f_level0_row4\" class=\"row_heading level0 row4\" >HYG</th>\n",
       "      <td id=\"T_cbe7f_row4_col0\" class=\"data row4 col0\" >9.73%</td>\n",
       "      <td id=\"T_cbe7f_row4_col1\" class=\"data row4 col1\" >18.01%</td>\n",
       "      <td id=\"T_cbe7f_row4_col2\" class=\"data row4 col2\" >31.68%</td>\n",
       "      <td id=\"T_cbe7f_row4_col3\" class=\"data row4 col3\" >27.16%</td>\n",
       "      <td id=\"T_cbe7f_row4_col4\" class=\"data row4 col4\" >58.39%</td>\n",
       "    </tr>\n",
       "    <tr>\n",
       "      <th id=\"T_cbe7f_level0_row5\" class=\"row_heading level0 row5\" >IEF</th>\n",
       "      <td id=\"T_cbe7f_row5_col0\" class=\"data row5 col0\" >40.60%</td>\n",
       "      <td id=\"T_cbe7f_row5_col1\" class=\"data row5 col1\" >99.84%</td>\n",
       "      <td id=\"T_cbe7f_row5_col2\" class=\"data row5 col2\" >39.35%</td>\n",
       "      <td id=\"T_cbe7f_row5_col3\" class=\"data row5 col3\" >27.16%</td>\n",
       "      <td id=\"T_cbe7f_row5_col4\" class=\"data row5 col4\" >87.33%</td>\n",
       "    </tr>\n",
       "    <tr>\n",
       "      <th id=\"T_cbe7f_level0_row6\" class=\"row_heading level0 row6\" >IYR</th>\n",
       "      <td id=\"T_cbe7f_row6_col0\" class=\"data row6 col0\" >-24.83%</td>\n",
       "      <td id=\"T_cbe7f_row6_col1\" class=\"data row6 col1\" >-20.46%</td>\n",
       "      <td id=\"T_cbe7f_row6_col2\" class=\"data row6 col2\" >8.03%</td>\n",
       "      <td id=\"T_cbe7f_row6_col3\" class=\"data row6 col3\" >27.16%</td>\n",
       "      <td id=\"T_cbe7f_row6_col4\" class=\"data row6 col4\" >12.13%</td>\n",
       "    </tr>\n",
       "    <tr>\n",
       "      <th id=\"T_cbe7f_level0_row7\" class=\"row_heading level0 row7\" >PSP</th>\n",
       "      <td id=\"T_cbe7f_row7_col0\" class=\"data row7 col0\" >-10.31%</td>\n",
       "      <td id=\"T_cbe7f_row7_col1\" class=\"data row7 col1\" >-6.71%</td>\n",
       "      <td id=\"T_cbe7f_row7_col2\" class=\"data row7 col2\" >4.95%</td>\n",
       "      <td id=\"T_cbe7f_row7_col3\" class=\"data row7 col3\" >27.16%</td>\n",
       "      <td id=\"T_cbe7f_row7_col4\" class=\"data row7 col4\" >7.53%</td>\n",
       "    </tr>\n",
       "    <tr>\n",
       "      <th id=\"T_cbe7f_level0_row8\" class=\"row_heading level0 row8\" >QAI</th>\n",
       "      <td id=\"T_cbe7f_row8_col0\" class=\"data row8 col0\" >-169.05%</td>\n",
       "      <td id=\"T_cbe7f_row8_col1\" class=\"data row8 col1\" >-164.81%</td>\n",
       "      <td id=\"T_cbe7f_row8_col2\" class=\"data row8 col2\" >-15.65%</td>\n",
       "      <td id=\"T_cbe7f_row8_col3\" class=\"data row8 col3\" >27.16%</td>\n",
       "      <td id=\"T_cbe7f_row8_col4\" class=\"data row8 col4\" >145.22%</td>\n",
       "    </tr>\n",
       "    <tr>\n",
       "      <th id=\"T_cbe7f_level0_row9\" class=\"row_heading level0 row9\" >SPY</th>\n",
       "      <td id=\"T_cbe7f_row9_col0\" class=\"data row9 col0\" >109.04%</td>\n",
       "      <td id=\"T_cbe7f_row9_col1\" class=\"data row9 col1\" >111.35%</td>\n",
       "      <td id=\"T_cbe7f_row9_col2\" class=\"data row9 col2\" >62.37%</td>\n",
       "      <td id=\"T_cbe7f_row9_col3\" class=\"data row9 col3\" >27.16%</td>\n",
       "      <td id=\"T_cbe7f_row9_col4\" class=\"data row9 col4\" >17.04%</td>\n",
       "    </tr>\n",
       "    <tr>\n",
       "      <th id=\"T_cbe7f_level0_row10\" class=\"row_heading level0 row10\" >TIP</th>\n",
       "      <td id=\"T_cbe7f_row10_col0\" class=\"data row10 col0\" >102.34%</td>\n",
       "      <td id=\"T_cbe7f_row10_col1\" class=\"data row10 col1\" >-0.00%</td>\n",
       "      <td id=\"T_cbe7f_row10_col2\" class=\"data row10 col2\" >32.24%</td>\n",
       "      <td id=\"T_cbe7f_row10_col3\" class=\"data row10 col3\" >27.16%</td>\n",
       "      <td id=\"T_cbe7f_row10_col4\" class=\"data row10 col4\" >132.75%</td>\n",
       "    </tr>\n",
       "  </tbody>\n",
       "</table>\n"
      ],
      "text/plain": [
       "<pandas.io.formats.style.Styler at 0x25c7435d430>"
      ]
     },
     "execution_count": 38,
     "metadata": {},
     "output_type": "execute_result"
    }
   ],
   "source": [
    "mu_target = 0.01\n",
    "\n",
    "types_portfolio = pd.concat([w_tan_adj_TIP,w_tan_wout_TIP,weights_tag_reg(data_Excess_Return)],axis = 1)\n",
    "types_portfolio[\"EW\"] = 1/len(data_Excess_Return.columns)\n",
    "types_portfolio[\"RP\"] = 1/data_Excess_Return.var()\n",
    "types_portfolio = types_portfolio.fillna(0)\n",
    "types_portfolio = (mu_target/(data_Excess_Return.mean() @ types_portfolio)) * types_portfolio\n",
    "types_portfolio.style.format('{:.2%}')"
   ]
  },
  {
   "cell_type": "markdown",
   "id": "a0598ad6",
   "metadata": {},
   "source": [
    "### Analysis"
   ]
  },
  {
   "cell_type": "markdown",
   "id": "c386f86c",
   "metadata": {},
   "source": [
    "Note that the Sum of the weights of the differents types of portafolio don't sum 1, that means the porfolio has a leverage (>1) or allocation (<1) based on the $r^f$"
   ]
  },
  {
   "cell_type": "code",
   "execution_count": 43,
   "id": "1b40ded6",
   "metadata": {},
   "outputs": [
    {
     "data": {
      "text/plain": [
       "w_tan_adj_TIP    -0.021823\n",
       "w_tan_wout_TIP   -0.206610\n",
       "w_tan_reg         0.789321\n",
       "EW                2.987328\n",
       "RP                5.507806\n",
       "dtype: float64"
      ]
     },
     "execution_count": 43,
     "metadata": {},
     "output_type": "execute_result"
    }
   ],
   "source": [
    "types_portfolio.sum()"
   ]
  },
  {
   "cell_type": "code",
   "execution_count": 44,
   "id": "f7a8b7fa",
   "metadata": {},
   "outputs": [],
   "source": [
    "def get_metrics(DB_returns,weights = []):\n",
    "    if len(weights) == 0:\n",
    "        port_metrics_r = pd.DataFrame({\"Mean\": port_metrics.mean()*12,\"Volatility\":port_metrics.std()*np.sqrt(12)})\n",
    "        port_metrics_r[\"Sharpe_Ratio\"] = (port_metrics.mean() / port_metrics.std()) * np.sqrt(12)\n",
    "    else:\n",
    "        port_metrics = DB_returns @ weights\n",
    "        port_metrics_r = pd.DataFrame({\"Mean\": port_metrics.mean()*12,\"Volatility\":port_metrics.std()*np.sqrt(12)})\n",
    "        port_metrics_r[\"Sharpe_Ratio\"] = (port_metrics.mean() / port_metrics.std()) * np.sqrt(12)\n",
    "    return port_metrics_r"
   ]
  },
  {
   "cell_type": "code",
   "execution_count": 45,
   "id": "e2521d03",
   "metadata": {},
   "outputs": [
    {
     "data": {
      "text/html": [
       "<style type=\"text/css\">\n",
       "</style>\n",
       "<table id=\"T_a0a79\">\n",
       "  <thead>\n",
       "    <tr>\n",
       "      <th class=\"blank level0\" >&nbsp;</th>\n",
       "      <th id=\"T_a0a79_level0_col0\" class=\"col_heading level0 col0\" >Mean</th>\n",
       "      <th id=\"T_a0a79_level0_col1\" class=\"col_heading level0 col1\" >Volatility</th>\n",
       "      <th id=\"T_a0a79_level0_col2\" class=\"col_heading level0 col2\" >Sharpe_Ratio</th>\n",
       "    </tr>\n",
       "  </thead>\n",
       "  <tbody>\n",
       "    <tr>\n",
       "      <th id=\"T_a0a79_level0_row0\" class=\"row_heading level0 row0\" >w_tan_adj_TIP</th>\n",
       "      <td id=\"T_a0a79_row0_col0\" class=\"data row0 col0\" >12.00%</td>\n",
       "      <td id=\"T_a0a79_row0_col1\" class=\"data row0 col1\" >7.98%</td>\n",
       "      <td id=\"T_a0a79_row0_col2\" class=\"data row0 col2\" >150.41%</td>\n",
       "    </tr>\n",
       "    <tr>\n",
       "      <th id=\"T_a0a79_level0_row1\" class=\"row_heading level0 row1\" >w_tan_wout_TIP</th>\n",
       "      <td id=\"T_a0a79_row1_col0\" class=\"data row1 col0\" >12.00%</td>\n",
       "      <td id=\"T_a0a79_row1_col1\" class=\"data row1 col1\" >7.48%</td>\n",
       "      <td id=\"T_a0a79_row1_col2\" class=\"data row1 col2\" >160.39%</td>\n",
       "    </tr>\n",
       "    <tr>\n",
       "      <th id=\"T_a0a79_level0_row2\" class=\"row_heading level0 row2\" >w_tan_reg</th>\n",
       "      <td id=\"T_a0a79_row2_col0\" class=\"data row2 col0\" >12.00%</td>\n",
       "      <td id=\"T_a0a79_row2_col1\" class=\"data row2 col1\" >10.26%</td>\n",
       "      <td id=\"T_a0a79_row2_col2\" class=\"data row2 col2\" >116.95%</td>\n",
       "    </tr>\n",
       "    <tr>\n",
       "      <th id=\"T_a0a79_level0_row3\" class=\"row_heading level0 row3\" >EW</th>\n",
       "      <td id=\"T_a0a79_row3_col0\" class=\"data row3 col0\" >12.00%</td>\n",
       "      <td id=\"T_a0a79_row3_col1\" class=\"data row3 col1\" >29.15%</td>\n",
       "      <td id=\"T_a0a79_row3_col2\" class=\"data row3 col2\" >41.16%</td>\n",
       "    </tr>\n",
       "    <tr>\n",
       "      <th id=\"T_a0a79_level0_row4\" class=\"row_heading level0 row4\" >RP</th>\n",
       "      <td id=\"T_a0a79_row4_col0\" class=\"data row4 col0\" >12.00%</td>\n",
       "      <td id=\"T_a0a79_row4_col1\" class=\"data row4 col1\" >30.95%</td>\n",
       "      <td id=\"T_a0a79_row4_col2\" class=\"data row4 col2\" >38.77%</td>\n",
       "    </tr>\n",
       "  </tbody>\n",
       "</table>\n"
      ],
      "text/plain": [
       "<pandas.io.formats.style.Styler at 0x25c75d24bf0>"
      ]
     },
     "execution_count": 45,
     "metadata": {},
     "output_type": "execute_result"
    }
   ],
   "source": [
    "get_metrics(data_Excess_Return,types_portfolio).style.format('{:.2%}')"
   ]
  },
  {
   "cell_type": "markdown",
   "id": "23ea828b",
   "metadata": {},
   "source": [
    "***"
   ]
  },
  {
   "cell_type": "markdown",
   "id": "a2a8443d",
   "metadata": {},
   "source": [
    "# 4. Out-of-Sample Performance\n",
    "\n",
    "<i>This section is not graded, and you do not need to submit it. Still, we may discuss it in class, in which case, you would be expected to know it."
   ]
  },
  {
   "cell_type": "markdown",
   "id": "24e4b25b",
   "metadata": {},
   "source": [
    "## 1. One-step Out-of-Sample (OOS) Performance\n",
    "Let’s divide the sample to both compute a portfolio and then check its performance out of sample.\n",
    "* Using only data through the end of `2022`, compute the weights built in Section 3.\n",
    "* Rescale the weights, (using just the in-sample data,) to set each allocation to have the same mean return of $\\mutarg$.\n",
    "* Using those weights, calculate the portfolio’s Sharpe ratio within that sample.\n",
    "* Again using those weights, (derived using data through `2022`,) calculate the portfolio’s OOS Sharpe ratio, which is based only on performance in `2023-2024`."
   ]
  },
  {
   "cell_type": "code",
   "execution_count": 48,
   "id": "b60b752c",
   "metadata": {},
   "outputs": [
    {
     "data": {
      "text/html": [
       "<style type=\"text/css\">\n",
       "</style>\n",
       "<table id=\"T_05fcc\">\n",
       "  <thead>\n",
       "    <tr>\n",
       "      <th class=\"blank level0\" >&nbsp;</th>\n",
       "      <th id=\"T_05fcc_level0_col0\" class=\"col_heading level0 col0\" >w_tan</th>\n",
       "      <th id=\"T_05fcc_level0_col1\" class=\"col_heading level0 col1\" >w_tan_wout_TIP</th>\n",
       "      <th id=\"T_05fcc_level0_col2\" class=\"col_heading level0 col2\" >w_tan_reg</th>\n",
       "      <th id=\"T_05fcc_level0_col3\" class=\"col_heading level0 col3\" >EW</th>\n",
       "      <th id=\"T_05fcc_level0_col4\" class=\"col_heading level0 col4\" >RP</th>\n",
       "    </tr>\n",
       "  </thead>\n",
       "  <tbody>\n",
       "    <tr>\n",
       "      <th id=\"T_05fcc_level0_row0\" class=\"row_heading level0 row0\" >BWX</th>\n",
       "      <td id=\"T_05fcc_row0_col0\" class=\"data row0 col0\" >-51.34%</td>\n",
       "      <td id=\"T_05fcc_row0_col1\" class=\"data row0 col1\" >-50.35%</td>\n",
       "      <td id=\"T_05fcc_row0_col2\" class=\"data row0 col2\" >-76.12%</td>\n",
       "      <td id=\"T_05fcc_row0_col3\" class=\"data row0 col3\" >30.96%</td>\n",
       "      <td id=\"T_05fcc_row0_col4\" class=\"data row0 col4\" >63.97%</td>\n",
       "    </tr>\n",
       "    <tr>\n",
       "      <th id=\"T_05fcc_level0_row1\" class=\"row_heading level0 row1\" >DBC</th>\n",
       "      <td id=\"T_05fcc_row1_col0\" class=\"data row1 col0\" >1.98%</td>\n",
       "      <td id=\"T_05fcc_row1_col1\" class=\"data row1 col1\" >8.13%</td>\n",
       "      <td id=\"T_05fcc_row1_col2\" class=\"data row1 col2\" >-7.46%</td>\n",
       "      <td id=\"T_05fcc_row1_col3\" class=\"data row1 col3\" >30.96%</td>\n",
       "      <td id=\"T_05fcc_row1_col4\" class=\"data row1 col4\" >12.39%</td>\n",
       "    </tr>\n",
       "    <tr>\n",
       "      <th id=\"T_05fcc_level0_row2\" class=\"row_heading level0 row2\" >EEM</th>\n",
       "      <td id=\"T_05fcc_row2_col0\" class=\"data row2 col0\" >11.36%</td>\n",
       "      <td id=\"T_05fcc_row2_col1\" class=\"data row2 col1\" >14.73%</td>\n",
       "      <td id=\"T_05fcc_row2_col2\" class=\"data row2 col2\" >-7.74%</td>\n",
       "      <td id=\"T_05fcc_row2_col3\" class=\"data row2 col3\" >30.96%</td>\n",
       "      <td id=\"T_05fcc_row2_col4\" class=\"data row2 col4\" >11.39%</td>\n",
       "    </tr>\n",
       "    <tr>\n",
       "      <th id=\"T_05fcc_level0_row3\" class=\"row_heading level0 row3\" >EFA</th>\n",
       "      <td id=\"T_05fcc_row3_col0\" class=\"data row3 col0\" >11.22%</td>\n",
       "      <td id=\"T_05fcc_row3_col1\" class=\"data row3 col1\" >0.34%</td>\n",
       "      <td id=\"T_05fcc_row3_col2\" class=\"data row3 col2\" >3.20%</td>\n",
       "      <td id=\"T_05fcc_row3_col3\" class=\"data row3 col3\" >30.96%</td>\n",
       "      <td id=\"T_05fcc_row3_col4\" class=\"data row3 col4\" >15.98%</td>\n",
       "    </tr>\n",
       "    <tr>\n",
       "      <th id=\"T_05fcc_level0_row4\" class=\"row_heading level0 row4\" >HYG</th>\n",
       "      <td id=\"T_05fcc_row4_col0\" class=\"data row4 col0\" >11.67%</td>\n",
       "      <td id=\"T_05fcc_row4_col1\" class=\"data row4 col1\" >16.94%</td>\n",
       "      <td id=\"T_05fcc_row4_col2\" class=\"data row4 col2\" >31.43%</td>\n",
       "      <td id=\"T_05fcc_row4_col3\" class=\"data row4 col3\" >30.96%</td>\n",
       "      <td id=\"T_05fcc_row4_col4\" class=\"data row4 col4\" >60.24%</td>\n",
       "    </tr>\n",
       "    <tr>\n",
       "      <th id=\"T_05fcc_level0_row5\" class=\"row_heading level0 row5\" >IEF</th>\n",
       "      <td id=\"T_05fcc_row5_col0\" class=\"data row5 col0\" >42.14%</td>\n",
       "      <td id=\"T_05fcc_row5_col1\" class=\"data row5 col1\" >110.12%</td>\n",
       "      <td id=\"T_05fcc_row5_col2\" class=\"data row5 col2\" >60.40%</td>\n",
       "      <td id=\"T_05fcc_row5_col3\" class=\"data row5 col3\" >30.96%</td>\n",
       "      <td id=\"T_05fcc_row5_col4\" class=\"data row5 col4\" >106.10%</td>\n",
       "    </tr>\n",
       "    <tr>\n",
       "      <th id=\"T_05fcc_level0_row6\" class=\"row_heading level0 row6\" >IYR</th>\n",
       "      <td id=\"T_05fcc_row6_col0\" class=\"data row6 col0\" >-25.25%</td>\n",
       "      <td id=\"T_05fcc_row6_col1\" class=\"data row6 col1\" >-19.58%</td>\n",
       "      <td id=\"T_05fcc_row6_col2\" class=\"data row6 col2\" >11.44%</td>\n",
       "      <td id=\"T_05fcc_row6_col3\" class=\"data row6 col3\" >30.96%</td>\n",
       "      <td id=\"T_05fcc_row6_col4\" class=\"data row6 col4\" >13.99%</td>\n",
       "    </tr>\n",
       "    <tr>\n",
       "      <th id=\"T_05fcc_level0_row7\" class=\"row_heading level0 row7\" >PSP</th>\n",
       "      <td id=\"T_05fcc_row7_col0\" class=\"data row7 col0\" >-32.59%</td>\n",
       "      <td id=\"T_05fcc_row7_col1\" class=\"data row7 col1\" >-24.84%</td>\n",
       "      <td id=\"T_05fcc_row7_col2\" class=\"data row7 col2\" >0.85%</td>\n",
       "      <td id=\"T_05fcc_row7_col3\" class=\"data row7 col3\" >30.96%</td>\n",
       "      <td id=\"T_05fcc_row7_col4\" class=\"data row7 col4\" >8.29%</td>\n",
       "    </tr>\n",
       "    <tr>\n",
       "      <th id=\"T_05fcc_level0_row8\" class=\"row_heading level0 row8\" >QAI</th>\n",
       "      <td id=\"T_05fcc_row8_col0\" class=\"data row8 col0\" >-190.63%</td>\n",
       "      <td id=\"T_05fcc_row8_col1\" class=\"data row8 col1\" >-188.48%</td>\n",
       "      <td id=\"T_05fcc_row8_col2\" class=\"data row8 col2\" >-30.31%</td>\n",
       "      <td id=\"T_05fcc_row8_col3\" class=\"data row8 col3\" >30.96%</td>\n",
       "      <td id=\"T_05fcc_row8_col4\" class=\"data row8 col4\" >156.02%</td>\n",
       "    </tr>\n",
       "    <tr>\n",
       "      <th id=\"T_05fcc_level0_row9\" class=\"row_heading level0 row9\" >SPY</th>\n",
       "      <td id=\"T_05fcc_row9_col0\" class=\"data row9 col0\" >118.27%</td>\n",
       "      <td id=\"T_05fcc_row9_col1\" class=\"data row9 col1\" >120.34%</td>\n",
       "      <td id=\"T_05fcc_row9_col2\" class=\"data row9 col2\" >63.77%</td>\n",
       "      <td id=\"T_05fcc_row9_col3\" class=\"data row9 col3\" >30.96%</td>\n",
       "      <td id=\"T_05fcc_row9_col4\" class=\"data row9 col4\" >17.94%</td>\n",
       "    </tr>\n",
       "    <tr>\n",
       "      <th id=\"T_05fcc_level0_row10\" class=\"row_heading level0 row10\" >TIP</th>\n",
       "      <td id=\"T_05fcc_row10_col0\" class=\"data row10 col0\" >106.68%</td>\n",
       "      <td id=\"T_05fcc_row10_col1\" class=\"data row10 col1\" >-0.00%</td>\n",
       "      <td id=\"T_05fcc_row10_col2\" class=\"data row10 col2\" >49.20%</td>\n",
       "      <td id=\"T_05fcc_row10_col3\" class=\"data row10 col3\" >30.96%</td>\n",
       "      <td id=\"T_05fcc_row10_col4\" class=\"data row10 col4\" >143.92%</td>\n",
       "    </tr>\n",
       "  </tbody>\n",
       "</table>\n"
      ],
      "text/plain": [
       "<pandas.io.formats.style.Styler at 0x25c75d25e50>"
      ]
     },
     "execution_count": 48,
     "metadata": {},
     "output_type": "execute_result"
    }
   ],
   "source": [
    "data_Excess_Return_2022 = data_Excess_Return[data_Excess_Return.index <= \"2022-12-31\"]\n",
    "\n",
    "\n",
    "w_tan_wout_TIP_2022 = weights_tang(data_Excess_Return_2022.drop([\"TIP\"],axis = 1))\n",
    "w_tan_wout_TIP_2022.columns = [\"w_tan_wout_TIP\"]\n",
    "\n",
    "data_Excess_Return_TIP_adj_2022 = data_Excess_Return_2022.copy()\n",
    "data_Excess_Return_TIP_adj_2022[\"TIP\"] += 0.0012\n",
    "\n",
    "w_tan_adj_TIP_2022 = weights_tang(data_Excess_Return_TIP_adj_2022)\n",
    "\n",
    "mu_target = 0.01\n",
    "\n",
    "types_portfolio_2022 = pd.concat([w_tan_adj_TIP_2022,w_tan_wout_TIP_2022,weights_tag_reg(data_Excess_Return_2022)],axis = 1)\n",
    "types_portfolio_2022[\"EW\"] = 1/len(data_Excess_Return_2022.columns)\n",
    "types_portfolio_2022[\"RP\"] = 1/data_Excess_Return_2022.var()\n",
    "types_portfolio_2022 = types_portfolio_2022.fillna(0)\n",
    "types_portfolio_2022 = (mu_target/(data_Excess_Return_2022.mean() @ types_portfolio_2022)) * types_portfolio_2022\n",
    "types_portfolio_2022.style.format('{:.2%}')"
   ]
  },
  {
   "cell_type": "code",
   "execution_count": 50,
   "id": "c6d97b29",
   "metadata": {},
   "outputs": [
    {
     "name": "stdout",
     "output_type": "stream",
     "text": [
      "In sample metrics: \n"
     ]
    },
    {
     "data": {
      "text/html": [
       "<style type=\"text/css\">\n",
       "</style>\n",
       "<table id=\"T_930b3\">\n",
       "  <thead>\n",
       "    <tr>\n",
       "      <th class=\"blank level0\" >&nbsp;</th>\n",
       "      <th id=\"T_930b3_level0_col0\" class=\"col_heading level0 col0\" >Mean</th>\n",
       "      <th id=\"T_930b3_level0_col1\" class=\"col_heading level0 col1\" >Volatility</th>\n",
       "      <th id=\"T_930b3_level0_col2\" class=\"col_heading level0 col2\" >Sharpe_Ratio</th>\n",
       "    </tr>\n",
       "  </thead>\n",
       "  <tbody>\n",
       "    <tr>\n",
       "      <th id=\"T_930b3_level0_row0\" class=\"row_heading level0 row0\" >w_tan</th>\n",
       "      <td id=\"T_930b3_row0_col0\" class=\"data row0 col0\" >12.00%</td>\n",
       "      <td id=\"T_930b3_row0_col1\" class=\"data row0 col1\" >7.66%</td>\n",
       "      <td id=\"T_930b3_row0_col2\" class=\"data row0 col2\" >156.68%</td>\n",
       "    </tr>\n",
       "    <tr>\n",
       "      <th id=\"T_930b3_level0_row1\" class=\"row_heading level0 row1\" >w_tan_wout_TIP</th>\n",
       "      <td id=\"T_930b3_row1_col0\" class=\"data row1 col0\" >12.00%</td>\n",
       "      <td id=\"T_930b3_row1_col1\" class=\"data row1 col1\" >7.21%</td>\n",
       "      <td id=\"T_930b3_row1_col2\" class=\"data row1 col2\" >166.34%</td>\n",
       "    </tr>\n",
       "    <tr>\n",
       "      <th id=\"T_930b3_level0_row2\" class=\"row_heading level0 row2\" >w_tan_reg</th>\n",
       "      <td id=\"T_930b3_row2_col0\" class=\"data row2 col0\" >12.00%</td>\n",
       "      <td id=\"T_930b3_row2_col1\" class=\"data row2 col1\" >10.48%</td>\n",
       "      <td id=\"T_930b3_row2_col2\" class=\"data row2 col2\" >114.47%</td>\n",
       "    </tr>\n",
       "    <tr>\n",
       "      <th id=\"T_930b3_level0_row3\" class=\"row_heading level0 row3\" >EW</th>\n",
       "      <td id=\"T_930b3_row3_col0\" class=\"data row3 col0\" >12.00%</td>\n",
       "      <td id=\"T_930b3_row3_col1\" class=\"data row3 col1\" >33.22%</td>\n",
       "      <td id=\"T_930b3_row3_col2\" class=\"data row3 col2\" >36.13%</td>\n",
       "    </tr>\n",
       "    <tr>\n",
       "      <th id=\"T_930b3_level0_row4\" class=\"row_heading level0 row4\" >RP</th>\n",
       "      <td id=\"T_930b3_row4_col0\" class=\"data row4 col0\" >12.00%</td>\n",
       "      <td id=\"T_930b3_row4_col1\" class=\"data row4 col1\" >33.07%</td>\n",
       "      <td id=\"T_930b3_row4_col2\" class=\"data row4 col2\" >36.29%</td>\n",
       "    </tr>\n",
       "  </tbody>\n",
       "</table>\n"
      ],
      "text/plain": [
       "<pandas.io.formats.style.Styler at 0x25c75d26b70>"
      ]
     },
     "metadata": {},
     "output_type": "display_data"
    },
    {
     "name": "stdout",
     "output_type": "stream",
     "text": [
      "Out of sample metrics: \n"
     ]
    },
    {
     "data": {
      "text/html": [
       "<style type=\"text/css\">\n",
       "</style>\n",
       "<table id=\"T_760f9\">\n",
       "  <thead>\n",
       "    <tr>\n",
       "      <th class=\"blank level0\" >&nbsp;</th>\n",
       "      <th id=\"T_760f9_level0_col0\" class=\"col_heading level0 col0\" >Mean</th>\n",
       "      <th id=\"T_760f9_level0_col1\" class=\"col_heading level0 col1\" >Volatility</th>\n",
       "      <th id=\"T_760f9_level0_col2\" class=\"col_heading level0 col2\" >Sharpe_Ratio</th>\n",
       "    </tr>\n",
       "  </thead>\n",
       "  <tbody>\n",
       "    <tr>\n",
       "      <th id=\"T_760f9_level0_row0\" class=\"row_heading level0 row0\" >w_tan</th>\n",
       "      <td id=\"T_760f9_row0_col0\" class=\"data row0 col0\" >8.17%</td>\n",
       "      <td id=\"T_760f9_row0_col1\" class=\"data row0 col1\" >10.45%</td>\n",
       "      <td id=\"T_760f9_row0_col2\" class=\"data row0 col2\" >78.19%</td>\n",
       "    </tr>\n",
       "    <tr>\n",
       "      <th id=\"T_760f9_level0_row1\" class=\"row_heading level0 row1\" >w_tan_wout_TIP</th>\n",
       "      <td id=\"T_760f9_row1_col0\" class=\"data row1 col0\" >9.96%</td>\n",
       "      <td id=\"T_760f9_row1_col1\" class=\"data row1 col1\" >9.96%</td>\n",
       "      <td id=\"T_760f9_row1_col2\" class=\"data row1 col2\" >99.97%</td>\n",
       "    </tr>\n",
       "    <tr>\n",
       "      <th id=\"T_760f9_level0_row2\" class=\"row_heading level0 row2\" >w_tan_reg</th>\n",
       "      <td id=\"T_760f9_row2_col0\" class=\"data row2 col0\" >15.11%</td>\n",
       "      <td id=\"T_760f9_row2_col1\" class=\"data row2 col1\" >9.80%</td>\n",
       "      <td id=\"T_760f9_row2_col2\" class=\"data row2 col2\" >154.17%</td>\n",
       "    </tr>\n",
       "    <tr>\n",
       "      <th id=\"T_760f9_level0_row3\" class=\"row_heading level0 row3\" >EW</th>\n",
       "      <td id=\"T_760f9_row3_col0\" class=\"data row3 col0\" >25.11%</td>\n",
       "      <td id=\"T_760f9_row3_col1\" class=\"data row3 col1\" >33.96%</td>\n",
       "      <td id=\"T_760f9_row3_col2\" class=\"data row3 col2\" >73.93%</td>\n",
       "    </tr>\n",
       "    <tr>\n",
       "      <th id=\"T_760f9_level0_row4\" class=\"row_heading level0 row4\" >RP</th>\n",
       "      <td id=\"T_760f9_row4_col0\" class=\"data row4 col0\" >19.34%</td>\n",
       "      <td id=\"T_760f9_row4_col1\" class=\"data row4 col1\" >41.28%</td>\n",
       "      <td id=\"T_760f9_row4_col2\" class=\"data row4 col2\" >46.84%</td>\n",
       "    </tr>\n",
       "  </tbody>\n",
       "</table>\n"
      ],
      "text/plain": [
       "<pandas.io.formats.style.Styler at 0x25c75d26ff0>"
      ]
     },
     "metadata": {},
     "output_type": "display_data"
    }
   ],
   "source": [
    "print(\"In sample metrics: \")\n",
    "display(get_metrics(data_Excess_Return_2022,types_portfolio_2022).style.format('{:.2%}'))\n",
    "print(\"Out of sample metrics: \")\n",
    "display(get_metrics(data_Excess_Return[data_Excess_Return.index > \"2022-12-31\"],types_portfolio_2022).style.format('{:.2%}'))"
   ]
  },
  {
   "cell_type": "markdown",
   "id": "730fad5c",
   "metadata": {},
   "source": [
    "The tangent porfolio is the one that showed to be more stable out-of-sample "
   ]
  },
  {
   "cell_type": "markdown",
   "id": "2281c023",
   "metadata": {},
   "source": [
    "## 2. Rolling OOS Performance\n",
    "\n",
    "Iterate the Out-of-Sample performance every year, not just the final year. Namely,\n",
    "* Start at the end of `2015`, and calculate the weights through that time. Rescale them using the mean returns through that time.\n",
    "* Apply the weights to the returns in the upcoming year, (`2016`.)\n",
    "* Step forward a year in time, and recompute.\n",
    "* Continue until again calculating the weights through `2023` and applying them to the returns in `2024`.\n",
    "\n",
    "Report the mean, volatility, and Sharpe from this dynamic approach for the following portfolios:\n",
    "* mean-variance (tangency)\n",
    "* equally-weighted\n",
    "* risk-parity\n",
    "* regularized"
   ]
  },
  {
   "cell_type": "code",
   "execution_count": 54,
   "id": "bd32ea71",
   "metadata": {},
   "outputs": [],
   "source": [
    "years = list(range(2015,2024,1))"
   ]
  },
  {
   "cell_type": "code",
   "execution_count": 58,
   "id": "23c665f1",
   "metadata": {},
   "outputs": [],
   "source": [
    "def rolling_weights(data,calibration_year,test_year,mu_target = 0.01):\n",
    "    data_aux = data[data.index <= str(calibration_year)+\"-12-31\"]\n",
    "\n",
    "\n",
    "    w_tan_wout_TIP_aux = weights_tang(data_aux.drop([\"TIP\"],axis = 1))\n",
    "    w_tan_wout_TIP_aux.columns = [\"w_tan_wout_TIP\"]\n",
    "\n",
    "    data_TIP_adj_aux = data_aux.copy()\n",
    "    data_TIP_adj_aux[\"TIP\"] += 0.0012\n",
    "\n",
    "    w_tan_adj_TIP_aux = weights_tang(data_TIP_adj_aux)\n",
    "\n",
    "    \n",
    "\n",
    "    types_portfolio_aux = pd.concat([w_tan_adj_TIP_aux,w_tan_wout_TIP_aux,weights_tag_reg(data_aux)],axis = 1)\n",
    "    types_portfolio_aux[\"EW\"] = 1/len(data_aux.columns)\n",
    "    types_portfolio_aux[\"RP\"] = 1/data_aux.var()\n",
    "    types_portfolio_aux = types_portfolio_aux.fillna(0)\n",
    "    types_portfolio_aux = (mu_target/(data_aux.mean() @ types_portfolio_aux)) * types_portfolio_aux\n",
    "    types_portfolio_aux.style.format('{:.2%}')\n",
    "\n",
    "    print(f\"In sample ({calibration_year}) metrics: \")\n",
    "    display(get_metrics(data_aux,types_portfolio_aux).style.format('{:.2%}'))\n",
    "    print(f\"Out of sample ({test_year}) metrics: \")\n",
    "    display(get_metrics(data[(data.index > str(calibration_year)+\"-12-31\")&(data.index <= str(test_year)+\"-12-31\")],types_portfolio_aux).style.format('{:.2%}'))\n",
    "    print(\"-----------------------------\")"
   ]
  },
  {
   "cell_type": "code",
   "execution_count": 59,
   "id": "e9922e39",
   "metadata": {},
   "outputs": [
    {
     "name": "stdout",
     "output_type": "stream",
     "text": [
      "In sample (2015) metrics: \n"
     ]
    },
    {
     "data": {
      "text/html": [
       "<style type=\"text/css\">\n",
       "</style>\n",
       "<table id=\"T_235d1\">\n",
       "  <thead>\n",
       "    <tr>\n",
       "      <th class=\"blank level0\" >&nbsp;</th>\n",
       "      <th id=\"T_235d1_level0_col0\" class=\"col_heading level0 col0\" >Mean</th>\n",
       "      <th id=\"T_235d1_level0_col1\" class=\"col_heading level0 col1\" >Volatility</th>\n",
       "      <th id=\"T_235d1_level0_col2\" class=\"col_heading level0 col2\" >Sharpe_Ratio</th>\n",
       "    </tr>\n",
       "  </thead>\n",
       "  <tbody>\n",
       "    <tr>\n",
       "      <th id=\"T_235d1_level0_row0\" class=\"row_heading level0 row0\" >w_tan</th>\n",
       "      <td id=\"T_235d1_row0_col0\" class=\"data row0 col0\" >12.00%</td>\n",
       "      <td id=\"T_235d1_row0_col1\" class=\"data row0 col1\" >4.10%</td>\n",
       "      <td id=\"T_235d1_row0_col2\" class=\"data row0 col2\" >292.73%</td>\n",
       "    </tr>\n",
       "    <tr>\n",
       "      <th id=\"T_235d1_level0_row1\" class=\"row_heading level0 row1\" >w_tan_wout_TIP</th>\n",
       "      <td id=\"T_235d1_row1_col0\" class=\"data row1 col0\" >12.00%</td>\n",
       "      <td id=\"T_235d1_row1_col1\" class=\"data row1 col1\" >4.03%</td>\n",
       "      <td id=\"T_235d1_row1_col2\" class=\"data row1 col2\" >297.42%</td>\n",
       "    </tr>\n",
       "    <tr>\n",
       "      <th id=\"T_235d1_level0_row2\" class=\"row_heading level0 row2\" >w_tan_reg</th>\n",
       "      <td id=\"T_235d1_row2_col0\" class=\"data row2 col0\" >12.00%</td>\n",
       "      <td id=\"T_235d1_row2_col1\" class=\"data row2 col1\" >5.77%</td>\n",
       "      <td id=\"T_235d1_row2_col2\" class=\"data row2 col2\" >208.10%</td>\n",
       "    </tr>\n",
       "    <tr>\n",
       "      <th id=\"T_235d1_level0_row3\" class=\"row_heading level0 row3\" >EW</th>\n",
       "      <td id=\"T_235d1_row3_col0\" class=\"data row3 col0\" >12.00%</td>\n",
       "      <td id=\"T_235d1_row3_col1\" class=\"data row3 col1\" >39.66%</td>\n",
       "      <td id=\"T_235d1_row3_col2\" class=\"data row3 col2\" >30.26%</td>\n",
       "    </tr>\n",
       "    <tr>\n",
       "      <th id=\"T_235d1_level0_row4\" class=\"row_heading level0 row4\" >RP</th>\n",
       "      <td id=\"T_235d1_row4_col0\" class=\"data row4 col0\" >12.00%</td>\n",
       "      <td id=\"T_235d1_row4_col1\" class=\"data row4 col1\" >20.15%</td>\n",
       "      <td id=\"T_235d1_row4_col2\" class=\"data row4 col2\" >59.55%</td>\n",
       "    </tr>\n",
       "  </tbody>\n",
       "</table>\n"
      ],
      "text/plain": [
       "<pandas.io.formats.style.Styler at 0x25c75cd54c0>"
      ]
     },
     "metadata": {},
     "output_type": "display_data"
    },
    {
     "name": "stdout",
     "output_type": "stream",
     "text": [
      "Out of sample (2016) metrics: \n"
     ]
    },
    {
     "data": {
      "text/html": [
       "<style type=\"text/css\">\n",
       "</style>\n",
       "<table id=\"T_dfdaa\">\n",
       "  <thead>\n",
       "    <tr>\n",
       "      <th class=\"blank level0\" >&nbsp;</th>\n",
       "      <th id=\"T_dfdaa_level0_col0\" class=\"col_heading level0 col0\" >Mean</th>\n",
       "      <th id=\"T_dfdaa_level0_col1\" class=\"col_heading level0 col1\" >Volatility</th>\n",
       "      <th id=\"T_dfdaa_level0_col2\" class=\"col_heading level0 col2\" >Sharpe_Ratio</th>\n",
       "    </tr>\n",
       "  </thead>\n",
       "  <tbody>\n",
       "    <tr>\n",
       "      <th id=\"T_dfdaa_level0_row0\" class=\"row_heading level0 row0\" >w_tan</th>\n",
       "      <td id=\"T_dfdaa_row0_col0\" class=\"data row0 col0\" >8.86%</td>\n",
       "      <td id=\"T_dfdaa_row0_col1\" class=\"data row0 col1\" >4.35%</td>\n",
       "      <td id=\"T_dfdaa_row0_col2\" class=\"data row0 col2\" >203.62%</td>\n",
       "    </tr>\n",
       "    <tr>\n",
       "      <th id=\"T_dfdaa_level0_row1\" class=\"row_heading level0 row1\" >w_tan_wout_TIP</th>\n",
       "      <td id=\"T_dfdaa_row1_col0\" class=\"data row1 col0\" >7.81%</td>\n",
       "      <td id=\"T_dfdaa_row1_col1\" class=\"data row1 col1\" >4.05%</td>\n",
       "      <td id=\"T_dfdaa_row1_col2\" class=\"data row1 col2\" >192.60%</td>\n",
       "    </tr>\n",
       "    <tr>\n",
       "      <th id=\"T_dfdaa_level0_row2\" class=\"row_heading level0 row2\" >w_tan_reg</th>\n",
       "      <td id=\"T_dfdaa_row2_col0\" class=\"data row2 col0\" >2.93%</td>\n",
       "      <td id=\"T_dfdaa_row2_col1\" class=\"data row2 col1\" >4.62%</td>\n",
       "      <td id=\"T_dfdaa_row2_col2\" class=\"data row2 col2\" >63.47%</td>\n",
       "    </tr>\n",
       "    <tr>\n",
       "      <th id=\"T_dfdaa_level0_row3\" class=\"row_heading level0 row3\" >EW</th>\n",
       "      <td id=\"T_dfdaa_row3_col0\" class=\"data row3 col0\" >32.43%</td>\n",
       "      <td id=\"T_dfdaa_row3_col1\" class=\"data row3 col1\" >34.02%</td>\n",
       "      <td id=\"T_dfdaa_row3_col2\" class=\"data row3 col2\" >95.33%</td>\n",
       "    </tr>\n",
       "    <tr>\n",
       "      <th id=\"T_dfdaa_level0_row4\" class=\"row_heading level0 row4\" >RP</th>\n",
       "      <td id=\"T_dfdaa_row4_col0\" class=\"data row4 col0\" >15.87%</td>\n",
       "      <td id=\"T_dfdaa_row4_col1\" class=\"data row4 col1\" >21.08%</td>\n",
       "      <td id=\"T_dfdaa_row4_col2\" class=\"data row4 col2\" >75.29%</td>\n",
       "    </tr>\n",
       "  </tbody>\n",
       "</table>\n"
      ],
      "text/plain": [
       "<pandas.io.formats.style.Styler at 0x25c75cd7ef0>"
      ]
     },
     "metadata": {},
     "output_type": "display_data"
    },
    {
     "name": "stdout",
     "output_type": "stream",
     "text": [
      "-----------------------------\n",
      "In sample (2016) metrics: \n"
     ]
    },
    {
     "data": {
      "text/html": [
       "<style type=\"text/css\">\n",
       "</style>\n",
       "<table id=\"T_bfd18\">\n",
       "  <thead>\n",
       "    <tr>\n",
       "      <th class=\"blank level0\" >&nbsp;</th>\n",
       "      <th id=\"T_bfd18_level0_col0\" class=\"col_heading level0 col0\" >Mean</th>\n",
       "      <th id=\"T_bfd18_level0_col1\" class=\"col_heading level0 col1\" >Volatility</th>\n",
       "      <th id=\"T_bfd18_level0_col2\" class=\"col_heading level0 col2\" >Sharpe_Ratio</th>\n",
       "    </tr>\n",
       "  </thead>\n",
       "  <tbody>\n",
       "    <tr>\n",
       "      <th id=\"T_bfd18_level0_row0\" class=\"row_heading level0 row0\" >w_tan</th>\n",
       "      <td id=\"T_bfd18_row0_col0\" class=\"data row0 col0\" >12.00%</td>\n",
       "      <td id=\"T_bfd18_row0_col1\" class=\"data row0 col1\" >4.18%</td>\n",
       "      <td id=\"T_bfd18_row0_col2\" class=\"data row0 col2\" >287.00%</td>\n",
       "    </tr>\n",
       "    <tr>\n",
       "      <th id=\"T_bfd18_level0_row1\" class=\"row_heading level0 row1\" >w_tan_wout_TIP</th>\n",
       "      <td id=\"T_bfd18_row1_col0\" class=\"data row1 col0\" >12.00%</td>\n",
       "      <td id=\"T_bfd18_row1_col1\" class=\"data row1 col1\" >4.11%</td>\n",
       "      <td id=\"T_bfd18_row1_col2\" class=\"data row1 col2\" >291.74%</td>\n",
       "    </tr>\n",
       "    <tr>\n",
       "      <th id=\"T_bfd18_level0_row2\" class=\"row_heading level0 row2\" >w_tan_reg</th>\n",
       "      <td id=\"T_bfd18_row2_col0\" class=\"data row2 col0\" >12.00%</td>\n",
       "      <td id=\"T_bfd18_row2_col1\" class=\"data row2 col1\" >6.17%</td>\n",
       "      <td id=\"T_bfd18_row2_col2\" class=\"data row2 col2\" >194.53%</td>\n",
       "    </tr>\n",
       "    <tr>\n",
       "      <th id=\"T_bfd18_level0_row3\" class=\"row_heading level0 row3\" >EW</th>\n",
       "      <td id=\"T_bfd18_row3_col0\" class=\"data row3 col0\" >12.00%</td>\n",
       "      <td id=\"T_bfd18_row3_col1\" class=\"data row3 col1\" >29.97%</td>\n",
       "      <td id=\"T_bfd18_row3_col2\" class=\"data row3 col2\" >40.03%</td>\n",
       "    </tr>\n",
       "    <tr>\n",
       "      <th id=\"T_bfd18_level0_row4\" class=\"row_heading level0 row4\" >RP</th>\n",
       "      <td id=\"T_bfd18_row4_col0\" class=\"data row4 col0\" >12.00%</td>\n",
       "      <td id=\"T_bfd18_row4_col1\" class=\"data row4 col1\" >18.46%</td>\n",
       "      <td id=\"T_bfd18_row4_col2\" class=\"data row4 col2\" >65.02%</td>\n",
       "    </tr>\n",
       "  </tbody>\n",
       "</table>\n"
      ],
      "text/plain": [
       "<pandas.io.formats.style.Styler at 0x25c75cd6ba0>"
      ]
     },
     "metadata": {},
     "output_type": "display_data"
    },
    {
     "name": "stdout",
     "output_type": "stream",
     "text": [
      "Out of sample (2017) metrics: \n"
     ]
    },
    {
     "data": {
      "text/html": [
       "<style type=\"text/css\">\n",
       "</style>\n",
       "<table id=\"T_0d280\">\n",
       "  <thead>\n",
       "    <tr>\n",
       "      <th class=\"blank level0\" >&nbsp;</th>\n",
       "      <th id=\"T_0d280_level0_col0\" class=\"col_heading level0 col0\" >Mean</th>\n",
       "      <th id=\"T_0d280_level0_col1\" class=\"col_heading level0 col1\" >Volatility</th>\n",
       "      <th id=\"T_0d280_level0_col2\" class=\"col_heading level0 col2\" >Sharpe_Ratio</th>\n",
       "    </tr>\n",
       "  </thead>\n",
       "  <tbody>\n",
       "    <tr>\n",
       "      <th id=\"T_0d280_level0_row0\" class=\"row_heading level0 row0\" >w_tan</th>\n",
       "      <td id=\"T_0d280_row0_col0\" class=\"data row0 col0\" >8.10%</td>\n",
       "      <td id=\"T_0d280_row0_col1\" class=\"data row0 col1\" >2.82%</td>\n",
       "      <td id=\"T_0d280_row0_col2\" class=\"data row0 col2\" >287.37%</td>\n",
       "    </tr>\n",
       "    <tr>\n",
       "      <th id=\"T_0d280_level0_row1\" class=\"row_heading level0 row1\" >w_tan_wout_TIP</th>\n",
       "      <td id=\"T_0d280_row1_col0\" class=\"data row1 col0\" >9.21%</td>\n",
       "      <td id=\"T_0d280_row1_col1\" class=\"data row1 col1\" >2.84%</td>\n",
       "      <td id=\"T_0d280_row1_col2\" class=\"data row1 col2\" >324.69%</td>\n",
       "    </tr>\n",
       "    <tr>\n",
       "      <th id=\"T_0d280_level0_row2\" class=\"row_heading level0 row2\" >w_tan_reg</th>\n",
       "      <td id=\"T_0d280_row2_col0\" class=\"data row2 col0\" >6.44%</td>\n",
       "      <td id=\"T_0d280_row2_col1\" class=\"data row2 col1\" >2.84%</td>\n",
       "      <td id=\"T_0d280_row2_col2\" class=\"data row2 col2\" >226.93%</td>\n",
       "    </tr>\n",
       "    <tr>\n",
       "      <th id=\"T_0d280_level0_row3\" class=\"row_heading level0 row3\" >EW</th>\n",
       "      <td id=\"T_0d280_row3_col0\" class=\"data row3 col0\" >41.79%</td>\n",
       "      <td id=\"T_0d280_row3_col1\" class=\"data row3 col1\" >6.87%</td>\n",
       "      <td id=\"T_0d280_row3_col2\" class=\"data row3 col2\" >608.00%</td>\n",
       "    </tr>\n",
       "    <tr>\n",
       "      <th id=\"T_0d280_level0_row4\" class=\"row_heading level0 row4\" >RP</th>\n",
       "      <td id=\"T_0d280_row4_col0\" class=\"data row4 col0\" >24.74%</td>\n",
       "      <td id=\"T_0d280_row4_col1\" class=\"data row4 col1\" >5.81%</td>\n",
       "      <td id=\"T_0d280_row4_col2\" class=\"data row4 col2\" >425.49%</td>\n",
       "    </tr>\n",
       "  </tbody>\n",
       "</table>\n"
      ],
      "text/plain": [
       "<pandas.io.formats.style.Styler at 0x25c75cd5fd0>"
      ]
     },
     "metadata": {},
     "output_type": "display_data"
    },
    {
     "name": "stdout",
     "output_type": "stream",
     "text": [
      "-----------------------------\n",
      "In sample (2017) metrics: \n"
     ]
    },
    {
     "data": {
      "text/html": [
       "<style type=\"text/css\">\n",
       "</style>\n",
       "<table id=\"T_11740\">\n",
       "  <thead>\n",
       "    <tr>\n",
       "      <th class=\"blank level0\" >&nbsp;</th>\n",
       "      <th id=\"T_11740_level0_col0\" class=\"col_heading level0 col0\" >Mean</th>\n",
       "      <th id=\"T_11740_level0_col1\" class=\"col_heading level0 col1\" >Volatility</th>\n",
       "      <th id=\"T_11740_level0_col2\" class=\"col_heading level0 col2\" >Sharpe_Ratio</th>\n",
       "    </tr>\n",
       "  </thead>\n",
       "  <tbody>\n",
       "    <tr>\n",
       "      <th id=\"T_11740_level0_row0\" class=\"row_heading level0 row0\" >w_tan</th>\n",
       "      <td id=\"T_11740_row0_col0\" class=\"data row0 col0\" >12.00%</td>\n",
       "      <td id=\"T_11740_row0_col1\" class=\"data row0 col1\" >4.13%</td>\n",
       "      <td id=\"T_11740_row0_col2\" class=\"data row0 col2\" >290.66%</td>\n",
       "    </tr>\n",
       "    <tr>\n",
       "      <th id=\"T_11740_level0_row1\" class=\"row_heading level0 row1\" >w_tan_wout_TIP</th>\n",
       "      <td id=\"T_11740_row1_col0\" class=\"data row1 col0\" >12.00%</td>\n",
       "      <td id=\"T_11740_row1_col1\" class=\"data row1 col1\" >4.04%</td>\n",
       "      <td id=\"T_11740_row1_col2\" class=\"data row1 col2\" >296.97%</td>\n",
       "    </tr>\n",
       "    <tr>\n",
       "      <th id=\"T_11740_level0_row2\" class=\"row_heading level0 row2\" >w_tan_reg</th>\n",
       "      <td id=\"T_11740_row2_col0\" class=\"data row2 col0\" >12.00%</td>\n",
       "      <td id=\"T_11740_row2_col1\" class=\"data row2 col1\" >6.40%</td>\n",
       "      <td id=\"T_11740_row2_col2\" class=\"data row2 col2\" >187.39%</td>\n",
       "    </tr>\n",
       "    <tr>\n",
       "      <th id=\"T_11740_level0_row3\" class=\"row_heading level0 row3\" >EW</th>\n",
       "      <td id=\"T_11740_row3_col0\" class=\"data row3 col0\" >12.00%</td>\n",
       "      <td id=\"T_11740_row3_col1\" class=\"data row3 col1\" >20.59%</td>\n",
       "      <td id=\"T_11740_row3_col2\" class=\"data row3 col2\" >58.29%</td>\n",
       "    </tr>\n",
       "    <tr>\n",
       "      <th id=\"T_11740_level0_row4\" class=\"row_heading level0 row4\" >RP</th>\n",
       "      <td id=\"T_11740_row4_col0\" class=\"data row4 col0\" >12.00%</td>\n",
       "      <td id=\"T_11740_row4_col1\" class=\"data row4 col1\" >14.84%</td>\n",
       "      <td id=\"T_11740_row4_col2\" class=\"data row4 col2\" >80.89%</td>\n",
       "    </tr>\n",
       "  </tbody>\n",
       "</table>\n"
      ],
      "text/plain": [
       "<pandas.io.formats.style.Styler at 0x25c75cd4050>"
      ]
     },
     "metadata": {},
     "output_type": "display_data"
    },
    {
     "name": "stdout",
     "output_type": "stream",
     "text": [
      "Out of sample (2018) metrics: \n"
     ]
    },
    {
     "data": {
      "text/html": [
       "<style type=\"text/css\">\n",
       "</style>\n",
       "<table id=\"T_5a308\">\n",
       "  <thead>\n",
       "    <tr>\n",
       "      <th class=\"blank level0\" >&nbsp;</th>\n",
       "      <th id=\"T_5a308_level0_col0\" class=\"col_heading level0 col0\" >Mean</th>\n",
       "      <th id=\"T_5a308_level0_col1\" class=\"col_heading level0 col1\" >Volatility</th>\n",
       "      <th id=\"T_5a308_level0_col2\" class=\"col_heading level0 col2\" >Sharpe_Ratio</th>\n",
       "    </tr>\n",
       "  </thead>\n",
       "  <tbody>\n",
       "    <tr>\n",
       "      <th id=\"T_5a308_level0_row0\" class=\"row_heading level0 row0\" >w_tan</th>\n",
       "      <td id=\"T_5a308_row0_col0\" class=\"data row0 col0\" >2.90%</td>\n",
       "      <td id=\"T_5a308_row0_col1\" class=\"data row0 col1\" >6.71%</td>\n",
       "      <td id=\"T_5a308_row0_col2\" class=\"data row0 col2\" >43.16%</td>\n",
       "    </tr>\n",
       "    <tr>\n",
       "      <th id=\"T_5a308_level0_row1\" class=\"row_heading level0 row1\" >w_tan_wout_TIP</th>\n",
       "      <td id=\"T_5a308_row1_col0\" class=\"data row1 col0\" >3.03%</td>\n",
       "      <td id=\"T_5a308_row1_col1\" class=\"data row1 col1\" >6.67%</td>\n",
       "      <td id=\"T_5a308_row1_col2\" class=\"data row1 col2\" >45.45%</td>\n",
       "    </tr>\n",
       "    <tr>\n",
       "      <th id=\"T_5a308_level0_row2\" class=\"row_heading level0 row2\" >w_tan_reg</th>\n",
       "      <td id=\"T_5a308_row2_col0\" class=\"data row2 col0\" >-2.54%</td>\n",
       "      <td id=\"T_5a308_row2_col1\" class=\"data row2 col1\" >7.85%</td>\n",
       "      <td id=\"T_5a308_row2_col2\" class=\"data row2 col2\" >-32.36%</td>\n",
       "    </tr>\n",
       "    <tr>\n",
       "      <th id=\"T_5a308_level0_row3\" class=\"row_heading level0 row3\" >EW</th>\n",
       "      <td id=\"T_5a308_row3_col0\" class=\"data row3 col0\" >-20.80%</td>\n",
       "      <td id=\"T_5a308_row3_col1\" class=\"data row3 col1\" >18.47%</td>\n",
       "      <td id=\"T_5a308_row3_col2\" class=\"data row3 col2\" >-112.57%</td>\n",
       "    </tr>\n",
       "    <tr>\n",
       "      <th id=\"T_5a308_level0_row4\" class=\"row_heading level0 row4\" >RP</th>\n",
       "      <td id=\"T_5a308_row4_col0\" class=\"data row4 col0\" >-15.31%</td>\n",
       "      <td id=\"T_5a308_row4_col1\" class=\"data row4 col1\" >11.99%</td>\n",
       "      <td id=\"T_5a308_row4_col2\" class=\"data row4 col2\" >-127.70%</td>\n",
       "    </tr>\n",
       "  </tbody>\n",
       "</table>\n"
      ],
      "text/plain": [
       "<pandas.io.formats.style.Styler at 0x25c75cd5fd0>"
      ]
     },
     "metadata": {},
     "output_type": "display_data"
    },
    {
     "name": "stdout",
     "output_type": "stream",
     "text": [
      "-----------------------------\n",
      "In sample (2018) metrics: \n"
     ]
    },
    {
     "data": {
      "text/html": [
       "<style type=\"text/css\">\n",
       "</style>\n",
       "<table id=\"T_b29a8\">\n",
       "  <thead>\n",
       "    <tr>\n",
       "      <th class=\"blank level0\" >&nbsp;</th>\n",
       "      <th id=\"T_b29a8_level0_col0\" class=\"col_heading level0 col0\" >Mean</th>\n",
       "      <th id=\"T_b29a8_level0_col1\" class=\"col_heading level0 col1\" >Volatility</th>\n",
       "      <th id=\"T_b29a8_level0_col2\" class=\"col_heading level0 col2\" >Sharpe_Ratio</th>\n",
       "    </tr>\n",
       "  </thead>\n",
       "  <tbody>\n",
       "    <tr>\n",
       "      <th id=\"T_b29a8_level0_row0\" class=\"row_heading level0 row0\" >w_tan</th>\n",
       "      <td id=\"T_b29a8_row0_col0\" class=\"data row0 col0\" >12.00%</td>\n",
       "      <td id=\"T_b29a8_row0_col1\" class=\"data row0 col1\" >4.97%</td>\n",
       "      <td id=\"T_b29a8_row0_col2\" class=\"data row0 col2\" >241.24%</td>\n",
       "    </tr>\n",
       "    <tr>\n",
       "      <th id=\"T_b29a8_level0_row1\" class=\"row_heading level0 row1\" >w_tan_wout_TIP</th>\n",
       "      <td id=\"T_b29a8_row1_col0\" class=\"data row1 col0\" >12.00%</td>\n",
       "      <td id=\"T_b29a8_row1_col1\" class=\"data row1 col1\" >4.81%</td>\n",
       "      <td id=\"T_b29a8_row1_col2\" class=\"data row1 col2\" >249.37%</td>\n",
       "    </tr>\n",
       "    <tr>\n",
       "      <th id=\"T_b29a8_level0_row2\" class=\"row_heading level0 row2\" >w_tan_reg</th>\n",
       "      <td id=\"T_b29a8_row2_col0\" class=\"data row2 col0\" >12.00%</td>\n",
       "      <td id=\"T_b29a8_row2_col1\" class=\"data row2 col1\" >7.46%</td>\n",
       "      <td id=\"T_b29a8_row2_col2\" class=\"data row2 col2\" >160.89%</td>\n",
       "    </tr>\n",
       "    <tr>\n",
       "      <th id=\"T_b29a8_level0_row3\" class=\"row_heading level0 row3\" >EW</th>\n",
       "      <td id=\"T_b29a8_row3_col0\" class=\"data row3 col0\" >12.00%</td>\n",
       "      <td id=\"T_b29a8_row3_col1\" class=\"data row3 col1\" >31.29%</td>\n",
       "      <td id=\"T_b29a8_row3_col2\" class=\"data row3 col2\" >38.36%</td>\n",
       "    </tr>\n",
       "    <tr>\n",
       "      <th id=\"T_b29a8_level0_row4\" class=\"row_heading level0 row4\" >RP</th>\n",
       "      <td id=\"T_b29a8_row4_col0\" class=\"data row4 col0\" >12.00%</td>\n",
       "      <td id=\"T_b29a8_row4_col1\" class=\"data row4 col1\" >20.73%</td>\n",
       "      <td id=\"T_b29a8_row4_col2\" class=\"data row4 col2\" >57.89%</td>\n",
       "    </tr>\n",
       "  </tbody>\n",
       "</table>\n"
      ],
      "text/plain": [
       "<pandas.io.formats.style.Styler at 0x25c75d2ac30>"
      ]
     },
     "metadata": {},
     "output_type": "display_data"
    },
    {
     "name": "stdout",
     "output_type": "stream",
     "text": [
      "Out of sample (2019) metrics: \n"
     ]
    },
    {
     "data": {
      "text/html": [
       "<style type=\"text/css\">\n",
       "</style>\n",
       "<table id=\"T_171be\">\n",
       "  <thead>\n",
       "    <tr>\n",
       "      <th class=\"blank level0\" >&nbsp;</th>\n",
       "      <th id=\"T_171be_level0_col0\" class=\"col_heading level0 col0\" >Mean</th>\n",
       "      <th id=\"T_171be_level0_col1\" class=\"col_heading level0 col1\" >Volatility</th>\n",
       "      <th id=\"T_171be_level0_col2\" class=\"col_heading level0 col2\" >Sharpe_Ratio</th>\n",
       "    </tr>\n",
       "  </thead>\n",
       "  <tbody>\n",
       "    <tr>\n",
       "      <th id=\"T_171be_level0_row0\" class=\"row_heading level0 row0\" >w_tan</th>\n",
       "      <td id=\"T_171be_row0_col0\" class=\"data row0 col0\" >18.04%</td>\n",
       "      <td id=\"T_171be_row0_col1\" class=\"data row0 col1\" >7.44%</td>\n",
       "      <td id=\"T_171be_row0_col2\" class=\"data row0 col2\" >242.38%</td>\n",
       "    </tr>\n",
       "    <tr>\n",
       "      <th id=\"T_171be_level0_row1\" class=\"row_heading level0 row1\" >w_tan_wout_TIP</th>\n",
       "      <td id=\"T_171be_row1_col0\" class=\"data row1 col0\" >18.42%</td>\n",
       "      <td id=\"T_171be_row1_col1\" class=\"data row1 col1\" >7.35%</td>\n",
       "      <td id=\"T_171be_row1_col2\" class=\"data row1 col2\" >250.63%</td>\n",
       "    </tr>\n",
       "    <tr>\n",
       "      <th id=\"T_171be_level0_row2\" class=\"row_heading level0 row2\" >w_tan_reg</th>\n",
       "      <td id=\"T_171be_row2_col0\" class=\"data row2 col0\" >20.80%</td>\n",
       "      <td id=\"T_171be_row2_col1\" class=\"data row2 col1\" >6.21%</td>\n",
       "      <td id=\"T_171be_row2_col2\" class=\"data row2 col2\" >335.18%</td>\n",
       "    </tr>\n",
       "    <tr>\n",
       "      <th id=\"T_171be_level0_row3\" class=\"row_heading level0 row3\" >EW</th>\n",
       "      <td id=\"T_171be_row3_col0\" class=\"data row3 col0\" >55.47%</td>\n",
       "      <td id=\"T_171be_row3_col1\" class=\"data row3 col1\" >28.82%</td>\n",
       "      <td id=\"T_171be_row3_col2\" class=\"data row3 col2\" >192.49%</td>\n",
       "    </tr>\n",
       "    <tr>\n",
       "      <th id=\"T_171be_level0_row4\" class=\"row_heading level0 row4\" >RP</th>\n",
       "      <td id=\"T_171be_row4_col0\" class=\"data row4 col0\" >40.09%</td>\n",
       "      <td id=\"T_171be_row4_col1\" class=\"data row4 col1\" >16.41%</td>\n",
       "      <td id=\"T_171be_row4_col2\" class=\"data row4 col2\" >244.24%</td>\n",
       "    </tr>\n",
       "  </tbody>\n",
       "</table>\n"
      ],
      "text/plain": [
       "<pandas.io.formats.style.Styler at 0x25c75d291f0>"
      ]
     },
     "metadata": {},
     "output_type": "display_data"
    },
    {
     "name": "stdout",
     "output_type": "stream",
     "text": [
      "-----------------------------\n",
      "In sample (2019) metrics: \n"
     ]
    },
    {
     "data": {
      "text/html": [
       "<style type=\"text/css\">\n",
       "</style>\n",
       "<table id=\"T_919fb\">\n",
       "  <thead>\n",
       "    <tr>\n",
       "      <th class=\"blank level0\" >&nbsp;</th>\n",
       "      <th id=\"T_919fb_level0_col0\" class=\"col_heading level0 col0\" >Mean</th>\n",
       "      <th id=\"T_919fb_level0_col1\" class=\"col_heading level0 col1\" >Volatility</th>\n",
       "      <th id=\"T_919fb_level0_col2\" class=\"col_heading level0 col2\" >Sharpe_Ratio</th>\n",
       "    </tr>\n",
       "  </thead>\n",
       "  <tbody>\n",
       "    <tr>\n",
       "      <th id=\"T_919fb_level0_row0\" class=\"row_heading level0 row0\" >w_tan</th>\n",
       "      <td id=\"T_919fb_row0_col0\" class=\"data row0 col0\" >12.00%</td>\n",
       "      <td id=\"T_919fb_row0_col1\" class=\"data row0 col1\" >5.00%</td>\n",
       "      <td id=\"T_919fb_row0_col2\" class=\"data row0 col2\" >240.08%</td>\n",
       "    </tr>\n",
       "    <tr>\n",
       "      <th id=\"T_919fb_level0_row1\" class=\"row_heading level0 row1\" >w_tan_wout_TIP</th>\n",
       "      <td id=\"T_919fb_row1_col0\" class=\"data row1 col0\" >12.00%</td>\n",
       "      <td id=\"T_919fb_row1_col1\" class=\"data row1 col1\" >4.82%</td>\n",
       "      <td id=\"T_919fb_row1_col2\" class=\"data row1 col2\" >248.78%</td>\n",
       "    </tr>\n",
       "    <tr>\n",
       "      <th id=\"T_919fb_level0_row2\" class=\"row_heading level0 row2\" >w_tan_reg</th>\n",
       "      <td id=\"T_919fb_row2_col0\" class=\"data row2 col0\" >12.00%</td>\n",
       "      <td id=\"T_919fb_row2_col1\" class=\"data row2 col1\" >7.13%</td>\n",
       "      <td id=\"T_919fb_row2_col2\" class=\"data row2 col2\" >168.37%</td>\n",
       "    </tr>\n",
       "    <tr>\n",
       "      <th id=\"T_919fb_level0_row3\" class=\"row_heading level0 row3\" >EW</th>\n",
       "      <td id=\"T_919fb_row3_col0\" class=\"data row3 col0\" >12.00%</td>\n",
       "      <td id=\"T_919fb_row3_col1\" class=\"data row3 col1\" >22.15%</td>\n",
       "      <td id=\"T_919fb_row3_col2\" class=\"data row3 col2\" >54.19%</td>\n",
       "    </tr>\n",
       "    <tr>\n",
       "      <th id=\"T_919fb_level0_row4\" class=\"row_heading level0 row4\" >RP</th>\n",
       "      <td id=\"T_919fb_row4_col0\" class=\"data row4 col0\" >12.00%</td>\n",
       "      <td id=\"T_919fb_row4_col1\" class=\"data row4 col1\" >16.31%</td>\n",
       "      <td id=\"T_919fb_row4_col2\" class=\"data row4 col2\" >73.59%</td>\n",
       "    </tr>\n",
       "  </tbody>\n",
       "</table>\n"
      ],
      "text/plain": [
       "<pandas.io.formats.style.Styler at 0x25c75d294c0>"
      ]
     },
     "metadata": {},
     "output_type": "display_data"
    },
    {
     "name": "stdout",
     "output_type": "stream",
     "text": [
      "Out of sample (2020) metrics: \n"
     ]
    },
    {
     "data": {
      "text/html": [
       "<style type=\"text/css\">\n",
       "</style>\n",
       "<table id=\"T_f90ba\">\n",
       "  <thead>\n",
       "    <tr>\n",
       "      <th class=\"blank level0\" >&nbsp;</th>\n",
       "      <th id=\"T_f90ba_level0_col0\" class=\"col_heading level0 col0\" >Mean</th>\n",
       "      <th id=\"T_f90ba_level0_col1\" class=\"col_heading level0 col1\" >Volatility</th>\n",
       "      <th id=\"T_f90ba_level0_col2\" class=\"col_heading level0 col2\" >Sharpe_Ratio</th>\n",
       "    </tr>\n",
       "  </thead>\n",
       "  <tbody>\n",
       "    <tr>\n",
       "      <th id=\"T_f90ba_level0_row0\" class=\"row_heading level0 row0\" >w_tan</th>\n",
       "      <td id=\"T_f90ba_row0_col0\" class=\"data row0 col0\" >25.95%</td>\n",
       "      <td id=\"T_f90ba_row0_col1\" class=\"data row0 col1\" >11.42%</td>\n",
       "      <td id=\"T_f90ba_row0_col2\" class=\"data row0 col2\" >227.12%</td>\n",
       "    </tr>\n",
       "    <tr>\n",
       "      <th id=\"T_f90ba_level0_row1\" class=\"row_heading level0 row1\" >w_tan_wout_TIP</th>\n",
       "      <td id=\"T_f90ba_row1_col0\" class=\"data row1 col0\" >24.08%</td>\n",
       "      <td id=\"T_f90ba_row1_col1\" class=\"data row1 col1\" >10.35%</td>\n",
       "      <td id=\"T_f90ba_row1_col2\" class=\"data row1 col2\" >232.79%</td>\n",
       "    </tr>\n",
       "    <tr>\n",
       "      <th id=\"T_f90ba_level0_row2\" class=\"row_heading level0 row2\" >w_tan_reg</th>\n",
       "      <td id=\"T_f90ba_row2_col0\" class=\"data row2 col0\" >17.96%</td>\n",
       "      <td id=\"T_f90ba_row2_col1\" class=\"data row2 col1\" >14.48%</td>\n",
       "      <td id=\"T_f90ba_row2_col2\" class=\"data row2 col2\" >124.05%</td>\n",
       "    </tr>\n",
       "    <tr>\n",
       "      <th id=\"T_f90ba_level0_row3\" class=\"row_heading level0 row3\" >EW</th>\n",
       "      <td id=\"T_f90ba_row3_col0\" class=\"data row3 col0\" >24.26%</td>\n",
       "      <td id=\"T_f90ba_row3_col1\" class=\"data row3 col1\" >49.63%</td>\n",
       "      <td id=\"T_f90ba_row3_col2\" class=\"data row3 col2\" >48.88%</td>\n",
       "    </tr>\n",
       "    <tr>\n",
       "      <th id=\"T_f90ba_level0_row4\" class=\"row_heading level0 row4\" >RP</th>\n",
       "      <td id=\"T_f90ba_row4_col0\" class=\"data row4 col0\" >29.98%</td>\n",
       "      <td id=\"T_f90ba_row4_col1\" class=\"data row4 col1\" >33.41%</td>\n",
       "      <td id=\"T_f90ba_row4_col2\" class=\"data row4 col2\" >89.73%</td>\n",
       "    </tr>\n",
       "  </tbody>\n",
       "</table>\n"
      ],
      "text/plain": [
       "<pandas.io.formats.style.Styler at 0x25c75d2ac30>"
      ]
     },
     "metadata": {},
     "output_type": "display_data"
    },
    {
     "name": "stdout",
     "output_type": "stream",
     "text": [
      "-----------------------------\n",
      "In sample (2020) metrics: \n"
     ]
    },
    {
     "data": {
      "text/html": [
       "<style type=\"text/css\">\n",
       "</style>\n",
       "<table id=\"T_c75ef\">\n",
       "  <thead>\n",
       "    <tr>\n",
       "      <th class=\"blank level0\" >&nbsp;</th>\n",
       "      <th id=\"T_c75ef_level0_col0\" class=\"col_heading level0 col0\" >Mean</th>\n",
       "      <th id=\"T_c75ef_level0_col1\" class=\"col_heading level0 col1\" >Volatility</th>\n",
       "      <th id=\"T_c75ef_level0_col2\" class=\"col_heading level0 col2\" >Sharpe_Ratio</th>\n",
       "    </tr>\n",
       "  </thead>\n",
       "  <tbody>\n",
       "    <tr>\n",
       "      <th id=\"T_c75ef_level0_row0\" class=\"row_heading level0 row0\" >w_tan</th>\n",
       "      <td id=\"T_c75ef_row0_col0\" class=\"data row0 col0\" >12.00%</td>\n",
       "      <td id=\"T_c75ef_row0_col1\" class=\"data row0 col1\" >5.27%</td>\n",
       "      <td id=\"T_c75ef_row0_col2\" class=\"data row0 col2\" >227.56%</td>\n",
       "    </tr>\n",
       "    <tr>\n",
       "      <th id=\"T_c75ef_level0_row1\" class=\"row_heading level0 row1\" >w_tan_wout_TIP</th>\n",
       "      <td id=\"T_c75ef_row1_col0\" class=\"data row1 col0\" >12.00%</td>\n",
       "      <td id=\"T_c75ef_row1_col1\" class=\"data row1 col1\" >5.09%</td>\n",
       "      <td id=\"T_c75ef_row1_col2\" class=\"data row1 col2\" >235.99%</td>\n",
       "    </tr>\n",
       "    <tr>\n",
       "      <th id=\"T_c75ef_level0_row2\" class=\"row_heading level0 row2\" >w_tan_reg</th>\n",
       "      <td id=\"T_c75ef_row2_col0\" class=\"data row2 col0\" >12.00%</td>\n",
       "      <td id=\"T_c75ef_row2_col1\" class=\"data row2 col1\" >7.45%</td>\n",
       "      <td id=\"T_c75ef_row2_col2\" class=\"data row2 col2\" >161.11%</td>\n",
       "    </tr>\n",
       "    <tr>\n",
       "      <th id=\"T_c75ef_level0_row3\" class=\"row_heading level0 row3\" >EW</th>\n",
       "      <td id=\"T_c75ef_row3_col0\" class=\"data row3 col0\" >12.00%</td>\n",
       "      <td id=\"T_c75ef_row3_col1\" class=\"data row3 col1\" >23.49%</td>\n",
       "      <td id=\"T_c75ef_row3_col2\" class=\"data row3 col2\" >51.08%</td>\n",
       "    </tr>\n",
       "    <tr>\n",
       "      <th id=\"T_c75ef_level0_row4\" class=\"row_heading level0 row4\" >RP</th>\n",
       "      <td id=\"T_c75ef_row4_col0\" class=\"data row4 col0\" >12.00%</td>\n",
       "      <td id=\"T_c75ef_row4_col1\" class=\"data row4 col1\" >15.78%</td>\n",
       "      <td id=\"T_c75ef_row4_col2\" class=\"data row4 col2\" >76.03%</td>\n",
       "    </tr>\n",
       "  </tbody>\n",
       "</table>\n"
      ],
      "text/plain": [
       "<pandas.io.formats.style.Styler at 0x25c75d2ae70>"
      ]
     },
     "metadata": {},
     "output_type": "display_data"
    },
    {
     "name": "stdout",
     "output_type": "stream",
     "text": [
      "Out of sample (2021) metrics: \n"
     ]
    },
    {
     "data": {
      "text/html": [
       "<style type=\"text/css\">\n",
       "</style>\n",
       "<table id=\"T_3d051\">\n",
       "  <thead>\n",
       "    <tr>\n",
       "      <th class=\"blank level0\" >&nbsp;</th>\n",
       "      <th id=\"T_3d051_level0_col0\" class=\"col_heading level0 col0\" >Mean</th>\n",
       "      <th id=\"T_3d051_level0_col1\" class=\"col_heading level0 col1\" >Volatility</th>\n",
       "      <th id=\"T_3d051_level0_col2\" class=\"col_heading level0 col2\" >Sharpe_Ratio</th>\n",
       "    </tr>\n",
       "  </thead>\n",
       "  <tbody>\n",
       "    <tr>\n",
       "      <th id=\"T_3d051_level0_row0\" class=\"row_heading level0 row0\" >w_tan</th>\n",
       "      <td id=\"T_3d051_row0_col0\" class=\"data row0 col0\" >10.77%</td>\n",
       "      <td id=\"T_3d051_row0_col1\" class=\"data row0 col1\" >8.74%</td>\n",
       "      <td id=\"T_3d051_row0_col2\" class=\"data row0 col2\" >123.23%</td>\n",
       "    </tr>\n",
       "    <tr>\n",
       "      <th id=\"T_3d051_level0_row1\" class=\"row_heading level0 row1\" >w_tan_wout_TIP</th>\n",
       "      <td id=\"T_3d051_row1_col0\" class=\"data row1 col0\" >8.41%</td>\n",
       "      <td id=\"T_3d051_row1_col1\" class=\"data row1 col1\" >8.49%</td>\n",
       "      <td id=\"T_3d051_row1_col2\" class=\"data row1 col2\" >99.11%</td>\n",
       "    </tr>\n",
       "    <tr>\n",
       "      <th id=\"T_3d051_level0_row2\" class=\"row_heading level0 row2\" >w_tan_reg</th>\n",
       "      <td id=\"T_3d051_row2_col0\" class=\"data row2 col0\" >6.36%</td>\n",
       "      <td id=\"T_3d051_row2_col1\" class=\"data row2 col1\" >8.22%</td>\n",
       "      <td id=\"T_3d051_row2_col2\" class=\"data row2 col2\" >77.39%</td>\n",
       "    </tr>\n",
       "    <tr>\n",
       "      <th id=\"T_3d051_level0_row3\" class=\"row_heading level0 row3\" >EW</th>\n",
       "      <td id=\"T_3d051_row3_col0\" class=\"data row3 col0\" >29.18%</td>\n",
       "      <td id=\"T_3d051_row3_col1\" class=\"data row3 col1\" >16.50%</td>\n",
       "      <td id=\"T_3d051_row3_col2\" class=\"data row3 col2\" >176.88%</td>\n",
       "    </tr>\n",
       "    <tr>\n",
       "      <th id=\"T_3d051_level0_row4\" class=\"row_heading level0 row4\" >RP</th>\n",
       "      <td id=\"T_3d051_row4_col0\" class=\"data row4 col0\" >10.19%</td>\n",
       "      <td id=\"T_3d051_row4_col1\" class=\"data row4 col1\" >11.53%</td>\n",
       "      <td id=\"T_3d051_row4_col2\" class=\"data row4 col2\" >88.39%</td>\n",
       "    </tr>\n",
       "  </tbody>\n",
       "</table>\n"
      ],
      "text/plain": [
       "<pandas.io.formats.style.Styler at 0x25c75d2b3e0>"
      ]
     },
     "metadata": {},
     "output_type": "display_data"
    },
    {
     "name": "stdout",
     "output_type": "stream",
     "text": [
      "-----------------------------\n",
      "In sample (2021) metrics: \n"
     ]
    },
    {
     "data": {
      "text/html": [
       "<style type=\"text/css\">\n",
       "</style>\n",
       "<table id=\"T_585f9\">\n",
       "  <thead>\n",
       "    <tr>\n",
       "      <th class=\"blank level0\" >&nbsp;</th>\n",
       "      <th id=\"T_585f9_level0_col0\" class=\"col_heading level0 col0\" >Mean</th>\n",
       "      <th id=\"T_585f9_level0_col1\" class=\"col_heading level0 col1\" >Volatility</th>\n",
       "      <th id=\"T_585f9_level0_col2\" class=\"col_heading level0 col2\" >Sharpe_Ratio</th>\n",
       "    </tr>\n",
       "  </thead>\n",
       "  <tbody>\n",
       "    <tr>\n",
       "      <th id=\"T_585f9_level0_row0\" class=\"row_heading level0 row0\" >w_tan</th>\n",
       "      <td id=\"T_585f9_row0_col0\" class=\"data row0 col0\" >12.00%</td>\n",
       "      <td id=\"T_585f9_row0_col1\" class=\"data row0 col1\" >5.61%</td>\n",
       "      <td id=\"T_585f9_row0_col2\" class=\"data row0 col2\" >213.99%</td>\n",
       "    </tr>\n",
       "    <tr>\n",
       "      <th id=\"T_585f9_level0_row1\" class=\"row_heading level0 row1\" >w_tan_wout_TIP</th>\n",
       "      <td id=\"T_585f9_row1_col0\" class=\"data row1 col0\" >12.00%</td>\n",
       "      <td id=\"T_585f9_row1_col1\" class=\"data row1 col1\" >5.38%</td>\n",
       "      <td id=\"T_585f9_row1_col2\" class=\"data row1 col2\" >223.00%</td>\n",
       "    </tr>\n",
       "    <tr>\n",
       "      <th id=\"T_585f9_level0_row2\" class=\"row_heading level0 row2\" >w_tan_reg</th>\n",
       "      <td id=\"T_585f9_row2_col0\" class=\"data row2 col0\" >12.00%</td>\n",
       "      <td id=\"T_585f9_row2_col1\" class=\"data row2 col1\" >7.69%</td>\n",
       "      <td id=\"T_585f9_row2_col2\" class=\"data row2 col2\" >156.12%</td>\n",
       "    </tr>\n",
       "    <tr>\n",
       "      <th id=\"T_585f9_level0_row3\" class=\"row_heading level0 row3\" >EW</th>\n",
       "      <td id=\"T_585f9_row3_col0\" class=\"data row3 col0\" >12.00%</td>\n",
       "      <td id=\"T_585f9_row3_col1\" class=\"data row3 col1\" >20.27%</td>\n",
       "      <td id=\"T_585f9_row3_col2\" class=\"data row3 col2\" >59.19%</td>\n",
       "    </tr>\n",
       "    <tr>\n",
       "      <th id=\"T_585f9_level0_row4\" class=\"row_heading level0 row4\" >RP</th>\n",
       "      <td id=\"T_585f9_row4_col0\" class=\"data row4 col0\" >12.00%</td>\n",
       "      <td id=\"T_585f9_row4_col1\" class=\"data row4 col1\" >15.66%</td>\n",
       "      <td id=\"T_585f9_row4_col2\" class=\"data row4 col2\" >76.64%</td>\n",
       "    </tr>\n",
       "  </tbody>\n",
       "</table>\n"
      ],
      "text/plain": [
       "<pandas.io.formats.style.Styler at 0x25c75d29d00>"
      ]
     },
     "metadata": {},
     "output_type": "display_data"
    },
    {
     "name": "stdout",
     "output_type": "stream",
     "text": [
      "Out of sample (2022) metrics: \n"
     ]
    },
    {
     "data": {
      "text/html": [
       "<style type=\"text/css\">\n",
       "</style>\n",
       "<table id=\"T_92de7\">\n",
       "  <thead>\n",
       "    <tr>\n",
       "      <th class=\"blank level0\" >&nbsp;</th>\n",
       "      <th id=\"T_92de7_level0_col0\" class=\"col_heading level0 col0\" >Mean</th>\n",
       "      <th id=\"T_92de7_level0_col1\" class=\"col_heading level0 col1\" >Volatility</th>\n",
       "      <th id=\"T_92de7_level0_col2\" class=\"col_heading level0 col2\" >Sharpe_Ratio</th>\n",
       "    </tr>\n",
       "  </thead>\n",
       "  <tbody>\n",
       "    <tr>\n",
       "      <th id=\"T_92de7_level0_row0\" class=\"row_heading level0 row0\" >w_tan</th>\n",
       "      <td id=\"T_92de7_row0_col0\" class=\"data row0 col0\" >-13.81%</td>\n",
       "      <td id=\"T_92de7_row0_col1\" class=\"data row0 col1\" >15.49%</td>\n",
       "      <td id=\"T_92de7_row0_col2\" class=\"data row0 col2\" >-89.18%</td>\n",
       "    </tr>\n",
       "    <tr>\n",
       "      <th id=\"T_92de7_level0_row1\" class=\"row_heading level0 row1\" >w_tan_wout_TIP</th>\n",
       "      <td id=\"T_92de7_row1_col0\" class=\"data row1 col0\" >-15.29%</td>\n",
       "      <td id=\"T_92de7_row1_col1\" class=\"data row1 col1\" >14.72%</td>\n",
       "      <td id=\"T_92de7_row1_col2\" class=\"data row1 col2\" >-103.84%</td>\n",
       "    </tr>\n",
       "    <tr>\n",
       "      <th id=\"T_92de7_level0_row2\" class=\"row_heading level0 row2\" >w_tan_reg</th>\n",
       "      <td id=\"T_92de7_row2_col0\" class=\"data row2 col0\" >-26.72%</td>\n",
       "      <td id=\"T_92de7_row2_col1\" class=\"data row2 col1\" >19.91%</td>\n",
       "      <td id=\"T_92de7_row2_col2\" class=\"data row2 col2\" >-134.18%</td>\n",
       "    </tr>\n",
       "    <tr>\n",
       "      <th id=\"T_92de7_level0_row3\" class=\"row_heading level0 row3\" >EW</th>\n",
       "      <td id=\"T_92de7_row3_col0\" class=\"data row3 col0\" >-36.46%</td>\n",
       "      <td id=\"T_92de7_row3_col1\" class=\"data row3 col1\" >34.23%</td>\n",
       "      <td id=\"T_92de7_row3_col2\" class=\"data row3 col2\" >-106.51%</td>\n",
       "    </tr>\n",
       "    <tr>\n",
       "      <th id=\"T_92de7_level0_row4\" class=\"row_heading level0 row4\" >RP</th>\n",
       "      <td id=\"T_92de7_row4_col0\" class=\"data row4 col0\" >-50.47%</td>\n",
       "      <td id=\"T_92de7_row4_col1\" class=\"data row4 col1\" >36.75%</td>\n",
       "      <td id=\"T_92de7_row4_col2\" class=\"data row4 col2\" >-137.35%</td>\n",
       "    </tr>\n",
       "  </tbody>\n",
       "</table>\n"
      ],
      "text/plain": [
       "<pandas.io.formats.style.Styler at 0x25c75d2a150>"
      ]
     },
     "metadata": {},
     "output_type": "display_data"
    },
    {
     "name": "stdout",
     "output_type": "stream",
     "text": [
      "-----------------------------\n",
      "In sample (2022) metrics: \n"
     ]
    },
    {
     "data": {
      "text/html": [
       "<style type=\"text/css\">\n",
       "</style>\n",
       "<table id=\"T_dfba8\">\n",
       "  <thead>\n",
       "    <tr>\n",
       "      <th class=\"blank level0\" >&nbsp;</th>\n",
       "      <th id=\"T_dfba8_level0_col0\" class=\"col_heading level0 col0\" >Mean</th>\n",
       "      <th id=\"T_dfba8_level0_col1\" class=\"col_heading level0 col1\" >Volatility</th>\n",
       "      <th id=\"T_dfba8_level0_col2\" class=\"col_heading level0 col2\" >Sharpe_Ratio</th>\n",
       "    </tr>\n",
       "  </thead>\n",
       "  <tbody>\n",
       "    <tr>\n",
       "      <th id=\"T_dfba8_level0_row0\" class=\"row_heading level0 row0\" >w_tan</th>\n",
       "      <td id=\"T_dfba8_row0_col0\" class=\"data row0 col0\" >12.00%</td>\n",
       "      <td id=\"T_dfba8_row0_col1\" class=\"data row0 col1\" >7.66%</td>\n",
       "      <td id=\"T_dfba8_row0_col2\" class=\"data row0 col2\" >156.68%</td>\n",
       "    </tr>\n",
       "    <tr>\n",
       "      <th id=\"T_dfba8_level0_row1\" class=\"row_heading level0 row1\" >w_tan_wout_TIP</th>\n",
       "      <td id=\"T_dfba8_row1_col0\" class=\"data row1 col0\" >12.00%</td>\n",
       "      <td id=\"T_dfba8_row1_col1\" class=\"data row1 col1\" >7.21%</td>\n",
       "      <td id=\"T_dfba8_row1_col2\" class=\"data row1 col2\" >166.34%</td>\n",
       "    </tr>\n",
       "    <tr>\n",
       "      <th id=\"T_dfba8_level0_row2\" class=\"row_heading level0 row2\" >w_tan_reg</th>\n",
       "      <td id=\"T_dfba8_row2_col0\" class=\"data row2 col0\" >12.00%</td>\n",
       "      <td id=\"T_dfba8_row2_col1\" class=\"data row2 col1\" >10.48%</td>\n",
       "      <td id=\"T_dfba8_row2_col2\" class=\"data row2 col2\" >114.47%</td>\n",
       "    </tr>\n",
       "    <tr>\n",
       "      <th id=\"T_dfba8_level0_row3\" class=\"row_heading level0 row3\" >EW</th>\n",
       "      <td id=\"T_dfba8_row3_col0\" class=\"data row3 col0\" >12.00%</td>\n",
       "      <td id=\"T_dfba8_row3_col1\" class=\"data row3 col1\" >33.22%</td>\n",
       "      <td id=\"T_dfba8_row3_col2\" class=\"data row3 col2\" >36.13%</td>\n",
       "    </tr>\n",
       "    <tr>\n",
       "      <th id=\"T_dfba8_level0_row4\" class=\"row_heading level0 row4\" >RP</th>\n",
       "      <td id=\"T_dfba8_row4_col0\" class=\"data row4 col0\" >12.00%</td>\n",
       "      <td id=\"T_dfba8_row4_col1\" class=\"data row4 col1\" >33.07%</td>\n",
       "      <td id=\"T_dfba8_row4_col2\" class=\"data row4 col2\" >36.29%</td>\n",
       "    </tr>\n",
       "  </tbody>\n",
       "</table>\n"
      ],
      "text/plain": [
       "<pandas.io.formats.style.Styler at 0x25c75cac170>"
      ]
     },
     "metadata": {},
     "output_type": "display_data"
    },
    {
     "name": "stdout",
     "output_type": "stream",
     "text": [
      "Out of sample (2023) metrics: \n"
     ]
    },
    {
     "data": {
      "text/html": [
       "<style type=\"text/css\">\n",
       "</style>\n",
       "<table id=\"T_ffbe1\">\n",
       "  <thead>\n",
       "    <tr>\n",
       "      <th class=\"blank level0\" >&nbsp;</th>\n",
       "      <th id=\"T_ffbe1_level0_col0\" class=\"col_heading level0 col0\" >Mean</th>\n",
       "      <th id=\"T_ffbe1_level0_col1\" class=\"col_heading level0 col1\" >Volatility</th>\n",
       "      <th id=\"T_ffbe1_level0_col2\" class=\"col_heading level0 col2\" >Sharpe_Ratio</th>\n",
       "    </tr>\n",
       "  </thead>\n",
       "  <tbody>\n",
       "    <tr>\n",
       "      <th id=\"T_ffbe1_level0_row0\" class=\"row_heading level0 row0\" >w_tan</th>\n",
       "      <td id=\"T_ffbe1_row0_col0\" class=\"data row0 col0\" >2.36%</td>\n",
       "      <td id=\"T_ffbe1_row0_col1\" class=\"data row0 col1\" >10.47%</td>\n",
       "      <td id=\"T_ffbe1_row0_col2\" class=\"data row0 col2\" >22.52%</td>\n",
       "    </tr>\n",
       "    <tr>\n",
       "      <th id=\"T_ffbe1_level0_row1\" class=\"row_heading level0 row1\" >w_tan_wout_TIP</th>\n",
       "      <td id=\"T_ffbe1_row1_col0\" class=\"data row1 col0\" >4.66%</td>\n",
       "      <td id=\"T_ffbe1_row1_col1\" class=\"data row1 col1\" >10.08%</td>\n",
       "      <td id=\"T_ffbe1_row1_col2\" class=\"data row1 col2\" >46.24%</td>\n",
       "    </tr>\n",
       "    <tr>\n",
       "      <th id=\"T_ffbe1_level0_row2\" class=\"row_heading level0 row2\" >w_tan_reg</th>\n",
       "      <td id=\"T_ffbe1_row2_col0\" class=\"data row2 col0\" >13.37%</td>\n",
       "      <td id=\"T_ffbe1_row2_col1\" class=\"data row2 col1\" >10.96%</td>\n",
       "      <td id=\"T_ffbe1_row2_col2\" class=\"data row2 col2\" >121.99%</td>\n",
       "    </tr>\n",
       "    <tr>\n",
       "      <th id=\"T_ffbe1_level0_row3\" class=\"row_heading level0 row3\" >EW</th>\n",
       "      <td id=\"T_ffbe1_row3_col0\" class=\"data row3 col0\" >23.92%</td>\n",
       "      <td id=\"T_ffbe1_row3_col1\" class=\"data row3 col1\" >42.09%</td>\n",
       "      <td id=\"T_ffbe1_row3_col2\" class=\"data row3 col2\" >56.84%</td>\n",
       "    </tr>\n",
       "    <tr>\n",
       "      <th id=\"T_ffbe1_level0_row4\" class=\"row_heading level0 row4\" >RP</th>\n",
       "      <td id=\"T_ffbe1_row4_col0\" class=\"data row4 col0\" >18.15%</td>\n",
       "      <td id=\"T_ffbe1_row4_col1\" class=\"data row4 col1\" >49.94%</td>\n",
       "      <td id=\"T_ffbe1_row4_col2\" class=\"data row4 col2\" >36.35%</td>\n",
       "    </tr>\n",
       "  </tbody>\n",
       "</table>\n"
      ],
      "text/plain": [
       "<pandas.io.formats.style.Styler at 0x25c75cad6d0>"
      ]
     },
     "metadata": {},
     "output_type": "display_data"
    },
    {
     "name": "stdout",
     "output_type": "stream",
     "text": [
      "-----------------------------\n"
     ]
    }
   ],
   "source": [
    "for i in range(1,len(years)):\n",
    "    rolling_weights(data_Excess_Return,years[i-1],years[i],mu_target = 0.01)"
   ]
  },
  {
   "cell_type": "markdown",
   "id": "99dc96f3",
   "metadata": {},
   "source": [
    "***"
   ]
  },
  {
   "cell_type": "markdown",
   "id": "665b0cf7",
   "metadata": {},
   "source": [
    "# 5. Without a Riskless Asset\n",
    "\n",
    "<i>This section is not graded, and you do not need to submit it. Still, we may discuss it in class, in which case, you would be expected to know it."
   ]
  },
  {
   "cell_type": "markdown",
   "id": "b8b1ff49",
   "metadata": {},
   "source": [
    "Re-do Section 2 above, but in the model without a risk-free rate.\n",
    "\n",
    "That is, build the MV allocation using the two-part formula in the `Mean-Variance` section of the notes.\n",
    "* This essentially substitutes the risk-free rate with the minimum-variance portfolio.\n",
    "* Now, the allocation depends nonlinearly on the target mean return, $\\mutarg$. (With a risk-free rate, we simply scale the weights up and down to achieve the mean return.)\n",
    "\n",
    "You will find that, conceptually, the answers are very similar. "
   ]
  },
  {
   "cell_type": "markdown",
   "id": "e7d5734f",
   "metadata": {},
   "source": [
    "***"
   ]
  }
 ],
 "metadata": {
  "hide_input": false,
  "kernelspec": {
   "display_name": "base",
   "language": "python",
   "name": "python3"
  },
  "language_info": {
   "codemirror_mode": {
    "name": "ipython",
    "version": 3
   },
   "file_extension": ".py",
   "mimetype": "text/x-python",
   "name": "python",
   "nbconvert_exporter": "python",
   "pygments_lexer": "ipython3",
   "version": "3.12.4"
  }
 },
 "nbformat": 4,
 "nbformat_minor": 5
}

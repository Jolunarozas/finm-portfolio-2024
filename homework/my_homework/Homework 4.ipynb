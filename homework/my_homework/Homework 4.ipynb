{
 "cells": [
  {
   "cell_type": "markdown",
   "id": "a97c4251",
   "metadata": {},
   "source": [
    "# Homework 4\n",
    "\n",
    "## FINM 36700 - 2024\n",
    "\n",
    "### UChicago Financial Mathematics\n",
    "\n",
    "\n",
    "## DFA Case\n",
    "\n"
   ]
  },
  {
   "cell_type": "markdown",
   "id": "144f39b4",
   "metadata": {},
   "source": [
    "### Notation\n",
    "(Hidden LaTeX commands)\n",
    "\n",
    "\n",
    "\n",
    "\n",
    "\n",
    "\n",
    "\n",
    "$$\\newcommand{\\mux}{\\tilde{\\boldsymbol{\\mu}}}$$\n",
    "$$\\newcommand{\\wtan}{\\boldsymbol{\\text{w}}^{\\text{tan}}}$$\n",
    "$$\\newcommand{\\wtarg}{\\boldsymbol{\\text{w}}^{\\text{port}}}$$\n",
    "$$\\newcommand{\\mutarg}{\\tilde{\\boldsymbol{\\mu}}^{\\text{port}}}$$\n",
    "$$\\newcommand{\\wEW}{\\boldsymbol{\\text{w}}^{\\text{EW}}}$$\n",
    "$$\\newcommand{\\wRP}{\\boldsymbol{\\text{w}}^{\\text{RP}}}$$\n",
    "$$\\newcommand{\\wREG}{\\boldsymbol{\\text{w}}^{\\text{REG}}}$$"
   ]
  },
  {
   "cell_type": "markdown",
   "id": "ab715eed",
   "metadata": {},
   "source": [
    "### Dimensional Fund Advisors, 2002 [HBS 9-203-026].\n",
    "Pages 1-5 of the case are required. Pages 6-11 get into interesting issues around trading (especially adverse selection) and tax considerations. These sections are useful for building market knowledge, but we will not cover them.\n"
   ]
  },
  {
   "cell_type": "markdown",
   "id": "af131448",
   "metadata": {},
   "source": [
    "## 1. DFA's Strategy\n",
    "\n",
    "<i> This section is not graded, and you do not need to submit your answers. But you are expected to consider these issues and be ready to discuss them.</i>"
   ]
  },
  {
   "cell_type": "markdown",
   "id": "33625ef5",
   "metadata": {},
   "source": [
    "### 1. Investment Philosophy\n",
    "a. In 100 words or less, describe DFA's belief about how to find premium in the market.\n",
    "\n",
    "b. To what degree does their strategy rely on individual equity analysis? Macroeconomic fundamentals? Efficient markets?\n",
    "\n",
    "c. Are DFA's funds active or passive?\n",
    "\n",
    "d. What do DFA and others mean by a \"value\" stock? And a \"growth\" stock?\n",
    "\n"
   ]
  },
  {
   "cell_type": "markdown",
   "id": "c06372be",
   "metadata": {},
   "source": [
    "### 2. Challenges for DFA's view.\n",
    "a) What challenge did DFA's model see in the 1980's?\n",
    "\n",
    "\n",
    "b) And in the 1990's?\n"
   ]
  },
  {
   "cell_type": "markdown",
   "id": "6bb8603c",
   "metadata": {},
   "source": [
    "### 3. The market.\n",
    "\n",
    "a) Exhibit 3 has data regarding a universe of 5,020 firms. How many are considered \"large cap\"? What percent of the market value do they account for?\n",
    "\n",
    "\n",
    "b) Exhibit 6 shows that the U.S. value factor (HML) has underperformed the broader U.S. equity market in 1926-2001, including every subsample except 1963-1981. So why should an investor be interested in this value factor?\n"
   ]
  },
  {
   "cell_type": "markdown",
   "id": "abcffdcd",
   "metadata": {},
   "source": [
    "## 2. The Factors\n",
    "DFA believes certain stocks have higher expected excess returns. In addition to the overall market equity premium, DFA believes that there is a premium attached to a \"size\" and \"value\" factor. Note that these three factors are already listed as excess returns. \n",
    "Use the data found in <file>`dfa analysis data.xlsx`</file>."
   ]
  },
  {
   "cell_type": "markdown",
   "id": "0555bdbc",
   "metadata": {},
   "source": [
    "- FACTORS: Monthly excess return data for the overall equity market, $\\tilde{r}^{m}$. The sheet also contains data on two additional factors, SMB and HML, as well as the risk-free rate. You do not need any of these columns for the homework. Just use the MKT column, which is excess market returns. (So no need to subtract the risk-free rate.)"
   ]
  },
  {
   "cell_type": "code",
   "execution_count": 26,
   "id": "bb2135f4",
   "metadata": {},
   "outputs": [],
   "source": [
    "import pandas as pd\n",
    "import my_functions as mf\n",
    "import seaborn as sns\n",
    "\n",
    "file = \"../../data/dfa_analysis_data.xlsx\"\n",
    "\n",
    "factors = pd.read_excel(file, sheet_name=\"factors\",index_col = \"Date\")"
   ]
  },
  {
   "cell_type": "code",
   "execution_count": 27,
   "id": "7f833e21",
   "metadata": {},
   "outputs": [],
   "source": [
    "factors = factors[factors.index <= \"2023-07-31\"]\n",
    "factors = factors.drop([\"RF\"], axis=1)"
   ]
  },
  {
   "cell_type": "markdown",
   "id": "b7d6854f",
   "metadata": {},
   "source": [
    "### 1. Calculate their univariate performance statistics:\n",
    "- Mean\n",
    "- Volatility\n",
    "- Sharpe\n",
    "- VaR(.05)"
   ]
  },
  {
   "cell_type": "code",
   "execution_count": 28,
   "id": "aa84530e",
   "metadata": {},
   "outputs": [
    {
     "data": {
      "text/html": [
       "<style type=\"text/css\">\n",
       "</style>\n",
       "<table id=\"T_84384\">\n",
       "  <thead>\n",
       "    <tr>\n",
       "      <th class=\"blank level0\" >&nbsp;</th>\n",
       "      <th id=\"T_84384_level0_col0\" class=\"col_heading level0 col0\" >Mean</th>\n",
       "      <th id=\"T_84384_level0_col1\" class=\"col_heading level0 col1\" >Volatility</th>\n",
       "      <th id=\"T_84384_level0_col2\" class=\"col_heading level0 col2\" >Sharpe_Ratio</th>\n",
       "      <th id=\"T_84384_level0_col3\" class=\"col_heading level0 col3\" >VaR</th>\n",
       "    </tr>\n",
       "  </thead>\n",
       "  <tbody>\n",
       "    <tr>\n",
       "      <th id=\"T_84384_level0_row0\" class=\"row_heading level0 row0\" >Mkt-RF</th>\n",
       "      <td id=\"T_84384_row0_col0\" class=\"data row0 col0\" >8.14%</td>\n",
       "      <td id=\"T_84384_row0_col1\" class=\"data row0 col1\" >18.51%</td>\n",
       "      <td id=\"T_84384_row0_col2\" class=\"data row0 col2\" >43.98%</td>\n",
       "      <td id=\"T_84384_row0_col3\" class=\"data row0 col3\" >-8.02%</td>\n",
       "    </tr>\n",
       "    <tr>\n",
       "      <th id=\"T_84384_level0_row1\" class=\"row_heading level0 row1\" >SMB</th>\n",
       "      <td id=\"T_84384_row1_col0\" class=\"data row1 col0\" >2.27%</td>\n",
       "      <td id=\"T_84384_row1_col1\" class=\"data row1 col1\" >10.98%</td>\n",
       "      <td id=\"T_84384_row1_col2\" class=\"data row1 col2\" >20.71%</td>\n",
       "      <td id=\"T_84384_row1_col3\" class=\"data row1 col3\" >-4.21%</td>\n",
       "    </tr>\n",
       "    <tr>\n",
       "      <th id=\"T_84384_level0_row2\" class=\"row_heading level0 row2\" >HML</th>\n",
       "      <td id=\"T_84384_row2_col0\" class=\"data row2 col0\" >4.12%</td>\n",
       "      <td id=\"T_84384_row2_col1\" class=\"data row2 col1\" >12.38%</td>\n",
       "      <td id=\"T_84384_row2_col2\" class=\"data row2 col2\" >33.31%</td>\n",
       "      <td id=\"T_84384_row2_col3\" class=\"data row2 col3\" >-4.21%</td>\n",
       "    </tr>\n",
       "  </tbody>\n",
       "</table>\n"
      ],
      "text/plain": [
       "<pandas.io.formats.style.Styler at 0x2515d4af620>"
      ]
     },
     "execution_count": 28,
     "metadata": {},
     "output_type": "execute_result"
    }
   ],
   "source": [
    "mf.get_metrics_all(factors, adj_factor=12)[[\"Mean\",\"Volatility\",\"Sharpe_Ratio\",\"VaR\"]].style.format('{:.2%}')"
   ]
  },
  {
   "cell_type": "markdown",
   "id": "81f356ea",
   "metadata": {},
   "source": [
    "### Report these for the following three subsamples:\n",
    "- Beginning - 1980\n",
    "- 1981 - 2001\n",
    "- 2002 - End"
   ]
  },
  {
   "cell_type": "code",
   "execution_count": 29,
   "id": "089afb00",
   "metadata": {},
   "outputs": [],
   "source": [
    "period1 = \"1980-12-31\"\n",
    "period2 = \"2001-12-31\""
   ]
  },
  {
   "cell_type": "code",
   "execution_count": 30,
   "id": "e30443cb",
   "metadata": {},
   "outputs": [
    {
     "name": "stdout",
     "output_type": "stream",
     "text": [
      "\n",
      "Period 1: Beginnning-1980\n"
     ]
    },
    {
     "data": {
      "text/html": [
       "<style type=\"text/css\">\n",
       "</style>\n",
       "<table id=\"T_c3cad\">\n",
       "  <thead>\n",
       "    <tr>\n",
       "      <th class=\"blank level0\" >&nbsp;</th>\n",
       "      <th id=\"T_c3cad_level0_col0\" class=\"col_heading level0 col0\" >Mean</th>\n",
       "      <th id=\"T_c3cad_level0_col1\" class=\"col_heading level0 col1\" >Volatility</th>\n",
       "      <th id=\"T_c3cad_level0_col2\" class=\"col_heading level0 col2\" >Sharpe_Ratio</th>\n",
       "      <th id=\"T_c3cad_level0_col3\" class=\"col_heading level0 col3\" >VaR</th>\n",
       "    </tr>\n",
       "  </thead>\n",
       "  <tbody>\n",
       "    <tr>\n",
       "      <th id=\"T_c3cad_level0_row0\" class=\"row_heading level0 row0\" >Mkt-RF</th>\n",
       "      <td id=\"T_c3cad_row0_col0\" class=\"data row0 col0\" >8.11%</td>\n",
       "      <td id=\"T_c3cad_row0_col1\" class=\"data row0 col1\" >20.51%</td>\n",
       "      <td id=\"T_c3cad_row0_col2\" class=\"data row0 col2\" >39.57%</td>\n",
       "      <td id=\"T_c3cad_row0_col3\" class=\"data row0 col3\" >-8.40%</td>\n",
       "    </tr>\n",
       "    <tr>\n",
       "      <th id=\"T_c3cad_level0_row1\" class=\"row_heading level0 row1\" >SMB</th>\n",
       "      <td id=\"T_c3cad_row1_col0\" class=\"data row1 col0\" >3.40%</td>\n",
       "      <td id=\"T_c3cad_row1_col1\" class=\"data row1 col1\" >11.46%</td>\n",
       "      <td id=\"T_c3cad_row1_col2\" class=\"data row1 col2\" >29.66%</td>\n",
       "      <td id=\"T_c3cad_row1_col3\" class=\"data row1 col3\" >-4.34%</td>\n",
       "    </tr>\n",
       "    <tr>\n",
       "      <th id=\"T_c3cad_level0_row2\" class=\"row_heading level0 row2\" >HML</th>\n",
       "      <td id=\"T_c3cad_row2_col0\" class=\"data row2 col0\" >4.95%</td>\n",
       "      <td id=\"T_c3cad_row2_col1\" class=\"data row2 col1\" >13.38%</td>\n",
       "      <td id=\"T_c3cad_row2_col2\" class=\"data row2 col2\" >36.97%</td>\n",
       "      <td id=\"T_c3cad_row2_col3\" class=\"data row2 col3\" >-4.29%</td>\n",
       "    </tr>\n",
       "  </tbody>\n",
       "</table>\n"
      ],
      "text/plain": [
       "<pandas.io.formats.style.Styler at 0x2515d66eb10>"
      ]
     },
     "execution_count": 30,
     "metadata": {},
     "output_type": "execute_result"
    }
   ],
   "source": [
    "print(\"\\nPeriod 1: Beginnning-1980\")\n",
    "factors_period1 = factors[factors.index <= period1]\n",
    "mf.get_metrics_all(factors_period1, adj_factor=12)[[\"Mean\",\"Volatility\",\"Sharpe_Ratio\",\"VaR\"]].style.format('{:.2%}')"
   ]
  },
  {
   "cell_type": "code",
   "execution_count": 31,
   "id": "0578efcb",
   "metadata": {},
   "outputs": [
    {
     "name": "stdout",
     "output_type": "stream",
     "text": [
      "\n",
      "Period 2: 1981-2001\n"
     ]
    },
    {
     "data": {
      "text/html": [
       "<style type=\"text/css\">\n",
       "</style>\n",
       "<table id=\"T_93e6b\">\n",
       "  <thead>\n",
       "    <tr>\n",
       "      <th class=\"blank level0\" >&nbsp;</th>\n",
       "      <th id=\"T_93e6b_level0_col0\" class=\"col_heading level0 col0\" >Mean</th>\n",
       "      <th id=\"T_93e6b_level0_col1\" class=\"col_heading level0 col1\" >Volatility</th>\n",
       "      <th id=\"T_93e6b_level0_col2\" class=\"col_heading level0 col2\" >Sharpe_Ratio</th>\n",
       "      <th id=\"T_93e6b_level0_col3\" class=\"col_heading level0 col3\" >VaR</th>\n",
       "    </tr>\n",
       "  </thead>\n",
       "  <tbody>\n",
       "    <tr>\n",
       "      <th id=\"T_93e6b_level0_row0\" class=\"row_heading level0 row0\" >Mkt-RF</th>\n",
       "      <td id=\"T_93e6b_row0_col0\" class=\"data row0 col0\" >7.73%</td>\n",
       "      <td id=\"T_93e6b_row0_col1\" class=\"data row0 col1\" >15.74%</td>\n",
       "      <td id=\"T_93e6b_row0_col2\" class=\"data row0 col2\" >49.08%</td>\n",
       "      <td id=\"T_93e6b_row0_col3\" class=\"data row0 col3\" >-6.45%</td>\n",
       "    </tr>\n",
       "    <tr>\n",
       "      <th id=\"T_93e6b_level0_row1\" class=\"row_heading level0 row1\" >SMB</th>\n",
       "      <td id=\"T_93e6b_row1_col0\" class=\"data row1 col0\" >-0.09%</td>\n",
       "      <td id=\"T_93e6b_row1_col1\" class=\"data row1 col1\" >11.83%</td>\n",
       "      <td id=\"T_93e6b_row1_col2\" class=\"data row1 col2\" >-0.73%</td>\n",
       "      <td id=\"T_93e6b_row1_col3\" class=\"data row1 col3\" >-4.65%</td>\n",
       "    </tr>\n",
       "    <tr>\n",
       "      <th id=\"T_93e6b_level0_row2\" class=\"row_heading level0 row2\" >HML</th>\n",
       "      <td id=\"T_93e6b_row2_col0\" class=\"data row2 col0\" >6.38%</td>\n",
       "      <td id=\"T_93e6b_row2_col1\" class=\"data row2 col1\" >11.12%</td>\n",
       "      <td id=\"T_93e6b_row2_col2\" class=\"data row2 col2\" >57.36%</td>\n",
       "      <td id=\"T_93e6b_row2_col3\" class=\"data row2 col3\" >-4.18%</td>\n",
       "    </tr>\n",
       "  </tbody>\n",
       "</table>\n"
      ],
      "text/plain": [
       "<pandas.io.formats.style.Styler at 0x2515b503e00>"
      ]
     },
     "execution_count": 31,
     "metadata": {},
     "output_type": "execute_result"
    }
   ],
   "source": [
    "print(\"\\nPeriod 2: 1981-2001\")\n",
    "factors_period2 = factors[(factors.index > period1) & (factors.index <= period2)]\n",
    "mf.get_metrics_all(factors_period2, adj_factor=12)[[\"Mean\",\"Volatility\",\"Sharpe_Ratio\",\"VaR\"]].style.format('{:.2%}')"
   ]
  },
  {
   "cell_type": "code",
   "execution_count": 32,
   "id": "c1db1f3b",
   "metadata": {},
   "outputs": [
    {
     "name": "stdout",
     "output_type": "stream",
     "text": [
      "\n",
      "Period 3: 2002-End\n"
     ]
    },
    {
     "data": {
      "text/html": [
       "<style type=\"text/css\">\n",
       "</style>\n",
       "<table id=\"T_20049\">\n",
       "  <thead>\n",
       "    <tr>\n",
       "      <th class=\"blank level0\" >&nbsp;</th>\n",
       "      <th id=\"T_20049_level0_col0\" class=\"col_heading level0 col0\" >Mean</th>\n",
       "      <th id=\"T_20049_level0_col1\" class=\"col_heading level0 col1\" >Volatility</th>\n",
       "      <th id=\"T_20049_level0_col2\" class=\"col_heading level0 col2\" >Sharpe_Ratio</th>\n",
       "      <th id=\"T_20049_level0_col3\" class=\"col_heading level0 col3\" >VaR</th>\n",
       "    </tr>\n",
       "  </thead>\n",
       "  <tbody>\n",
       "    <tr>\n",
       "      <th id=\"T_20049_level0_row0\" class=\"row_heading level0 row0\" >Mkt-RF</th>\n",
       "      <td id=\"T_20049_row0_col0\" class=\"data row0 col0\" >8.62%</td>\n",
       "      <td id=\"T_20049_row0_col1\" class=\"data row0 col1\" >15.53%</td>\n",
       "      <td id=\"T_20049_row0_col2\" class=\"data row0 col2\" >55.50%</td>\n",
       "      <td id=\"T_20049_row0_col3\" class=\"data row0 col3\" >-7.91%</td>\n",
       "    </tr>\n",
       "    <tr>\n",
       "      <th id=\"T_20049_level0_row1\" class=\"row_heading level0 row1\" >SMB</th>\n",
       "      <td id=\"T_20049_row1_col0\" class=\"data row1 col0\" >1.73%</td>\n",
       "      <td id=\"T_20049_row1_col1\" class=\"data row1 col1\" >8.64%</td>\n",
       "      <td id=\"T_20049_row1_col2\" class=\"data row1 col2\" >20.03%</td>\n",
       "      <td id=\"T_20049_row1_col3\" class=\"data row1 col3\" >-3.83%</td>\n",
       "    </tr>\n",
       "    <tr>\n",
       "      <th id=\"T_20049_level0_row2\" class=\"row_heading level0 row2\" >HML</th>\n",
       "      <td id=\"T_20049_row2_col0\" class=\"data row2 col0\" >-0.15%</td>\n",
       "      <td id=\"T_20049_row2_col1\" class=\"data row2 col1\" >10.76%</td>\n",
       "      <td id=\"T_20049_row2_col2\" class=\"data row2 col2\" >-1.40%</td>\n",
       "      <td id=\"T_20049_row2_col3\" class=\"data row2 col3\" >-4.14%</td>\n",
       "    </tr>\n",
       "  </tbody>\n",
       "</table>\n"
      ],
      "text/plain": [
       "<pandas.io.formats.style.Styler at 0x25135481610>"
      ]
     },
     "execution_count": 32,
     "metadata": {},
     "output_type": "execute_result"
    }
   ],
   "source": [
    "print(\"\\nPeriod 3: 2002-End\")\n",
    "factor_period3 = factors[(factors.index > period2)]\n",
    "mf.get_metrics_all(factor_period3, adj_factor=12)[[\"Mean\",\"Volatility\",\"Sharpe_Ratio\",\"VaR\"]].style.format('{:.2%}')"
   ]
  },
  {
   "cell_type": "markdown",
   "id": "6c87535b",
   "metadata": {},
   "source": [
    "### 2. Based on the factor statistics above, answer the following."
   ]
  },
  {
   "cell_type": "markdown",
   "id": "490dd62f",
   "metadata": {},
   "source": [
    "a) Does each factor have a premium (positive expected excess return) in each subsample?\n"
   ]
  },
  {
   "cell_type": "markdown",
   "id": "ac9cbb85",
   "metadata": {},
   "source": [
    "*Answer*: The only exception is the Small-minus-Big (`SMB`) Size Factor, which showed a marginal negative return of -0.09% between 1981 and 2001. Consequently, this resulted in a negative Sharpe Ratio of -0.73% for that period. "
   ]
  },
  {
   "cell_type": "markdown",
   "id": "18c6f97e",
   "metadata": {},
   "source": [
    "b) Does the premium to the size factor get smaller after 1980?\n"
   ]
  },
  {
   "cell_type": "markdown",
   "id": "bf54e969",
   "metadata": {},
   "source": [
    "*Answer*: Yes, after 1980, the `SMB` factor has never shown performance as strong as in the past, both in terms of premium (return) and return adjusted for risk (Sharpe Ratio). However, its worst performance occurred between the years 1981 and 2001."
   ]
  },
  {
   "cell_type": "markdown",
   "id": "5fe29729",
   "metadata": {},
   "source": [
    "c) Does the premium to the value factor get smaller during the 1990's?\n"
   ]
  },
  {
   "cell_type": "markdown",
   "id": "11f49d3f",
   "metadata": {},
   "source": [
    "*Answer:* No, during the 90s, the value factor (High-minus-Low `HML` or Value Factor) showed a return of 6.38% compared to 4.95% in the early years. However, its returns have decreased in the most recent year of the sample."
   ]
  },
  {
   "cell_type": "markdown",
   "id": "de0bf616",
   "metadata": {},
   "source": [
    "d) How have the factors performed since the time of the case, (2002-present)?\n",
    "\n"
   ]
  },
  {
   "cell_type": "markdown",
   "id": "54bf0ec2",
   "metadata": {},
   "source": [
    "*Answer:* In comparison with the market performance and their own past performance, the factors `SMB` and `HML` have presented poor performance since the time of the case, only achieving an excess return of 1.10% and 0.05%, respectively."
   ]
  },
  {
   "cell_type": "markdown",
   "id": "677f3fa6",
   "metadata": {},
   "source": [
    "### 3. The factors are constructed in such a way as to reduce correlation between them. \n",
    "\n",
    "Report the correlation matrix across the three factors. Does the construction method succeed in keeping correlations small? "
   ]
  },
  {
   "cell_type": "markdown",
   "id": "f05cc153",
   "metadata": {},
   "source": [
    "Does it achieve this in each subsample?"
   ]
  },
  {
   "cell_type": "code",
   "execution_count": 33,
   "id": "930c830c",
   "metadata": {},
   "outputs": [
    {
     "data": {
      "text/plain": [
       "<Axes: >"
      ]
     },
     "execution_count": 33,
     "metadata": {},
     "output_type": "execute_result"
    },
    {
     "data": {
      "image/png": "[encoded data removed]",
      "text/plain": [
       "<Figure size 640x480 with 2 Axes>"
      ]
     },
     "metadata": {},
     "output_type": "display_data"
    }
   ],
   "source": [
    "corr_matrix_all = factors.corr()\n",
    "sns.heatmap(corr_matrix_all,annot=True, fmt=\".02f\")"
   ]
  },
  {
   "cell_type": "code",
   "execution_count": 34,
   "id": "10c98183",
   "metadata": {},
   "outputs": [
    {
     "data": {
      "text/plain": [
       "<Axes: >"
      ]
     },
     "execution_count": 34,
     "metadata": {},
     "output_type": "execute_result"
    },
    {
     "data": {
      "image/png": "[encoded data removed]",
      "text/plain": [
       "<Figure size 640x480 with 2 Axes>"
      ]
     },
     "metadata": {},
     "output_type": "display_data"
    }
   ],
   "source": [
    "corr_matrix_period1 = factors_period1.corr()\n",
    "sns.heatmap(corr_matrix_period1,annot=True, fmt=\".02f\")"
   ]
  },
  {
   "cell_type": "code",
   "execution_count": 35,
   "id": "ad1e0c82",
   "metadata": {},
   "outputs": [
    {
     "data": {
      "text/plain": [
       "<Axes: >"
      ]
     },
     "execution_count": 35,
     "metadata": {},
     "output_type": "execute_result"
    },
    {
     "data": {
      "image/png": "[encoded data removed]",
      "text/plain": [
       "<Figure size 640x480 with 2 Axes>"
      ]
     },
     "metadata": {},
     "output_type": "display_data"
    }
   ],
   "source": [
    "corr_matrix_period2 = factors_period2.corr()\n",
    "sns.heatmap(corr_matrix_period2,annot=True, fmt=\".02f\")"
   ]
  },
  {
   "cell_type": "code",
   "execution_count": 36,
   "id": "3cb060b6",
   "metadata": {},
   "outputs": [
    {
     "data": {
      "text/plain": [
       "<Axes: >"
      ]
     },
     "execution_count": 36,
     "metadata": {},
     "output_type": "execute_result"
    },
    {
     "data": {
      "image/png": "[encoded data removed]",
      "text/plain": [
       "<Figure size 640x480 with 2 Axes>"
      ]
     },
     "metadata": {},
     "output_type": "display_data"
    }
   ],
   "source": [
    "corr_matrix_period3 = factor_period3.corr()\n",
    "sns.heatmap(corr_matrix_period3,annot=True, fmt=\".02f\")"
   ]
  },
  {
   "cell_type": "markdown",
   "id": "b326bb1e",
   "metadata": {},
   "source": [
    "*Answer: * Yes, the factors have showed accross all the period a correlation aroung 30% and as top 53% (on the period of 90's between `HML` and `Mkt`)"
   ]
  },
  {
   "cell_type": "markdown",
   "id": "3b9267eb",
   "metadata": {},
   "source": [
    "### 4. Plot the cumulative returns of the three factors. Create plots for the 1981-2001 subsample as well as the 2002-Present subsample."
   ]
  },
  {
   "cell_type": "code",
   "execution_count": 37,
   "id": "69f20699",
   "metadata": {},
   "outputs": [
    {
     "data": {
      "text/plain": [
       "<Axes: title={'center': 'Complete Period'}, xlabel='Date'>"
      ]
     },
     "execution_count": 37,
     "metadata": {},
     "output_type": "execute_result"
    },
    {
     "data": {
      "image/png": "[encoded data removed]",
      "text/plain": [
       "<Figure size 640x480 with 1 Axes>"
      ]
     },
     "metadata": {},
     "output_type": "display_data"
    }
   ],
   "source": [
    "(1+factors).cumprod().plot(title=\"Complete Period\")"
   ]
  },
  {
   "cell_type": "code",
   "execution_count": 38,
   "id": "a765018f",
   "metadata": {},
   "outputs": [
    {
     "data": {
      "text/plain": [
       "<Axes: title={'center': 'Period between 1981-2001'}, xlabel='Date'>"
      ]
     },
     "execution_count": 38,
     "metadata": {},
     "output_type": "execute_result"
    },
    {
     "data": {
      "image/png": "[encoded data removed]",
      "text/plain": [
       "<Figure size 640x480 with 1 Axes>"
      ]
     },
     "metadata": {},
     "output_type": "display_data"
    }
   ],
   "source": [
    "(1+factors_period2).cumprod().plot(title=\"Period between 1981-2001\")"
   ]
  },
  {
   "cell_type": "code",
   "execution_count": 39,
   "id": "2f403849",
   "metadata": {},
   "outputs": [
    {
     "data": {
      "text/plain": [
       "<Axes: title={'center': 'Period from 2002-End'}, xlabel='Date'>"
      ]
     },
     "execution_count": 39,
     "metadata": {},
     "output_type": "execute_result"
    },
    {
     "data": {
      "image/png": "[encoded data removed]",
      "text/plain": [
       "<Figure size 640x480 with 1 Axes>"
      ]
     },
     "metadata": {},
     "output_type": "display_data"
    }
   ],
   "source": [
    "(1+factor_period3).cumprod().plot(title=\"Period from 2002-End\")"
   ]
  },
  {
   "cell_type": "markdown",
   "id": "c63d37f1",
   "metadata": {},
   "source": [
    "### 5. Does it appear that all three factors were valuable in 1981-2001? And post-2001? Would you advise DFA to continue emphasizing all three factors?"
   ]
  },
  {
   "cell_type": "markdown",
   "id": "9dfaf750",
   "metadata": {},
   "source": [
    "*Answer:* Between 1981 and 2001, the Size factor showed a performance similar to the Market, even outperforming it in some periods. However, in more recent years (after 2013), the two factors have presented cumulative returns far lower than the market. This could be due to the significant impact of big-tech on the markets. It might be a better approach to consider different types of factors."
   ]
  },
  {
   "cell_type": "markdown",
   "id": "4686965a",
   "metadata": {},
   "source": [
    "## 3. CAPM\n",
    "\n",
    "#### DFA believes that premia in stocks and stock portfolios is related to the three factors. Let's test 25 equity portfolios that span a wide range of size and value measures\n",
    "\n",
    "- PORTFOLIOS: Monthly total return data on 25 equity portfolios sorted by their size-value characteristics. Denote these as $r^{i}$, for n = 1,....,25.\n",
    "- Note that while the factors were given as excess returns, the portfolios are total returns.\n",
    "- For this entire problem, focus on the 1981-Present subsample."
   ]
  },
  {
   "cell_type": "code",
   "execution_count": 96,
   "id": "4ecbcabf",
   "metadata": {},
   "outputs": [],
   "source": [
    "portfolio = pd.read_excel(file, sheet_name=\"portfolios (total returns)\",index_col = \"Date\")\n",
    "portfolio = portfolio[portfolio.index > \"1980-12-31\"]\n",
    "portfolio = portfolio[portfolio.index <= \"2023-07-31\"]"
   ]
  },
  {
   "cell_type": "markdown",
   "id": "796afd48",
   "metadata": {},
   "source": [
    "### 1. Summary Statistics. For each portfolio,\n",
    "\n",
    "- Use the Risk-Free rate column in the factors tab to convert these total returns to excess returns.\n",
    "- Calculate the (annualized) univariate statistics from 1.1.\n",
    "- Can the difference in mean excess returns of the portfolios be explained by differences in their volatilities? Or by their VaR(.05) statistics?"
   ]
  },
  {
   "cell_type": "code",
   "execution_count": 97,
   "id": "28a9172b",
   "metadata": {},
   "outputs": [
    {
     "data": {
      "text/plain": [
       "<module 'my_functions' from 'c:\\\\Users\\\\josel\\\\Documents\\\\GitHub\\\\finm-portfolio-2024\\\\homework\\\\my_homework\\\\my_functions.py'>"
      ]
     },
     "execution_count": 97,
     "metadata": {},
     "output_type": "execute_result"
    }
   ],
   "source": [
    "import importlib\n",
    "importlib.reload(mf)"
   ]
  },
  {
   "cell_type": "code",
   "execution_count": 98,
   "id": "c97a011c",
   "metadata": {},
   "outputs": [],
   "source": [
    "factors = pd.read_excel(file, sheet_name=\"factors\",index_col = \"Date\")\n",
    "\n",
    "portfolio_data = pd.merge(portfolio, factors[[\"RF\"]], left_index=True, right_index=True,how = \"left\")\n",
    "portfolio_data = portfolio_data.apply(lambda x: x - portfolio_data[\"RF\"] if x.name != \"RF\" else x)\n",
    "portfolio_data = portfolio_data.drop(\"RF\",axis = 1)\n",
    "portfolio_data = pd.merge(portfolio_data, factors[[\"Mkt-RF\"]], left_index=True, right_index=True,how = \"left\")\n"
   ]
  },
  {
   "cell_type": "code",
   "execution_count": 104,
   "id": "7fde65eb",
   "metadata": {},
   "outputs": [
    {
     "data": {
      "text/html": [
       "<style type=\"text/css\">\n",
       "</style>\n",
       "<table id=\"T_0cbaa\">\n",
       "  <thead>\n",
       "    <tr>\n",
       "      <th class=\"blank level0\" >&nbsp;</th>\n",
       "      <th id=\"T_0cbaa_level0_col0\" class=\"col_heading level0 col0\" >Mean</th>\n",
       "      <th id=\"T_0cbaa_level0_col1\" class=\"col_heading level0 col1\" >Volatility</th>\n",
       "      <th id=\"T_0cbaa_level0_col2\" class=\"col_heading level0 col2\" >Sharpe_Ratio</th>\n",
       "      <th id=\"T_0cbaa_level0_col3\" class=\"col_heading level0 col3\" >VaR</th>\n",
       "    </tr>\n",
       "  </thead>\n",
       "  <tbody>\n",
       "    <tr>\n",
       "      <th id=\"T_0cbaa_level0_row0\" class=\"row_heading level0 row0\" >SMALL LoBM</th>\n",
       "      <td id=\"T_0cbaa_row0_col0\" class=\"data row0 col0\" >0.86%</td>\n",
       "      <td id=\"T_0cbaa_row0_col1\" class=\"data row0 col1\" >27.26%</td>\n",
       "      <td id=\"T_0cbaa_row0_col2\" class=\"data row0 col2\" >3.17%</td>\n",
       "      <td id=\"T_0cbaa_row0_col3\" class=\"data row0 col3\" >-12.11%</td>\n",
       "    </tr>\n",
       "    <tr>\n",
       "      <th id=\"T_0cbaa_level0_row1\" class=\"row_heading level0 row1\" >ME1 BM2</th>\n",
       "      <td id=\"T_0cbaa_row1_col0\" class=\"data row1 col0\" >9.15%</td>\n",
       "      <td id=\"T_0cbaa_row1_col1\" class=\"data row1 col1\" >23.57%</td>\n",
       "      <td id=\"T_0cbaa_row1_col2\" class=\"data row1 col2\" >38.82%</td>\n",
       "      <td id=\"T_0cbaa_row1_col3\" class=\"data row1 col3\" >-9.57%</td>\n",
       "    </tr>\n",
       "    <tr>\n",
       "      <th id=\"T_0cbaa_level0_row2\" class=\"row_heading level0 row2\" >ME1 BM3</th>\n",
       "      <td id=\"T_0cbaa_row2_col0\" class=\"data row2 col0\" >9.29%</td>\n",
       "      <td id=\"T_0cbaa_row2_col1\" class=\"data row2 col1\" >19.78%</td>\n",
       "      <td id=\"T_0cbaa_row2_col2\" class=\"data row2 col2\" >46.96%</td>\n",
       "      <td id=\"T_0cbaa_row2_col3\" class=\"data row2 col3\" >-8.58%</td>\n",
       "    </tr>\n",
       "    <tr>\n",
       "      <th id=\"T_0cbaa_level0_row3\" class=\"row_heading level0 row3\" >ME1 BM4</th>\n",
       "      <td id=\"T_0cbaa_row3_col0\" class=\"data row3 col0\" >11.73%</td>\n",
       "      <td id=\"T_0cbaa_row3_col1\" class=\"data row3 col1\" >19.22%</td>\n",
       "      <td id=\"T_0cbaa_row3_col2\" class=\"data row3 col2\" >61.02%</td>\n",
       "      <td id=\"T_0cbaa_row3_col3\" class=\"data row3 col3\" >-7.64%</td>\n",
       "    </tr>\n",
       "    <tr>\n",
       "      <th id=\"T_0cbaa_level0_row4\" class=\"row_heading level0 row4\" >SMALL HiBM</th>\n",
       "      <td id=\"T_0cbaa_row4_col0\" class=\"data row4 col0\" >12.94%</td>\n",
       "      <td id=\"T_0cbaa_row4_col1\" class=\"data row4 col1\" >20.83%</td>\n",
       "      <td id=\"T_0cbaa_row4_col2\" class=\"data row4 col2\" >62.15%</td>\n",
       "      <td id=\"T_0cbaa_row4_col3\" class=\"data row4 col3\" >-8.88%</td>\n",
       "    </tr>\n",
       "    <tr>\n",
       "      <th id=\"T_0cbaa_level0_row5\" class=\"row_heading level0 row5\" >ME2 BM1</th>\n",
       "      <td id=\"T_0cbaa_row5_col0\" class=\"data row5 col0\" >5.98%</td>\n",
       "      <td id=\"T_0cbaa_row5_col1\" class=\"data row5 col1\" >24.48%</td>\n",
       "      <td id=\"T_0cbaa_row5_col2\" class=\"data row5 col2\" >24.44%</td>\n",
       "      <td id=\"T_0cbaa_row5_col3\" class=\"data row5 col3\" >-10.40%</td>\n",
       "    </tr>\n",
       "    <tr>\n",
       "      <th id=\"T_0cbaa_level0_row6\" class=\"row_heading level0 row6\" >ME2 BM2</th>\n",
       "      <td id=\"T_0cbaa_row6_col0\" class=\"data row6 col0\" >10.19%</td>\n",
       "      <td id=\"T_0cbaa_row6_col1\" class=\"data row6 col1\" >20.42%</td>\n",
       "      <td id=\"T_0cbaa_row6_col2\" class=\"data row6 col2\" >49.91%</td>\n",
       "      <td id=\"T_0cbaa_row6_col3\" class=\"data row6 col3\" >-8.51%</td>\n",
       "    </tr>\n",
       "    <tr>\n",
       "      <th id=\"T_0cbaa_level0_row7\" class=\"row_heading level0 row7\" >ME2 BM3</th>\n",
       "      <td id=\"T_0cbaa_row7_col0\" class=\"data row7 col0\" >10.67%</td>\n",
       "      <td id=\"T_0cbaa_row7_col1\" class=\"data row7 col1\" >18.48%</td>\n",
       "      <td id=\"T_0cbaa_row7_col2\" class=\"data row7 col2\" >57.75%</td>\n",
       "      <td id=\"T_0cbaa_row7_col3\" class=\"data row7 col3\" >-7.94%</td>\n",
       "    </tr>\n",
       "    <tr>\n",
       "      <th id=\"T_0cbaa_level0_row8\" class=\"row_heading level0 row8\" >ME2 BM4</th>\n",
       "      <td id=\"T_0cbaa_row8_col0\" class=\"data row8 col0\" >10.90%</td>\n",
       "      <td id=\"T_0cbaa_row8_col1\" class=\"data row8 col1\" >18.07%</td>\n",
       "      <td id=\"T_0cbaa_row8_col2\" class=\"data row8 col2\" >60.30%</td>\n",
       "      <td id=\"T_0cbaa_row8_col3\" class=\"data row8 col3\" >-7.74%</td>\n",
       "    </tr>\n",
       "    <tr>\n",
       "      <th id=\"T_0cbaa_level0_row9\" class=\"row_heading level0 row9\" >ME2 BM5</th>\n",
       "      <td id=\"T_0cbaa_row9_col0\" class=\"data row9 col0\" >11.62%</td>\n",
       "      <td id=\"T_0cbaa_row9_col1\" class=\"data row9 col1\" >21.38%</td>\n",
       "      <td id=\"T_0cbaa_row9_col2\" class=\"data row9 col2\" >54.35%</td>\n",
       "      <td id=\"T_0cbaa_row9_col3\" class=\"data row9 col3\" >-9.67%</td>\n",
       "    </tr>\n",
       "    <tr>\n",
       "      <th id=\"T_0cbaa_level0_row10\" class=\"row_heading level0 row10\" >ME3 BM1</th>\n",
       "      <td id=\"T_0cbaa_row10_col0\" class=\"data row10 col0\" >7.17%</td>\n",
       "      <td id=\"T_0cbaa_row10_col1\" class=\"data row10 col1\" >22.51%</td>\n",
       "      <td id=\"T_0cbaa_row10_col2\" class=\"data row10 col2\" >31.83%</td>\n",
       "      <td id=\"T_0cbaa_row10_col3\" class=\"data row10 col3\" >-10.13%</td>\n",
       "    </tr>\n",
       "    <tr>\n",
       "      <th id=\"T_0cbaa_level0_row11\" class=\"row_heading level0 row11\" >ME3 BM2</th>\n",
       "      <td id=\"T_0cbaa_row11_col0\" class=\"data row11 col0\" >10.89%</td>\n",
       "      <td id=\"T_0cbaa_row11_col1\" class=\"data row11 col1\" >18.84%</td>\n",
       "      <td id=\"T_0cbaa_row11_col2\" class=\"data row11 col2\" >57.79%</td>\n",
       "      <td id=\"T_0cbaa_row11_col3\" class=\"data row11 col3\" >-7.93%</td>\n",
       "    </tr>\n",
       "    <tr>\n",
       "      <th id=\"T_0cbaa_level0_row12\" class=\"row_heading level0 row12\" >ME3 BM3</th>\n",
       "      <td id=\"T_0cbaa_row12_col0\" class=\"data row12 col0\" >9.31%</td>\n",
       "      <td id=\"T_0cbaa_row12_col1\" class=\"data row12 col1\" >17.21%</td>\n",
       "      <td id=\"T_0cbaa_row12_col2\" class=\"data row12 col2\" >54.08%</td>\n",
       "      <td id=\"T_0cbaa_row12_col3\" class=\"data row12 col3\" >-7.45%</td>\n",
       "    </tr>\n",
       "    <tr>\n",
       "      <th id=\"T_0cbaa_level0_row13\" class=\"row_heading level0 row13\" >ME3 BM4</th>\n",
       "      <td id=\"T_0cbaa_row13_col0\" class=\"data row13 col0\" >10.93%</td>\n",
       "      <td id=\"T_0cbaa_row13_col1\" class=\"data row13 col1\" >17.94%</td>\n",
       "      <td id=\"T_0cbaa_row13_col2\" class=\"data row13 col2\" >60.93%</td>\n",
       "      <td id=\"T_0cbaa_row13_col3\" class=\"data row13 col3\" >-7.26%</td>\n",
       "    </tr>\n",
       "    <tr>\n",
       "      <th id=\"T_0cbaa_level0_row14\" class=\"row_heading level0 row14\" >ME3 BM5</th>\n",
       "      <td id=\"T_0cbaa_row14_col0\" class=\"data row14 col0\" >12.37%</td>\n",
       "      <td id=\"T_0cbaa_row14_col1\" class=\"data row14 col1\" >20.07%</td>\n",
       "      <td id=\"T_0cbaa_row14_col2\" class=\"data row14 col2\" >61.63%</td>\n",
       "      <td id=\"T_0cbaa_row14_col3\" class=\"data row14 col3\" >-8.47%</td>\n",
       "    </tr>\n",
       "    <tr>\n",
       "      <th id=\"T_0cbaa_level0_row15\" class=\"row_heading level0 row15\" >ME4 BM1</th>\n",
       "      <td id=\"T_0cbaa_row15_col0\" class=\"data row15 col0\" >9.27%</td>\n",
       "      <td id=\"T_0cbaa_row15_col1\" class=\"data row15 col1\" >20.33%</td>\n",
       "      <td id=\"T_0cbaa_row15_col2\" class=\"data row15 col2\" >45.57%</td>\n",
       "      <td id=\"T_0cbaa_row15_col3\" class=\"data row15 col3\" >-8.40%</td>\n",
       "    </tr>\n",
       "    <tr>\n",
       "      <th id=\"T_0cbaa_level0_row16\" class=\"row_heading level0 row16\" >ME4 BM2</th>\n",
       "      <td id=\"T_0cbaa_row16_col0\" class=\"data row16 col0\" >9.51%</td>\n",
       "      <td id=\"T_0cbaa_row16_col1\" class=\"data row16 col1\" >17.77%</td>\n",
       "      <td id=\"T_0cbaa_row16_col2\" class=\"data row16 col2\" >53.50%</td>\n",
       "      <td id=\"T_0cbaa_row16_col3\" class=\"data row16 col3\" >-7.43%</td>\n",
       "    </tr>\n",
       "    <tr>\n",
       "      <th id=\"T_0cbaa_level0_row17\" class=\"row_heading level0 row17\" >ME4 BM3</th>\n",
       "      <td id=\"T_0cbaa_row17_col0\" class=\"data row17 col0\" >9.37%</td>\n",
       "      <td id=\"T_0cbaa_row17_col1\" class=\"data row17 col1\" >17.48%</td>\n",
       "      <td id=\"T_0cbaa_row17_col2\" class=\"data row17 col2\" >53.61%</td>\n",
       "      <td id=\"T_0cbaa_row17_col3\" class=\"data row17 col3\" >-7.57%</td>\n",
       "    </tr>\n",
       "    <tr>\n",
       "      <th id=\"T_0cbaa_level0_row18\" class=\"row_heading level0 row18\" >ME4 BM4</th>\n",
       "      <td id=\"T_0cbaa_row18_col0\" class=\"data row18 col0\" >10.14%</td>\n",
       "      <td id=\"T_0cbaa_row18_col1\" class=\"data row18 col1\" >17.55%</td>\n",
       "      <td id=\"T_0cbaa_row18_col2\" class=\"data row18 col2\" >57.81%</td>\n",
       "      <td id=\"T_0cbaa_row18_col3\" class=\"data row18 col3\" >-6.94%</td>\n",
       "    </tr>\n",
       "    <tr>\n",
       "      <th id=\"T_0cbaa_level0_row19\" class=\"row_heading level0 row19\" >ME4 BM5</th>\n",
       "      <td id=\"T_0cbaa_row19_col0\" class=\"data row19 col0\" >10.83%</td>\n",
       "      <td id=\"T_0cbaa_row19_col1\" class=\"data row19 col1\" >19.89%</td>\n",
       "      <td id=\"T_0cbaa_row19_col2\" class=\"data row19 col2\" >54.43%</td>\n",
       "      <td id=\"T_0cbaa_row19_col3\" class=\"data row19 col3\" >-8.36%</td>\n",
       "    </tr>\n",
       "    <tr>\n",
       "      <th id=\"T_0cbaa_level0_row20\" class=\"row_heading level0 row20\" >BIG LoBM</th>\n",
       "      <td id=\"T_0cbaa_row20_col0\" class=\"data row20 col0\" >9.17%</td>\n",
       "      <td id=\"T_0cbaa_row20_col1\" class=\"data row20 col1\" >16.44%</td>\n",
       "      <td id=\"T_0cbaa_row20_col2\" class=\"data row20 col2\" >55.75%</td>\n",
       "      <td id=\"T_0cbaa_row20_col3\" class=\"data row20 col3\" >-7.58%</td>\n",
       "    </tr>\n",
       "    <tr>\n",
       "      <th id=\"T_0cbaa_level0_row21\" class=\"row_heading level0 row21\" >ME5 BM2</th>\n",
       "      <td id=\"T_0cbaa_row21_col0\" class=\"data row21 col0\" >8.38%</td>\n",
       "      <td id=\"T_0cbaa_row21_col1\" class=\"data row21 col1\" >15.47%</td>\n",
       "      <td id=\"T_0cbaa_row21_col2\" class=\"data row21 col2\" >54.13%</td>\n",
       "      <td id=\"T_0cbaa_row21_col3\" class=\"data row21 col3\" >-6.53%</td>\n",
       "    </tr>\n",
       "    <tr>\n",
       "      <th id=\"T_0cbaa_level0_row22\" class=\"row_heading level0 row22\" >ME5 BM3</th>\n",
       "      <td id=\"T_0cbaa_row22_col0\" class=\"data row22 col0\" >8.06%</td>\n",
       "      <td id=\"T_0cbaa_row22_col1\" class=\"data row22 col1\" >15.36%</td>\n",
       "      <td id=\"T_0cbaa_row22_col2\" class=\"data row22 col2\" >52.46%</td>\n",
       "      <td id=\"T_0cbaa_row22_col3\" class=\"data row22 col3\" >-7.05%</td>\n",
       "    </tr>\n",
       "    <tr>\n",
       "      <th id=\"T_0cbaa_level0_row23\" class=\"row_heading level0 row23\" >ME5 BM4</th>\n",
       "      <td id=\"T_0cbaa_row23_col0\" class=\"data row23 col0\" >6.69%</td>\n",
       "      <td id=\"T_0cbaa_row23_col1\" class=\"data row23 col1\" >17.21%</td>\n",
       "      <td id=\"T_0cbaa_row23_col2\" class=\"data row23 col2\" >38.89%</td>\n",
       "      <td id=\"T_0cbaa_row23_col3\" class=\"data row23 col3\" >-7.61%</td>\n",
       "    </tr>\n",
       "    <tr>\n",
       "      <th id=\"T_0cbaa_level0_row24\" class=\"row_heading level0 row24\" >BIG HiBM</th>\n",
       "      <td id=\"T_0cbaa_row24_col0\" class=\"data row24 col0\" >9.67%</td>\n",
       "      <td id=\"T_0cbaa_row24_col1\" class=\"data row24 col1\" >20.63%</td>\n",
       "      <td id=\"T_0cbaa_row24_col2\" class=\"data row24 col2\" >46.87%</td>\n",
       "      <td id=\"T_0cbaa_row24_col3\" class=\"data row24 col3\" >-9.64%</td>\n",
       "    </tr>\n",
       "    <tr>\n",
       "      <th id=\"T_0cbaa_level0_row25\" class=\"row_heading level0 row25\" >Mkt-RF</th>\n",
       "      <td id=\"T_0cbaa_row25_col0\" class=\"data row25 col0\" >8.18%</td>\n",
       "      <td id=\"T_0cbaa_row25_col1\" class=\"data row25 col1\" >15.62%</td>\n",
       "      <td id=\"T_0cbaa_row25_col2\" class=\"data row25 col2\" >52.36%</td>\n",
       "      <td id=\"T_0cbaa_row25_col3\" class=\"data row25 col3\" >-7.42%</td>\n",
       "    </tr>\n",
       "  </tbody>\n",
       "</table>\n"
      ],
      "text/plain": [
       "<pandas.io.formats.style.Styler at 0x2515f664c20>"
      ]
     },
     "execution_count": 104,
     "metadata": {},
     "output_type": "execute_result"
    }
   ],
   "source": [
    "mf.get_metrics_all(portfolio_data, adj_factor=12)[[\"Mean\",\"Volatility\",\"Sharpe_Ratio\",\"VaR\"]].style.format('{:.2%}')"
   ]
  },
  {
   "cell_type": "code",
   "execution_count": 105,
   "id": "6c26a8bf",
   "metadata": {},
   "outputs": [
    {
     "data": {
      "text/plain": [
       "<Axes: xlabel='Volatility', ylabel='Mean'>"
      ]
     },
     "execution_count": 105,
     "metadata": {},
     "output_type": "execute_result"
    },
    {
     "data": {
      "image/png": "[encoded data removed]",
      "text/plain": [
       "<Figure size 640x480 with 1 Axes>"
      ]
     },
     "metadata": {},
     "output_type": "display_data"
    }
   ],
   "source": [
    "sns.scatterplot(mf.get_metrics_all(portfolio_data, adj_factor=12), x=\"Volatility\", y=\"Mean\")"
   ]
  },
  {
   "cell_type": "code",
   "execution_count": 106,
   "id": "71ad07bd",
   "metadata": {},
   "outputs": [
    {
     "data": {
      "text/plain": [
       "<Axes: xlabel='VaR', ylabel='Mean'>"
      ]
     },
     "execution_count": 106,
     "metadata": {},
     "output_type": "execute_result"
    },
    {
     "data": {
      "image/png": "[encoded data removed]",
      "text/plain": [
       "<Figure size 640x480 with 1 Axes>"
      ]
     },
     "metadata": {},
     "output_type": "display_data"
    }
   ],
   "source": [
    "sns.scatterplot(mf.get_metrics_all(portfolio_data, adj_factor=12), x=\"VaR\", y=\"Mean\")"
   ]
  },
  {
   "cell_type": "markdown",
   "id": "8d098910",
   "metadata": {},
   "source": [
    "### 2. CAPM\n",
    "\n",
    "The Capital Asset Pricing Model (CAPM) asserts that an asset (or portfolio's) expected excess return is completely a function of its beta to the equity market index (SPY, or in this case, MKT.)\n",
    "Specifically, it asserts that, for any excess return, $\\tilde{r}^{i}$, its mean is proportional to the mean excess return of the market, $\\tilde{r}^{m}$, where the proporitonality is the regression beta of $\\tilde{r}^{i}$ on $\\tilde{r}^{m}$.\n",
    "\n",
    "$$\\mathop{\\mathbb{E}}[\\tilde{r}^{i}_{t}] = \\beta \\mathop{\\mathbb{E}}[\\tilde{r}^{m}_{t}]$$\n",
    "\n",
    "Let's examine whether that seems plausible."
   ]
  },
  {
   "cell_type": "markdown",
   "id": "2a9dc93c",
   "metadata": {},
   "source": [
    "a) For each of the n = 25 test portfolios, run the CAPM time-series regression:\n",
    "\n",
    "$$\n",
    "\\tilde{r}_{t}^{i} = \\alpha^{i} + \\beta^{i,m}\\tilde{r}^{m}_{t} + \\varepsilon_{t}\n",
    "$$\n",
    "\n",
    "\n",
    "So you are running 25 separate regressions, each using the T-sized sample of time-series data."
   ]
  },
  {
   "cell_type": "code",
   "execution_count": 107,
   "id": "a2cec892",
   "metadata": {},
   "outputs": [],
   "source": [
    "regressions_results = mf.benchmark_regresion(portfolio_data, benchmark=\"Mkt-RF\", adj=12)"
   ]
  },
  {
   "cell_type": "code",
   "execution_count": 109,
   "id": "1feb44e2",
   "metadata": {},
   "outputs": [
    {
     "data": {
      "text/html": [
       "<div>\n",
       "<style scoped>\n",
       "    .dataframe tbody tr th:only-of-type {\n",
       "        vertical-align: middle;\n",
       "    }\n",
       "\n",
       "    .dataframe tbody tr th {\n",
       "        vertical-align: top;\n",
       "    }\n",
       "\n",
       "    .dataframe thead th {\n",
       "        text-align: right;\n",
       "    }\n",
       "</style>\n",
       "<table border=\"1\" class=\"dataframe\">\n",
       "  <thead>\n",
       "    <tr style=\"text-align: right;\">\n",
       "      <th></th>\n",
       "      <th>Alpha-Adj</th>\n",
       "      <th>Beta</th>\n",
       "      <th>R-square</th>\n",
       "      <th>std_errors</th>\n",
       "      <th>Asset_mean</th>\n",
       "      <th>Treynor Ratio</th>\n",
       "      <th>Information Ratio</th>\n",
       "      <th>Sortino Ratio</th>\n",
       "      <th>MAE</th>\n",
       "    </tr>\n",
       "  </thead>\n",
       "  <tbody>\n",
       "    <tr>\n",
       "      <th>SMALL LoBM</th>\n",
       "      <td>-0.101802</td>\n",
       "      <td>1.350155</td>\n",
       "      <td>0.598293</td>\n",
       "      <td>0.049885</td>\n",
       "      <td>0.008631</td>\n",
       "      <td>0.006393</td>\n",
       "      <td>-0.589110</td>\n",
       "      <td>0.047747</td>\n",
       "      <td>0.034792</td>\n",
       "    </tr>\n",
       "    <tr>\n",
       "      <th>ME1 BM2</th>\n",
       "      <td>-0.003391</td>\n",
       "      <td>1.160258</td>\n",
       "      <td>0.591111</td>\n",
       "      <td>0.043512</td>\n",
       "      <td>0.091509</td>\n",
       "      <td>0.078870</td>\n",
       "      <td>-0.022498</td>\n",
       "      <td>0.579883</td>\n",
       "      <td>0.029577</td>\n",
       "    </tr>\n",
       "    <tr>\n",
       "      <th>ME1 BM3</th>\n",
       "      <td>0.008367</td>\n",
       "      <td>1.033420</td>\n",
       "      <td>0.666006</td>\n",
       "      <td>0.032998</td>\n",
       "      <td>0.092893</td>\n",
       "      <td>0.089889</td>\n",
       "      <td>0.073196</td>\n",
       "      <td>0.660049</td>\n",
       "      <td>0.025001</td>\n",
       "    </tr>\n",
       "    <tr>\n",
       "      <th>ME1 BM4</th>\n",
       "      <td>0.038275</td>\n",
       "      <td>0.966237</td>\n",
       "      <td>0.616351</td>\n",
       "      <td>0.034374</td>\n",
       "      <td>0.117306</td>\n",
       "      <td>0.121405</td>\n",
       "      <td>0.321441</td>\n",
       "      <td>0.808137</td>\n",
       "      <td>0.024686</td>\n",
       "    </tr>\n",
       "    <tr>\n",
       "      <th>SMALL HiBM</th>\n",
       "      <td>0.048642</td>\n",
       "      <td>0.987966</td>\n",
       "      <td>0.548889</td>\n",
       "      <td>0.040386</td>\n",
       "      <td>0.129450</td>\n",
       "      <td>0.131027</td>\n",
       "      <td>0.347688</td>\n",
       "      <td>0.830321</td>\n",
       "      <td>0.027687</td>\n",
       "    </tr>\n",
       "    <tr>\n",
       "      <th>ME2 BM1</th>\n",
       "      <td>-0.049226</td>\n",
       "      <td>1.333321</td>\n",
       "      <td>0.723865</td>\n",
       "      <td>0.037132</td>\n",
       "      <td>0.059829</td>\n",
       "      <td>0.044873</td>\n",
       "      <td>-0.382695</td>\n",
       "      <td>0.348327</td>\n",
       "      <td>0.027756</td>\n",
       "    </tr>\n",
       "    <tr>\n",
       "      <th>ME2 BM2</th>\n",
       "      <td>0.009581</td>\n",
       "      <td>1.128632</td>\n",
       "      <td>0.745571</td>\n",
       "      <td>0.029729</td>\n",
       "      <td>0.101895</td>\n",
       "      <td>0.090282</td>\n",
       "      <td>0.093038</td>\n",
       "      <td>0.681431</td>\n",
       "      <td>0.022429</td>\n",
       "    </tr>\n",
       "    <tr>\n",
       "      <th>ME2 BM3</th>\n",
       "      <td>0.022919</td>\n",
       "      <td>1.024343</td>\n",
       "      <td>0.749948</td>\n",
       "      <td>0.026671</td>\n",
       "      <td>0.106703</td>\n",
       "      <td>0.104167</td>\n",
       "      <td>0.248074</td>\n",
       "      <td>0.751274</td>\n",
       "      <td>0.020388</td>\n",
       "    </tr>\n",
       "    <tr>\n",
       "      <th>ME2 BM4</th>\n",
       "      <td>0.029605</td>\n",
       "      <td>0.970294</td>\n",
       "      <td>0.703395</td>\n",
       "      <td>0.028411</td>\n",
       "      <td>0.108968</td>\n",
       "      <td>0.112304</td>\n",
       "      <td>0.300816</td>\n",
       "      <td>0.783005</td>\n",
       "      <td>0.021434</td>\n",
       "    </tr>\n",
       "    <tr>\n",
       "      <th>ME2 BM5</th>\n",
       "      <td>0.025481</td>\n",
       "      <td>1.109480</td>\n",
       "      <td>0.656806</td>\n",
       "      <td>0.036162</td>\n",
       "      <td>0.116228</td>\n",
       "      <td>0.104759</td>\n",
       "      <td>0.203409</td>\n",
       "      <td>0.665972</td>\n",
       "      <td>0.026640</td>\n",
       "    </tr>\n",
       "    <tr>\n",
       "      <th>ME3 BM1</th>\n",
       "      <td>-0.031809</td>\n",
       "      <td>1.264921</td>\n",
       "      <td>0.770126</td>\n",
       "      <td>0.031161</td>\n",
       "      <td>0.071653</td>\n",
       "      <td>0.056646</td>\n",
       "      <td>-0.294672</td>\n",
       "      <td>0.457201</td>\n",
       "      <td>0.022801</td>\n",
       "    </tr>\n",
       "    <tr>\n",
       "      <th>ME3 BM2</th>\n",
       "      <td>0.019533</td>\n",
       "      <td>1.092132</td>\n",
       "      <td>0.820207</td>\n",
       "      <td>0.023056</td>\n",
       "      <td>0.108861</td>\n",
       "      <td>0.099678</td>\n",
       "      <td>0.244564</td>\n",
       "      <td>0.794218</td>\n",
       "      <td>0.017465</td>\n",
       "    </tr>\n",
       "    <tr>\n",
       "      <th>ME3 BM3</th>\n",
       "      <td>0.012805</td>\n",
       "      <td>0.981655</td>\n",
       "      <td>0.793365</td>\n",
       "      <td>0.022590</td>\n",
       "      <td>0.093097</td>\n",
       "      <td>0.094837</td>\n",
       "      <td>0.163641</td>\n",
       "      <td>0.746210</td>\n",
       "      <td>0.017232</td>\n",
       "    </tr>\n",
       "    <tr>\n",
       "      <th>ME3 BM4</th>\n",
       "      <td>0.028487</td>\n",
       "      <td>0.988368</td>\n",
       "      <td>0.740192</td>\n",
       "      <td>0.026403</td>\n",
       "      <td>0.109328</td>\n",
       "      <td>0.110615</td>\n",
       "      <td>0.311455</td>\n",
       "      <td>0.796176</td>\n",
       "      <td>0.019428</td>\n",
       "    </tr>\n",
       "    <tr>\n",
       "      <th>ME3 BM5</th>\n",
       "      <td>0.038385</td>\n",
       "      <td>1.042776</td>\n",
       "      <td>0.658827</td>\n",
       "      <td>0.033836</td>\n",
       "      <td>0.123676</td>\n",
       "      <td>0.118603</td>\n",
       "      <td>0.327482</td>\n",
       "      <td>0.748954</td>\n",
       "      <td>0.023982</td>\n",
       "    </tr>\n",
       "    <tr>\n",
       "      <th>ME4 BM1</th>\n",
       "      <td>-0.004316</td>\n",
       "      <td>1.185534</td>\n",
       "      <td>0.829454</td>\n",
       "      <td>0.024240</td>\n",
       "      <td>0.092652</td>\n",
       "      <td>0.078152</td>\n",
       "      <td>-0.051401</td>\n",
       "      <td>0.660323</td>\n",
       "      <td>0.016898</td>\n",
       "    </tr>\n",
       "    <tr>\n",
       "      <th>ME4 BM2</th>\n",
       "      <td>0.008212</td>\n",
       "      <td>1.061789</td>\n",
       "      <td>0.871183</td>\n",
       "      <td>0.018410</td>\n",
       "      <td>0.095058</td>\n",
       "      <td>0.089527</td>\n",
       "      <td>0.128763</td>\n",
       "      <td>0.702325</td>\n",
       "      <td>0.013521</td>\n",
       "    </tr>\n",
       "    <tr>\n",
       "      <th>ME4 BM3</th>\n",
       "      <td>0.011544</td>\n",
       "      <td>1.004859</td>\n",
       "      <td>0.806014</td>\n",
       "      <td>0.022228</td>\n",
       "      <td>0.093734</td>\n",
       "      <td>0.093280</td>\n",
       "      <td>0.149916</td>\n",
       "      <td>0.682900</td>\n",
       "      <td>0.015835</td>\n",
       "    </tr>\n",
       "    <tr>\n",
       "      <th>ME4 BM4</th>\n",
       "      <td>0.021081</td>\n",
       "      <td>0.982516</td>\n",
       "      <td>0.764769</td>\n",
       "      <td>0.024570</td>\n",
       "      <td>0.101444</td>\n",
       "      <td>0.103249</td>\n",
       "      <td>0.247686</td>\n",
       "      <td>0.735924</td>\n",
       "      <td>0.016951</td>\n",
       "    </tr>\n",
       "    <tr>\n",
       "      <th>ME4 BM5</th>\n",
       "      <td>0.023080</td>\n",
       "      <td>1.041574</td>\n",
       "      <td>0.668978</td>\n",
       "      <td>0.033037</td>\n",
       "      <td>0.108273</td>\n",
       "      <td>0.103951</td>\n",
       "      <td>0.201667</td>\n",
       "      <td>0.656947</td>\n",
       "      <td>0.023299</td>\n",
       "    </tr>\n",
       "    <tr>\n",
       "      <th>BIG LoBM</th>\n",
       "      <td>0.010260</td>\n",
       "      <td>0.995104</td>\n",
       "      <td>0.893830</td>\n",
       "      <td>0.015464</td>\n",
       "      <td>0.091652</td>\n",
       "      <td>0.092103</td>\n",
       "      <td>0.191531</td>\n",
       "      <td>0.799078</td>\n",
       "      <td>0.012008</td>\n",
       "    </tr>\n",
       "    <tr>\n",
       "      <th>ME5 BM2</th>\n",
       "      <td>0.008250</td>\n",
       "      <td>0.923224</td>\n",
       "      <td>0.868415</td>\n",
       "      <td>0.016204</td>\n",
       "      <td>0.083763</td>\n",
       "      <td>0.090729</td>\n",
       "      <td>0.146970</td>\n",
       "      <td>0.745186</td>\n",
       "      <td>0.011744</td>\n",
       "    </tr>\n",
       "    <tr>\n",
       "      <th>ME5 BM3</th>\n",
       "      <td>0.008942</td>\n",
       "      <td>0.875574</td>\n",
       "      <td>0.793287</td>\n",
       "      <td>0.020153</td>\n",
       "      <td>0.080557</td>\n",
       "      <td>0.092005</td>\n",
       "      <td>0.128080</td>\n",
       "      <td>0.707224</td>\n",
       "      <td>0.014363</td>\n",
       "    </tr>\n",
       "    <tr>\n",
       "      <th>ME5 BM4</th>\n",
       "      <td>-0.007143</td>\n",
       "      <td>0.905370</td>\n",
       "      <td>0.675505</td>\n",
       "      <td>0.028295</td>\n",
       "      <td>0.066909</td>\n",
       "      <td>0.073903</td>\n",
       "      <td>-0.072880</td>\n",
       "      <td>0.474399</td>\n",
       "      <td>0.019244</td>\n",
       "    </tr>\n",
       "    <tr>\n",
       "      <th>BIG HiBM</th>\n",
       "      <td>0.013797</td>\n",
       "      <td>1.013596</td>\n",
       "      <td>0.588925</td>\n",
       "      <td>0.038184</td>\n",
       "      <td>0.096701</td>\n",
       "      <td>0.095404</td>\n",
       "      <td>0.104303</td>\n",
       "      <td>0.620871</td>\n",
       "      <td>0.027163</td>\n",
       "    </tr>\n",
       "  </tbody>\n",
       "</table>\n",
       "</div>"
      ],
      "text/plain": [
       "            Alpha-Adj      Beta  R-square  std_errors  Asset_mean  \\\n",
       "SMALL LoBM  -0.101802  1.350155  0.598293    0.049885    0.008631   \n",
       "ME1 BM2     -0.003391  1.160258  0.591111    0.043512    0.091509   \n",
       "ME1 BM3      0.008367  1.033420  0.666006    0.032998    0.092893   \n",
       "ME1 BM4      0.038275  0.966237  0.616351    0.034374    0.117306   \n",
       "SMALL HiBM   0.048642  0.987966  0.548889    0.040386    0.129450   \n",
       "ME2 BM1     -0.049226  1.333321  0.723865    0.037132    0.059829   \n",
       "ME2 BM2      0.009581  1.128632  0.745571    0.029729    0.101895   \n",
       "ME2 BM3      0.022919  1.024343  0.749948    0.026671    0.106703   \n",
       "ME2 BM4      0.029605  0.970294  0.703395    0.028411    0.108968   \n",
       "ME2 BM5      0.025481  1.109480  0.656806    0.036162    0.116228   \n",
       "ME3 BM1     -0.031809  1.264921  0.770126    0.031161    0.071653   \n",
       "ME3 BM2      0.019533  1.092132  0.820207    0.023056    0.108861   \n",
       "ME3 BM3      0.012805  0.981655  0.793365    0.022590    0.093097   \n",
       "ME3 BM4      0.028487  0.988368  0.740192    0.026403    0.109328   \n",
       "ME3 BM5      0.038385  1.042776  0.658827    0.033836    0.123676   \n",
       "ME4 BM1     -0.004316  1.185534  0.829454    0.024240    0.092652   \n",
       "ME4 BM2      0.008212  1.061789  0.871183    0.018410    0.095058   \n",
       "ME4 BM3      0.011544  1.004859  0.806014    0.022228    0.093734   \n",
       "ME4 BM4      0.021081  0.982516  0.764769    0.024570    0.101444   \n",
       "ME4 BM5      0.023080  1.041574  0.668978    0.033037    0.108273   \n",
       "BIG LoBM     0.010260  0.995104  0.893830    0.015464    0.091652   \n",
       "ME5 BM2      0.008250  0.923224  0.868415    0.016204    0.083763   \n",
       "ME5 BM3      0.008942  0.875574  0.793287    0.020153    0.080557   \n",
       "ME5 BM4     -0.007143  0.905370  0.675505    0.028295    0.066909   \n",
       "BIG HiBM     0.013797  1.013596  0.588925    0.038184    0.096701   \n",
       "\n",
       "            Treynor Ratio  Information Ratio  Sortino Ratio       MAE  \n",
       "SMALL LoBM       0.006393          -0.589110       0.047747  0.034792  \n",
       "ME1 BM2          0.078870          -0.022498       0.579883  0.029577  \n",
       "ME1 BM3          0.089889           0.073196       0.660049  0.025001  \n",
       "ME1 BM4          0.121405           0.321441       0.808137  0.024686  \n",
       "SMALL HiBM       0.131027           0.347688       0.830321  0.027687  \n",
       "ME2 BM1          0.044873          -0.382695       0.348327  0.027756  \n",
       "ME2 BM2          0.090282           0.093038       0.681431  0.022429  \n",
       "ME2 BM3          0.104167           0.248074       0.751274  0.020388  \n",
       "ME2 BM4          0.112304           0.300816       0.783005  0.021434  \n",
       "ME2 BM5          0.104759           0.203409       0.665972  0.026640  \n",
       "ME3 BM1          0.056646          -0.294672       0.457201  0.022801  \n",
       "ME3 BM2          0.099678           0.244564       0.794218  0.017465  \n",
       "ME3 BM3          0.094837           0.163641       0.746210  0.017232  \n",
       "ME3 BM4          0.110615           0.311455       0.796176  0.019428  \n",
       "ME3 BM5          0.118603           0.327482       0.748954  0.023982  \n",
       "ME4 BM1          0.078152          -0.051401       0.660323  0.016898  \n",
       "ME4 BM2          0.089527           0.128763       0.702325  0.013521  \n",
       "ME4 BM3          0.093280           0.149916       0.682900  0.015835  \n",
       "ME4 BM4          0.103249           0.247686       0.735924  0.016951  \n",
       "ME4 BM5          0.103951           0.201667       0.656947  0.023299  \n",
       "BIG LoBM         0.092103           0.191531       0.799078  0.012008  \n",
       "ME5 BM2          0.090729           0.146970       0.745186  0.011744  \n",
       "ME5 BM3          0.092005           0.128080       0.707224  0.014363  \n",
       "ME5 BM4          0.073903          -0.072880       0.474399  0.019244  \n",
       "BIG HiBM         0.095404           0.104303       0.620871  0.027163  "
      ]
     },
     "execution_count": 109,
     "metadata": {},
     "output_type": "execute_result"
    }
   ],
   "source": [
    "regressions_results"
   ]
  },
  {
   "cell_type": "markdown",
   "id": "4c9229a0",
   "metadata": {},
   "source": [
    "b) Report the mean-absolute-error of the CAPM:\n",
    "If the CAPM were true, what would we expect of the MAE?\n",
    "\n",
    "$$\n",
    "MAE = \\frac{1}{n} \\sum_{i=1}^{n} |\\alpha_i|\n",
    "$$\n"
   ]
  },
  {
   "cell_type": "code",
   "execution_count": 110,
   "id": "4d97255c",
   "metadata": {},
   "outputs": [
    {
     "data": {
      "text/plain": [
       "0.023397334107571974"
      ]
     },
     "execution_count": 110,
     "metadata": {},
     "output_type": "execute_result"
    }
   ],
   "source": [
    "import numpy as np\n",
    "np.mean(np.abs(regressions_results[[\"Alpha-Adj\"]]))"
   ]
  },
  {
   "cell_type": "markdown",
   "id": "11bba5fe",
   "metadata": {},
   "source": [
    "c) Report the estimated $β^{i,m}$, Treynor Ratio, $α^{i}$, and Information Ratio for each of the n regressions."
   ]
  },
  {
   "cell_type": "code",
   "execution_count": 111,
   "id": "acb70a9a",
   "metadata": {},
   "outputs": [
    {
     "data": {
      "text/html": [
       "<div>\n",
       "<style scoped>\n",
       "    .dataframe tbody tr th:only-of-type {\n",
       "        vertical-align: middle;\n",
       "    }\n",
       "\n",
       "    .dataframe tbody tr th {\n",
       "        vertical-align: top;\n",
       "    }\n",
       "\n",
       "    .dataframe thead th {\n",
       "        text-align: right;\n",
       "    }\n",
       "</style>\n",
       "<table border=\"1\" class=\"dataframe\">\n",
       "  <thead>\n",
       "    <tr style=\"text-align: right;\">\n",
       "      <th></th>\n",
       "      <th>SMALL LoBM</th>\n",
       "      <th>ME1 BM2</th>\n",
       "      <th>ME1 BM3</th>\n",
       "      <th>ME1 BM4</th>\n",
       "      <th>SMALL HiBM</th>\n",
       "      <th>ME2 BM1</th>\n",
       "      <th>ME2 BM2</th>\n",
       "      <th>ME2 BM3</th>\n",
       "      <th>ME2 BM4</th>\n",
       "      <th>ME2 BM5</th>\n",
       "      <th>...</th>\n",
       "      <th>ME4 BM1</th>\n",
       "      <th>ME4 BM2</th>\n",
       "      <th>ME4 BM3</th>\n",
       "      <th>ME4 BM4</th>\n",
       "      <th>ME4 BM5</th>\n",
       "      <th>BIG LoBM</th>\n",
       "      <th>ME5 BM2</th>\n",
       "      <th>ME5 BM3</th>\n",
       "      <th>ME5 BM4</th>\n",
       "      <th>BIG HiBM</th>\n",
       "    </tr>\n",
       "  </thead>\n",
       "  <tbody>\n",
       "    <tr>\n",
       "      <th>Beta</th>\n",
       "      <td>1.350155</td>\n",
       "      <td>1.160258</td>\n",
       "      <td>1.033420</td>\n",
       "      <td>0.966237</td>\n",
       "      <td>0.987966</td>\n",
       "      <td>1.333321</td>\n",
       "      <td>1.128632</td>\n",
       "      <td>1.024343</td>\n",
       "      <td>0.970294</td>\n",
       "      <td>1.109480</td>\n",
       "      <td>...</td>\n",
       "      <td>1.185534</td>\n",
       "      <td>1.061789</td>\n",
       "      <td>1.004859</td>\n",
       "      <td>0.982516</td>\n",
       "      <td>1.041574</td>\n",
       "      <td>0.995104</td>\n",
       "      <td>0.923224</td>\n",
       "      <td>0.875574</td>\n",
       "      <td>0.905370</td>\n",
       "      <td>1.013596</td>\n",
       "    </tr>\n",
       "    <tr>\n",
       "      <th>Treynor Ratio</th>\n",
       "      <td>0.006393</td>\n",
       "      <td>0.078870</td>\n",
       "      <td>0.089889</td>\n",
       "      <td>0.121405</td>\n",
       "      <td>0.131027</td>\n",
       "      <td>0.044873</td>\n",
       "      <td>0.090282</td>\n",
       "      <td>0.104167</td>\n",
       "      <td>0.112304</td>\n",
       "      <td>0.104759</td>\n",
       "      <td>...</td>\n",
       "      <td>0.078152</td>\n",
       "      <td>0.089527</td>\n",
       "      <td>0.093280</td>\n",
       "      <td>0.103249</td>\n",
       "      <td>0.103951</td>\n",
       "      <td>0.092103</td>\n",
       "      <td>0.090729</td>\n",
       "      <td>0.092005</td>\n",
       "      <td>0.073903</td>\n",
       "      <td>0.095404</td>\n",
       "    </tr>\n",
       "    <tr>\n",
       "      <th>Alpha-Adj</th>\n",
       "      <td>-0.101802</td>\n",
       "      <td>-0.003391</td>\n",
       "      <td>0.008367</td>\n",
       "      <td>0.038275</td>\n",
       "      <td>0.048642</td>\n",
       "      <td>-0.049226</td>\n",
       "      <td>0.009581</td>\n",
       "      <td>0.022919</td>\n",
       "      <td>0.029605</td>\n",
       "      <td>0.025481</td>\n",
       "      <td>...</td>\n",
       "      <td>-0.004316</td>\n",
       "      <td>0.008212</td>\n",
       "      <td>0.011544</td>\n",
       "      <td>0.021081</td>\n",
       "      <td>0.023080</td>\n",
       "      <td>0.010260</td>\n",
       "      <td>0.008250</td>\n",
       "      <td>0.008942</td>\n",
       "      <td>-0.007143</td>\n",
       "      <td>0.013797</td>\n",
       "    </tr>\n",
       "    <tr>\n",
       "      <th>Information Ratio</th>\n",
       "      <td>-0.589110</td>\n",
       "      <td>-0.022498</td>\n",
       "      <td>0.073196</td>\n",
       "      <td>0.321441</td>\n",
       "      <td>0.347688</td>\n",
       "      <td>-0.382695</td>\n",
       "      <td>0.093038</td>\n",
       "      <td>0.248074</td>\n",
       "      <td>0.300816</td>\n",
       "      <td>0.203409</td>\n",
       "      <td>...</td>\n",
       "      <td>-0.051401</td>\n",
       "      <td>0.128763</td>\n",
       "      <td>0.149916</td>\n",
       "      <td>0.247686</td>\n",
       "      <td>0.201667</td>\n",
       "      <td>0.191531</td>\n",
       "      <td>0.146970</td>\n",
       "      <td>0.128080</td>\n",
       "      <td>-0.072880</td>\n",
       "      <td>0.104303</td>\n",
       "    </tr>\n",
       "  </tbody>\n",
       "</table>\n",
       "<p>4 rows × 25 columns</p>\n",
       "</div>"
      ],
      "text/plain": [
       "                   SMALL LoBM   ME1 BM2   ME1 BM3   ME1 BM4  SMALL HiBM  \\\n",
       "Beta                 1.350155  1.160258  1.033420  0.966237    0.987966   \n",
       "Treynor Ratio        0.006393  0.078870  0.089889  0.121405    0.131027   \n",
       "Alpha-Adj           -0.101802 -0.003391  0.008367  0.038275    0.048642   \n",
       "Information Ratio   -0.589110 -0.022498  0.073196  0.321441    0.347688   \n",
       "\n",
       "                    ME2 BM1   ME2 BM2   ME2 BM3   ME2 BM4   ME2 BM5  ...  \\\n",
       "Beta               1.333321  1.128632  1.024343  0.970294  1.109480  ...   \n",
       "Treynor Ratio      0.044873  0.090282  0.104167  0.112304  0.104759  ...   \n",
       "Alpha-Adj         -0.049226  0.009581  0.022919  0.029605  0.025481  ...   \n",
       "Information Ratio -0.382695  0.093038  0.248074  0.300816  0.203409  ...   \n",
       "\n",
       "                    ME4 BM1   ME4 BM2   ME4 BM3   ME4 BM4   ME4 BM5  BIG LoBM  \\\n",
       "Beta               1.185534  1.061789  1.004859  0.982516  1.041574  0.995104   \n",
       "Treynor Ratio      0.078152  0.089527  0.093280  0.103249  0.103951  0.092103   \n",
       "Alpha-Adj         -0.004316  0.008212  0.011544  0.021081  0.023080  0.010260   \n",
       "Information Ratio -0.051401  0.128763  0.149916  0.247686  0.201667  0.191531   \n",
       "\n",
       "                    ME5 BM2   ME5 BM3   ME5 BM4  BIG HiBM  \n",
       "Beta               0.923224  0.875574  0.905370  1.013596  \n",
       "Treynor Ratio      0.090729  0.092005  0.073903  0.095404  \n",
       "Alpha-Adj          0.008250  0.008942 -0.007143  0.013797  \n",
       "Information Ratio  0.146970  0.128080 -0.072880  0.104303  \n",
       "\n",
       "[4 rows x 25 columns]"
      ]
     },
     "metadata": {},
     "output_type": "display_data"
    }
   ],
   "source": [
    "display(regressions_results[[\"Beta\",\"Treynor Ratio\",\"Alpha-Adj\",\"Information Ratio\"]].T)"
   ]
  },
  {
   "cell_type": "code",
   "execution_count": 112,
   "id": "12cf3a69",
   "metadata": {},
   "outputs": [
    {
     "data": {
      "text/plain": [
       "8.179256360078279"
      ]
     },
     "execution_count": 112,
     "metadata": {},
     "output_type": "execute_result"
    }
   ],
   "source": [
    "portfolio_data[\"Mkt-RF\"].mean()*12*100"
   ]
  },
  {
   "cell_type": "code",
   "execution_count": 113,
   "id": "e449ec90",
   "metadata": {},
   "outputs": [
    {
     "data": {
      "text/plain": [
       "0.09106597675717573"
      ]
     },
     "execution_count": 113,
     "metadata": {},
     "output_type": "execute_result"
    }
   ],
   "source": [
    "regressions_results[\"Treynor Ratio\"].mean()"
   ]
  },
  {
   "cell_type": "code",
   "execution_count": 114,
   "id": "0fde0e38",
   "metadata": {},
   "outputs": [
    {
     "data": {
      "text/plain": [
       "count    2500.000000\n",
       "mean        0.758237\n",
       "std         3.091530\n",
       "min       -10.180173\n",
       "25%         0.821182\n",
       "50%         1.154371\n",
       "75%         2.307951\n",
       "max         4.864170\n",
       "Name: Alpha-Adj, dtype: float64"
      ]
     },
     "execution_count": 114,
     "metadata": {},
     "output_type": "execute_result"
    }
   ],
   "source": [
    "regressions_results[\"Alpha-Adj\"].describe()*100"
   ]
  },
  {
   "cell_type": "markdown",
   "id": "39154952",
   "metadata": {},
   "source": [
    "d) If CAPM were true, what would be true of the Treynor Ratios, alphas, and Information Ratios?"
   ]
  },
  {
   "cell_type": "markdown",
   "id": "8ffb635e",
   "metadata": {},
   "source": [
    "*Answer:* The CAPM implies that\n",
    "\n",
    "* $Treynor\\ Ratio = \\frac{\\mathbb{E}[r^{i}]}{\\beta^{i,m}}$, given CAPM $(\\mathbb{E}[r^{i}] = \\beta^{i,m}\\mathbb{E}[r^{m}])$ $$\\Rightarrow Treynor\\ Ratio =  \\mathbb{E}[r^{m}]   \\forall i $$\n",
    "Which should be around 8.36% (market return for that period), but we can see that the average Teynor Ration for the assets is 9.06% \n",
    "\n",
    "* Alphas should be equal to zero (because CAMP does not include Alpha in the model), but we got Alphas from -10.6% to +4.46% "
   ]
  },
  {
   "cell_type": "markdown",
   "id": "fb8ab9b4",
   "metadata": {},
   "source": [
    "## 3. Cross-sectional Estimation\n",
    "Let's test (CAPM) directly. We already have what we need:\n",
    "\n",
    "- The dependent variable, (y): mean excess returns from each of the n = 25 portfolios.\n",
    "- The regressor, (x): the market beta from each of the n = 25 time-series regressions.\n",
    "\n",
    "- Then we can estimate the following equation:\n",
    "\n",
    "$$ \n",
    "\\underbrace{\\mathop{\\mathbb{E}}[\\tilde{r}^{i}]}_\\text{n x 1 data} = \n",
    "    \\underbrace{\\eta}_\\text{regression intercept} +\n",
    "    \\underbrace{\\beta^{i,m}}_\\text{n x 1 data} * \n",
    "    \\underbrace{\\lambda_{m}}_\\text{regression estimate} + \n",
    "    \\underbrace{\\upsilon}_\\text{n x 1 residuals}\n",
    "$$ \n",
    " \n",
    "- Note that we use sample means as estimates of $\\mathop{\\mathbb{E}}[\\tilde{r}^{i}]$.\n",
    "- This is a weird regression! The regressors are the betas from the time-series regressions we already ran!\n",
    "- This is a single regression, where we are combining evidence across all n = 25 series. Thus, it is a cross-sectional regression!\n",
    "- The notation is trying to emphasize that the intercept is different than the time-series $\\alpha$ and that the regressor coefficient is different than the time-series betas."
   ]
  },
  {
   "cell_type": "markdown",
   "id": "fa46e86d",
   "metadata": {},
   "source": [
    "- Report the R-squared of this regression.\n",
    "- Report the intercept, $\\upsilon$.\n",
    "- Report the regression coefficient, $\\lambda_{m}$."
   ]
  },
  {
   "cell_type": "code",
   "execution_count": 121,
   "id": "9c70043a",
   "metadata": {},
   "outputs": [],
   "source": [
    "sample_mean = pd.DataFrame(portfolio_data.drop([\"Mkt-RF\"], axis = 1).mean(), columns=[\"Mean\"])\n",
    "betas = regressions_results[[\"Beta\"]]\n",
    "cross_sectional = pd.merge(sample_mean, betas, left_index=True, right_index=True, how = \"left\")"
   ]
  },
  {
   "cell_type": "code",
   "execution_count": 122,
   "id": "24f943af",
   "metadata": {},
   "outputs": [
    {
     "data": {
      "text/plain": [
       "<Axes: xlabel='Beta', ylabel='Mean'>"
      ]
     },
     "execution_count": 122,
     "metadata": {},
     "output_type": "execute_result"
    },
    {
     "data": {
      "image/png": "[encoded data removed]",
      "text/plain": [
       "<Figure size 640x480 with 1 Axes>"
      ]
     },
     "metadata": {},
     "output_type": "display_data"
    }
   ],
   "source": [
    "sns.scatterplot(data=cross_sectional, x=\"Beta\", y=\"Mean\", hue=cross_sectional.index, legend=False)"
   ]
  },
  {
   "cell_type": "code",
   "execution_count": 123,
   "id": "b478e17e",
   "metadata": {},
   "outputs": [],
   "source": [
    "import statsmodels.api as sm\n",
    "\n",
    "X = sm.add_constant(cross_sectional[\"Beta\"])\n",
    "y = cross_sectional[\"Mean\"]\n",
    "mod = sm.OLS(y, X).fit()"
   ]
  },
  {
   "cell_type": "code",
   "execution_count": 124,
   "id": "82f473e7",
   "metadata": {},
   "outputs": [
    {
     "data": {
      "text/html": [
       "<table class=\"simpletable\">\n",
       "<caption>OLS Regression Results</caption>\n",
       "<tr>\n",
       "  <th>Dep. Variable:</th>          <td>Mean</td>       <th>  R-squared:         </th> <td>   0.274</td>\n",
       "</tr>\n",
       "<tr>\n",
       "  <th>Model:</th>                   <td>OLS</td>       <th>  Adj. R-squared:    </th> <td>   0.243</td>\n",
       "</tr>\n",
       "<tr>\n",
       "  <th>Method:</th>             <td>Least Squares</td>  <th>  F-statistic:       </th> <td>   8.692</td>\n",
       "</tr>\n",
       "<tr>\n",
       "  <th>Date:</th>             <td>Sat, 26 Oct 2024</td> <th>  Prob (F-statistic):</th>  <td>0.00721</td>\n",
       "</tr>\n",
       "<tr>\n",
       "  <th>Time:</th>                 <td>22:19:03</td>     <th>  Log-Likelihood:    </th> <td>  123.95</td>\n",
       "</tr>\n",
       "<tr>\n",
       "  <th>No. Observations:</th>      <td>    25</td>      <th>  AIC:               </th> <td>  -243.9</td>\n",
       "</tr>\n",
       "<tr>\n",
       "  <th>Df Residuals:</th>          <td>    23</td>      <th>  BIC:               </th> <td>  -241.5</td>\n",
       "</tr>\n",
       "<tr>\n",
       "  <th>Df Model:</th>              <td>     1</td>      <th>                     </th>     <td> </td>   \n",
       "</tr>\n",
       "<tr>\n",
       "  <th>Covariance Type:</th>      <td>nonrobust</td>    <th>                     </th>     <td> </td>   \n",
       "</tr>\n",
       "</table>\n",
       "<table class=\"simpletable\">\n",
       "<tr>\n",
       "    <td></td>       <th>coef</th>     <th>std err</th>      <th>t</th>      <th>P>|t|</th>  <th>[0.025</th>    <th>0.975]</th>  \n",
       "</tr>\n",
       "<tr>\n",
       "  <th>const</th> <td>    0.0170</td> <td>    0.003</td> <td>    5.432</td> <td> 0.000</td> <td>    0.011</td> <td>    0.023</td>\n",
       "</tr>\n",
       "<tr>\n",
       "  <th>Beta</th>  <td>   -0.0087</td> <td>    0.003</td> <td>   -2.948</td> <td> 0.007</td> <td>   -0.015</td> <td>   -0.003</td>\n",
       "</tr>\n",
       "</table>\n",
       "<table class=\"simpletable\">\n",
       "<tr>\n",
       "  <th>Omnibus:</th>       <td> 6.492</td> <th>  Durbin-Watson:     </th> <td>   1.202</td>\n",
       "</tr>\n",
       "<tr>\n",
       "  <th>Prob(Omnibus):</th> <td> 0.039</td> <th>  Jarque-Bera (JB):  </th> <td>   4.570</td>\n",
       "</tr>\n",
       "<tr>\n",
       "  <th>Skew:</th>          <td>-0.987</td> <th>  Prob(JB):          </th> <td>   0.102</td>\n",
       "</tr>\n",
       "<tr>\n",
       "  <th>Kurtosis:</th>      <td> 3.702</td> <th>  Cond. No.          </th> <td>    17.6</td>\n",
       "</tr>\n",
       "</table><br/><br/>Notes:<br/>[1] Standard Errors assume that the covariance matrix of the errors is correctly specified."
      ],
      "text/latex": [
       "\\begin{center}\n",
       "\\begin{tabular}{lclc}\n",
       "\\toprule\n",
       "\\textbf{Dep. Variable:}    &       Mean       & \\textbf{  R-squared:         } &     0.274   \\\\\n",
       "\\textbf{Model:}            &       OLS        & \\textbf{  Adj. R-squared:    } &     0.243   \\\\\n",
       "\\textbf{Method:}           &  Least Squares   & \\textbf{  F-statistic:       } &     8.692   \\\\\n",
       "\\textbf{Date:}             & Sat, 26 Oct 2024 & \\textbf{  Prob (F-statistic):} &  0.00721    \\\\\n",
       "\\textbf{Time:}             &     22:19:03     & \\textbf{  Log-Likelihood:    } &    123.95   \\\\\n",
       "\\textbf{No. Observations:} &          25      & \\textbf{  AIC:               } &    -243.9   \\\\\n",
       "\\textbf{Df Residuals:}     &          23      & \\textbf{  BIC:               } &    -241.5   \\\\\n",
       "\\textbf{Df Model:}         &           1      & \\textbf{                     } &             \\\\\n",
       "\\textbf{Covariance Type:}  &    nonrobust     & \\textbf{                     } &             \\\\\n",
       "\\bottomrule\n",
       "\\end{tabular}\n",
       "\\begin{tabular}{lcccccc}\n",
       "               & \\textbf{coef} & \\textbf{std err} & \\textbf{t} & \\textbf{P$> |$t$|$} & \\textbf{[0.025} & \\textbf{0.975]}  \\\\\n",
       "\\midrule\n",
       "\\textbf{const} &       0.0170  &        0.003     &     5.432  &         0.000        &        0.011    &        0.023     \\\\\n",
       "\\textbf{Beta}  &      -0.0087  &        0.003     &    -2.948  &         0.007        &       -0.015    &       -0.003     \\\\\n",
       "\\bottomrule\n",
       "\\end{tabular}\n",
       "\\begin{tabular}{lclc}\n",
       "\\textbf{Omnibus:}       &  6.492 & \\textbf{  Durbin-Watson:     } &    1.202  \\\\\n",
       "\\textbf{Prob(Omnibus):} &  0.039 & \\textbf{  Jarque-Bera (JB):  } &    4.570  \\\\\n",
       "\\textbf{Skew:}          & -0.987 & \\textbf{  Prob(JB):          } &    0.102  \\\\\n",
       "\\textbf{Kurtosis:}      &  3.702 & \\textbf{  Cond. No.          } &     17.6  \\\\\n",
       "\\bottomrule\n",
       "\\end{tabular}\n",
       "%\\caption{OLS Regression Results}\n",
       "\\end{center}\n",
       "\n",
       "Notes: \\newline\n",
       " [1] Standard Errors assume that the covariance matrix of the errors is correctly specified."
      ],
      "text/plain": [
       "<class 'statsmodels.iolib.summary.Summary'>\n",
       "\"\"\"\n",
       "                            OLS Regression Results                            \n",
       "==============================================================================\n",
       "Dep. Variable:                   Mean   R-squared:                       0.274\n",
       "Model:                            OLS   Adj. R-squared:                  0.243\n",
       "Method:                 Least Squares   F-statistic:                     8.692\n",
       "Date:                Sat, 26 Oct 2024   Prob (F-statistic):            0.00721\n",
       "Time:                        22:19:03   Log-Likelihood:                 123.95\n",
       "No. Observations:                  25   AIC:                            -243.9\n",
       "Df Residuals:                      23   BIC:                            -241.5\n",
       "Df Model:                           1                                         \n",
       "Covariance Type:            nonrobust                                         \n",
       "==============================================================================\n",
       "                 coef    std err          t      P>|t|      [0.025      0.975]\n",
       "------------------------------------------------------------------------------\n",
       "const          0.0170      0.003      5.432      0.000       0.011       0.023\n",
       "Beta          -0.0087      0.003     -2.948      0.007      -0.015      -0.003\n",
       "==============================================================================\n",
       "Omnibus:                        6.492   Durbin-Watson:                   1.202\n",
       "Prob(Omnibus):                  0.039   Jarque-Bera (JB):                4.570\n",
       "Skew:                          -0.987   Prob(JB):                        0.102\n",
       "Kurtosis:                       3.702   Cond. No.                         17.6\n",
       "==============================================================================\n",
       "\n",
       "Notes:\n",
       "[1] Standard Errors assume that the covariance matrix of the errors is correctly specified.\n",
       "\"\"\""
      ]
     },
     "execution_count": 124,
     "metadata": {},
     "output_type": "execute_result"
    }
   ],
   "source": [
    "mod.summary()"
   ]
  },
  {
   "cell_type": "code",
   "execution_count": 127,
   "id": "e6529008",
   "metadata": {},
   "outputs": [
    {
     "name": "stdout",
     "output_type": "stream",
     "text": [
      "R-squared: 27.43%\n",
      "Regression Coefficient: -0.87%\n",
      "Intercept: 20.41%\n"
     ]
    }
   ],
   "source": [
    "print(f\"R-squared: {round(mod.rsquared*100,2):.2f}%\\nRegression Coefficient: {round(mod.params['Beta']*100,2):.2f}%\\nIntercept: {round(mod.params['const']*12*100,2):.2f}%\")"
   ]
  },
  {
   "cell_type": "markdown",
   "id": "91b1d03c",
   "metadata": {},
   "source": [
    "What would these three statistics be if (CAPM) were true?"
   ]
  },
  {
   "cell_type": "code",
   "execution_count": 128,
   "id": "d6bbdd27",
   "metadata": {},
   "outputs": [
    {
     "data": {
      "text/plain": [
       "8.179256360078279"
      ]
     },
     "execution_count": 128,
     "metadata": {},
     "output_type": "execute_result"
    }
   ],
   "source": [
    "portfolio_data[\"Mkt-RF\"].mean()*12*100  "
   ]
  },
  {
   "cell_type": "markdown",
   "id": "4ec2ea8e",
   "metadata": {},
   "source": [
    "*Answer:* If the CAPM were true, the cross-sectional R-squared should be 1, the regression coefficient should equal the in-sample expected return of the market (8.36%), and the intercept should be zero. Therefore, we can conclude that in this sample, the CAPM does not hold."
   ]
  },
  {
   "cell_type": "markdown",
   "id": "8d98b25a",
   "metadata": {},
   "source": [
    "4) Broadly speaking, do these results support DFA's belief in size and value portfolios containing premia unrelated to the CAPM?"
   ]
  },
  {
   "cell_type": "markdown",
   "id": "77eb087b",
   "metadata": {},
   "source": [
    "*Answer:* In fact, these results suggest that we could add other factors in order to explain the excess of return of the assets, and both, Size and Value factor showed a low corralation with the market and accross each other"
   ]
  },
  {
   "cell_type": "markdown",
   "id": "342cb291",
   "metadata": {},
   "source": [
    "# 4) Extensions"
   ]
  },
  {
   "cell_type": "markdown",
   "id": "007fe9c3",
   "metadata": {},
   "source": [
    "1) Re-do the analysis of 3.3 and 3.3, but instead of using the market return as the factor, use a new factor: the in-sample tangency portfolio of the n = 25 portfolios.\n",
    "\n",
    "You will not use the factor data for this problem!\n",
    "- Calculate $\\tilde{r}^{tan}$ by solving the MV optimization of the n excess returns.\n",
    "- Consider this to be your single factor.\n",
    "\n",
    "Instead of testing (CAPM), you will test the MV model:\n",
    "\n",
    "$$\\mathop{\\mathbb{E}}[\\tilde{r}^{i}_{t}] = \\beta^{i,tan} \\mathop{\\mathbb{E}}[\\tilde{r}^{tan}_{t}]$$\n",
    "\n",
    "What do you find?"
   ]
  },
  {
   "cell_type": "code",
   "execution_count": 129,
   "id": "1e5fe3e4",
   "metadata": {},
   "outputs": [],
   "source": [
    "portfolio_data[\"Tangency_portfolio\"] = portfolio_data.drop([\"Mkt-RF\"],axis = 1) @ mf.weights_tang(portfolio_data.drop([\"Mkt-RF\"],axis = 1), adj_factor=12)"
   ]
  },
  {
   "cell_type": "code",
   "execution_count": 130,
   "id": "08ca2fcd",
   "metadata": {},
   "outputs": [
    {
     "data": {
      "text/plain": [
       "39.88596178645613"
      ]
     },
     "execution_count": 130,
     "metadata": {},
     "output_type": "execute_result"
    }
   ],
   "source": [
    "portfolio_data[\"Tangency_portfolio\"].mean()*12*100"
   ]
  },
  {
   "cell_type": "code",
   "execution_count": 131,
   "id": "869048f1",
   "metadata": {},
   "outputs": [
    {
     "data": {
      "text/html": [
       "<style type=\"text/css\">\n",
       "</style>\n",
       "<table id=\"T_ab5bd\">\n",
       "  <thead>\n",
       "    <tr>\n",
       "      <th class=\"blank level0\" >&nbsp;</th>\n",
       "      <th id=\"T_ab5bd_level0_col0\" class=\"col_heading level0 col0\" >Mean</th>\n",
       "      <th id=\"T_ab5bd_level0_col1\" class=\"col_heading level0 col1\" >Volatility</th>\n",
       "      <th id=\"T_ab5bd_level0_col2\" class=\"col_heading level0 col2\" >Sharpe_Ratio</th>\n",
       "      <th id=\"T_ab5bd_level0_col3\" class=\"col_heading level0 col3\" >VaR</th>\n",
       "    </tr>\n",
       "  </thead>\n",
       "  <tbody>\n",
       "    <tr>\n",
       "      <th id=\"T_ab5bd_level0_row0\" class=\"row_heading level0 row0\" >SMALL LoBM</th>\n",
       "      <td id=\"T_ab5bd_row0_col0\" class=\"data row0 col0\" >0.86%</td>\n",
       "      <td id=\"T_ab5bd_row0_col1\" class=\"data row0 col1\" >27.26%</td>\n",
       "      <td id=\"T_ab5bd_row0_col2\" class=\"data row0 col2\" >3.17%</td>\n",
       "      <td id=\"T_ab5bd_row0_col3\" class=\"data row0 col3\" >-12.11%</td>\n",
       "    </tr>\n",
       "    <tr>\n",
       "      <th id=\"T_ab5bd_level0_row1\" class=\"row_heading level0 row1\" >ME1 BM2</th>\n",
       "      <td id=\"T_ab5bd_row1_col0\" class=\"data row1 col0\" >9.15%</td>\n",
       "      <td id=\"T_ab5bd_row1_col1\" class=\"data row1 col1\" >23.57%</td>\n",
       "      <td id=\"T_ab5bd_row1_col2\" class=\"data row1 col2\" >38.82%</td>\n",
       "      <td id=\"T_ab5bd_row1_col3\" class=\"data row1 col3\" >-9.57%</td>\n",
       "    </tr>\n",
       "    <tr>\n",
       "      <th id=\"T_ab5bd_level0_row2\" class=\"row_heading level0 row2\" >ME1 BM3</th>\n",
       "      <td id=\"T_ab5bd_row2_col0\" class=\"data row2 col0\" >9.29%</td>\n",
       "      <td id=\"T_ab5bd_row2_col1\" class=\"data row2 col1\" >19.78%</td>\n",
       "      <td id=\"T_ab5bd_row2_col2\" class=\"data row2 col2\" >46.96%</td>\n",
       "      <td id=\"T_ab5bd_row2_col3\" class=\"data row2 col3\" >-8.58%</td>\n",
       "    </tr>\n",
       "    <tr>\n",
       "      <th id=\"T_ab5bd_level0_row3\" class=\"row_heading level0 row3\" >ME1 BM4</th>\n",
       "      <td id=\"T_ab5bd_row3_col0\" class=\"data row3 col0\" >11.73%</td>\n",
       "      <td id=\"T_ab5bd_row3_col1\" class=\"data row3 col1\" >19.22%</td>\n",
       "      <td id=\"T_ab5bd_row3_col2\" class=\"data row3 col2\" >61.02%</td>\n",
       "      <td id=\"T_ab5bd_row3_col3\" class=\"data row3 col3\" >-7.64%</td>\n",
       "    </tr>\n",
       "    <tr>\n",
       "      <th id=\"T_ab5bd_level0_row4\" class=\"row_heading level0 row4\" >SMALL HiBM</th>\n",
       "      <td id=\"T_ab5bd_row4_col0\" class=\"data row4 col0\" >12.94%</td>\n",
       "      <td id=\"T_ab5bd_row4_col1\" class=\"data row4 col1\" >20.83%</td>\n",
       "      <td id=\"T_ab5bd_row4_col2\" class=\"data row4 col2\" >62.15%</td>\n",
       "      <td id=\"T_ab5bd_row4_col3\" class=\"data row4 col3\" >-8.88%</td>\n",
       "    </tr>\n",
       "    <tr>\n",
       "      <th id=\"T_ab5bd_level0_row5\" class=\"row_heading level0 row5\" >ME2 BM1</th>\n",
       "      <td id=\"T_ab5bd_row5_col0\" class=\"data row5 col0\" >5.98%</td>\n",
       "      <td id=\"T_ab5bd_row5_col1\" class=\"data row5 col1\" >24.48%</td>\n",
       "      <td id=\"T_ab5bd_row5_col2\" class=\"data row5 col2\" >24.44%</td>\n",
       "      <td id=\"T_ab5bd_row5_col3\" class=\"data row5 col3\" >-10.40%</td>\n",
       "    </tr>\n",
       "    <tr>\n",
       "      <th id=\"T_ab5bd_level0_row6\" class=\"row_heading level0 row6\" >ME2 BM2</th>\n",
       "      <td id=\"T_ab5bd_row6_col0\" class=\"data row6 col0\" >10.19%</td>\n",
       "      <td id=\"T_ab5bd_row6_col1\" class=\"data row6 col1\" >20.42%</td>\n",
       "      <td id=\"T_ab5bd_row6_col2\" class=\"data row6 col2\" >49.91%</td>\n",
       "      <td id=\"T_ab5bd_row6_col3\" class=\"data row6 col3\" >-8.51%</td>\n",
       "    </tr>\n",
       "    <tr>\n",
       "      <th id=\"T_ab5bd_level0_row7\" class=\"row_heading level0 row7\" >ME2 BM3</th>\n",
       "      <td id=\"T_ab5bd_row7_col0\" class=\"data row7 col0\" >10.67%</td>\n",
       "      <td id=\"T_ab5bd_row7_col1\" class=\"data row7 col1\" >18.48%</td>\n",
       "      <td id=\"T_ab5bd_row7_col2\" class=\"data row7 col2\" >57.75%</td>\n",
       "      <td id=\"T_ab5bd_row7_col3\" class=\"data row7 col3\" >-7.94%</td>\n",
       "    </tr>\n",
       "    <tr>\n",
       "      <th id=\"T_ab5bd_level0_row8\" class=\"row_heading level0 row8\" >ME2 BM4</th>\n",
       "      <td id=\"T_ab5bd_row8_col0\" class=\"data row8 col0\" >10.90%</td>\n",
       "      <td id=\"T_ab5bd_row8_col1\" class=\"data row8 col1\" >18.07%</td>\n",
       "      <td id=\"T_ab5bd_row8_col2\" class=\"data row8 col2\" >60.30%</td>\n",
       "      <td id=\"T_ab5bd_row8_col3\" class=\"data row8 col3\" >-7.74%</td>\n",
       "    </tr>\n",
       "    <tr>\n",
       "      <th id=\"T_ab5bd_level0_row9\" class=\"row_heading level0 row9\" >ME2 BM5</th>\n",
       "      <td id=\"T_ab5bd_row9_col0\" class=\"data row9 col0\" >11.62%</td>\n",
       "      <td id=\"T_ab5bd_row9_col1\" class=\"data row9 col1\" >21.38%</td>\n",
       "      <td id=\"T_ab5bd_row9_col2\" class=\"data row9 col2\" >54.35%</td>\n",
       "      <td id=\"T_ab5bd_row9_col3\" class=\"data row9 col3\" >-9.67%</td>\n",
       "    </tr>\n",
       "    <tr>\n",
       "      <th id=\"T_ab5bd_level0_row10\" class=\"row_heading level0 row10\" >ME3 BM1</th>\n",
       "      <td id=\"T_ab5bd_row10_col0\" class=\"data row10 col0\" >7.17%</td>\n",
       "      <td id=\"T_ab5bd_row10_col1\" class=\"data row10 col1\" >22.51%</td>\n",
       "      <td id=\"T_ab5bd_row10_col2\" class=\"data row10 col2\" >31.83%</td>\n",
       "      <td id=\"T_ab5bd_row10_col3\" class=\"data row10 col3\" >-10.13%</td>\n",
       "    </tr>\n",
       "    <tr>\n",
       "      <th id=\"T_ab5bd_level0_row11\" class=\"row_heading level0 row11\" >ME3 BM2</th>\n",
       "      <td id=\"T_ab5bd_row11_col0\" class=\"data row11 col0\" >10.89%</td>\n",
       "      <td id=\"T_ab5bd_row11_col1\" class=\"data row11 col1\" >18.84%</td>\n",
       "      <td id=\"T_ab5bd_row11_col2\" class=\"data row11 col2\" >57.79%</td>\n",
       "      <td id=\"T_ab5bd_row11_col3\" class=\"data row11 col3\" >-7.93%</td>\n",
       "    </tr>\n",
       "    <tr>\n",
       "      <th id=\"T_ab5bd_level0_row12\" class=\"row_heading level0 row12\" >ME3 BM3</th>\n",
       "      <td id=\"T_ab5bd_row12_col0\" class=\"data row12 col0\" >9.31%</td>\n",
       "      <td id=\"T_ab5bd_row12_col1\" class=\"data row12 col1\" >17.21%</td>\n",
       "      <td id=\"T_ab5bd_row12_col2\" class=\"data row12 col2\" >54.08%</td>\n",
       "      <td id=\"T_ab5bd_row12_col3\" class=\"data row12 col3\" >-7.45%</td>\n",
       "    </tr>\n",
       "    <tr>\n",
       "      <th id=\"T_ab5bd_level0_row13\" class=\"row_heading level0 row13\" >ME3 BM4</th>\n",
       "      <td id=\"T_ab5bd_row13_col0\" class=\"data row13 col0\" >10.93%</td>\n",
       "      <td id=\"T_ab5bd_row13_col1\" class=\"data row13 col1\" >17.94%</td>\n",
       "      <td id=\"T_ab5bd_row13_col2\" class=\"data row13 col2\" >60.93%</td>\n",
       "      <td id=\"T_ab5bd_row13_col3\" class=\"data row13 col3\" >-7.26%</td>\n",
       "    </tr>\n",
       "    <tr>\n",
       "      <th id=\"T_ab5bd_level0_row14\" class=\"row_heading level0 row14\" >ME3 BM5</th>\n",
       "      <td id=\"T_ab5bd_row14_col0\" class=\"data row14 col0\" >12.37%</td>\n",
       "      <td id=\"T_ab5bd_row14_col1\" class=\"data row14 col1\" >20.07%</td>\n",
       "      <td id=\"T_ab5bd_row14_col2\" class=\"data row14 col2\" >61.63%</td>\n",
       "      <td id=\"T_ab5bd_row14_col3\" class=\"data row14 col3\" >-8.47%</td>\n",
       "    </tr>\n",
       "    <tr>\n",
       "      <th id=\"T_ab5bd_level0_row15\" class=\"row_heading level0 row15\" >ME4 BM1</th>\n",
       "      <td id=\"T_ab5bd_row15_col0\" class=\"data row15 col0\" >9.27%</td>\n",
       "      <td id=\"T_ab5bd_row15_col1\" class=\"data row15 col1\" >20.33%</td>\n",
       "      <td id=\"T_ab5bd_row15_col2\" class=\"data row15 col2\" >45.57%</td>\n",
       "      <td id=\"T_ab5bd_row15_col3\" class=\"data row15 col3\" >-8.40%</td>\n",
       "    </tr>\n",
       "    <tr>\n",
       "      <th id=\"T_ab5bd_level0_row16\" class=\"row_heading level0 row16\" >ME4 BM2</th>\n",
       "      <td id=\"T_ab5bd_row16_col0\" class=\"data row16 col0\" >9.51%</td>\n",
       "      <td id=\"T_ab5bd_row16_col1\" class=\"data row16 col1\" >17.77%</td>\n",
       "      <td id=\"T_ab5bd_row16_col2\" class=\"data row16 col2\" >53.50%</td>\n",
       "      <td id=\"T_ab5bd_row16_col3\" class=\"data row16 col3\" >-7.43%</td>\n",
       "    </tr>\n",
       "    <tr>\n",
       "      <th id=\"T_ab5bd_level0_row17\" class=\"row_heading level0 row17\" >ME4 BM3</th>\n",
       "      <td id=\"T_ab5bd_row17_col0\" class=\"data row17 col0\" >9.37%</td>\n",
       "      <td id=\"T_ab5bd_row17_col1\" class=\"data row17 col1\" >17.48%</td>\n",
       "      <td id=\"T_ab5bd_row17_col2\" class=\"data row17 col2\" >53.61%</td>\n",
       "      <td id=\"T_ab5bd_row17_col3\" class=\"data row17 col3\" >-7.57%</td>\n",
       "    </tr>\n",
       "    <tr>\n",
       "      <th id=\"T_ab5bd_level0_row18\" class=\"row_heading level0 row18\" >ME4 BM4</th>\n",
       "      <td id=\"T_ab5bd_row18_col0\" class=\"data row18 col0\" >10.14%</td>\n",
       "      <td id=\"T_ab5bd_row18_col1\" class=\"data row18 col1\" >17.55%</td>\n",
       "      <td id=\"T_ab5bd_row18_col2\" class=\"data row18 col2\" >57.81%</td>\n",
       "      <td id=\"T_ab5bd_row18_col3\" class=\"data row18 col3\" >-6.94%</td>\n",
       "    </tr>\n",
       "    <tr>\n",
       "      <th id=\"T_ab5bd_level0_row19\" class=\"row_heading level0 row19\" >ME4 BM5</th>\n",
       "      <td id=\"T_ab5bd_row19_col0\" class=\"data row19 col0\" >10.83%</td>\n",
       "      <td id=\"T_ab5bd_row19_col1\" class=\"data row19 col1\" >19.89%</td>\n",
       "      <td id=\"T_ab5bd_row19_col2\" class=\"data row19 col2\" >54.43%</td>\n",
       "      <td id=\"T_ab5bd_row19_col3\" class=\"data row19 col3\" >-8.36%</td>\n",
       "    </tr>\n",
       "    <tr>\n",
       "      <th id=\"T_ab5bd_level0_row20\" class=\"row_heading level0 row20\" >BIG LoBM</th>\n",
       "      <td id=\"T_ab5bd_row20_col0\" class=\"data row20 col0\" >9.17%</td>\n",
       "      <td id=\"T_ab5bd_row20_col1\" class=\"data row20 col1\" >16.44%</td>\n",
       "      <td id=\"T_ab5bd_row20_col2\" class=\"data row20 col2\" >55.75%</td>\n",
       "      <td id=\"T_ab5bd_row20_col3\" class=\"data row20 col3\" >-7.58%</td>\n",
       "    </tr>\n",
       "    <tr>\n",
       "      <th id=\"T_ab5bd_level0_row21\" class=\"row_heading level0 row21\" >ME5 BM2</th>\n",
       "      <td id=\"T_ab5bd_row21_col0\" class=\"data row21 col0\" >8.38%</td>\n",
       "      <td id=\"T_ab5bd_row21_col1\" class=\"data row21 col1\" >15.47%</td>\n",
       "      <td id=\"T_ab5bd_row21_col2\" class=\"data row21 col2\" >54.13%</td>\n",
       "      <td id=\"T_ab5bd_row21_col3\" class=\"data row21 col3\" >-6.53%</td>\n",
       "    </tr>\n",
       "    <tr>\n",
       "      <th id=\"T_ab5bd_level0_row22\" class=\"row_heading level0 row22\" >ME5 BM3</th>\n",
       "      <td id=\"T_ab5bd_row22_col0\" class=\"data row22 col0\" >8.06%</td>\n",
       "      <td id=\"T_ab5bd_row22_col1\" class=\"data row22 col1\" >15.36%</td>\n",
       "      <td id=\"T_ab5bd_row22_col2\" class=\"data row22 col2\" >52.46%</td>\n",
       "      <td id=\"T_ab5bd_row22_col3\" class=\"data row22 col3\" >-7.05%</td>\n",
       "    </tr>\n",
       "    <tr>\n",
       "      <th id=\"T_ab5bd_level0_row23\" class=\"row_heading level0 row23\" >ME5 BM4</th>\n",
       "      <td id=\"T_ab5bd_row23_col0\" class=\"data row23 col0\" >6.69%</td>\n",
       "      <td id=\"T_ab5bd_row23_col1\" class=\"data row23 col1\" >17.21%</td>\n",
       "      <td id=\"T_ab5bd_row23_col2\" class=\"data row23 col2\" >38.89%</td>\n",
       "      <td id=\"T_ab5bd_row23_col3\" class=\"data row23 col3\" >-7.61%</td>\n",
       "    </tr>\n",
       "    <tr>\n",
       "      <th id=\"T_ab5bd_level0_row24\" class=\"row_heading level0 row24\" >BIG HiBM</th>\n",
       "      <td id=\"T_ab5bd_row24_col0\" class=\"data row24 col0\" >9.67%</td>\n",
       "      <td id=\"T_ab5bd_row24_col1\" class=\"data row24 col1\" >20.63%</td>\n",
       "      <td id=\"T_ab5bd_row24_col2\" class=\"data row24 col2\" >46.87%</td>\n",
       "      <td id=\"T_ab5bd_row24_col3\" class=\"data row24 col3\" >-9.64%</td>\n",
       "    </tr>\n",
       "    <tr>\n",
       "      <th id=\"T_ab5bd_level0_row25\" class=\"row_heading level0 row25\" >Mkt-RF</th>\n",
       "      <td id=\"T_ab5bd_row25_col0\" class=\"data row25 col0\" >8.18%</td>\n",
       "      <td id=\"T_ab5bd_row25_col1\" class=\"data row25 col1\" >15.62%</td>\n",
       "      <td id=\"T_ab5bd_row25_col2\" class=\"data row25 col2\" >52.36%</td>\n",
       "      <td id=\"T_ab5bd_row25_col3\" class=\"data row25 col3\" >-7.42%</td>\n",
       "    </tr>\n",
       "    <tr>\n",
       "      <th id=\"T_ab5bd_level0_row26\" class=\"row_heading level0 row26\" >Tangency_portfolio</th>\n",
       "      <td id=\"T_ab5bd_row26_col0\" class=\"data row26 col0\" >39.89%</td>\n",
       "      <td id=\"T_ab5bd_row26_col1\" class=\"data row26 col1\" >21.24%</td>\n",
       "      <td id=\"T_ab5bd_row26_col2\" class=\"data row26 col2\" >187.83%</td>\n",
       "      <td id=\"T_ab5bd_row26_col3\" class=\"data row26 col3\" >-6.94%</td>\n",
       "    </tr>\n",
       "  </tbody>\n",
       "</table>\n"
      ],
      "text/plain": [
       "<pandas.io.formats.style.Styler at 0x2515d8c5d00>"
      ]
     },
     "execution_count": 131,
     "metadata": {},
     "output_type": "execute_result"
    }
   ],
   "source": [
    "mf.get_metrics_all(portfolio_data, adj_factor=12)[[\"Mean\",\"Volatility\",\"Sharpe_Ratio\",\"VaR\"]].style.format('{:.2%}')"
   ]
  },
  {
   "cell_type": "code",
   "execution_count": 132,
   "id": "c3f2700f",
   "metadata": {},
   "outputs": [],
   "source": [
    "regressions_results_2 = mf.benchmark_regresion(portfolio_data.drop([\"Mkt-RF\"],axis = 1), benchmark=\"Tangency_portfolio\", adj=12)"
   ]
  },
  {
   "cell_type": "code",
   "execution_count": 133,
   "id": "ccbcf9d2",
   "metadata": {},
   "outputs": [
    {
     "data": {
      "text/html": [
       "<div>\n",
       "<style scoped>\n",
       "    .dataframe tbody tr th:only-of-type {\n",
       "        vertical-align: middle;\n",
       "    }\n",
       "\n",
       "    .dataframe tbody tr th {\n",
       "        vertical-align: top;\n",
       "    }\n",
       "\n",
       "    .dataframe thead th {\n",
       "        text-align: right;\n",
       "    }\n",
       "</style>\n",
       "<table border=\"1\" class=\"dataframe\">\n",
       "  <thead>\n",
       "    <tr style=\"text-align: right;\">\n",
       "      <th></th>\n",
       "      <th>Alpha-Adj</th>\n",
       "      <th>Beta</th>\n",
       "      <th>R-square</th>\n",
       "      <th>std_errors</th>\n",
       "      <th>Asset_mean</th>\n",
       "      <th>Treynor Ratio</th>\n",
       "      <th>Information Ratio</th>\n",
       "      <th>Sortino Ratio</th>\n",
       "      <th>MAE</th>\n",
       "    </tr>\n",
       "  </thead>\n",
       "  <tbody>\n",
       "    <tr>\n",
       "      <th>SMALL LoBM</th>\n",
       "      <td>-2.937266e-15</td>\n",
       "      <td>0.021639</td>\n",
       "      <td>0.000284</td>\n",
       "      <td>0.078696</td>\n",
       "      <td>0.008631</td>\n",
       "      <td>0.39886</td>\n",
       "      <td>-1.077459e-14</td>\n",
       "      <td>0.047747</td>\n",
       "      <td>0.058258</td>\n",
       "    </tr>\n",
       "    <tr>\n",
       "      <th>ME1 BM2</th>\n",
       "      <td>-2.328866e-15</td>\n",
       "      <td>0.229427</td>\n",
       "      <td>0.042718</td>\n",
       "      <td>0.066577</td>\n",
       "      <td>0.091509</td>\n",
       "      <td>0.39886</td>\n",
       "      <td>-1.009780e-14</td>\n",
       "      <td>0.579883</td>\n",
       "      <td>0.048716</td>\n",
       "    </tr>\n",
       "    <tr>\n",
       "      <th>ME1 BM3</th>\n",
       "      <td>-2.417012e-15</td>\n",
       "      <td>0.232897</td>\n",
       "      <td>0.062518</td>\n",
       "      <td>0.055285</td>\n",
       "      <td>0.092893</td>\n",
       "      <td>0.39886</td>\n",
       "      <td>-1.262065e-14</td>\n",
       "      <td>0.660049</td>\n",
       "      <td>0.041211</td>\n",
       "    </tr>\n",
       "    <tr>\n",
       "      <th>ME1 BM4</th>\n",
       "      <td>-1.111904e-15</td>\n",
       "      <td>0.294104</td>\n",
       "      <td>0.105540</td>\n",
       "      <td>0.052485</td>\n",
       "      <td>0.117306</td>\n",
       "      <td>0.39886</td>\n",
       "      <td>-6.115601e-15</td>\n",
       "      <td>0.808137</td>\n",
       "      <td>0.038096</td>\n",
       "    </tr>\n",
       "    <tr>\n",
       "      <th>SMALL HiBM</th>\n",
       "      <td>-1.978561e-15</td>\n",
       "      <td>0.324550</td>\n",
       "      <td>0.109477</td>\n",
       "      <td>0.056743</td>\n",
       "      <td>0.129450</td>\n",
       "      <td>0.39886</td>\n",
       "      <td>-1.006582e-14</td>\n",
       "      <td>0.830321</td>\n",
       "      <td>0.040198</td>\n",
       "    </tr>\n",
       "    <tr>\n",
       "      <th>ME2 BM1</th>\n",
       "      <td>-2.058005e-15</td>\n",
       "      <td>0.150001</td>\n",
       "      <td>0.016933</td>\n",
       "      <td>0.070062</td>\n",
       "      <td>0.059829</td>\n",
       "      <td>0.39886</td>\n",
       "      <td>-8.479523e-15</td>\n",
       "      <td>0.348327</td>\n",
       "      <td>0.053487</td>\n",
       "    </tr>\n",
       "    <tr>\n",
       "      <th>ME2 BM2</th>\n",
       "      <td>-1.159229e-15</td>\n",
       "      <td>0.255466</td>\n",
       "      <td>0.070600</td>\n",
       "      <td>0.056819</td>\n",
       "      <td>0.101895</td>\n",
       "      <td>0.39886</td>\n",
       "      <td>-5.889551e-15</td>\n",
       "      <td>0.681431</td>\n",
       "      <td>0.042978</td>\n",
       "    </tr>\n",
       "    <tr>\n",
       "      <th>ME2 BM3</th>\n",
       "      <td>-1.551819e-15</td>\n",
       "      <td>0.267520</td>\n",
       "      <td>0.094539</td>\n",
       "      <td>0.050752</td>\n",
       "      <td>0.106703</td>\n",
       "      <td>0.39886</td>\n",
       "      <td>-8.826696e-15</td>\n",
       "      <td>0.751274</td>\n",
       "      <td>0.037985</td>\n",
       "    </tr>\n",
       "    <tr>\n",
       "      <th>ME2 BM4</th>\n",
       "      <td>-6.919920e-16</td>\n",
       "      <td>0.273200</td>\n",
       "      <td>0.103064</td>\n",
       "      <td>0.049405</td>\n",
       "      <td>0.108968</td>\n",
       "      <td>0.39886</td>\n",
       "      <td>-4.043327e-15</td>\n",
       "      <td>0.783005</td>\n",
       "      <td>0.036861</td>\n",
       "    </tr>\n",
       "    <tr>\n",
       "      <th>ME2 BM5</th>\n",
       "      <td>-1.351458e-15</td>\n",
       "      <td>0.291402</td>\n",
       "      <td>0.083741</td>\n",
       "      <td>0.059088</td>\n",
       "      <td>0.116228</td>\n",
       "      <td>0.39886</td>\n",
       "      <td>-6.602597e-15</td>\n",
       "      <td>0.665972</td>\n",
       "      <td>0.042999</td>\n",
       "    </tr>\n",
       "    <tr>\n",
       "      <th>ME3 BM1</th>\n",
       "      <td>-1.200862e-15</td>\n",
       "      <td>0.179644</td>\n",
       "      <td>0.028709</td>\n",
       "      <td>0.064054</td>\n",
       "      <td>0.071653</td>\n",
       "      <td>0.39886</td>\n",
       "      <td>-5.412007e-15</td>\n",
       "      <td>0.457201</td>\n",
       "      <td>0.049246</td>\n",
       "    </tr>\n",
       "    <tr>\n",
       "      <th>ME3 BM2</th>\n",
       "      <td>-5.762806e-16</td>\n",
       "      <td>0.272931</td>\n",
       "      <td>0.094675</td>\n",
       "      <td>0.051737</td>\n",
       "      <td>0.108861</td>\n",
       "      <td>0.39886</td>\n",
       "      <td>-3.215440e-15</td>\n",
       "      <td>0.794218</td>\n",
       "      <td>0.039255</td>\n",
       "    </tr>\n",
       "    <tr>\n",
       "      <th>ME3 BM3</th>\n",
       "      <td>-2.073537e-16</td>\n",
       "      <td>0.233409</td>\n",
       "      <td>0.082899</td>\n",
       "      <td>0.047590</td>\n",
       "      <td>0.093097</td>\n",
       "      <td>0.39886</td>\n",
       "      <td>-1.257775e-15</td>\n",
       "      <td>0.746210</td>\n",
       "      <td>0.035907</td>\n",
       "    </tr>\n",
       "    <tr>\n",
       "      <th>ME3 BM4</th>\n",
       "      <td>-5.225312e-16</td>\n",
       "      <td>0.274102</td>\n",
       "      <td>0.105217</td>\n",
       "      <td>0.049000</td>\n",
       "      <td>0.109328</td>\n",
       "      <td>0.39886</td>\n",
       "      <td>-3.078431e-15</td>\n",
       "      <td>0.796176</td>\n",
       "      <td>0.036314</td>\n",
       "    </tr>\n",
       "    <tr>\n",
       "      <th>ME3 BM5</th>\n",
       "      <td>-6.810958e-16</td>\n",
       "      <td>0.310074</td>\n",
       "      <td>0.107665</td>\n",
       "      <td>0.054721</td>\n",
       "      <td>0.123676</td>\n",
       "      <td>0.39886</td>\n",
       "      <td>-3.593033e-15</td>\n",
       "      <td>0.748954</td>\n",
       "      <td>0.038831</td>\n",
       "    </tr>\n",
       "    <tr>\n",
       "      <th>ME4 BM1</th>\n",
       "      <td>-1.433363e-15</td>\n",
       "      <td>0.232292</td>\n",
       "      <td>0.058856</td>\n",
       "      <td>0.056942</td>\n",
       "      <td>0.092652</td>\n",
       "      <td>0.39886</td>\n",
       "      <td>-7.266621e-15</td>\n",
       "      <td>0.660323</td>\n",
       "      <td>0.042822</td>\n",
       "    </tr>\n",
       "    <tr>\n",
       "      <th>ME4 BM2</th>\n",
       "      <td>-4.679688e-16</td>\n",
       "      <td>0.238325</td>\n",
       "      <td>0.081120</td>\n",
       "      <td>0.049170</td>\n",
       "      <td>0.095058</td>\n",
       "      <td>0.39886</td>\n",
       "      <td>-2.747425e-15</td>\n",
       "      <td>0.702325</td>\n",
       "      <td>0.036547</td>\n",
       "    </tr>\n",
       "    <tr>\n",
       "      <th>ME4 BM3</th>\n",
       "      <td>-1.343896e-15</td>\n",
       "      <td>0.235004</td>\n",
       "      <td>0.081478</td>\n",
       "      <td>0.048369</td>\n",
       "      <td>0.093734</td>\n",
       "      <td>0.39886</td>\n",
       "      <td>-8.020645e-15</td>\n",
       "      <td>0.682900</td>\n",
       "      <td>0.035967</td>\n",
       "    </tr>\n",
       "    <tr>\n",
       "      <th>ME4 BM4</th>\n",
       "      <td>-3.377832e-16</td>\n",
       "      <td>0.254335</td>\n",
       "      <td>0.094715</td>\n",
       "      <td>0.048201</td>\n",
       "      <td>0.101444</td>\n",
       "      <td>0.39886</td>\n",
       "      <td>-2.022987e-15</td>\n",
       "      <td>0.735924</td>\n",
       "      <td>0.034992</td>\n",
       "    </tr>\n",
       "    <tr>\n",
       "      <th>ME4 BM5</th>\n",
       "      <td>-1.075312e-15</td>\n",
       "      <td>0.271455</td>\n",
       "      <td>0.083982</td>\n",
       "      <td>0.054957</td>\n",
       "      <td>0.108273</td>\n",
       "      <td>0.39886</td>\n",
       "      <td>-5.648330e-15</td>\n",
       "      <td>0.656947</td>\n",
       "      <td>0.039488</td>\n",
       "    </tr>\n",
       "    <tr>\n",
       "      <th>BIG LoBM</th>\n",
       "      <td>-1.141177e-15</td>\n",
       "      <td>0.229786</td>\n",
       "      <td>0.088089</td>\n",
       "      <td>0.045322</td>\n",
       "      <td>0.091652</td>\n",
       "      <td>0.39886</td>\n",
       "      <td>-7.268718e-15</td>\n",
       "      <td>0.799078</td>\n",
       "      <td>0.034819</td>\n",
       "    </tr>\n",
       "    <tr>\n",
       "      <th>ME5 BM2</th>\n",
       "      <td>-3.389216e-16</td>\n",
       "      <td>0.210006</td>\n",
       "      <td>0.083049</td>\n",
       "      <td>0.042776</td>\n",
       "      <td>0.083763</td>\n",
       "      <td>0.39886</td>\n",
       "      <td>-2.287204e-15</td>\n",
       "      <td>0.745186</td>\n",
       "      <td>0.032137</td>\n",
       "    </tr>\n",
       "    <tr>\n",
       "      <th>ME5 BM3</th>\n",
       "      <td>-6.187271e-16</td>\n",
       "      <td>0.201969</td>\n",
       "      <td>0.078013</td>\n",
       "      <td>0.042563</td>\n",
       "      <td>0.080557</td>\n",
       "      <td>0.39886</td>\n",
       "      <td>-4.196441e-15</td>\n",
       "      <td>0.707224</td>\n",
       "      <td>0.032030</td>\n",
       "    </tr>\n",
       "    <tr>\n",
       "      <th>ME5 BM4</th>\n",
       "      <td>-1.263638e-16</td>\n",
       "      <td>0.167751</td>\n",
       "      <td>0.042861</td>\n",
       "      <td>0.048594</td>\n",
       "      <td>0.066909</td>\n",
       "      <td>0.39886</td>\n",
       "      <td>-7.506638e-16</td>\n",
       "      <td>0.474399</td>\n",
       "      <td>0.034873</td>\n",
       "    </tr>\n",
       "    <tr>\n",
       "      <th>BIG HiBM</th>\n",
       "      <td>-1.122475e-15</td>\n",
       "      <td>0.242444</td>\n",
       "      <td>0.062274</td>\n",
       "      <td>0.057671</td>\n",
       "      <td>0.096701</td>\n",
       "      <td>0.39886</td>\n",
       "      <td>-5.618567e-15</td>\n",
       "      <td>0.620871</td>\n",
       "      <td>0.041834</td>\n",
       "    </tr>\n",
       "  </tbody>\n",
       "</table>\n",
       "</div>"
      ],
      "text/plain": [
       "               Alpha-Adj      Beta  R-square  std_errors  Asset_mean  \\\n",
       "SMALL LoBM -2.937266e-15  0.021639  0.000284    0.078696    0.008631   \n",
       "ME1 BM2    -2.328866e-15  0.229427  0.042718    0.066577    0.091509   \n",
       "ME1 BM3    -2.417012e-15  0.232897  0.062518    0.055285    0.092893   \n",
       "ME1 BM4    -1.111904e-15  0.294104  0.105540    0.052485    0.117306   \n",
       "SMALL HiBM -1.978561e-15  0.324550  0.109477    0.056743    0.129450   \n",
       "ME2 BM1    -2.058005e-15  0.150001  0.016933    0.070062    0.059829   \n",
       "ME2 BM2    -1.159229e-15  0.255466  0.070600    0.056819    0.101895   \n",
       "ME2 BM3    -1.551819e-15  0.267520  0.094539    0.050752    0.106703   \n",
       "ME2 BM4    -6.919920e-16  0.273200  0.103064    0.049405    0.108968   \n",
       "ME2 BM5    -1.351458e-15  0.291402  0.083741    0.059088    0.116228   \n",
       "ME3 BM1    -1.200862e-15  0.179644  0.028709    0.064054    0.071653   \n",
       "ME3 BM2    -5.762806e-16  0.272931  0.094675    0.051737    0.108861   \n",
       "ME3 BM3    -2.073537e-16  0.233409  0.082899    0.047590    0.093097   \n",
       "ME3 BM4    -5.225312e-16  0.274102  0.105217    0.049000    0.109328   \n",
       "ME3 BM5    -6.810958e-16  0.310074  0.107665    0.054721    0.123676   \n",
       "ME4 BM1    -1.433363e-15  0.232292  0.058856    0.056942    0.092652   \n",
       "ME4 BM2    -4.679688e-16  0.238325  0.081120    0.049170    0.095058   \n",
       "ME4 BM3    -1.343896e-15  0.235004  0.081478    0.048369    0.093734   \n",
       "ME4 BM4    -3.377832e-16  0.254335  0.094715    0.048201    0.101444   \n",
       "ME4 BM5    -1.075312e-15  0.271455  0.083982    0.054957    0.108273   \n",
       "BIG LoBM   -1.141177e-15  0.229786  0.088089    0.045322    0.091652   \n",
       "ME5 BM2    -3.389216e-16  0.210006  0.083049    0.042776    0.083763   \n",
       "ME5 BM3    -6.187271e-16  0.201969  0.078013    0.042563    0.080557   \n",
       "ME5 BM4    -1.263638e-16  0.167751  0.042861    0.048594    0.066909   \n",
       "BIG HiBM   -1.122475e-15  0.242444  0.062274    0.057671    0.096701   \n",
       "\n",
       "            Treynor Ratio  Information Ratio  Sortino Ratio       MAE  \n",
       "SMALL LoBM        0.39886      -1.077459e-14       0.047747  0.058258  \n",
       "ME1 BM2           0.39886      -1.009780e-14       0.579883  0.048716  \n",
       "ME1 BM3           0.39886      -1.262065e-14       0.660049  0.041211  \n",
       "ME1 BM4           0.39886      -6.115601e-15       0.808137  0.038096  \n",
       "SMALL HiBM        0.39886      -1.006582e-14       0.830321  0.040198  \n",
       "ME2 BM1           0.39886      -8.479523e-15       0.348327  0.053487  \n",
       "ME2 BM2           0.39886      -5.889551e-15       0.681431  0.042978  \n",
       "ME2 BM3           0.39886      -8.826696e-15       0.751274  0.037985  \n",
       "ME2 BM4           0.39886      -4.043327e-15       0.783005  0.036861  \n",
       "ME2 BM5           0.39886      -6.602597e-15       0.665972  0.042999  \n",
       "ME3 BM1           0.39886      -5.412007e-15       0.457201  0.049246  \n",
       "ME3 BM2           0.39886      -3.215440e-15       0.794218  0.039255  \n",
       "ME3 BM3           0.39886      -1.257775e-15       0.746210  0.035907  \n",
       "ME3 BM4           0.39886      -3.078431e-15       0.796176  0.036314  \n",
       "ME3 BM5           0.39886      -3.593033e-15       0.748954  0.038831  \n",
       "ME4 BM1           0.39886      -7.266621e-15       0.660323  0.042822  \n",
       "ME4 BM2           0.39886      -2.747425e-15       0.702325  0.036547  \n",
       "ME4 BM3           0.39886      -8.020645e-15       0.682900  0.035967  \n",
       "ME4 BM4           0.39886      -2.022987e-15       0.735924  0.034992  \n",
       "ME4 BM5           0.39886      -5.648330e-15       0.656947  0.039488  \n",
       "BIG LoBM          0.39886      -7.268718e-15       0.799078  0.034819  \n",
       "ME5 BM2           0.39886      -2.287204e-15       0.745186  0.032137  \n",
       "ME5 BM3           0.39886      -4.196441e-15       0.707224  0.032030  \n",
       "ME5 BM4           0.39886      -7.506638e-16       0.474399  0.034873  \n",
       "BIG HiBM          0.39886      -5.618567e-15       0.620871  0.041834  "
      ]
     },
     "execution_count": 133,
     "metadata": {},
     "output_type": "execute_result"
    }
   ],
   "source": [
    "regressions_results_2"
   ]
  },
  {
   "cell_type": "markdown",
   "id": "e3ca2664",
   "metadata": {},
   "source": [
    "2) Re-do the analysis of 3.3 and 3.4, but instead of using the market return as the factor, use all three factors, (MKT, SMB, and HML). Note again that all three are already given as excess returns, so there is no need to use the risk-free rate data.\n",
    "Thus, instead of testing (CAPM), you will be testing the Fama-French 3-Factor Model.\n",
    "\n",
    "$$\\mathop{\\mathbb{E}}[\\tilde{r}^{i}_{t}] = \\beta^{i,m} \\mathop{\\mathbb{E}}[\\tilde{r}^{m}_{t}] +  \\beta^{i,s} \\mathop{\\mathbb{E}}[\\tilde{r}^{s}_{t}] +  \\beta^{i,v} \\mathop{\\mathbb{E}}[\\tilde{r}^{v}_{t}]$$"
   ]
  },
  {
   "cell_type": "markdown",
   "id": "13d3d926",
   "metadata": {},
   "source": [
    "3. We measured how well the CAPM performs by checking the MAE of the time-series alphas. Under classic statistical assumptions, we can test the null hypothesis that the CAPM works by calculating,\n",
    "\n",
    "$$\\text{H} = \\text{T} \\ [1+(\\text{SR}_{m})^{2}]^{-1} \\alpha^{'}\\Sigma^{-1}_{\\epsilon}\\alpha ~ \\chi^{2}_{n}$$\n",
    "\n",
    "- Note the following:\n",
    "- $\\alpha$ is an n x 1 vector of the individual regression alphas, $\\alpha^{i}$.\n",
    "- $\\Sigma_{\\epsilon}$ is the n x n covariance matrix of the time-series of regression residuals, $\\epsilon^{i}$, corresponding to each regression.\n",
    "- $\\text{SR}_{m}$ is the Sharpe-Ratio of $\\tilde{r}^{m}$.\n",
    "\n",
    "The test statistic, H, has a chi-squared distribution with n = 25 degrees of freedom. So under the null hypothesis of the CAPM holding, H should be small, and the distribution allows us to calculate the probability of seeing such a large H, conditional on the CAPM being true."
   ]
  },
  {
   "cell_type": "markdown",
   "id": "6af0f1d5",
   "metadata": {},
   "source": [
    "a) Which is a stricter test: checking whether any of the n values of $\\alpha^{i}$ have a statistically significant t-test or checking whether H calculated above is significant?"
   ]
  },
  {
   "cell_type": "markdown",
   "id": "e18f036c",
   "metadata": {},
   "source": [
    "b) Conceptually, how does the test-statistic H relate to checking whether $\\tilde{r}^{m}$ spans the tangency portfolio?"
   ]
  }
 ],
 "metadata": {
  "kernelspec": {
   "display_name": "base",
   "language": "python",
   "name": "python3"
  },
  "language_info": {
   "codemirror_mode": {
    "name": "ipython",
    "version": 3
   },
   "file_extension": ".py",
   "mimetype": "text/x-python",
   "name": "python",
   "nbconvert_exporter": "python",
   "pygments_lexer": "ipython3",
   "version": "3.12.4"
  }
 },
 "nbformat": 4,
 "nbformat_minor": 5
}

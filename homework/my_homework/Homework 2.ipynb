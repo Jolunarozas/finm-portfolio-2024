{
 "cells": [
  {
   "cell_type": "markdown",
   "id": "e3eee68c",
   "metadata": {},
   "source": [
    "# Homework 2\n",
    "\n",
    "## FINM 36700 - 2024\n",
    "\n",
    "### UChicago Financial Mathematics\n",
    "\n",
    "* Mark Hendricks\n",
    "* hendricks@uchicago.edu\n",
    "\n",
    "## HBS Case\n",
    "\n",
    "### *ProShares Hedge Replication ETF*"
   ]
  },
  {
   "cell_type": "markdown",
   "id": "5acb4434",
   "metadata": {},
   "source": [
    "### HW Group A 33\n",
    "\n",
    "* Rain Condie\n",
    "* Xuzhou Ding\n",
    "* Oakley Liu\n",
    "* Jose Luna Rozas\n",
    "* Akhilesh Narayan\n",
    "* Orianna Wang"
   ]
  },
  {
   "cell_type": "markdown",
   "id": "3ed4b263",
   "metadata": {},
   "source": [
    "***"
   ]
  },
  {
   "cell_type": "markdown",
   "id": "32a1eb4b",
   "metadata": {},
   "source": [
    "# 1. The ProShares ETF Product\n",
    "\n",
    "**Section 1 is not graded**, and you do not need to submit your answers. But you are encouraged to think about them, and we will discuss them."
   ]
  },
  {
   "cell_type": "markdown",
   "id": "976c4cd6",
   "metadata": {},
   "source": [
    "## 1. Alternative ETFs\n",
    "\n",
    "Describe the two types of investments referenced by this term."
   ]
  },
  {
   "cell_type": "markdown",
   "id": "a350c607",
   "metadata": {},
   "source": [
    "## 2. Hedge Funds.\n",
    "\n",
    "a. Using just the information in the case, what are two measures by which hedge funds are an attractive investment?\n",
    "\n",
    "b. What are the main benefits of investing in hedge funds via an ETF instead of directly?"
   ]
  },
  {
   "cell_type": "markdown",
   "id": "f1c6d57d",
   "metadata": {},
   "source": [
    "## 3. The Benchmarks\n",
    "\n",
    "a. Explain as simply as possible how HFRI, MLFM, MLFM-ES, and HDG differ in their construction and purpose.\n",
    "\n",
    "b. How well does the Merrill Lynch Factor Model (MLFM) track the HFRI?\n",
    "\n",
    "c. In which factor does the MLFM have the largest loading? (See a slide in Exhibit 1.)\n",
    "\n",
    "d. What are the main concerns you have for how the MLFM attempts to replicate the HFRI?"
   ]
  },
  {
   "cell_type": "markdown",
   "id": "8247c669",
   "metadata": {},
   "source": [
    "## 4. The HDG Product\n",
    "\n",
    "a. What does ProShares ETF, HDG, attempt to track? Is the tracking error small?\n",
    "\n",
    "b. HDG is, by construction, delivering beta for investors. Isn't the point of hedge funds to generate alpha? Then why would HDG be valuable?\n",
    "\n",
    "c. The fees of a typical hedge-fund are 2% on total assets plus 20% of excess returns if positive. HDG's expense ratio is roughly 1% on total assets. What would their respective net Sharpe Ratios be, assuming both have a gross excess returns of 10% and volatility of 20%?"
   ]
  },
  {
   "cell_type": "markdown",
   "id": "ecd7e292",
   "metadata": {},
   "source": [
    "***"
   ]
  },
  {
   "cell_type": "markdown",
   "id": "fbbf79a1",
   "metadata": {},
   "source": [
    "# 2.  Analyzing the Data\n",
    "\n",
    "Use the data found on Canvas, in <b>'proshares analysis data.xlsx'</b>. \n",
    "\n",
    "It has monthly data on financial indexes and ETFs from `Aug 2011` through `Sep 2024`."
   ]
  },
  {
   "cell_type": "code",
   "execution_count": 1,
   "id": "2288a9a1",
   "metadata": {},
   "outputs": [],
   "source": [
    "import pandas as pd\n",
    "import numpy as np\n",
    "import seaborn as sns\n",
    "from scipy.stats import skew,kurtosis\n",
    "\n",
    "filename = r'C:\\Users\\josel\\Documents\\GitHub\\finm-portfolio-2024\\data\\proshares_analysis_data.xlsx'\n",
    "# filename = r\"C:\\Users\\josel\\Downloads\\multi_asset_etf_data (1).xlsx\"\n",
    "data_hedge_fund_series = pd.read_excel(filename,sheet_name=\"hedge_fund_series\",index_col=[0])\n",
    "data_merrill_factors = pd.read_excel(filename,sheet_name=\"merrill_factors\",index_col=[0])"
   ]
  },
  {
   "cell_type": "markdown",
   "id": "22b7389c",
   "metadata": {},
   "source": [
    "## 1. \n",
    "\n",
    "For the series in the \"hedge fund series\" tab, report the following summary statistics:\n",
    "* mean\n",
    "* volatility\n",
    "* Sharpe ratio\n",
    "\n",
    "Annualize these statistics."
   ]
  },
  {
   "cell_type": "code",
   "execution_count": 10,
   "id": "cc970073",
   "metadata": {},
   "outputs": [],
   "source": [
    "def get_metrics(port_metrics,weights = [],adj_factor = 12):\n",
    "    if len(weights) == 0:\n",
    "        port_metrics_r = pd.DataFrame({\"Mean\": port_metrics.mean()*adj_factor,\"Volatility\":port_metrics.std()*np.sqrt(adj_factor)})\n",
    "        port_metrics_r[\"Sharpe_Ratio\"] = (port_metrics.mean() / port_metrics.std()) * np.sqrt(adj_factor)\n",
    "        port_metrics_r[\"Skew\"] = skew(port_metrics)\n",
    "        port_metrics_r[\"Excess Kurtosis\"] = kurtosis(port_metrics, fisher=True, bias=False)    \n",
    "    else:\n",
    "        port_metrics = port_metrics @ weights\n",
    "        port_metrics_r = pd.DataFrame({\"Mean\": port_metrics.mean()*adj_factor,\"Volatility\":port_metrics.std()*np.sqrt(adj_factor)})\n",
    "        port_metrics_r[\"Sharpe_Ratio\"] = (port_metrics.mean() / port_metrics.std()) * np.sqrt(adj_factor)\n",
    "        port_metrics_r[\"Skew\"] = skew(port_metrics)\n",
    "        port_metrics_r[\"Excess Kurtosis\"] = kurtosis(port_metrics, fisher=True, bias=False)\n",
    "    return port_metrics_r\n",
    "\n",
    "def VaR_CVaR_Drawdown_metrics(data_daily_return):\n",
    "    result = pd.DataFrame()\n",
    "    for asset in data_daily_return.columns:\n",
    "\n",
    "        data_aux = data_daily_return[[asset]].copy()\n",
    "\n",
    "            \n",
    "        VaR = np.percentile(sorted(data_aux.values),q = 5)\n",
    "        CVaR = data_aux[data_aux[asset] <= VaR].mean().values[0]\n",
    "\n",
    "        data_aux_acum_return = (data_aux + 1).cumprod()\n",
    "        data_aux_max_cum_return = data_aux_acum_return.cummax()\n",
    "        data_aux_drawdown = ((data_aux_acum_return-data_aux_max_cum_return)/data_aux_max_cum_return)\n",
    "        max_drawdown = data_aux_drawdown.min().values[0]\n",
    "        max_drawdown_date = data_aux_drawdown.idxmin().values[0]\n",
    "        peak_idx = data_aux_max_cum_return.idxmax().values[0]\n",
    "\n",
    "        recovery_idx = data_aux_drawdown[data_aux_drawdown.idxmin().values[0]:].gt(-0.00001).idxmax().values[0]\n",
    "\n",
    "        aux_result = pd.DataFrame([[VaR,CVaR,max_drawdown,max_drawdown_date,peak_idx,recovery_idx,(recovery_idx - max_drawdown_date)/ np.timedelta64(1, 'D')]], columns= [\"VaR\",\"CVaR\",\"Max Drawdown\",\"Bottom\",\"Peak\",\"Recovery\",\"Duration (days)\"], index = [asset])\n",
    "        result = pd.concat([result,aux_result],axis=0)\n",
    "\n",
    "    return result,data_aux_drawdown\n",
    "\n",
    "def get_metrics_all(returns):\n",
    "    metrics1 = get_metrics(returns)\n",
    "    metrics2,_ = VaR_CVaR_Drawdown_metrics(returns)\n",
    "    return pd.merge(metrics1,metrics2, left_index= True, right_index=True, how = \"left\")"
   ]
  },
  {
   "cell_type": "code",
   "execution_count": 4,
   "id": "db2012d0",
   "metadata": {},
   "outputs": [
    {
     "data": {
      "text/plain": [
       "HFRIFWI Index     5.763074\n",
       "MLEIFCTR Index    1.631580\n",
       "MLEIFCTX Index    1.595863\n",
       "HDG US Equity     1.759250\n",
       "QAI US Equity     1.605934\n",
       "dtype: float64"
      ]
     },
     "execution_count": 4,
     "metadata": {},
     "output_type": "execute_result"
    }
   ],
   "source": [
    "data_hedge_fund_series.kurt()"
   ]
  },
  {
   "cell_type": "code",
   "execution_count": 11,
   "id": "c6292542",
   "metadata": {},
   "outputs": [
    {
     "data": {
      "text/html": [
       "<div>\n",
       "<style scoped>\n",
       "    .dataframe tbody tr th:only-of-type {\n",
       "        vertical-align: middle;\n",
       "    }\n",
       "\n",
       "    .dataframe tbody tr th {\n",
       "        vertical-align: top;\n",
       "    }\n",
       "\n",
       "    .dataframe thead th {\n",
       "        text-align: right;\n",
       "    }\n",
       "</style>\n",
       "<table border=\"1\" class=\"dataframe\">\n",
       "  <thead>\n",
       "    <tr style=\"text-align: right;\">\n",
       "      <th></th>\n",
       "      <th>Mean</th>\n",
       "      <th>Volatility</th>\n",
       "      <th>Sharpe_Ratio</th>\n",
       "      <th>Skew</th>\n",
       "      <th>Excess Kurtosis</th>\n",
       "    </tr>\n",
       "  </thead>\n",
       "  <tbody>\n",
       "    <tr>\n",
       "      <th>HFRIFWI Index</th>\n",
       "      <td>0.048295</td>\n",
       "      <td>0.059476</td>\n",
       "      <td>0.812004</td>\n",
       "      <td>-0.954148</td>\n",
       "      <td>5.763074</td>\n",
       "    </tr>\n",
       "    <tr>\n",
       "      <th>MLEIFCTR Index</th>\n",
       "      <td>0.036286</td>\n",
       "      <td>0.056136</td>\n",
       "      <td>0.646398</td>\n",
       "      <td>-0.262868</td>\n",
       "      <td>1.631580</td>\n",
       "    </tr>\n",
       "    <tr>\n",
       "      <th>MLEIFCTX Index</th>\n",
       "      <td>0.034605</td>\n",
       "      <td>0.055980</td>\n",
       "      <td>0.618172</td>\n",
       "      <td>-0.248887</td>\n",
       "      <td>1.595863</td>\n",
       "    </tr>\n",
       "    <tr>\n",
       "      <th>HDG US Equity</th>\n",
       "      <td>0.024812</td>\n",
       "      <td>0.058408</td>\n",
       "      <td>0.424805</td>\n",
       "      <td>-0.251781</td>\n",
       "      <td>1.759250</td>\n",
       "    </tr>\n",
       "    <tr>\n",
       "      <th>QAI US Equity</th>\n",
       "      <td>0.025653</td>\n",
       "      <td>0.050009</td>\n",
       "      <td>0.512971</td>\n",
       "      <td>-0.430637</td>\n",
       "      <td>1.605934</td>\n",
       "    </tr>\n",
       "  </tbody>\n",
       "</table>\n",
       "</div>"
      ],
      "text/plain": [
       "                    Mean  Volatility  Sharpe_Ratio      Skew  Excess Kurtosis\n",
       "HFRIFWI Index   0.048295    0.059476      0.812004 -0.954148         5.763074\n",
       "MLEIFCTR Index  0.036286    0.056136      0.646398 -0.262868         1.631580\n",
       "MLEIFCTX Index  0.034605    0.055980      0.618172 -0.248887         1.595863\n",
       "HDG US Equity   0.024812    0.058408      0.424805 -0.251781         1.759250\n",
       "QAI US Equity   0.025653    0.050009      0.512971 -0.430637         1.605934"
      ]
     },
     "execution_count": 11,
     "metadata": {},
     "output_type": "execute_result"
    }
   ],
   "source": [
    "get_metrics(data_hedge_fund_series)"
   ]
  },
  {
   "cell_type": "markdown",
   "id": "ec8d7c08",
   "metadata": {},
   "source": [
    "## 2.\n",
    "\n",
    "For the series in the \"hedge fund series\" tab, calculate the following statistics related to tail-risk.\n",
    "* Skewness\n",
    "* Excess Kurtosis (in excess of 3)\n",
    "* VaR (.05) - the fifth quantile of historic returns\n",
    "* CVaR (.05) - the mean of the returns at or below the fifth quantile\n",
    "* Maximum drawdown - include the dates of the max/min/recovery within the max drawdown period.\n",
    "\n",
    "There is no need to annualize any of these statistics."
   ]
  },
  {
   "cell_type": "code",
   "execution_count": 4,
   "id": "d1295ac5",
   "metadata": {},
   "outputs": [
    {
     "data": {
      "text/html": [
       "<div>\n",
       "<style scoped>\n",
       "    .dataframe tbody tr th:only-of-type {\n",
       "        vertical-align: middle;\n",
       "    }\n",
       "\n",
       "    .dataframe tbody tr th {\n",
       "        vertical-align: top;\n",
       "    }\n",
       "\n",
       "    .dataframe thead th {\n",
       "        text-align: right;\n",
       "    }\n",
       "</style>\n",
       "<table border=\"1\" class=\"dataframe\">\n",
       "  <thead>\n",
       "    <tr style=\"text-align: right;\">\n",
       "      <th></th>\n",
       "      <th>Mean</th>\n",
       "      <th>Volatility</th>\n",
       "      <th>Sharpe_Ratio</th>\n",
       "      <th>Skew</th>\n",
       "      <th>Excess Kurtosis</th>\n",
       "      <th>VaR</th>\n",
       "      <th>CVaR</th>\n",
       "      <th>Max Drawdown</th>\n",
       "      <th>Bottom</th>\n",
       "      <th>Peak</th>\n",
       "      <th>Recovery</th>\n",
       "      <th>Duration (days)</th>\n",
       "    </tr>\n",
       "  </thead>\n",
       "  <tbody>\n",
       "    <tr>\n",
       "      <th>HFRIFWI Index</th>\n",
       "      <td>0.048295</td>\n",
       "      <td>0.059476</td>\n",
       "      <td>0.812004</td>\n",
       "      <td>-0.954148</td>\n",
       "      <td>5.544571</td>\n",
       "      <td>-0.024293</td>\n",
       "      <td>-0.037478</td>\n",
       "      <td>-0.115473</td>\n",
       "      <td>2020-03-31</td>\n",
       "      <td>2024-09-30</td>\n",
       "      <td>2020-08-31</td>\n",
       "      <td>153.0</td>\n",
       "    </tr>\n",
       "    <tr>\n",
       "      <th>MLEIFCTR Index</th>\n",
       "      <td>0.036286</td>\n",
       "      <td>0.056136</td>\n",
       "      <td>0.646398</td>\n",
       "      <td>-0.262868</td>\n",
       "      <td>1.542667</td>\n",
       "      <td>-0.028189</td>\n",
       "      <td>-0.035857</td>\n",
       "      <td>-0.124302</td>\n",
       "      <td>2022-09-30</td>\n",
       "      <td>2024-09-30</td>\n",
       "      <td>2024-02-29</td>\n",
       "      <td>517.0</td>\n",
       "    </tr>\n",
       "    <tr>\n",
       "      <th>MLEIFCTX Index</th>\n",
       "      <td>0.034605</td>\n",
       "      <td>0.055980</td>\n",
       "      <td>0.618172</td>\n",
       "      <td>-0.248887</td>\n",
       "      <td>1.508071</td>\n",
       "      <td>-0.028095</td>\n",
       "      <td>-0.035816</td>\n",
       "      <td>-0.124388</td>\n",
       "      <td>2022-09-30</td>\n",
       "      <td>2024-09-30</td>\n",
       "      <td>2024-02-29</td>\n",
       "      <td>517.0</td>\n",
       "    </tr>\n",
       "    <tr>\n",
       "      <th>HDG US Equity</th>\n",
       "      <td>0.024812</td>\n",
       "      <td>0.058408</td>\n",
       "      <td>0.424805</td>\n",
       "      <td>-0.251781</td>\n",
       "      <td>1.666333</td>\n",
       "      <td>-0.030932</td>\n",
       "      <td>-0.037575</td>\n",
       "      <td>-0.140720</td>\n",
       "      <td>2022-09-30</td>\n",
       "      <td>2024-09-30</td>\n",
       "      <td>2024-07-31</td>\n",
       "      <td>670.0</td>\n",
       "    </tr>\n",
       "    <tr>\n",
       "      <th>QAI US Equity</th>\n",
       "      <td>0.025653</td>\n",
       "      <td>0.050009</td>\n",
       "      <td>0.512971</td>\n",
       "      <td>-0.430637</td>\n",
       "      <td>1.517826</td>\n",
       "      <td>-0.017895</td>\n",
       "      <td>-0.032695</td>\n",
       "      <td>-0.137716</td>\n",
       "      <td>2022-09-30</td>\n",
       "      <td>2024-09-30</td>\n",
       "      <td>2024-02-29</td>\n",
       "      <td>517.0</td>\n",
       "    </tr>\n",
       "  </tbody>\n",
       "</table>\n",
       "</div>"
      ],
      "text/plain": [
       "                    Mean  Volatility  Sharpe_Ratio      Skew  Excess Kurtosis  \\\n",
       "HFRIFWI Index   0.048295    0.059476      0.812004 -0.954148         5.544571   \n",
       "MLEIFCTR Index  0.036286    0.056136      0.646398 -0.262868         1.542667   \n",
       "MLEIFCTX Index  0.034605    0.055980      0.618172 -0.248887         1.508071   \n",
       "HDG US Equity   0.024812    0.058408      0.424805 -0.251781         1.666333   \n",
       "QAI US Equity   0.025653    0.050009      0.512971 -0.430637         1.517826   \n",
       "\n",
       "                     VaR      CVaR  Max Drawdown     Bottom       Peak  \\\n",
       "HFRIFWI Index  -0.024293 -0.037478     -0.115473 2020-03-31 2024-09-30   \n",
       "MLEIFCTR Index -0.028189 -0.035857     -0.124302 2022-09-30 2024-09-30   \n",
       "MLEIFCTX Index -0.028095 -0.035816     -0.124388 2022-09-30 2024-09-30   \n",
       "HDG US Equity  -0.030932 -0.037575     -0.140720 2022-09-30 2024-09-30   \n",
       "QAI US Equity  -0.017895 -0.032695     -0.137716 2022-09-30 2024-09-30   \n",
       "\n",
       "                 Recovery  Duration (days)  \n",
       "HFRIFWI Index  2020-08-31            153.0  \n",
       "MLEIFCTR Index 2024-02-29            517.0  \n",
       "MLEIFCTX Index 2024-02-29            517.0  \n",
       "HDG US Equity  2024-07-31            670.0  \n",
       "QAI US Equity  2024-02-29            517.0  "
      ]
     },
     "execution_count": 4,
     "metadata": {},
     "output_type": "execute_result"
    }
   ],
   "source": [
    "get_metrics_all(data_hedge_fund_series)"
   ]
  },
  {
   "cell_type": "markdown",
   "id": "9deb5072",
   "metadata": {},
   "source": [
    "## 3. \n",
    "\n",
    "For the series in the \"hedge fund series\" tab, run a regression of each against SPY (found in the \"merrill factors\" tab.) Include an intercept. Report the following regression-based statistics:\n",
    "\n",
    "$$ r_i = \\alpha + \\beta*r_m + \\epsilon $$\n",
    "* Market Beta : $\\beta$\n",
    "* Treynor Ratio: $(E[r]-r_f)/ \\beta$\n",
    "* Information ratio: $\\alpha / \\sigma_\\epsilon$ \n",
    "\n",
    "Annualize these three statistics as appropriate."
   ]
  },
  {
   "cell_type": "code",
   "execution_count": 5,
   "id": "d4b7c70a",
   "metadata": {},
   "outputs": [],
   "source": [
    "import statsmodels.api as sm\n",
    "\n",
    "def benchmark_regresion(data,benchmark = \"SPY US Equity\",adj = 12):\n",
    "    result = pd.DataFrame()\n",
    "    X = sm.add_constant(data[benchmark])\n",
    "    for asset in data.drop([benchmark],axis=1).columns:\n",
    "        X = sm.add_constant(data[benchmark])\n",
    "        y = data[asset]\n",
    "        mod = sm.OLS(y, X).fit()\n",
    "        inter, beta = mod.params.values[0], mod.params.values[1]\n",
    "        rsquare = mod.rsquared\n",
    "        std_errors= mod.resid.std()\n",
    "        TR = (y.mean()/beta)*adj\n",
    "        IR = (inter/std_errors)*np.sqrt(adj)\n",
    "        aux_result = pd.DataFrame([[inter*adj,beta,rsquare,std_errors,y.mean()*adj,TR,IR]],columns=[\"Alpha\",\"Beta\",\"R-square\",\"std_errors\",\"R_mean\",\"Treynor Ratio\",\"Information Ratio\"], index = [asset])\n",
    "        result = pd.concat([result,aux_result],axis=0)\n",
    "    return result\n",
    "     "
   ]
  },
  {
   "cell_type": "code",
   "execution_count": 6,
   "id": "8fcf1da5",
   "metadata": {},
   "outputs": [],
   "source": [
    "data_hedge_fund_series_wBench = data_hedge_fund_series.merge(data_merrill_factors[[\"SPY US Equity\"]],left_index=True,right_index=True, how = \"left\")"
   ]
  },
  {
   "cell_type": "code",
   "execution_count": 7,
   "id": "7c0cc500",
   "metadata": {},
   "outputs": [
    {
     "data": {
      "text/html": [
       "<div>\n",
       "<style scoped>\n",
       "    .dataframe tbody tr th:only-of-type {\n",
       "        vertical-align: middle;\n",
       "    }\n",
       "\n",
       "    .dataframe tbody tr th {\n",
       "        vertical-align: top;\n",
       "    }\n",
       "\n",
       "    .dataframe thead th {\n",
       "        text-align: right;\n",
       "    }\n",
       "</style>\n",
       "<table border=\"1\" class=\"dataframe\">\n",
       "  <thead>\n",
       "    <tr style=\"text-align: right;\">\n",
       "      <th></th>\n",
       "      <th>Alpha</th>\n",
       "      <th>Beta</th>\n",
       "      <th>R-square</th>\n",
       "      <th>std_errors</th>\n",
       "      <th>R_mean</th>\n",
       "      <th>Treynor Ratio</th>\n",
       "      <th>Information Ratio</th>\n",
       "    </tr>\n",
       "  </thead>\n",
       "  <tbody>\n",
       "    <tr>\n",
       "      <th>HFRIFWI Index</th>\n",
       "      <td>-0.001145</td>\n",
       "      <td>0.346131</td>\n",
       "      <td>0.711480</td>\n",
       "      <td>0.009222</td>\n",
       "      <td>0.048295</td>\n",
       "      <td>0.139528</td>\n",
       "      <td>-0.035836</td>\n",
       "    </tr>\n",
       "    <tr>\n",
       "      <th>MLEIFCTR Index</th>\n",
       "      <td>-0.012761</td>\n",
       "      <td>0.343383</td>\n",
       "      <td>0.786051</td>\n",
       "      <td>0.007496</td>\n",
       "      <td>0.036286</td>\n",
       "      <td>0.105672</td>\n",
       "      <td>-0.491479</td>\n",
       "    </tr>\n",
       "    <tr>\n",
       "      <th>MLEIFCTX Index</th>\n",
       "      <td>-0.014269</td>\n",
       "      <td>0.342171</td>\n",
       "      <td>0.784862</td>\n",
       "      <td>0.007495</td>\n",
       "      <td>0.034605</td>\n",
       "      <td>0.101134</td>\n",
       "      <td>-0.549547</td>\n",
       "    </tr>\n",
       "    <tr>\n",
       "      <th>HDG US Equity</th>\n",
       "      <td>-0.025474</td>\n",
       "      <td>0.352053</td>\n",
       "      <td>0.763208</td>\n",
       "      <td>0.008205</td>\n",
       "      <td>0.024812</td>\n",
       "      <td>0.070478</td>\n",
       "      <td>-0.896268</td>\n",
       "    </tr>\n",
       "    <tr>\n",
       "      <th>QAI US Equity</th>\n",
       "      <td>-0.016965</td>\n",
       "      <td>0.298376</td>\n",
       "      <td>0.747822</td>\n",
       "      <td>0.007250</td>\n",
       "      <td>0.025653</td>\n",
       "      <td>0.085976</td>\n",
       "      <td>-0.675558</td>\n",
       "    </tr>\n",
       "  </tbody>\n",
       "</table>\n",
       "</div>"
      ],
      "text/plain": [
       "                   Alpha      Beta  R-square  std_errors    R_mean  \\\n",
       "HFRIFWI Index  -0.001145  0.346131  0.711480    0.009222  0.048295   \n",
       "MLEIFCTR Index -0.012761  0.343383  0.786051    0.007496  0.036286   \n",
       "MLEIFCTX Index -0.014269  0.342171  0.784862    0.007495  0.034605   \n",
       "HDG US Equity  -0.025474  0.352053  0.763208    0.008205  0.024812   \n",
       "QAI US Equity  -0.016965  0.298376  0.747822    0.007250  0.025653   \n",
       "\n",
       "                Treynor Ratio  Information Ratio  \n",
       "HFRIFWI Index        0.139528          -0.035836  \n",
       "MLEIFCTR Index       0.105672          -0.491479  \n",
       "MLEIFCTX Index       0.101134          -0.549547  \n",
       "HDG US Equity        0.070478          -0.896268  \n",
       "QAI US Equity        0.085976          -0.675558  "
      ]
     },
     "execution_count": 7,
     "metadata": {},
     "output_type": "execute_result"
    }
   ],
   "source": [
    "benchmark_regresion(data_hedge_fund_series_wBench)"
   ]
  },
  {
   "cell_type": "markdown",
   "id": "9dd139ed",
   "metadata": {},
   "source": [
    "## 4. \n",
    "\n",
    "Discuss the previous statistics, and what they tell us about...\n",
    "\n",
    "* the differences between SPY and the hedge-fund series?\n",
    "* which performs better between HDG and QAI.\n",
    "* whether HDG and the ML series capture the most notable properties of HFRI."
   ]
  },
  {
   "cell_type": "markdown",
   "id": "efc199e0",
   "metadata": {},
   "source": [
    "## 5. \n",
    "\n",
    "Report the correlation matrix for these assets.\n",
    "* Show the correlations as a heat map.\n",
    "* Which series have the highest and lowest correlations?"
   ]
  },
  {
   "cell_type": "markdown",
   "id": "f79554a0",
   "metadata": {},
   "source": [
    "## 6.\n",
    "\n",
    "Replicate HFRI with the six factors listed on the \"merrill factors\" tab. Include a constant, and run the unrestricted regression,\n",
    "\n",
    "$\\newcommand{\\hfri}{\\text{hfri}}$\n",
    "$\\newcommand{\\merr}{\\text{merr}}$\n",
    "\n",
    "$$\\begin{align}\n",
    "r^{\\hfri}_{t} &= \\alpha^{\\merr} + x_{t}^{\\merr}\\beta^{\\merr} + \\epsilon_{t}^{\\merr}\\\\[5pt]\n",
    "\\hat{r}^{\\hfri}_{t} &= \\hat{\\alpha}^{\\merr} + x_{t}^{\\merr}\\hat{\\beta}^{\\merr}\n",
    "\\end{align}$$\n",
    "\n",
    "Note that the second equation is just our notation for the fitted replication.\n",
    "\n",
    "a. Report the intercept and betas.\n",
    "b. Are the betas realistic position sizes, or do they require huge long-short positions?\n",
    "c. Report the R-squared.\n",
    "d. Report the volatility of $\\epsilon^{\\merr}$, the tracking error."
   ]
  },
  {
   "cell_type": "code",
   "execution_count": 23,
   "id": "cae550a3",
   "metadata": {},
   "outputs": [],
   "source": [
    "import pandas as pd\n",
    "import numpy as np\n",
    "import seaborn as sns\n",
    "from scipy.stats import skew,kurtosis,norm\n",
    "import statsmodels.api as sm\n"
   ]
  },
  {
   "cell_type": "code",
   "execution_count": 29,
   "id": "c1104e34",
   "metadata": {},
   "outputs": [],
   "source": [
    "def Linear_Factor_Descomposition(data, y_asset,x_asset, adj = 12, constant = True):\n",
    "\n",
    "    Y = data[y_asset]\n",
    "    X = data[x_asset]\n",
    "\n",
    "    if constant:\n",
    "        X = sm.add_constant(X)\n",
    "\n",
    "    mod = sm.OLS(Y, X).fit()\n",
    "    inter = mod.params.values[0]\n",
    "\n",
    "    rsquare = mod.rsquared\n",
    "    std_errors= mod.resid.std()\n",
    "    tracking_error = mod.resid.std() * np.sqrt(adj)\n",
    "\n",
    "    metrics = pd.DataFrame([[inter,inter*adj,rsquare,std_errors,tracking_error]],columns=[\"Alpha\",\"Alpha Adj\",\"R-square\",\"std_errors\",\"tracking_error\"], index = [y_asset])\n",
    "    return pd.DataFrame(mod.params,columns=[\"Parameters\"]), metrics,mod.summary()"
   ]
  },
  {
   "cell_type": "code",
   "execution_count": 21,
   "id": "ec486153",
   "metadata": {},
   "outputs": [],
   "source": [
    "data_regression = pd.merge(data_hedge_fund_series[[\"HFRIFWI Index\"]],data_merrill_factors, left_index=True,right_index=True, how = \"left\")"
   ]
  },
  {
   "cell_type": "code",
   "execution_count": 17,
   "id": "ec139f54",
   "metadata": {},
   "outputs": [
    {
     "data": {
      "text/plain": [
       "Index(['SPY US Equity', 'USGG3M Index', 'EEM US Equity', 'EFA US Equity',\n",
       "       'EUO US Equity', 'IWM US Equity'],\n",
       "      dtype='object')"
      ]
     },
     "execution_count": 17,
     "metadata": {},
     "output_type": "execute_result"
    }
   ],
   "source": [
    "data_merrill_factors.columns"
   ]
  },
  {
   "cell_type": "code",
   "execution_count": 32,
   "id": "6179262e",
   "metadata": {},
   "outputs": [],
   "source": [
    "regresors, metrics, summary = Linear_Factor_Descomposition(data_regression, \"HFRIFWI Index\",x_asset = ['SPY US Equity', 'USGG3M Index', 'EEM US Equity', 'EFA US Equity',\n",
    "       'EUO US Equity', 'IWM US Equity'], adj = 12, constant = True)"
   ]
  },
  {
   "cell_type": "code",
   "execution_count": 31,
   "id": "03f293f4",
   "metadata": {},
   "outputs": [
    {
     "data": {
      "text/html": [
       "<div>\n",
       "<style scoped>\n",
       "    .dataframe tbody tr th:only-of-type {\n",
       "        vertical-align: middle;\n",
       "    }\n",
       "\n",
       "    .dataframe tbody tr th {\n",
       "        vertical-align: top;\n",
       "    }\n",
       "\n",
       "    .dataframe thead th {\n",
       "        text-align: right;\n",
       "    }\n",
       "</style>\n",
       "<table border=\"1\" class=\"dataframe\">\n",
       "  <thead>\n",
       "    <tr style=\"text-align: right;\">\n",
       "      <th></th>\n",
       "      <th>Parameters</th>\n",
       "    </tr>\n",
       "  </thead>\n",
       "  <tbody>\n",
       "    <tr>\n",
       "      <th>const</th>\n",
       "      <td>0.001235</td>\n",
       "    </tr>\n",
       "    <tr>\n",
       "      <th>SPY US Equity</th>\n",
       "      <td>0.036483</td>\n",
       "    </tr>\n",
       "    <tr>\n",
       "      <th>USGG3M Index</th>\n",
       "      <td>0.146336</td>\n",
       "    </tr>\n",
       "    <tr>\n",
       "      <th>EEM US Equity</th>\n",
       "      <td>0.081611</td>\n",
       "    </tr>\n",
       "    <tr>\n",
       "      <th>EFA US Equity</th>\n",
       "      <td>0.084638</td>\n",
       "    </tr>\n",
       "    <tr>\n",
       "      <th>EUO US Equity</th>\n",
       "      <td>0.028806</td>\n",
       "    </tr>\n",
       "    <tr>\n",
       "      <th>IWM US Equity</th>\n",
       "      <td>0.145111</td>\n",
       "    </tr>\n",
       "  </tbody>\n",
       "</table>\n",
       "</div>"
      ],
      "text/plain": [
       "               Parameters\n",
       "const            0.001235\n",
       "SPY US Equity    0.036483\n",
       "USGG3M Index     0.146336\n",
       "EEM US Equity    0.081611\n",
       "EFA US Equity    0.084638\n",
       "EUO US Equity    0.028806\n",
       "IWM US Equity    0.145111"
      ]
     },
     "execution_count": 31,
     "metadata": {},
     "output_type": "execute_result"
    }
   ],
   "source": [
    "regresors"
   ]
  },
  {
   "cell_type": "code",
   "execution_count": 33,
   "id": "2c0be391",
   "metadata": {},
   "outputs": [
    {
     "data": {
      "text/html": [
       "<div>\n",
       "<style scoped>\n",
       "    .dataframe tbody tr th:only-of-type {\n",
       "        vertical-align: middle;\n",
       "    }\n",
       "\n",
       "    .dataframe tbody tr th {\n",
       "        vertical-align: top;\n",
       "    }\n",
       "\n",
       "    .dataframe thead th {\n",
       "        text-align: right;\n",
       "    }\n",
       "</style>\n",
       "<table border=\"1\" class=\"dataframe\">\n",
       "  <thead>\n",
       "    <tr style=\"text-align: right;\">\n",
       "      <th></th>\n",
       "      <th>Alpha</th>\n",
       "      <th>Alpha Adj</th>\n",
       "      <th>R-square</th>\n",
       "      <th>std_errors</th>\n",
       "      <th>tracking_error</th>\n",
       "    </tr>\n",
       "  </thead>\n",
       "  <tbody>\n",
       "    <tr>\n",
       "      <th>HFRIFWI Index</th>\n",
       "      <td>0.001235</td>\n",
       "      <td>0.014824</td>\n",
       "      <td>0.839676</td>\n",
       "      <td>0.006875</td>\n",
       "      <td>0.023815</td>\n",
       "    </tr>\n",
       "  </tbody>\n",
       "</table>\n",
       "</div>"
      ],
      "text/plain": [
       "                  Alpha  Alpha Adj  R-square  std_errors  tracking_error\n",
       "HFRIFWI Index  0.001235   0.014824  0.839676    0.006875        0.023815"
      ]
     },
     "execution_count": 33,
     "metadata": {},
     "output_type": "execute_result"
    }
   ],
   "source": [
    "metrics"
   ]
  },
  {
   "cell_type": "markdown",
   "id": "9760f909",
   "metadata": {},
   "source": [
    "## 7.\n",
    "\n",
    "Let's examine the replication out-of-sample (OOS).\n",
    "\n",
    "Starting with $t = 61$ month of the sample, do the following:\n",
    "\n",
    "* Use the previous 60 months of data to estimate the regression equation. \n",
    "This gives time-t estimates of the regression parameters, $\\tilde{\\alpha}^{\\merr}_{t}$ and $\\tilde{\\beta}^{\\merr}_{t}$.\n",
    "\n",
    "* Use the estimated regression parameters, along with the time-t regressor values, $x^{\\merr}_{t}$, calculate the time-t replication value that is, with respect to the regression estimate, built \"out-of-sample\" (OOS).\n",
    "\n",
    "$$\\hat{r}^{\\hfri}_{t} \\equiv \\tilde{\\alpha}^{\\merr} + (x_{t}^{\\merr})'\\tilde{\\beta}^{\\merr}$$\n",
    "\n",
    "* Step forward to $t = 62$, and now use $t = 2$ through $t = 61$ for the estimation. Re-run the steps above, and continue this process throughout the data series. Thus, we are running a rolling, 60-month regression for each point-in-time.\n",
    "\n",
    "How well does the out-of-sample replication perform with respect to the target?"
   ]
  },
  {
   "cell_type": "markdown",
   "id": "2041c6a8",
   "metadata": {},
   "source": [
    "## 8.\n",
    "\n",
    "We estimated the replications using an intercept. Try the full-sample estimation, but this time without an intercept.\n",
    "\n",
    "$$\\begin{align}\n",
    "r^{\\hfri}_{t} &= \\alpha^{merr} + x_{t}^{\\merr}\\beta^{\\merr} + \\epsilon_{t}^{\\merr}\\\\[5pt]\n",
    "\\check{r}^{\\hfri}_{t} &= \\check{\\alpha}^{\\merr} + x_{t}^{\\merr}\\check{\\beta}^{\\merr}\n",
    "\\end{align}$$\n",
    "\n",
    "Report\n",
    "\n",
    "* the regression beta. How does it compare to the estimated beta with an intercept, $\\hat{\\beta}^{\\merr}$?\n",
    "\n",
    "* the mean of the fitted value, $\\check{r}^{\\hfri}_{t}$. How does it compare to the mean of the HFRI?\n",
    "\n",
    "* the correlations of the fitted values, $\\check{r}^{\\hfri}_{t}$ to the HFRI. How does the correlation compare to that of the fitted values with an intercept, $\\hat{r}^{\\hfri}_{t}$\n",
    "\n",
    "Do you think Merrill and ProShares fit their replicators with an intercept or not?"
   ]
  },
  {
   "cell_type": "markdown",
   "id": "f7433d2f",
   "metadata": {},
   "source": [
    "***"
   ]
  },
  {
   "cell_type": "markdown",
   "id": "4f5883f2",
   "metadata": {},
   "source": [
    "# 3.  Extensions\n",
    "<i>This section is not graded, and you do not need to submit it. Still, we may discuss it in class, in which case, you would be expected to know it."
   ]
  },
  {
   "cell_type": "markdown",
   "id": "2c042de1",
   "metadata": {},
   "source": [
    "## 1. \n",
    "\n",
    "Merrill constrains the weights of each asset in its replication regression of HFRI. Try constraining your weights by re-doing 2.6.\n",
    "\n",
    "* Use Non-Negative Least Squares (NNLS) instead of OLS.\n",
    "* Go further by using a Generalized Linear Model to put separate interval constraints on each beta, rather than simply constraining them to be non-negative.\n",
    "\n",
    "#### Hints\n",
    "* Try using LinearRegression in scikit-learn with the parameter `positive=True`. \n",
    "* Try using GLM in statsmodels."
   ]
  },
  {
   "cell_type": "markdown",
   "id": "02ee228d",
   "metadata": {},
   "source": [
    "## 2. \n",
    "\n",
    "Let's decompose a few other targets to see if they behave as their name suggests.\n",
    "\n",
    "* Regress HEFA on the same style factors used to decompose HFRI. Does HEFA appear to be a currency-hedged version of EFA?\n",
    "\n",
    "* Decompose TRVCI with the same style factors used to decompose HFRI. The TRVCI Index tracks venture capital funds--in terms of our styles, what best describes venture capital?\n",
    "\n",
    "* TAIL is an ETF that tracks SPY, but that also buys put options to protect against market downturns. Calculate the statistics in questions 2.1-2.3 for TAIL. Does it seem to behave as indicated by this description? That is, does it have high correlation to SPY while delivering lower tail risk?"
   ]
  },
  {
   "cell_type": "markdown",
   "id": "9c20b444",
   "metadata": {},
   "source": [
    "## 3. \n",
    "\n",
    "The ProShares case introduces Levered ETFs. ProShares made much of its name originally through levered, or \"geared\" ETFs.\n",
    "\n",
    "Explain conceptually why Levered ETFs may track their index well for a given day but diverge over time. How is this exacerbated in volatile periods like 2008?\n",
    "\n",
    "## 4.\n",
    "\n",
    "Analyze SPXU and UPRO relative to SPY.\n",
    "- SPXU is ProShares -3x SPX ETF.\n",
    "- UPRO is ProShres +3x SPX ETF.\n",
    "\n",
    "Questions:\n",
    "* Analyze them with the statistics from 2.1-2.3. \n",
    "\n",
    "* Do these two ETFs seem to live up to their names?\n",
    "\n",
    "* Plot the cumulative returns of both these ETFs along with SPY.\n",
    "\n",
    "* What do you conclude about levered ETFs?"
   ]
  },
  {
   "cell_type": "markdown",
   "id": "2acea83e",
   "metadata": {},
   "source": [
    "***"
   ]
  }
 ],
 "metadata": {
  "hide_input": false,
  "kernelspec": {
   "display_name": "base",
   "language": "python",
   "name": "python3"
  },
  "language_info": {
   "codemirror_mode": {
    "name": "ipython",
    "version": 3
   },
   "file_extension": ".py",
   "mimetype": "text/x-python",
   "name": "python",
   "nbconvert_exporter": "python",
   "pygments_lexer": "ipython3",
   "version": "3.12.4"
  }
 },
 "nbformat": 4,
 "nbformat_minor": 5
}

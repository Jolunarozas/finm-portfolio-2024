{
 "cells": [
  {
   "cell_type": "markdown",
   "id": "4c3a1966",
   "metadata": {},
   "source": [
    "# FINM 36700 Mark Hendricks\n",
    "## Autumn 2024\n",
    "\n",
    "# Homework #8\n",
    "\n",
    "### Long-Term Capital Management, L.P. (A) [HBS 9-200-007]"
   ]
  },
  {
   "cell_type": "markdown",
   "id": "72006d85",
   "metadata": {},
   "source": [
    "## 1. Conceptual Issues for LTCM\n",
    "\n",
    "Discuss these questions briefly, based on the info in the case. No need to quantitatively answer these questions.\n",
    "\n",
    "1. Describe LTCM’s investment strategy with regard to the following aspects:\n",
    "\n",
    "* Securities traded\n",
    "* Trading frequency\n",
    "* Skewness (Do they seek many small wins or a few big hits?)\n",
    "* Forecasting (What is behind their selection of trades?)"
   ]
  },
  {
   "cell_type": "markdown",
   "id": "2123155c",
   "metadata": {},
   "source": [
    "2. What are LTCM’s biggest advantages over its competitors?"
   ]
  },
  {
   "cell_type": "markdown",
   "id": "a58ed89f",
   "metadata": {},
   "source": [
    "3. The case discusses four types of funding risk facing LTCM:\n",
    "The case discusses ways in which LTCM manages each of these risks. Briefly discuss them.\n",
    "\n",
    "* Collateral haircuts\n",
    "* Repo maturity\n",
    "* Equity redemption\n",
    "* Loan access\n",
    "\n",
    "The case discusses specific ways in which LTCM manages each of these risks. Briefly discuss\n",
    "them."
   ]
  },
  {
   "cell_type": "markdown",
   "id": "89ac4f06",
   "metadata": {},
   "source": [
    "4. LTCM is largely in the business of selling liquidity and volatility. Describe how LTCM accounts for liquidity risk in their quantitative measurements.\n",
    "\n",
    "5. Is leverage risk currently a concern for LTCM?\n",
    "\n",
    "6. Many strategies of LTCM rely on converging spreads. LTCM feels that these are almost win/win situations because of the fact that if the spread converges, they make money. If it diverges, the trade becomes even more attractive, as convergence is still expected at a future date. \n",
    "What is the risk in these convergence trades?\n"
   ]
  },
  {
   "cell_type": "markdown",
   "id": "d96108fa",
   "metadata": {},
   "source": [
    "## 2. LTCM Risk Decomposition\n",
    "\n",
    "- On Canvas, find the data file, “ltcm exhibits data.xlsx.” Get the gross and net (total) returns of LTCM from “Exhibit 2.”\n",
    "- Get the returns on SPY as well as the risk-free rate from the file, “gmo analysis data.”\n"
   ]
  },
  {
   "cell_type": "code",
   "execution_count": 2,
   "id": "99fea678",
   "metadata": {},
   "outputs": [],
   "source": [
    "import pandas as pd\n",
    "import numpy as np\n",
    "import matplotlib.pyplot as plt\n",
    "import seaborn as sns\n",
    "from scipy.stats import skew,kurtosis,norm\n",
    "import statsmodels.api as sm\n",
    "\n",
    "path = \"../../data/ltcm_exhibits_data.xlsx\"\n",
    "ltcm_exhibits_data = pd.read_excel(path, sheet_name=\"Exhibit 2\", index_col=0, header=2).dropna()\n",
    "ltcm_exhibits_data.index = pd.to_datetime(ltcm_exhibits_data.index)\n",
    "ltcm_exhibits_data.columns = [\"fund_capital\", \"gross_performance\", \"net_performance\", \"index_net_performance\"]\n"
   ]
  },
  {
   "cell_type": "code",
   "execution_count": 3,
   "id": "a4220c3f",
   "metadata": {},
   "outputs": [
    {
     "ename": "NameError",
     "evalue": "name 'rf_rate' is not defined",
     "output_type": "error",
     "traceback": [
      "\u001b[1;31m---------------------------------------------------------------------------\u001b[0m",
      "\u001b[1;31mNameError\u001b[0m                                 Traceback (most recent call last)",
      "Cell \u001b[1;32mIn[3], line 1\u001b[0m\n\u001b[1;32m----> 1\u001b[0m \u001b[43mrf_rate\u001b[49m\u001b[38;5;241m.\u001b[39mindex\n",
      "\u001b[1;31mNameError\u001b[0m: name 'rf_rate' is not defined"
     ]
    }
   ],
   "source": [
    "rf_rate.index"
   ]
  },
  {
   "cell_type": "code",
   "execution_count": null,
   "id": "68ffa71f",
   "metadata": {},
   "outputs": [
    {
     "data": {
      "text/plain": [
       "DatetimeIndex(['1994-03-01', '1994-04-01', '1994-05-01', '1994-06-01',\n",
       "               '1994-07-01', '1994-08-01', '1994-09-01', '1994-10-01',\n",
       "               '1994-11-01', '1994-12-01', '1995-01-01', '1995-02-01',\n",
       "               '1995-03-01', '1995-04-01', '1995-05-01', '1995-06-01',\n",
       "               '1995-07-01', '1995-08-01', '1995-09-01', '1995-10-01',\n",
       "               '1995-11-01', '1995-12-01', '1996-01-01', '1996-02-01',\n",
       "               '1996-03-01', '1996-04-01', '1996-05-01', '1996-06-01',\n",
       "               '1996-07-01', '1996-08-01', '1996-09-01', '1996-10-01',\n",
       "               '1996-11-01', '1996-12-01', '1997-01-01', '1997-02-01',\n",
       "               '1997-03-01', '1997-04-01', '1997-05-01', '1997-06-01',\n",
       "               '1997-07-01', '1997-08-01', '1997-09-01', '1997-10-01',\n",
       "               '1997-11-01', '1997-12-01', '1998-01-01', '1998-02-01',\n",
       "               '1998-03-01', '1998-04-01', '1998-05-01', '1998-06-01',\n",
       "               '1998-07-01'],\n",
       "              dtype='datetime64[ns]', freq=None)"
      ]
     },
     "execution_count": 18,
     "metadata": {},
     "output_type": "execute_result"
    }
   ],
   "source": [
    "ltcm_exhibits_data.index"
   ]
  },
  {
   "cell_type": "code",
   "execution_count": null,
   "id": "fde5346b",
   "metadata": {},
   "outputs": [],
   "source": [
    "def get_metric_returns(returns, weights=[], adj_factor=12, VaR_q=5):\n",
    "\n",
    "\n",
    "    # If weights are provided, compute the weighted returns\n",
    "    if len(weights) == 0:\n",
    "        port_metrics = returns.copy()\n",
    "    else:\n",
    "        port_metrics = returns @ weights\n",
    "        port_metrics = pd.DataFrame(port_metrics, columns=['Portfolio'])\n",
    "\n",
    "    # Initialize the result DataFrame\n",
    "    result = pd.DataFrame()\n",
    "\n",
    "    # Compute Mean, Volatility, Sharpe Ratio, Skew, Excess Kurtosis\n",
    "    if len(weights) == 0:\n",
    "        port_metrics_r = pd.DataFrame({\n",
    "            \"Mean\": port_metrics.mean() * adj_factor,\n",
    "            \"Volatility\": port_metrics.std() * np.sqrt(adj_factor)\n",
    "        })\n",
    "        port_metrics_r[\"Sharpe_Ratio\"] = (port_metrics.mean() / port_metrics.std()) * np.sqrt(adj_factor)\n",
    "        port_metrics_r[\"Skew\"] = port_metrics.apply(skew)\n",
    "        port_metrics_r[\"Excess Kurtosis\"] = port_metrics.apply(kurtosis, fisher=True, bias=False)\n",
    "    else:\n",
    "        asset = 'Portfolio'\n",
    "        port_metrics_r = pd.DataFrame({\n",
    "            \"Mean\": [port_metrics[asset].mean() * adj_factor],\n",
    "            \"Volatility\": [port_metrics[asset].std() * np.sqrt(adj_factor)]\n",
    "        }, index=[asset])\n",
    "        port_metrics_r[\"Sharpe_Ratio\"] = (port_metrics[asset].mean() / port_metrics[asset].std()) * np.sqrt(adj_factor)\n",
    "        port_metrics_r[\"Skew\"] = skew(port_metrics[asset])\n",
    "        port_metrics_r[\"Excess Kurtosis\"] = kurtosis(port_metrics[asset], fisher=True, bias=False)\n",
    "\n",
    "    # Compute VaR, CVaR, Max Drawdown, and related metrics\n",
    "    for asset in port_metrics.columns:\n",
    "        data_aux = port_metrics[[asset]].copy()\n",
    "        VaR = np.percentile(sorted(data_aux.values.flatten()), q=VaR_q)\n",
    "        CVaR = data_aux[data_aux[asset] <= VaR].mean().values[0]\n",
    "\n",
    "        data_aux_acum_return = (data_aux + 1).cumprod()\n",
    "        data_aux_max_cum_return = data_aux_acum_return.cummax()\n",
    "        data_aux_drawdown = ((data_aux_acum_return - data_aux_max_cum_return) / data_aux_max_cum_return)\n",
    "        max_drawdown = data_aux_drawdown.min().values[0]\n",
    "        max_drawdown_date = data_aux_drawdown.idxmin().values[0]\n",
    "        peak_idx = data_aux_max_cum_return.idxmax().values[0]\n",
    "        recovery_data = data_aux_drawdown[data_aux_drawdown.index >= max_drawdown_date]\n",
    "        recovery_idx = recovery_data[recovery_data[asset] >= -0.00001].first_valid_index()\n",
    "        duration = (recovery_idx - max_drawdown_date).days if recovery_idx else np.nan\n",
    "\n",
    "        aux_result = pd.DataFrame(\n",
    "            [[VaR, CVaR, max_drawdown, max_drawdown_date, peak_idx, recovery_idx, duration]],\n",
    "            columns=[\"VaR\", \"CVaR\", \"Max Drawdown\", \"Bottom\", \"Peak\", \"Recovery\", \"Duration (days)\"],\n",
    "            index=[asset]\n",
    "        )\n",
    "        result = pd.concat([result, aux_result], axis=0)\n",
    "\n",
    "    # Merge the two sets of metrics\n",
    "    metrics = pd.merge(port_metrics_r, result, left_index=True, right_index=True, how=\"left\")\n",
    "    return metrics\n"
   ]
  },
  {
   "cell_type": "code",
   "execution_count": 4,
   "id": "9c2419c9",
   "metadata": {},
   "outputs": [
    {
     "data": {
      "text/html": [
       "<div>\n",
       "<style scoped>\n",
       "    .dataframe tbody tr th:only-of-type {\n",
       "        vertical-align: middle;\n",
       "    }\n",
       "\n",
       "    .dataframe tbody tr th {\n",
       "        vertical-align: top;\n",
       "    }\n",
       "\n",
       "    .dataframe thead th {\n",
       "        text-align: right;\n",
       "    }\n",
       "</style>\n",
       "<table border=\"1\" class=\"dataframe\">\n",
       "  <thead>\n",
       "    <tr style=\"text-align: right;\">\n",
       "      <th></th>\n",
       "      <th>Fund Capital ($billions)</th>\n",
       "      <th>Gross Monthly Performancea</th>\n",
       "      <th>Net Monthly Performanceb</th>\n",
       "      <th>Index of Net Performance</th>\n",
       "    </tr>\n",
       "    <tr>\n",
       "      <th>Date</th>\n",
       "      <th></th>\n",
       "      <th></th>\n",
       "      <th></th>\n",
       "      <th></th>\n",
       "    </tr>\n",
       "  </thead>\n",
       "  <tbody>\n",
       "    <tr>\n",
       "      <th>NaT</th>\n",
       "      <td>NaN</td>\n",
       "      <td>NaN</td>\n",
       "      <td>NaN</td>\n",
       "      <td>1.00</td>\n",
       "    </tr>\n",
       "    <tr>\n",
       "      <th>1994-03-01</th>\n",
       "      <td>1.1</td>\n",
       "      <td>-0.011</td>\n",
       "      <td>-0.013</td>\n",
       "      <td>0.99</td>\n",
       "    </tr>\n",
       "    <tr>\n",
       "      <th>1994-04-01</th>\n",
       "      <td>1.1</td>\n",
       "      <td>0.014</td>\n",
       "      <td>0.008</td>\n",
       "      <td>1.00</td>\n",
       "    </tr>\n",
       "    <tr>\n",
       "      <th>1994-05-01</th>\n",
       "      <td>1.2</td>\n",
       "      <td>0.068</td>\n",
       "      <td>0.053</td>\n",
       "      <td>1.05</td>\n",
       "    </tr>\n",
       "    <tr>\n",
       "      <th>1994-06-01</th>\n",
       "      <td>1.2</td>\n",
       "      <td>-0.039</td>\n",
       "      <td>-0.029</td>\n",
       "      <td>1.02</td>\n",
       "    </tr>\n",
       "  </tbody>\n",
       "</table>\n",
       "</div>"
      ],
      "text/plain": [
       "            Fund Capital ($billions)  Gross Monthly Performancea  \\\n",
       "Date                                                               \n",
       "NaT                              NaN                         NaN   \n",
       "1994-03-01                       1.1                      -0.011   \n",
       "1994-04-01                       1.1                       0.014   \n",
       "1994-05-01                       1.2                       0.068   \n",
       "1994-06-01                       1.2                      -0.039   \n",
       "\n",
       "            Net Monthly Performanceb  Index of Net Performance  \n",
       "Date                                                            \n",
       "NaT                              NaN                      1.00  \n",
       "1994-03-01                    -0.013                      0.99  \n",
       "1994-04-01                     0.008                      1.00  \n",
       "1994-05-01                     0.053                      1.05  \n",
       "1994-06-01                    -0.029                      1.02  "
      ]
     },
     "execution_count": 4,
     "metadata": {},
     "output_type": "execute_result"
    }
   ],
   "source": [
    "ltcm = pd.read_excel(\"../../data/ltcm_exhibits_data.xlsx\", sheet_name=\"Exhibit 2\",skiprows=2, index_col=0, parse_dates=[0]).iloc[:-4, :]\n",
    "ltcm.index.name = 'Date'\n",
    "ltcm.index = pd.to_datetime(ltcm.index)\n",
    "ltcm.index.strftime('%Y-%m-%d')\n",
    "ltcm.head()"
   ]
  },
  {
   "cell_type": "code",
   "execution_count": 5,
   "id": "a32e9bbd",
   "metadata": {},
   "outputs": [
    {
     "data": {
      "text/html": [
       "<div>\n",
       "<style scoped>\n",
       "    .dataframe tbody tr th:only-of-type {\n",
       "        vertical-align: middle;\n",
       "    }\n",
       "\n",
       "    .dataframe tbody tr th {\n",
       "        vertical-align: top;\n",
       "    }\n",
       "\n",
       "    .dataframe thead th {\n",
       "        text-align: right;\n",
       "    }\n",
       "</style>\n",
       "<table border=\"1\" class=\"dataframe\">\n",
       "  <thead>\n",
       "    <tr style=\"text-align: right;\">\n",
       "      <th></th>\n",
       "      <th>TBill 3M</th>\n",
       "    </tr>\n",
       "    <tr>\n",
       "      <th>Date</th>\n",
       "      <th></th>\n",
       "    </tr>\n",
       "  </thead>\n",
       "  <tbody>\n",
       "    <tr>\n",
       "      <th>1989-12-01</th>\n",
       "      <td>0.006367</td>\n",
       "    </tr>\n",
       "    <tr>\n",
       "      <th>1990-01-01</th>\n",
       "      <td>0.006450</td>\n",
       "    </tr>\n",
       "    <tr>\n",
       "      <th>1990-02-01</th>\n",
       "      <td>0.006583</td>\n",
       "    </tr>\n",
       "    <tr>\n",
       "      <th>1990-03-01</th>\n",
       "      <td>0.006475</td>\n",
       "    </tr>\n",
       "    <tr>\n",
       "      <th>1990-04-01</th>\n",
       "      <td>0.006450</td>\n",
       "    </tr>\n",
       "  </tbody>\n",
       "</table>\n",
       "</div>"
      ],
      "text/plain": [
       "            TBill 3M\n",
       "Date                \n",
       "1989-12-01  0.006367\n",
       "1990-01-01  0.006450\n",
       "1990-02-01  0.006583\n",
       "1990-03-01  0.006475\n",
       "1990-04-01  0.006450"
      ]
     },
     "execution_count": 5,
     "metadata": {},
     "output_type": "execute_result"
    }
   ],
   "source": [
    "rf= pd.read_excel(\"../../data/gmo_analysis_data.xlsx\", sheet_name=\"risk-free rate\",index_col=0, parse_dates=[0])/12\n",
    "rf.index.name=\"Date\"\n",
    "rf.index = rf.index.to_period('M').to_timestamp('D', how='start')\n",
    "rf.head()"
   ]
  },
  {
   "cell_type": "code",
   "execution_count": 6,
   "id": "43d5cb6c",
   "metadata": {},
   "outputs": [
    {
     "data": {
      "text/html": [
       "<div>\n",
       "<style scoped>\n",
       "    .dataframe tbody tr th:only-of-type {\n",
       "        vertical-align: middle;\n",
       "    }\n",
       "\n",
       "    .dataframe tbody tr th {\n",
       "        vertical-align: top;\n",
       "    }\n",
       "\n",
       "    .dataframe thead th {\n",
       "        text-align: right;\n",
       "    }\n",
       "</style>\n",
       "<table border=\"1\" class=\"dataframe\">\n",
       "  <thead>\n",
       "    <tr style=\"text-align: right;\">\n",
       "      <th></th>\n",
       "      <th>SPY</th>\n",
       "    </tr>\n",
       "    <tr>\n",
       "      <th>date</th>\n",
       "      <th></th>\n",
       "    </tr>\n",
       "  </thead>\n",
       "  <tbody>\n",
       "    <tr>\n",
       "      <th>1993-02-01</th>\n",
       "      <td>0.010667</td>\n",
       "    </tr>\n",
       "    <tr>\n",
       "      <th>1993-03-01</th>\n",
       "      <td>0.022408</td>\n",
       "    </tr>\n",
       "    <tr>\n",
       "      <th>1993-04-01</th>\n",
       "      <td>-0.025590</td>\n",
       "    </tr>\n",
       "    <tr>\n",
       "      <th>1993-05-01</th>\n",
       "      <td>0.026970</td>\n",
       "    </tr>\n",
       "    <tr>\n",
       "      <th>1993-06-01</th>\n",
       "      <td>0.003667</td>\n",
       "    </tr>\n",
       "  </tbody>\n",
       "</table>\n",
       "</div>"
      ],
      "text/plain": [
       "                 SPY\n",
       "date                \n",
       "1993-02-01  0.010667\n",
       "1993-03-01  0.022408\n",
       "1993-04-01 -0.025590\n",
       "1993-05-01  0.026970\n",
       "1993-06-01  0.003667"
      ]
     },
     "execution_count": 6,
     "metadata": {},
     "output_type": "execute_result"
    }
   ],
   "source": [
    "\n",
    "SPY= pd.read_excel(\"../../data/gmo_analysis_data.xlsx\", sheet_name=\"total returns\",index_col=0, parse_dates=[0]).iloc[:,[0]]\n",
    "SPY.index = SPY.index.to_period('M').to_timestamp('D', how='start')\n",
    "SPY.head()"
   ]
  },
  {
   "cell_type": "code",
   "execution_count": 7,
   "id": "3e2b140d",
   "metadata": {},
   "outputs": [],
   "source": [
    "join_data=pd.concat([SPY, rf, ltcm[[\"Gross Monthly Performancea\", \"Net Monthly Performanceb\"]]], axis=1 ).dropna()\n",
    "join_data[\"Gross Monthly Performancea\"]=join_data[\"Gross Monthly Performancea\"].subtract(join_data[\"TBill 3M\"])\n",
    "join_data[\"Net Monthly Performanceb\"]=join_data[\"Net Monthly Performanceb\"].subtract(join_data[\"TBill 3M\"])\n",
    "join_data[\"SPY\"]=join_data[\"SPY\"].subtract(join_data[\"TBill 3M\"])"
   ]
  },
  {
   "cell_type": "markdown",
   "id": "6e1221e0",
   "metadata": {},
   "source": [
    "1. Summary stats\n",
    "\n",
    "    (a) For both the gross and net series of LTCM excess returns, report the mean, volatility, and Sharpe ratios. (Annualize them.)\n",
    "\n",
    "    (b) Report the skewness, kurtosis, and (historic) VaR(.05).\n",
    "\n",
    "    (c) Comment on how these stats compare to SPY and other assets we have seen. How much do they differ between gross and net?\n"
   ]
  },
  {
   "cell_type": "code",
   "execution_count": 8,
   "id": "13409735",
   "metadata": {},
   "outputs": [
    {
     "ename": "NameError",
     "evalue": "name 'get_metric_returns' is not defined",
     "output_type": "error",
     "traceback": [
      "\u001b[1;31m---------------------------------------------------------------------------\u001b[0m",
      "\u001b[1;31mNameError\u001b[0m                                 Traceback (most recent call last)",
      "Cell \u001b[1;32mIn[8], line 1\u001b[0m\n\u001b[1;32m----> 1\u001b[0m \u001b[43mget_metric_returns\u001b[49m(join_data[[\u001b[38;5;124m\"\u001b[39m\u001b[38;5;124mGross Monthly Performancea\u001b[39m\u001b[38;5;124m\"\u001b[39m, \u001b[38;5;124m\"\u001b[39m\u001b[38;5;124mNet Monthly Performanceb\u001b[39m\u001b[38;5;124m\"\u001b[39m, \u001b[38;5;124m\"\u001b[39m\u001b[38;5;124mSPY\u001b[39m\u001b[38;5;124m\"\u001b[39m]], adj_factor\u001b[38;5;241m=\u001b[39m\u001b[38;5;241m12\u001b[39m, VaR_q\u001b[38;5;241m=\u001b[39m\u001b[38;5;241m5\u001b[39m)\n",
      "\u001b[1;31mNameError\u001b[0m: name 'get_metric_returns' is not defined"
     ]
    }
   ],
   "source": [
    "get_metric_returns(join_data[[\"Gross Monthly Performancea\", \"Net Monthly Performanceb\", \"SPY\"]], adj_factor=12, VaR_q=5)"
   ]
  },
  {
   "cell_type": "markdown",
   "id": "c2196fb2",
   "metadata": {},
   "source": [
    "*Answer* \n",
    "\n",
    "As we can see, the *Gross Monthly Performance* exceeds the SPY's return by 0.068 points, with similar volatility, resulting in a better Sharpe Ratio for *Gross Monthly Performance*. However, *Net Monthly Performance* shows a lower return compared to the SPY and similar volatilities, implying that the SPY's Sharpe Ratio is more favorable.  \n",
    "\n",
    "Regarding the VaR(0.05), a higher risk is observed in the SPY. The kurtosis indicates a greater risk of extreme values in *LTCM Net* compared to the SPY. Additionally, the *skewness* is higher in *LTCM Net*."
   ]
  },
  {
   "cell_type": "markdown",
   "id": "8f5b08a0",
   "metadata": {},
   "source": [
    "2. Using the series of net LTCM excess returns, denoted $r^{LTCM}$, estimate the following regression:\n",
    "\n",
    "$$\n",
    "{r_t}^{LTCM} = \\alpha + \\beta_m {r_t}^{m} + \\epsilon_t\n",
    "$$\n",
    "\n",
    "(a) Report $\\alpha$ and $\\beta_m$. Report the $R^2$ stat. \n",
    "\n",
    "(b) From the regression, does LTCM appear to be a “closet indexer”?\n",
    "    \n",
    "(c) From the regression, does LTCM appear to deliver excess returns beyond the risk premium we expect from market exposure?"
   ]
  },
  {
   "cell_type": "code",
   "execution_count": null,
   "id": "ae22c7b6",
   "metadata": {},
   "outputs": [],
   "source": [
    "Y = join_data[[\"Net Monthly Performanceb\"]]\n",
    "X = join_data[\"SPY\"]\n",
    "X = sm.add_constant(X)\n",
    "model = sm.OLS(Y,X).fit()\n",
    "adj = 12\n",
    "inter = model.params.values[0]*adj\n",
    "betas = model.params.values[1]\n",
    "rsquare = model.rsquared\n",
    "\n",
    "metrics =  pd.DataFrame([[inter, betas, rsquare]], columns=[\"Intercept\", \"Beta\", \"R^2\"], index=[\"Net Monthly Performance\"])\n"
   ]
  },
  {
   "cell_type": "code",
   "execution_count": null,
   "id": "175f1df5",
   "metadata": {},
   "outputs": [
    {
     "data": {
      "text/html": [
       "<div>\n",
       "<style scoped>\n",
       "    .dataframe tbody tr th:only-of-type {\n",
       "        vertical-align: middle;\n",
       "    }\n",
       "\n",
       "    .dataframe tbody tr th {\n",
       "        vertical-align: top;\n",
       "    }\n",
       "\n",
       "    .dataframe thead th {\n",
       "        text-align: right;\n",
       "    }\n",
       "</style>\n",
       "<table border=\"1\" class=\"dataframe\">\n",
       "  <thead>\n",
       "    <tr style=\"text-align: right;\">\n",
       "      <th></th>\n",
       "      <th>Intercept</th>\n",
       "      <th>Beta</th>\n",
       "      <th>R^2</th>\n",
       "    </tr>\n",
       "  </thead>\n",
       "  <tbody>\n",
       "    <tr>\n",
       "      <th>Net Monthly Performance</th>\n",
       "      <td>0.132603</td>\n",
       "      <td>0.137101</td>\n",
       "      <td>0.019097</td>\n",
       "    </tr>\n",
       "  </tbody>\n",
       "</table>\n",
       "</div>"
      ],
      "text/plain": [
       "                         Intercept      Beta       R^2\n",
       "Net Monthly Performance   0.132603  0.137101  0.019097"
      ]
     },
     "execution_count": 43,
     "metadata": {},
     "output_type": "execute_result"
    }
   ],
   "source": [
    "metrics"
   ]
  },
  {
   "cell_type": "markdown",
   "id": "c06eaa08",
   "metadata": {},
   "source": [
    "3. Let's check for non-linear market exposure. Run the following regression on LTCM's net excess returns:\n",
    "\n",
    "$\n",
    "{r_t}^{LTCM} = \\alpha + \\beta_1 {r_t}^{m} + \\beta_2 ({r_t}^{m})^2 + \\epsilon_t $\n",
    "\n",
    "(a) Report $\\beta_1$, $\\beta_2$, and $R^2$.\n",
    "\n",
    "(b) Does the quadratic market factor do much to increase the overall LTCM variation explained by the market?\n",
    "\n",
    "(c) From the regression evidence, does LTCM market exposure behave as if it is long market options or short market options? \n",
    "\n",
    "(d) Should we describe LTCM as being positively or negatively exposed to market volatility? "
   ]
  },
  {
   "cell_type": "code",
   "execution_count": null,
   "id": "76aa1b75",
   "metadata": {},
   "outputs": [],
   "source": [
    "Y = join_data[[\"Net Monthly Performanceb\"]]\n",
    "X = join_data[\"SPY\"]\n",
    "X = sm.add_constant(X)\n",
    "X[\"SPY_squared\"] = X[\"SPY\"]**2\n",
    "model = sm.OLS(Y,X).fit()\n",
    "adj = 12\n",
    "inter = model.params.values[0]*adj\n",
    "betas1 = model.params.values[1]\n",
    "betas2 = model.params.values[2]\n",
    "\n",
    "rsquare = model.rsquared\n",
    "\n",
    "metrics =  pd.DataFrame([[inter, betas1, betas2, rsquare]], columns=[\"Intercept\", \"Beta SPY\", \"Beta SPY Squared\", \"R^2\"], index=[\"Net Monthly Performance\"])\n"
   ]
  },
  {
   "cell_type": "code",
   "execution_count": null,
   "id": "8562315f",
   "metadata": {},
   "outputs": [
    {
     "data": {
      "text/html": [
       "<div>\n",
       "<style scoped>\n",
       "    .dataframe tbody tr th:only-of-type {\n",
       "        vertical-align: middle;\n",
       "    }\n",
       "\n",
       "    .dataframe tbody tr th {\n",
       "        vertical-align: top;\n",
       "    }\n",
       "\n",
       "    .dataframe thead th {\n",
       "        text-align: right;\n",
       "    }\n",
       "</style>\n",
       "<table border=\"1\" class=\"dataframe\">\n",
       "  <thead>\n",
       "    <tr style=\"text-align: right;\">\n",
       "      <th></th>\n",
       "      <th>Intercept</th>\n",
       "      <th>Beta SPY</th>\n",
       "      <th>Beta SPY Squared</th>\n",
       "      <th>R^2</th>\n",
       "    </tr>\n",
       "  </thead>\n",
       "  <tbody>\n",
       "    <tr>\n",
       "      <th>Net Monthly Performance</th>\n",
       "      <td>0.156279</td>\n",
       "      <td>0.167321</td>\n",
       "      <td>-1.928874</td>\n",
       "      <td>0.024539</td>\n",
       "    </tr>\n",
       "  </tbody>\n",
       "</table>\n",
       "</div>"
      ],
      "text/plain": [
       "                         Intercept  Beta SPY  Beta SPY Squared       R^2\n",
       "Net Monthly Performance   0.156279  0.167321         -1.928874  0.024539"
      ]
     },
     "execution_count": 45,
     "metadata": {},
     "output_type": "execute_result"
    }
   ],
   "source": [
    "metrics"
   ]
  },
  {
   "cell_type": "markdown",
   "id": "a4bf1c23",
   "metadata": {},
   "source": [
    "4. Let's try to pinpoint the nature of LTCM's nonlinear exposure. Does it come more from exposure to up-markets or down-markets? Run the following regression on LTCM's net excess returns\n",
    "\n",
    "$$\n",
    "{r_t}^{LTCM} = \\alpha + \\beta{r_t}^{m} + \\beta_u \\max({r_t}^{m} - k_1, 0) + \\beta_d \\max(k_2 - {r_t}^{m}, 0) + \\epsilon_t\n",
    "$$\n",
    "where k1 = .03 and k2 = −.03. (This is roughly one standard deviation of  ̃${r_t}^{m}$)\n",
    "\n",
    "(a) Report $\\beta$, $\\beta_u$, $\\beta_d$, and $R^2$.\n",
    "\n",
    "(b) Is LTCM long or short the call-like factor? And the put-like factor?\n",
    "\n",
    "\n",
    "(c) Which factor moves LTCM more, the call-like factor, or the put-like factor?\n",
    "\n",
    "\n",
    "(d) In the previous problem, you commented on whether LTCM is positively or negatively exposed to marked volatility. Using this current regression, does this volatility exposure come more from being long the market's upside? Short the market's downside? Something else? "
   ]
  },
  {
   "cell_type": "markdown",
   "id": "f043d33b",
   "metadata": {},
   "source": [
    "## 3. The FX Carry Trade\n",
    "\n",
    "Find an Excel data file, \"data/fx_rf_data.xlsx\". The file has two sets of data: \n",
    "* \"risk-free rates” - daily quotes of annualized risk-free rates across currencies.\n",
    "* “exchange rates” - daily quotes of spot FX rates expressed as direct quotes to the USD\n",
    "\n",
    "Data processing: \n",
    "\n",
    "* For risk-free rate data, $r_{t,t+1}^{f,i}$, the rate is known and reported in the data at time t. Namely, any given date t in the data file is reporting both $S_{t}^{i}$ and $r_{t,t+1}^{f,i}$.\n",
    "* The theory says to use log risk-free rates. You have the risk-free rate in levels: use the following equation to convert them:\n",
    "$$\n",
    "r_{t,t+1}^{f,i} = ln(1+r_{t,t+1}^{f,i})\n",
    "$$\n",
    "* The theory says to use log spot FX prices. You have the FX prices in levels, so directly take their logarithims:\n",
    "$$\n",
    "s_{t}^{i} = ln(S_{t}^{i})\n",
    "$$\n"
   ]
  },
  {
   "cell_type": "code",
   "execution_count": 26,
   "id": "8ea172e4",
   "metadata": {},
   "outputs": [],
   "source": [
    "import pandas as pd\n",
    "import numpy as np\n",
    "import matplotlib.pyplot as plt\n",
    "import seaborn as sns\n",
    "from scipy.stats import skew,kurtosis,norm\n",
    "import statsmodels.api as sm\n",
    "\n",
    "path = \"../../data/fx_rf_data.xlsx\"\n",
    "risk_free_rate = pd.read_excel(path, sheet_name=\"risk-free rates\", index_col=0)\n",
    "exchange_rates = pd.read_excel(path, sheet_name=\"exchange rates\", index_col=0)"
   ]
  },
  {
   "cell_type": "code",
   "execution_count": null,
   "id": "7b4feb94",
   "metadata": {},
   "outputs": [],
   "source": []
  },
  {
   "cell_type": "code",
   "execution_count": 27,
   "id": "644d0cac",
   "metadata": {},
   "outputs": [],
   "source": [
    "risk_free_rate = np.log(1 + risk_free_rate/252) # Daily risk-free rate\n",
    "exchange_rates = np.log(exchange_rates) # Daily exchange rates\n",
    "risk_free_rate = risk_free_rate[risk_free_rate.index.isin(exchange_rates.index)]"
   ]
  },
  {
   "cell_type": "code",
   "execution_count": 28,
   "id": "c833c838",
   "metadata": {},
   "outputs": [
    {
     "data": {
      "text/plain": [
       "4393"
      ]
     },
     "execution_count": 28,
     "metadata": {},
     "output_type": "execute_result"
    }
   ],
   "source": [
    "len(risk_free_rate)"
   ]
  },
  {
   "cell_type": "markdown",
   "id": "602a707a",
   "metadata": {},
   "source": [
    "#### 3.1 Static Carry Trade\n",
    "\n",
    "Define the log return of holding the foreign currency using log values of the risk-free rate and log values of the FX rates:\n",
    "$$\n",
    "r_{t+1}^{i} = s_{t+1}^{i} - s_{t}^{i} + r_{t,t+1}^{f,i}\n",
    "$$\n",
    "\n",
    "Then the excess log return relative to USD, is expressed as\n",
    "$$\n",
    "r_{t+1}^{i} = s_{t+1}^{i} - s_{t}^{i} + r_{t,t+1}^{f,i} - r_{t,t+1}^{f,USD} \n",
    "$$\n",
    "\n",
    "For each foreign currency, i, calculate the excess log return series, $r_{t+1}^{~}$. Report the following stats, (based on the excess log returns.) Annualize them.\n",
    "\n",
    "\n",
    "1. Mean\n",
    "2. Volatility\n",
    "3. Sharpe ratio\n",
    "\n",
    "What differences do you see across currencies?\n"
   ]
  },
  {
   "cell_type": "code",
   "execution_count": 29,
   "id": "91fc485c",
   "metadata": {},
   "outputs": [],
   "source": [
    "excess_log_returns = pd.DataFrame()\n",
    "fx_spread = pd.DataFrame()\n",
    "rf_spread = pd.DataFrame()  \n",
    "\n",
    "for currency in exchange_rates.columns:\n",
    "    excess_log_returns[currency] = exchange_rates[currency] - exchange_rates[currency].shift(1) + risk_free_rate[currency].shift(1) - risk_free_rate[\"USD\"].shift(1)\n",
    "    fx_spread[currency] = exchange_rates[currency] - exchange_rates[currency].shift(1)\n",
    "    rf_spread[currency] = risk_free_rate[\"USD\"].shift(1) - risk_free_rate[currency].shift(1) "
   ]
  },
  {
   "cell_type": "code",
   "execution_count": 30,
   "id": "32b5b88a",
   "metadata": {},
   "outputs": [
    {
     "data": {
      "text/html": [
       "<div>\n",
       "<style scoped>\n",
       "    .dataframe tbody tr th:only-of-type {\n",
       "        vertical-align: middle;\n",
       "    }\n",
       "\n",
       "    .dataframe tbody tr th {\n",
       "        vertical-align: top;\n",
       "    }\n",
       "\n",
       "    .dataframe thead th {\n",
       "        text-align: right;\n",
       "    }\n",
       "</style>\n",
       "<table border=\"1\" class=\"dataframe\">\n",
       "  <thead>\n",
       "    <tr style=\"text-align: right;\">\n",
       "      <th></th>\n",
       "      <th>JPY</th>\n",
       "      <th>EUR</th>\n",
       "      <th>GBP</th>\n",
       "      <th>MXN</th>\n",
       "      <th>CHF</th>\n",
       "    </tr>\n",
       "    <tr>\n",
       "      <th>date</th>\n",
       "      <th></th>\n",
       "      <th></th>\n",
       "      <th></th>\n",
       "      <th></th>\n",
       "      <th></th>\n",
       "    </tr>\n",
       "  </thead>\n",
       "  <tbody>\n",
       "    <tr>\n",
       "      <th>2008-01-01</th>\n",
       "      <td>NaN</td>\n",
       "      <td>NaN</td>\n",
       "      <td>NaN</td>\n",
       "      <td>NaN</td>\n",
       "      <td>NaN</td>\n",
       "    </tr>\n",
       "    <tr>\n",
       "      <th>2008-01-02</th>\n",
       "      <td>0.000156</td>\n",
       "      <td>0.000006</td>\n",
       "      <td>-0.000052</td>\n",
       "      <td>-0.000123</td>\n",
       "      <td>0.000093</td>\n",
       "    </tr>\n",
       "    <tr>\n",
       "      <th>2008-01-03</th>\n",
       "      <td>0.000146</td>\n",
       "      <td>0.000022</td>\n",
       "      <td>-0.000052</td>\n",
       "      <td>-0.000133</td>\n",
       "      <td>0.000083</td>\n",
       "    </tr>\n",
       "    <tr>\n",
       "      <th>2008-01-04</th>\n",
       "      <td>0.000153</td>\n",
       "      <td>0.000016</td>\n",
       "      <td>-0.000050</td>\n",
       "      <td>-0.000125</td>\n",
       "      <td>0.000087</td>\n",
       "    </tr>\n",
       "    <tr>\n",
       "      <th>2008-01-07</th>\n",
       "      <td>0.000148</td>\n",
       "      <td>0.000006</td>\n",
       "      <td>-0.000051</td>\n",
       "      <td>-0.000130</td>\n",
       "      <td>0.000084</td>\n",
       "    </tr>\n",
       "    <tr>\n",
       "      <th>...</th>\n",
       "      <td>...</td>\n",
       "      <td>...</td>\n",
       "      <td>...</td>\n",
       "      <td>...</td>\n",
       "      <td>...</td>\n",
       "    </tr>\n",
       "    <tr>\n",
       "      <th>2024-10-25</th>\n",
       "      <td>0.000184</td>\n",
       "      <td>0.000068</td>\n",
       "      <td>-0.000004</td>\n",
       "      <td>-0.000224</td>\n",
       "      <td>0.000159</td>\n",
       "    </tr>\n",
       "    <tr>\n",
       "      <th>2024-10-28</th>\n",
       "      <td>0.000184</td>\n",
       "      <td>0.000066</td>\n",
       "      <td>-0.000003</td>\n",
       "      <td>-0.000223</td>\n",
       "      <td>0.000160</td>\n",
       "    </tr>\n",
       "    <tr>\n",
       "      <th>2024-10-29</th>\n",
       "      <td>0.000184</td>\n",
       "      <td>0.000066</td>\n",
       "      <td>-0.000007</td>\n",
       "      <td>-0.000224</td>\n",
       "      <td>0.000160</td>\n",
       "    </tr>\n",
       "    <tr>\n",
       "      <th>2024-10-30</th>\n",
       "      <td>0.000184</td>\n",
       "      <td>0.000067</td>\n",
       "      <td>-0.000007</td>\n",
       "      <td>-0.000224</td>\n",
       "      <td>0.000160</td>\n",
       "    </tr>\n",
       "    <tr>\n",
       "      <th>2024-10-31</th>\n",
       "      <td>0.000184</td>\n",
       "      <td>0.000065</td>\n",
       "      <td>-0.000007</td>\n",
       "      <td>-0.000224</td>\n",
       "      <td>0.000160</td>\n",
       "    </tr>\n",
       "  </tbody>\n",
       "</table>\n",
       "<p>4393 rows × 5 columns</p>\n",
       "</div>"
      ],
      "text/plain": [
       "                 JPY       EUR       GBP       MXN       CHF\n",
       "date                                                        \n",
       "2008-01-01       NaN       NaN       NaN       NaN       NaN\n",
       "2008-01-02  0.000156  0.000006 -0.000052 -0.000123  0.000093\n",
       "2008-01-03  0.000146  0.000022 -0.000052 -0.000133  0.000083\n",
       "2008-01-04  0.000153  0.000016 -0.000050 -0.000125  0.000087\n",
       "2008-01-07  0.000148  0.000006 -0.000051 -0.000130  0.000084\n",
       "...              ...       ...       ...       ...       ...\n",
       "2024-10-25  0.000184  0.000068 -0.000004 -0.000224  0.000159\n",
       "2024-10-28  0.000184  0.000066 -0.000003 -0.000223  0.000160\n",
       "2024-10-29  0.000184  0.000066 -0.000007 -0.000224  0.000160\n",
       "2024-10-30  0.000184  0.000067 -0.000007 -0.000224  0.000160\n",
       "2024-10-31  0.000184  0.000065 -0.000007 -0.000224  0.000160\n",
       "\n",
       "[4393 rows x 5 columns]"
      ]
     },
     "execution_count": 30,
     "metadata": {},
     "output_type": "execute_result"
    }
   ],
   "source": [
    "rf_spread"
   ]
  },
  {
   "cell_type": "code",
   "execution_count": 31,
   "id": "10045756",
   "metadata": {},
   "outputs": [
    {
     "data": {
      "text/html": [
       "<div>\n",
       "<style scoped>\n",
       "    .dataframe tbody tr th:only-of-type {\n",
       "        vertical-align: middle;\n",
       "    }\n",
       "\n",
       "    .dataframe tbody tr th {\n",
       "        vertical-align: top;\n",
       "    }\n",
       "\n",
       "    .dataframe thead th {\n",
       "        text-align: right;\n",
       "    }\n",
       "</style>\n",
       "<table border=\"1\" class=\"dataframe\">\n",
       "  <thead>\n",
       "    <tr style=\"text-align: right;\">\n",
       "      <th></th>\n",
       "      <th>JPY</th>\n",
       "      <th>EUR</th>\n",
       "      <th>GBP</th>\n",
       "      <th>MXN</th>\n",
       "      <th>CHF</th>\n",
       "    </tr>\n",
       "    <tr>\n",
       "      <th>date</th>\n",
       "      <th></th>\n",
       "      <th></th>\n",
       "      <th></th>\n",
       "      <th></th>\n",
       "      <th></th>\n",
       "    </tr>\n",
       "  </thead>\n",
       "  <tbody>\n",
       "    <tr>\n",
       "      <th>2008-01-01</th>\n",
       "      <td>NaN</td>\n",
       "      <td>NaN</td>\n",
       "      <td>NaN</td>\n",
       "      <td>NaN</td>\n",
       "      <td>NaN</td>\n",
       "    </tr>\n",
       "    <tr>\n",
       "      <th>2008-01-02</th>\n",
       "      <td>0.017925</td>\n",
       "      <td>0.008394</td>\n",
       "      <td>-0.002823</td>\n",
       "      <td>-0.002289</td>\n",
       "      <td>0.012277</td>\n",
       "    </tr>\n",
       "    <tr>\n",
       "      <th>2008-01-03</th>\n",
       "      <td>0.003175</td>\n",
       "      <td>0.002376</td>\n",
       "      <td>-0.004960</td>\n",
       "      <td>0.002725</td>\n",
       "      <td>0.007694</td>\n",
       "    </tr>\n",
       "    <tr>\n",
       "      <th>2008-01-04</th>\n",
       "      <td>0.006646</td>\n",
       "      <td>-0.000475</td>\n",
       "      <td>0.001521</td>\n",
       "      <td>-0.003598</td>\n",
       "      <td>0.002219</td>\n",
       "    </tr>\n",
       "    <tr>\n",
       "      <th>2008-01-07</th>\n",
       "      <td>-0.005444</td>\n",
       "      <td>-0.003193</td>\n",
       "      <td>-0.001825</td>\n",
       "      <td>0.002400</td>\n",
       "      <td>-0.007231</td>\n",
       "    </tr>\n",
       "    <tr>\n",
       "      <th>...</th>\n",
       "      <td>...</td>\n",
       "      <td>...</td>\n",
       "      <td>...</td>\n",
       "      <td>...</td>\n",
       "      <td>...</td>\n",
       "    </tr>\n",
       "    <tr>\n",
       "      <th>2024-10-25</th>\n",
       "      <td>-0.003194</td>\n",
       "      <td>-0.002960</td>\n",
       "      <td>-0.001002</td>\n",
       "      <td>-0.008954</td>\n",
       "      <td>-0.001299</td>\n",
       "    </tr>\n",
       "    <tr>\n",
       "      <th>2024-10-28</th>\n",
       "      <td>-0.006265</td>\n",
       "      <td>0.001481</td>\n",
       "      <td>0.000771</td>\n",
       "      <td>-0.002802</td>\n",
       "      <td>0.001646</td>\n",
       "    </tr>\n",
       "    <tr>\n",
       "      <th>2024-10-29</th>\n",
       "      <td>-0.000460</td>\n",
       "      <td>0.000647</td>\n",
       "      <td>0.003309</td>\n",
       "      <td>-0.001003</td>\n",
       "      <td>-0.002166</td>\n",
       "    </tr>\n",
       "    <tr>\n",
       "      <th>2024-10-30</th>\n",
       "      <td>-0.000460</td>\n",
       "      <td>0.003414</td>\n",
       "      <td>-0.004081</td>\n",
       "      <td>-0.004424</td>\n",
       "      <td>0.000694</td>\n",
       "    </tr>\n",
       "    <tr>\n",
       "      <th>2024-10-31</th>\n",
       "      <td>0.009163</td>\n",
       "      <td>0.002576</td>\n",
       "      <td>-0.004872</td>\n",
       "      <td>0.005827</td>\n",
       "      <td>0.003029</td>\n",
       "    </tr>\n",
       "  </tbody>\n",
       "</table>\n",
       "<p>4393 rows × 5 columns</p>\n",
       "</div>"
      ],
      "text/plain": [
       "                 JPY       EUR       GBP       MXN       CHF\n",
       "date                                                        \n",
       "2008-01-01       NaN       NaN       NaN       NaN       NaN\n",
       "2008-01-02  0.017925  0.008394 -0.002823 -0.002289  0.012277\n",
       "2008-01-03  0.003175  0.002376 -0.004960  0.002725  0.007694\n",
       "2008-01-04  0.006646 -0.000475  0.001521 -0.003598  0.002219\n",
       "2008-01-07 -0.005444 -0.003193 -0.001825  0.002400 -0.007231\n",
       "...              ...       ...       ...       ...       ...\n",
       "2024-10-25 -0.003194 -0.002960 -0.001002 -0.008954 -0.001299\n",
       "2024-10-28 -0.006265  0.001481  0.000771 -0.002802  0.001646\n",
       "2024-10-29 -0.000460  0.000647  0.003309 -0.001003 -0.002166\n",
       "2024-10-30 -0.000460  0.003414 -0.004081 -0.004424  0.000694\n",
       "2024-10-31  0.009163  0.002576 -0.004872  0.005827  0.003029\n",
       "\n",
       "[4393 rows x 5 columns]"
      ]
     },
     "execution_count": 31,
     "metadata": {},
     "output_type": "execute_result"
    }
   ],
   "source": [
    "fx_spread"
   ]
  },
  {
   "cell_type": "code",
   "execution_count": 12,
   "id": "519a2172",
   "metadata": {},
   "outputs": [
    {
     "data": {
      "text/plain": [
       "<Axes: xlabel='date'>"
      ]
     },
     "execution_count": 12,
     "metadata": {},
     "output_type": "execute_result"
    },
    {
     "data": {
      "image/png": "[encoded data removed]",
      "text/plain": [
       "<Figure size 640x480 with 1 Axes>"
      ]
     },
     "metadata": {},
     "output_type": "display_data"
    }
   ],
   "source": [
    "np.exp(excess_log_returns.cumsum()).plot()"
   ]
  },
  {
   "cell_type": "code",
   "execution_count": 18,
   "id": "f82c26e6",
   "metadata": {},
   "outputs": [
    {
     "ename": "NameError",
     "evalue": "name 'get_metric_returns' is not defined",
     "output_type": "error",
     "traceback": [
      "\u001b[1;31m---------------------------------------------------------------------------\u001b[0m",
      "\u001b[1;31mNameError\u001b[0m                                 Traceback (most recent call last)",
      "Cell \u001b[1;32mIn[18], line 1\u001b[0m\n\u001b[1;32m----> 1\u001b[0m \u001b[43mget_metric_returns\u001b[49m(excess_log_returns\u001b[38;5;241m.\u001b[39mdropna(), adj_factor\u001b[38;5;241m=\u001b[39m\u001b[38;5;241m252\u001b[39m, VaR_q\u001b[38;5;241m=\u001b[39m\u001b[38;5;241m5\u001b[39m)\n",
      "\u001b[1;31mNameError\u001b[0m: name 'get_metric_returns' is not defined"
     ]
    }
   ],
   "source": [
    "get_metric_returns(excess_log_returns.dropna(), adj_factor=252, VaR_q=5)"
   ]
  },
  {
   "cell_type": "markdown",
   "id": "3d09dcc8",
   "metadata": {},
   "source": [
    "*Answer* : \n",
    "\n",
    "The key differences across the currencies are:\n",
    "\n",
    "* Mean Excess Returns: MXN and CHF have positive mean excess returns, while JPY, EUR, and GBP have negative mean excess returns.\n",
    "* Volatility: MXN exhibits the highest volatility, indicating higher risk.\n",
    "* Sharpe Ratio: MXN has the highest Sharpe Ratio (approximately 0.10), suggesting it offers the best risk-adjusted returns among the currencies analyzed. CHF has a marginally positive Sharpe Ratio, while the others are negative.\n",
    "\n",
    "These differences suggest that `MXN` provided better compensation for risk compared to the other currencies during the sample period."
   ]
  },
  {
   "cell_type": "markdown",
   "id": "6f7d11f0",
   "metadata": {},
   "source": [
    "#### 3.2 Implications for UIP\n",
    "\n",
    "1. Do any of these stats contradict the (log version) of Uncovered Interest Parity (UIP)?\n",
    "\n",
    "    *Answer*: Yes, the statistics contradict the log version of Uncovered Interest Parity (UIP). According to UIP, the expected excess return from holding foreign currency should be zero because any interest rate differential should be offset by expected movements in exchange rates. However, the calculated mean excess returns are significantly different from zero for several currencies (e.g., MXN and CHF have positive mean excess returns, while JPY, EUR, and GBP have negative ones), suggesting that UIP does not hold empirically in this sample.\n",
    "\n",
    "2. A long position in which foreign currency offered the best Sharpe ratio over the sample?\n",
    "\n",
    "    *Answer*: TThe MXN (Mexican Peso) offered the best Sharpe Ratio of approximately 0.10 over the sample, indicating it provided the best risk-adjusted excess returns among the currencies analyzed.\n",
    " \n",
    "3. Are there any foreign currencies for which a long position earned a negative excess return (in USD) over the sample? \n",
    "\n",
    "    *Answer*: Yes, long positions in JPY (Japanese Yen), EUR (Euro), and GBP (British Pound) resulted in negative mean excess returns when measured in USD over the sample period."
   ]
  },
  {
   "cell_type": "markdown",
   "id": "acebe320",
   "metadata": {},
   "source": [
    "#### 3.3 Predicting FX\n",
    "\n",
    "For each foreign currency, test whether interest-rate differentials can predict growth in the foreign-exchange rate. Do this by estimating the following forecasting regression:\n",
    "\n",
    "$$\n",
    "s_{t+1}^{i} - s_{t}^{} = \\alpha_i + \\beta_i\n",
    "\\left(\n",
    "r_{t,t+1}^{f,USD}  - r_{t,t+1}^{f,i} \n",
    "\\right)\n",
    "+ \\epsilon_{t+1}^{i}\n",
    "$$\n",
    "\n",
    "where $r^{f,i}$ denotes the risk-free rate of currency $i$, and $s_i$ denotes the FX rate for currency $i$.\n",
    "Again, note that both $r_{t,t+1}^{f,USD}$ and $s_t$ are determined at time $t$."
   ]
  },
  {
   "cell_type": "code",
   "execution_count": 34,
   "id": "751eac71",
   "metadata": {},
   "outputs": [],
   "source": [
    "regression_DB = fx_spread.merge(rf_spread, left_index=True, right_index=True, suffixes=('_fx', '_rf'))"
   ]
  },
  {
   "cell_type": "code",
   "execution_count": 38,
   "id": "3b482c6a",
   "metadata": {},
   "outputs": [],
   "source": [
    "metrics = pd.DataFrame()\n",
    "adj = 252\n",
    "for currency in fx_spread.columns:\n",
    "    Y = regression_DB[[currency+\"_fx\"]]\n",
    "    X = regression_DB[currency+ \"_rf\"]\n",
    "    X = sm.add_constant(X)\n",
    "    model = sm.OLS(Y,X, missing = \"drop\").fit()\n",
    "    inter = model.params.values[0]*adj\n",
    "    betas = model.params.values[1]\n",
    "    rsquare = model.rsquared\n",
    "\n",
    "    metrics = pd.concat([metrics, pd.DataFrame([[inter, betas, rsquare]], columns=[\"Intercept\", \"Beta\", \"R^2\"], index=[currency])], axis=0)\n",
    "\n"
   ]
  },
  {
   "cell_type": "markdown",
   "id": "b438789d",
   "metadata": {},
   "source": [
    "1. Make a table with columns corresponding to a different currency regression.  Report the regression estimates $\\alpha_i$ and $\\beta_i$ in the first two rows.  Report the $R^2$ stat in the third row."
   ]
  },
  {
   "cell_type": "code",
   "execution_count": 39,
   "id": "61f5dad4",
   "metadata": {},
   "outputs": [
    {
     "data": {
      "text/html": [
       "<div>\n",
       "<style scoped>\n",
       "    .dataframe tbody tr th:only-of-type {\n",
       "        vertical-align: middle;\n",
       "    }\n",
       "\n",
       "    .dataframe tbody tr th {\n",
       "        vertical-align: top;\n",
       "    }\n",
       "\n",
       "    .dataframe thead th {\n",
       "        text-align: right;\n",
       "    }\n",
       "</style>\n",
       "<table border=\"1\" class=\"dataframe\">\n",
       "  <thead>\n",
       "    <tr style=\"text-align: right;\">\n",
       "      <th></th>\n",
       "      <th>Intercept</th>\n",
       "      <th>Beta</th>\n",
       "      <th>R^2</th>\n",
       "    </tr>\n",
       "  </thead>\n",
       "  <tbody>\n",
       "    <tr>\n",
       "      <th>JPY</th>\n",
       "      <td>-0.021877</td>\n",
       "      <td>0.351755</td>\n",
       "      <td>0.000013</td>\n",
       "    </tr>\n",
       "    <tr>\n",
       "      <th>EUR</th>\n",
       "      <td>-0.031513</td>\n",
       "      <td>2.160192</td>\n",
       "      <td>0.000298</td>\n",
       "    </tr>\n",
       "    <tr>\n",
       "      <th>GBP</th>\n",
       "      <td>-0.025228</td>\n",
       "      <td>6.810272</td>\n",
       "      <td>0.001537</td>\n",
       "    </tr>\n",
       "    <tr>\n",
       "      <th>MXN</th>\n",
       "      <td>-0.073561</td>\n",
       "      <td>-0.808766</td>\n",
       "      <td>0.000020</td>\n",
       "    </tr>\n",
       "    <tr>\n",
       "      <th>CHF</th>\n",
       "      <td>0.003703</td>\n",
       "      <td>0.906945</td>\n",
       "      <td>0.000050</td>\n",
       "    </tr>\n",
       "  </tbody>\n",
       "</table>\n",
       "</div>"
      ],
      "text/plain": [
       "     Intercept      Beta       R^2\n",
       "JPY  -0.021877  0.351755  0.000013\n",
       "EUR  -0.031513  2.160192  0.000298\n",
       "GBP  -0.025228  6.810272  0.001537\n",
       "MXN  -0.073561 -0.808766  0.000020\n",
       "CHF   0.003703  0.906945  0.000050"
      ]
     },
     "metadata": {},
     "output_type": "display_data"
    }
   ],
   "source": [
    "display(metrics)"
   ]
  },
  {
   "cell_type": "markdown",
   "id": "e7e11432",
   "metadata": {},
   "source": [
    "2. Suppose the foreign risk-free rate increases relative to the US rate.\n",
    "\n",
    "    (a) For which foreign currencies would we predict a relative strengthening of the USD in the following period?\n",
    "\n",
    "    *Answer* : For currencies with positive betas (JPY, EUR, GBP, and CHF), an increase in the foreign risk-free rate relative to the US rate would lead to a decrease in the expected change in the exchange rate . This implies that the foreign currency is expected to depreciate against the USD, leading to a relative strengthening of the USD.\n",
    "\n",
    "    (b) For which currencies would we predict relative weakening of the USD in the following period?\n",
    "\n",
    "    *Answer* : For the MXN, which has a negative beta, an increase in the foreign risk-free rate relative to the US rate would lead to an increase in the expected change in the exchange rate. This means the USD is expected to depreciate against the MXN, resulting in a relative weakening of the USD.\n",
    "\n",
    "    (c) This FX predictability is strongest in the case of which foreign currency?\n",
    "\n",
    "    *Answer* : Although the values are very low for all currencies, indicating weak explanatory power, the GBP has the highest (approximately 0.0015), suggesting that the interest rate differential explains slightly more of the variation in the exchange rate changes for the GBP compared to the other currencies."
   ]
  },
  {
   "cell_type": "markdown",
   "id": "fe88f346",
   "metadata": {},
   "source": [
    "#### 3.4 The Dynamic Carry Trade\n",
    "\n",
    "Use this to write $E\\left[\\tilde{r}_{i,t+1}\\right]$ as a function of the interest-rate differential as well as $\\alpha$ and $\\beta$ from this FX regression:\n",
    "$$\n",
    "E\\left[s_{t+1} - s_t\\right] = \\alpha + \\beta\n",
    "\\left(\n",
    "r_{t,t+1}^{f,USD} - r_{t,t+1}^{f,i}\n",
    "\\right)\n",
    "$$\n",
    "\n",
    "Then use the definition of excess (log) returns on FX:\n",
    "\n",
    "$$\n",
    "\\tilde{r}_{i,t+1} = s_{t+1} - s_t -\n",
    "\\left(\n",
    "r_{t,t+1}^{f,USD} - r_{t,t+1}^{f,i}\n",
    "\\right)\n",
    "$$\n",
    "\n",
    "Rearranging, this implies the following forecast for excess log returns:\n",
    "$$\n",
    "E\\left[\\tilde{r}_{i,t+1}\\right] = \\alpha + (\\beta - 1)\n",
    "\\left(\n",
    "r_{t,t+1}^{f,USD} - r_{t,t+1}^{f,i}\n",
    "\\right)\n",
    "$$"
   ]
  },
  {
   "cell_type": "markdown",
   "id": "73f01517",
   "metadata": {},
   "source": [
    "1. Use your regression estimates from Problem 3 along with the formula above to calculate the fraction of months for which the estimated FX risk premium is positive. That is, for each $i$, calculate how often in the time-series we have\n",
    "\n",
    "$$\n",
    "E\\left[\\tilde{r}_{i,t+1}\\right] > 0\n",
    "$$"
   ]
  },
  {
   "cell_type": "code",
   "execution_count": 40,
   "id": "21d2adee",
   "metadata": {},
   "outputs": [],
   "source": [
    "expected_fx_premium = pd.DataFrame()\n",
    "for currency in fx_spread.columns:\n",
    "    expected_fx_premium[currency] = rf_spread[currency]*(metrics.loc[currency, \"Beta\"]-1) + metrics.loc[currency, \"Intercept\"]/adj "
   ]
  },
  {
   "cell_type": "code",
   "execution_count": 41,
   "id": "30143149",
   "metadata": {},
   "outputs": [
    {
     "data": {
      "text/html": [
       "<div>\n",
       "<style scoped>\n",
       "    .dataframe tbody tr th:only-of-type {\n",
       "        vertical-align: middle;\n",
       "    }\n",
       "\n",
       "    .dataframe tbody tr th {\n",
       "        vertical-align: top;\n",
       "    }\n",
       "\n",
       "    .dataframe thead th {\n",
       "        text-align: right;\n",
       "    }\n",
       "</style>\n",
       "<table border=\"1\" class=\"dataframe\">\n",
       "  <thead>\n",
       "    <tr style=\"text-align: right;\">\n",
       "      <th></th>\n",
       "      <th>JPY</th>\n",
       "      <th>EUR</th>\n",
       "      <th>GBP</th>\n",
       "      <th>MXN</th>\n",
       "      <th>CHF</th>\n",
       "    </tr>\n",
       "  </thead>\n",
       "  <tbody>\n",
       "    <tr>\n",
       "      <th>count</th>\n",
       "      <td>4392.000000</td>\n",
       "      <td>4392.000000</td>\n",
       "      <td>4392.000000</td>\n",
       "      <td>4392.000000</td>\n",
       "      <td>4392.000000</td>\n",
       "    </tr>\n",
       "    <tr>\n",
       "      <th>mean</th>\n",
       "      <td>-0.000117</td>\n",
       "      <td>-0.000094</td>\n",
       "      <td>-0.000099</td>\n",
       "      <td>0.000052</td>\n",
       "      <td>0.000010</td>\n",
       "    </tr>\n",
       "    <tr>\n",
       "      <th>std</th>\n",
       "      <td>0.000042</td>\n",
       "      <td>0.000053</td>\n",
       "      <td>0.000202</td>\n",
       "      <td>0.000082</td>\n",
       "      <td>0.000005</td>\n",
       "    </tr>\n",
       "    <tr>\n",
       "      <th>min</th>\n",
       "      <td>-0.000234</td>\n",
       "      <td>-0.000269</td>\n",
       "      <td>-0.001080</td>\n",
       "      <td>-0.000096</td>\n",
       "      <td>-0.000005</td>\n",
       "    </tr>\n",
       "    <tr>\n",
       "      <th>25%</th>\n",
       "      <td>-0.000133</td>\n",
       "      <td>-0.000126</td>\n",
       "      <td>-0.000169</td>\n",
       "      <td>0.000004</td>\n",
       "      <td>0.000006</td>\n",
       "    </tr>\n",
       "    <tr>\n",
       "      <th>50%</th>\n",
       "      <td>-0.000092</td>\n",
       "      <td>-0.000097</td>\n",
       "      <td>-0.000117</td>\n",
       "      <td>0.000023</td>\n",
       "      <td>0.000012</td>\n",
       "    </tr>\n",
       "    <tr>\n",
       "      <th>75%</th>\n",
       "      <td>-0.000089</td>\n",
       "      <td>-0.000052</td>\n",
       "      <td>-0.000002</td>\n",
       "      <td>0.000126</td>\n",
       "      <td>0.000014</td>\n",
       "    </tr>\n",
       "    <tr>\n",
       "      <th>max</th>\n",
       "      <td>-0.000084</td>\n",
       "      <td>0.000045</td>\n",
       "      <td>0.000481</td>\n",
       "      <td>0.000293</td>\n",
       "      <td>0.000022</td>\n",
       "    </tr>\n",
       "  </tbody>\n",
       "</table>\n",
       "</div>"
      ],
      "text/plain": [
       "               JPY          EUR          GBP          MXN          CHF\n",
       "count  4392.000000  4392.000000  4392.000000  4392.000000  4392.000000\n",
       "mean     -0.000117    -0.000094    -0.000099     0.000052     0.000010\n",
       "std       0.000042     0.000053     0.000202     0.000082     0.000005\n",
       "min      -0.000234    -0.000269    -0.001080    -0.000096    -0.000005\n",
       "25%      -0.000133    -0.000126    -0.000169     0.000004     0.000006\n",
       "50%      -0.000092    -0.000097    -0.000117     0.000023     0.000012\n",
       "75%      -0.000089    -0.000052    -0.000002     0.000126     0.000014\n",
       "max      -0.000084     0.000045     0.000481     0.000293     0.000022"
      ]
     },
     "execution_count": 41,
     "metadata": {},
     "output_type": "execute_result"
    }
   ],
   "source": [
    "expected_fx_premium.describe()"
   ]
  },
  {
   "cell_type": "code",
   "execution_count": 42,
   "id": "885e39fe",
   "metadata": {},
   "outputs": [
    {
     "name": "stdout",
     "output_type": "stream",
     "text": [
      "JPY    0.000000\n",
      "EUR    0.037787\n",
      "GBP    0.248805\n",
      "MXN    0.760528\n",
      "CHF    0.964944\n",
      "dtype: float64\n"
     ]
    }
   ],
   "source": [
    "positive_premium_counts = (expected_fx_premium > 0).sum()\n",
    "print(positive_premium_counts/len(expected_fx_premium))"
   ]
  },
  {
   "cell_type": "markdown",
   "id": "42cfc4f7",
   "metadata": {},
   "source": [
    "2. Which currencies most consistently have a positive FX risk premium? And for which currencies does the FX risk premium most often go negative?"
   ]
  },
  {
   "cell_type": "markdown",
   "id": "106f74f9",
   "metadata": {},
   "source": [
    "*Answer* : `CHF` always have a positive expected return, but very close to zero. On the other hand, `JPY` never showed a day with a positive expected return "
   ]
  },
  {
   "cell_type": "markdown",
   "id": "2e4dd955",
   "metadata": {},
   "source": [
    "\n",
    "3. Explain how we could use these conditional risk premia to improve the static carry trade returns calculated in Problem 1."
   ]
  },
  {
   "cell_type": "markdown",
   "id": "ab184a28",
   "metadata": {},
   "source": [
    "*Answer* : To improve the static carry trade returns, we can employ a dynamic strategy that adjusts positions based on the estimated FX risk premia:\n",
    "\n",
    "Long Positions: Focus on currencies like the MXN, which has a positive expected FX risk premium in a significant fraction of periods. By taking long positions when the expected premium is positive, we can capitalize on periods with higher expected returns.\n",
    "\n",
    "Short Positions: For currencies like the JPY, which consistently show a negative expected FX risk premium, we can take short positions to benefit from the expected depreciation of these currencies against the USD.\n",
    "\n",
    "Dynamic Allocation: By adjusting our positions based on the sign and magnitude of the expected FX risk premium, we can potentially enhance returns compared to a static carry trade strategy that doesn't consider time-varying risk premia."
   ]
  }
 ],
 "metadata": {
  "kernelspec": {
   "display_name": "base",
   "language": "python",
   "name": "python3"
  },
  "language_info": {
   "codemirror_mode": {
    "name": "ipython",
    "version": 3
   },
   "file_extension": ".py",
   "mimetype": "text/x-python",
   "name": "python",
   "nbconvert_exporter": "python",
   "pygments_lexer": "ipython3",
   "version": "3.12.4"
  }
 },
 "nbformat": 4,
 "nbformat_minor": 5
}

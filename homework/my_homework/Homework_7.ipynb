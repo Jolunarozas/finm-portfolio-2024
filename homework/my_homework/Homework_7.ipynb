{
 "cells": [
  {
   "cell_type": "markdown",
   "id": "a97c4251",
   "metadata": {},
   "source": [
    "# Homework 7\n",
    "\n",
    "## FINM 36700 - 2024\n",
    "\n",
    "### UChicago Financial Mathematics\n",
    "* Mani Sawhney\n",
    "* msawhn2@uchicago.edu\n",
    "\n",
    "\n",
    "\n"
   ]
  },
  {
   "cell_type": "markdown",
   "id": "bf1651c2",
   "metadata": {},
   "source": [
    "### Case: Grantham, Mayo, and Van Otterloo, 2012: Estimating the Equity Risk Premium) [9-211-051]."
   ]
  },
  {
   "cell_type": "markdown",
   "id": "f673644a",
   "metadata": {},
   "source": [
    "## 1. GMO\n",
    "This section is not graded, and you do not need to submit your answers. But you are expected to consider these issues and be ready to discuss them.\n",
    "\n",
    "### 1. GMO’s approach\n",
    "- **(a)** Why does GMO believe they can more easily predict long-run than short-run asset class performance?\n",
    "- **(b)** What predicting variables does the case mention are used by GMO? Does this fit with the goal of long-run forecasts?\n",
    "- **(c)** How has this approach led to contrarian positions?\n",
    "- **(d)** How does this approach raise business risk and managerial career risk?\n",
    "\n",
    "### 2. The Market Environment\n",
    "- **(a)** We often estimate the market risk premium by looking at a large sample of historic data. What reasons does the case give to be skeptical that the market risk premium will be as high in the future as it has been over the past 50 years?\n",
    "- **(b)** In 2007, GMO forecasts real excess equity returns will be negative. What are the biggest drivers of their pessimistic conditional forecast relative to the unconditional forecast?\n",
    "- **(c)** In the 2011 forecast, what components has GMO revised most relative to 2007?\n",
    "\n",
    "### 3. Asset Class Forecasts in Exhibit 1\n",
    "- **(a)** Which asset class did GMO estimate to have a negative 10-year return over 2002-2011?\n",
    "- **(b)** Which asset classes substantially outperformed GMO’s estimate over that time period?\n",
    "- **(c)** Which asset classes substantially underperformed GMO’s estimate over that time period?\n",
    "\n",
    "### 4. Fund Performance\n",
    "- **(a)** In which asset class was GMWAX most heavily allocated throughout the majority of 1997-2011?\n",
    "- **(b)** Comment on the performance of GMWAX versus its benchmark.\n"
   ]
  },
  {
   "cell_type": "markdown",
   "id": "35ef9884",
   "metadata": {},
   "source": [
    "## 2. Analyzing GMO\n",
    "\n",
    "This section utilizes data in the file, `gmo_analysis_data.xlsx`.\n",
    "\n",
    "Examine GMO's performance. Use the risk-free rate to convert the total returns to excess returns"
   ]
  },
  {
   "cell_type": "markdown",
   "id": "df5119cd",
   "metadata": {},
   "source": [
    "1. Calculate the mean, volatility, and Sharpe ratio for GMWAX. Do this for three samples:\n",
    "\n",
    "- from inception through 2011\n",
    "- 2012-present\n",
    "- inception - present"
   ]
  },
  {
   "cell_type": "markdown",
   "id": "e32b369a",
   "metadata": {},
   "source": [
    "Has the mean, vol, and Sharpe changed much since the case?"
   ]
  },
  {
   "cell_type": "markdown",
   "id": "0db0b51e",
   "metadata": {},
   "source": [
    "2. GMO believes a risk premium is compensation for a security's tendency to lose money at \"bad times\". For all three samples, analyze extreme scenarios by looking at -\n",
    "- Min return\n",
    "- 5th percentile (VaR-5th)\n",
    "- Maximum  Drawdown"
   ]
  },
  {
   "cell_type": "markdown",
   "id": "5cb690a8",
   "metadata": {},
   "source": [
    "a) Does GMWAX have high or low tail-risk as seen by these stats\n",
    "\n"
   ]
  },
  {
   "cell_type": "markdown",
   "id": "465afc14",
   "metadata": {},
   "source": [
    "b) Does that vary much across the two subsamples?\n"
   ]
  },
  {
   "cell_type": "markdown",
   "id": "74c97760",
   "metadata": {},
   "source": [
    "3. For all three samples, regress excess returns of GMWAX on excess returns of SPY."
   ]
  },
  {
   "cell_type": "markdown",
   "id": "2046d626",
   "metadata": {},
   "source": [
    "- sub1 - 1993-2011\n",
    "- sub2 - 2012-2023\n",
    "- sub3 - 1993-2023\n"
   ]
  },
  {
   "cell_type": "markdown",
   "id": "93bd0a3f",
   "metadata": {},
   "source": [
    "a) Report the estimated alpha, beta, and r-squared."
   ]
  },
  {
   "cell_type": "markdown",
   "id": "04b5407a",
   "metadata": {},
   "source": [
    "b) Is GMWAX a low-beta strategy? Has that changed since the case?\n"
   ]
  },
  {
   "cell_type": "markdown",
   "id": "c9fca95b",
   "metadata": {},
   "source": [
    "c) Does GMWAX provide alpha? Has that changed across the subsamples?\n"
   ]
  },
  {
   "cell_type": "markdown",
   "id": "e7b49e27",
   "metadata": {},
   "source": [
    "4. Above, we’ve evaluated GMO’s macro fund, ”GMWAX”, as studied in the case. Now, consider GMO’s equity fund, ”GMGEX”.\n",
    "Compute the performance stats of 3.1-3.3 for GMGEX. What are some of the major differences between these two strategies?"
   ]
  },
  {
   "cell_type": "markdown",
   "id": "43017031",
   "metadata": {},
   "source": [
    "## 3 Forecast Regressions\n",
    "This section utilizes data in the file,`gmo_analysis_data.xlsx`."
   ]
  },
  {
   "cell_type": "markdown",
   "id": "76aa017c",
   "metadata": {},
   "source": [
    "1. Consider the lagged regression, where the regressor, ($X$), is a period behind the target, ($r^{SPY}$).\n",
    "$$\n",
    "\\begin{align}\n",
    "r^{SPY}_t = \\alpha^{SPY,X}+(\\beta^{SPY,X})'X_{t-1}+\\epsilon^{SPY,X}_t\n",
    "\\end{align}\n",
    "$$\n",
    "\n",
    "Estimate (1) and report the $R^2$, as well as the OLS estimates for $\\alpha$ and $\\beta$. Do this for...\n",
    "- $X$ as a single regressor, the dividend-price ratio.\n",
    "- $X$ as a single regressor, the earnings-price ratio.\n",
    "- $X$ as three regressors, the dividend-price ratio, the earnings-price ratio, and the 10-year yield.\n",
    "\n",
    "For each, report the r-squared."
   ]
  },
  {
   "cell_type": "markdown",
   "id": "6e99a12a",
   "metadata": {},
   "source": [
    "2. For each of the three regressions, let’s try to utilize the resulting forecast in a trading strategy.\n",
    "- Build the forecasted SPY returns: $\\hat{r}^{SPY}_{t+1}$. Note that this denotes the forecast made using $X_t$ to forecast the $(t+1)$ return.\n",
    "- Set the scale of the investment in SPY equal to 100 times the forecasted value:\n",
    "$\n",
    "w_t = 100 \\hat{r}^{SPY}_{t+1}\n",
    "$\n",
    "- We are not taking this scaling too seriously. We just want the  strategy  to  go  bigger  inperiods where the forecast is high and to withdraw in periods where the forecast is low, or even negative.\n",
    "- Calcualte the return on this strategy:\n",
    "$\n",
    "r^X_{t+1} = w_tr^{SPY}_{t+1}\n",
    "$\n",
    "\n",
    "You should now have the trading strategy returns, $r^x$ for each of the forecasts. For each strategy, estimate:\n",
    "- mean, volatility, Sharpe,\n",
    "- max-drawdown\n",
    "- market alpha\n",
    "- market beta\n",
    "- market Information"
   ]
  },
  {
   "cell_type": "markdown",
   "id": "ca9b8ba1",
   "metadata": {},
   "source": [
    "3. GMO believes a risk premium is compensation for a security's tendency to lose money at \"bad times\". Let's consider risk characteristics."
   ]
  },
  {
   "cell_type": "markdown",
   "id": "616e85e0",
   "metadata": {},
   "source": [
    "a) For both strategies, the market, and GMO, calculate the monthly VaR for $\\pi=.05$. Just use the quantile of the historic data for this VaR calculation."
   ]
  },
  {
   "cell_type": "markdown",
   "id": "673b99d2",
   "metadata": {},
   "source": [
    "b) The GMO case mentions that stocks under-performed short-term bonds from 2000-2011. Does the dynamic portfolio above under-perform the risk-free rate over this time?\n"
   ]
  },
  {
   "cell_type": "markdown",
   "id": "8546c275",
   "metadata": {},
   "source": [
    "c) Based on the regression estimates, in how many periods do we estimate a negative risk premium?"
   ]
  },
  {
   "cell_type": "markdown",
   "id": "6d2bf43b",
   "metadata": {},
   "source": [
    "d) Do you believe the dynamic strategy takes on extra risk?"
   ]
  },
  {
   "cell_type": "markdown",
   "id": "e60bbc2c",
   "metadata": {},
   "source": [
    "## 4. Out-of-Sample Forecasting"
   ]
  },
  {
   "cell_type": "markdown",
   "id": "d79f8047",
   "metadata": {},
   "source": [
    "This section utilizes data in the file, `gmo_analysis_data.xlsx`.\n",
    "\n",
    "Reconsider the problem above, of estimating (1) for $x$. The reported $R^2$ was the in-sample $R^2$ it examined how well the forecasts fit in the sample from which the parameters were estimated. <br><br>\n",
    "\n",
    "**In particular, focus on the case of using both dividend-price and earnings-price as signals.**\n",
    "\n",
    "Let's consider the out-of-sample r-squared. To do so, we need the following:\n",
    "- Start at $t=60$.\n",
    "- Estmiate (1) only using data through time $t$.\n",
    "- Use the estimated parameters of (1), along with $x_{t+1}$ to calculate the out-of-sample forecast for the following period, $t+1$.\n",
    "\\begin{align}\n",
    "\\hat{r}^{SPY}_{t+1} = \\hat{a}^{SPY,x}_t+(\\beta^{SPY,x})'x_t \n",
    "\\end{align}\n",
    "- Calculate the $t+1$ forecast error,\n",
    "\\begin{align}\n",
    "  e^x_{t+1} = r^{SPY}_{t+1} - \\hat{r}^{SPY}_{t+1}\n",
    "\\end{align}\n",
    "- Move to $t=61$, and loop through the rest of the sample.\n",
    "\n",
    "You now have the time-series of out-of-sample prediction errors, $e^x$.\n",
    "\n",
    "Calculate the time-series of out-of-sample prediction errors $e^0$, which are based on the null forecast:\n",
    "\\begin{align*}\n",
    "\\bar{r}^{SPY}_{t+1} &= \\frac{1}{t}\\sum^{t}_{i=1}r^{SPY}_i \\\\\n",
    "e^0_{t+1} &= r^{SPY}_{t+1} - \\bar{r}^{SPY}_{t+1}\n",
    "\\end{align*}\n"
   ]
  },
  {
   "cell_type": "markdown",
   "id": "09f5524f",
   "metadata": {},
   "source": [
    "1. Report the out-of-sample $R^2$:\n",
    "$$\n",
    "\\begin{align}\n",
    " R^2_{OOS} \\equiv 1-\\frac{\\sum^T_{i=61}(e^x_i)^2}{\\sum^T_{i=61}(e^0_i)^2} \n",
    "\\end{align}\n",
    "$$\n",
    "\n",
    "Note that unlike an in-sample r-squared, the out-of-sample r-squared can be anywhere between $(-\\infty,1]$."
   ]
  },
  {
   "cell_type": "markdown",
   "id": "03fb108f",
   "metadata": {},
   "source": [
    "Did this forecasting strategy produce a positive OOS r-squared?\n",
    "\n",
    "\n"
   ]
  },
  {
   "cell_type": "markdown",
   "id": "1ed092e5",
   "metadata": {},
   "source": [
    "2. Re-do problem 3.2 using this OOS forecast. <br><br> How much better/worse is the OOS Earnings-Price ratio strategy compared to the in-sample version of 3.2?"
   ]
  },
  {
   "cell_type": "markdown",
   "id": "2b0335c0",
   "metadata": {},
   "source": [
    "3. Re-do problem 3.3 using this OOS forecast. <br><br> Is the point-in-time version of the strategy riskier?\n"
   ]
  },
  {
   "cell_type": "markdown",
   "id": "f18fed20",
   "metadata": {},
   "source": [
    "## 5. Extensions\n",
    "\n",
    "<i>This section is not graded, and you do not need to submit your answers. We may discuss some of these extensions.</i>"
   ]
  },
  {
   "cell_type": "markdown",
   "id": "dd7b872f",
   "metadata": {},
   "source": [
    "1. Classification and Regression Tree (CART)\n",
    "Re-do Section 3, but use CART in forecasting instead of a lagged regression.\n",
    "- Consider using RandomForestRegressor from sklearn.ensemble.\n",
    "- If you want to plot the tree, try using tree from sklearn.\n",
    "\n",
    "\n",
    "2. Expand on the CART analysis by calculating the OOS stats, as in Section 4.\n",
    "\n",
    "3. Re-do Section 3, but use a Neural Network in forecasting instead of a lagged regression.\n",
    "- Consider using MLPRegressor from sklearn.neural network.\n",
    "\n",
    "4. Expand on the Neural Network analysis by calculating the OOS stats, as in Section 4."
   ]
  }
 ],
 "metadata": {
  "kernelspec": {
   "display_name": "Python 3 (ipykernel)",
   "language": "python",
   "name": "python3"
  },
  "language_info": {
   "codemirror_mode": {
    "name": "ipython",
    "version": 3
   },
   "file_extension": ".py",
   "mimetype": "text/x-python",
   "name": "python",
   "nbconvert_exporter": "python",
   "pygments_lexer": "ipython3",
   "version": "3.9.12"
  }
 },
 "nbformat": 4,
 "nbformat_minor": 5
}

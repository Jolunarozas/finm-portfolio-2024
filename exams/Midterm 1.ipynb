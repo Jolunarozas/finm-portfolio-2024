{
 "cells": [
  {
   "cell_type": "markdown",
   "id": "559895d2",
   "metadata": {},
   "source": [
    "# Midterm 1\n",
    "\n",
    "## FINM 36700 - 2024\n",
    "\n",
    "### UChicago Financial Mathematics\n",
    "\n",
    "* Mark Hendricks\n",
    "* hendricks@uchicago.edu"
   ]
  },
  {
   "cell_type": "markdown",
   "id": "e1fa0d76",
   "metadata": {},
   "source": [
    "* Name: Jose Luna \n",
    "* Disclaimer: I used my own code and also utilized GPT for syntax and editing corrections."
   ]
  },
  {
   "cell_type": "markdown",
   "id": "01cde8d3",
   "metadata": {},
   "source": [
    "# Instructions"
   ]
  },
  {
   "cell_type": "markdown",
   "id": "cc273c1a",
   "metadata": {},
   "source": [
    "## Please note the following:\n",
    "\n",
    "Points\n",
    "* The exam is `100` points.\n",
    "* You have `125` minutes to complete the exam.\n",
    "* For every minute late you submit the exam, you will lose one point.\n",
    "\n",
    "\n",
    "Submission\n",
    "* You will upload your solution to the `Midterm 1` assignment on Canvas, where you downloaded this. (Be sure to **submit** on Canvas, not just **save** on Canvas.\n",
    "* Your submission should be readable, (the graders can understand your answers,)\n",
    "* and it should **include all code used in your analysis in a file format that the code can be executed.** \n",
    "\n",
    "Rules\n",
    "* The exam is open-material, closed-communication.\n",
    "* You do not need to cite material from the course github repo--you are welcome to use the code posted there without citation.\n",
    "\n",
    "Advice\n",
    "* If you find any question to be unclear, state your interpretation and proceed. We will only answer questions of interpretation if there is a typo, error, etc.\n",
    "* The exam will be graded for partial credit."
   ]
  },
  {
   "cell_type": "markdown",
   "id": "624f27b1",
   "metadata": {},
   "source": [
    "## Data\n",
    "\n",
    "**All data files are found in the class github repo, in the `data` folder.**\n",
    "\n",
    "This exam makes use of the following data files:\n",
    "* `midterm_1_data.xlsx`\n",
    "\n",
    "This file has sheets for...\n",
    "* `stocks excess returns` - excess returns of the 14 biggest companies in the S&P.\n",
    "* `proshares excess returns` - excess returns of ETFs and indexes from the Proshares case study.\n",
    "* `fx carry excess returns` - excess returns from FX products.\n",
    "\n",
    "Note the data is **monthly** for the first two sheets (stocks and proshares). Any annualizations for those two sheets should use `12` months in a year. Annualization for the third sheet (fx carry excess returns) is explained in section 4."
   ]
  },
  {
   "cell_type": "markdown",
   "id": "ebf6e066",
   "metadata": {},
   "source": [
    "## Scoring\n",
    "\n",
    "| Problem | Points |\n",
    "|---------|--------|\n",
    "| 1       | 15     |\n",
    "| 2       | 25     |\n",
    "| 3       | 35     |\n",
    "| 4       | 25     |"
   ]
  },
  {
   "cell_type": "markdown",
   "id": "7fb2fc26",
   "metadata": {},
   "source": [
    "### Each numbered question is worth 5 points unless otherwise specified."
   ]
  },
  {
   "cell_type": "markdown",
   "id": "632ce7d4",
   "metadata": {},
   "source": [
    "***"
   ]
  },
  {
   "cell_type": "markdown",
   "id": "50a39225-f8d7-4a42-a675-fb9716e55932",
   "metadata": {},
   "source": [
    "# 1. Short Answer"
   ]
  },
  {
   "cell_type": "markdown",
   "id": "127d44ea-9d06-4bba-ac24-f19e9376c8d6",
   "metadata": {},
   "source": [
    "#### No Data Needed\n",
    "\n",
    "These problems do not require any data file. Rather, analyze them conceptually. "
   ]
  },
  {
   "cell_type": "markdown",
   "id": "668aaba8-6dcf-4700-9714-36111e1c67af",
   "metadata": {},
   "source": [
    "### 1.\n",
    "\n",
    "#### (10pts)\n",
    "\n",
    "In the mean-variance optimization of `homework 1`, suppose we found the mean excess return of TIPS is 4% annualized.\n",
    "\n",
    "Explain--conceptually--how each of the following would have impacted the new (with TIPS) MV solution.\n",
    "* TIPS is found to have correlation of 0% to `IEF` and 0% to SPY.\n",
    "* TIPS is found to have correlation of 100% to `IEF`.\n",
    "\n",
    "Would it be possible for TIPS to have been found to have 0% correlation to every other asset in `homework 1`? Explain."
   ]
  },
  {
   "cell_type": "markdown",
   "id": "6f40e296",
   "metadata": {},
   "source": [
    "*Answer*:\n",
    "\n",
    "* If `TIPS` is found to have a correlation of 0% with `IEF` and `SPY`, and a mean excess return of 4% annualized (almost four times the real annualized return of `TIPS` and `IEF`), it would expand the efficient frontier due to the diversification component (0% correlation) and substantial mean return. In HW1, we observed that including or excluding `TIPS` did not significantly affect the tangency portfolio, but a slight change (one standard deviation) impacted the mean and variance of the portfolio (the Sharpe Ratio remained mostly the same). With these characteristics, `TIPS` should have a significant impact on the Efficient Frontier and, consequently, on the Tangency Portfolio.\n",
    "\n",
    "* Conversely, if `TIPS` is found to have a 4% annualized return and a correlation of 100% with `IEF`, the justification for including `TIPS` as a new asset class would be valid. This is because the asset's performance would be better, and the correlation with others should be as low as `IEF`, allowing for better performance and an inflation-linked result.\n",
    "\n",
    "It is unlikely for `TIPS` to have a 0% correlation with all assets because `TIPS` has a similar default risk to domestic bonds, making it almost impossible to have no correlation with all other assets."
   ]
  },
  {
   "cell_type": "markdown",
   "id": "fe910811-eddc-48ae-9e3c-2b99e6c62dec",
   "metadata": {},
   "source": [
    "### 2. \n",
    "\n",
    "Depending on the application, one may or may not choose to include an intercept term in a linear factor decomposition of an asset’s returns. In what circumstances would I prefer to include an intercept, and in what circumstances would I not?"
   ]
  },
  {
   "cell_type": "markdown",
   "id": "9f2655fc",
   "metadata": {},
   "source": [
    "*Answer*:\n",
    "\n",
    "When deciding whether to include an intercept term (α) in a linear factor decomposition for hedging, it is important to consider the role of the intercept. Including an intercept allows the β coefficient to focus on matching the return variation rather than just the level. If the intercept is excluded, the β coefficient will also adjust the magnitude of the returns. Therefore, if we expect the difference in mean returns to persist out-of-sample, we should not include the intercept term (α). This ensures that the β coefficient accurately reflects the relationship."
   ]
  },
  {
   "cell_type": "markdown",
   "id": "e38b33d9-8628-4bf5-a662-73da5dfe0ace",
   "metadata": {},
   "source": [
    "***"
   ]
  },
  {
   "cell_type": "markdown",
   "id": "a78ee6f4",
   "metadata": {},
   "source": [
    "# 2. Portfolio Allocation\n",
    "\n",
    "For this question you will only use data from the sheet `stocks excess returns`.\n",
    "\n",
    "It contains excess returns for the 14 largest stocks in the S&P."
   ]
  },
  {
   "cell_type": "code",
   "execution_count": 1,
   "id": "99f9b463",
   "metadata": {},
   "outputs": [],
   "source": [
    "import pandas as pd\n",
    "import numpy as np\n",
    "import seaborn as sns\n",
    "from scipy.stats import skew,kurtosis,norm\n",
    "import statsmodels.api as sm\n",
    "\n",
    "filename = '../data/midterm_1_data.xlsx'\n",
    "# filename = r\"C:\\Users\\josel\\Downloads\\multi_asset_etf_data (1).xlsx\"\n",
    "stocks_excess_returns = pd.read_excel(filename,sheet_name=\"stocks excess returns\",index_col=\"date\")\n",
    "proshares_excess_returns = pd.read_excel(filename,sheet_name=\"proshares excess returns\",index_col=\"date\")\n",
    "fx_carry_returns = pd.read_excel(filename,sheet_name=\"fx carry returns\",index_col=\"date\")"
   ]
  },
  {
   "cell_type": "markdown",
   "id": "ec8d1b59",
   "metadata": {},
   "source": [
    "### 1.\n",
    "\n",
    "Calculate the tangency portfolio from the start of the sample to December of 2018 (to 2018-12-31), which we call in-sample period. Use the following methods:\n",
    "- Traditional tangency portfolio.\n",
    "- Regularized tangency portfolio (divide by 2 every element outside of the diagonal in the covariance matrix prior to the calculation).\n",
    "\n",
    "Return:\n",
    "- The weights of each asset for the traditional tangency portfolio and the regularized tangency portfolio.\n",
    "- The sum of absolute values of the weights for the traditional tangency portfolio and the regularized tangency portfolio:\n",
    "\n",
    "$$\n",
    "\\sum_{i=1}^{n} |w_i|\n",
    "$$\n"
   ]
  },
  {
   "cell_type": "code",
   "execution_count": 3,
   "id": "58d8af2a",
   "metadata": {},
   "outputs": [],
   "source": [
    "def weights_tang(return_db, adj_factor = 12):\n",
    "    sigma = (return_db.cov()*adj_factor)\n",
    "    mu_excess = (return_db.mean()*adj_factor)\n",
    "    vector = np.ones(len(mu_excess))\n",
    "    w_tan = (np.linalg.inv(sigma) @ mu_excess )/(np.transpose(vector) @ np.linalg.inv(sigma) @ mu_excess)\n",
    "    weights_db = pd.DataFrame({\"w_tan\": w_tan})\n",
    "    weights_db.index = return_db.columns\n",
    "    return weights_db\n",
    "\n",
    "def weights_tag_reg(return_db, adj_factor = 12, diagonal_factor = 1, denominator = 2):\n",
    "    sigma = (return_db.cov()*adj_factor)\n",
    "    sigma_reg = (sigma + diagonal_factor*np.diag(np.diag(sigma)))/denominator\n",
    "    mu_excess = (return_db.mean()*adj_factor)\n",
    "    vector = np.ones(len(mu_excess))\n",
    "    w_tan = (np.linalg.inv(sigma_reg) @ mu_excess )/(np.transpose(vector) @ np.linalg.inv(sigma_reg) @ mu_excess)\n",
    "    weights_db = pd.DataFrame({\"w_tan_reg\": w_tan})\n",
    "    weights_db.index = return_db.columns\n",
    "    return weights_db\n",
    "\n",
    "def get_metrics(port_metrics,weights = [],adj_factor = 12):\n",
    "    if len(weights) == 0:\n",
    "        port_metrics_r = pd.DataFrame({\"Mean\": port_metrics.mean()*adj_factor,\"Volatility\":port_metrics.std()*np.sqrt(adj_factor)})\n",
    "        port_metrics_r[\"Sharpe_Ratio\"] = (port_metrics.mean() / port_metrics.std()) * np.sqrt(adj_factor)\n",
    "        port_metrics_r[\"Skew\"] = skew(port_metrics)\n",
    "        port_metrics_r[\"Excess Kurtosis\"] = kurtosis(port_metrics, fisher=True, bias=False)    \n",
    "    else:\n",
    "        port_metrics = port_metrics @ weights\n",
    "        port_metrics_r = pd.DataFrame({\"Mean\": port_metrics.mean()*adj_factor,\"Volatility\":port_metrics.std()*np.sqrt(adj_factor)})\n",
    "        port_metrics_r[\"Sharpe_Ratio\"] = (port_metrics.mean() / port_metrics.std()) * np.sqrt(adj_factor)\n",
    "        port_metrics_r[\"Skew\"] = skew(port_metrics)\n",
    "        port_metrics_r[\"Excess Kurtosis\"] = kurtosis(port_metrics, fisher=True, bias=False)\n",
    "    return port_metrics_r\n",
    "\n",
    "def VaR_CVaR_Drawdown_metrics(data_daily_return):\n",
    "    result = pd.DataFrame()\n",
    "    for asset in data_daily_return.columns:\n",
    "\n",
    "        data_aux = data_daily_return[[asset]].copy()\n",
    "\n",
    "            \n",
    "        VaR = np.percentile(sorted(data_aux.values),q = 5)\n",
    "        CVaR = data_aux[data_aux[asset] <= VaR].mean().values[0]\n",
    "\n",
    "        data_aux_acum_return = (data_aux + 1).cumprod()\n",
    "        data_aux_max_cum_return = data_aux_acum_return.cummax()\n",
    "        data_aux_drawdown = ((data_aux_acum_return-data_aux_max_cum_return)/data_aux_max_cum_return)\n",
    "        max_drawdown = data_aux_drawdown.min().values[0]\n",
    "        max_drawdown_date = data_aux_drawdown.idxmin().values[0]\n",
    "        peak_idx = data_aux_max_cum_return.idxmax().values[0]\n",
    "\n",
    "        recovery_idx = data_aux_drawdown[data_aux_drawdown.idxmin().values[0]:].gt(-0.00001).idxmax().values[0]\n",
    "\n",
    "        aux_result = pd.DataFrame([[VaR,CVaR,max_drawdown,max_drawdown_date,peak_idx,recovery_idx,(recovery_idx - max_drawdown_date)/ np.timedelta64(1, 'D')]], columns= [\"VaR\",\"CVaR\",\"Max Drawdown\",\"Bottom\",\"Peak\",\"Recovery\",\"Duration (days)\"], index = [asset])\n",
    "        result = pd.concat([result,aux_result],axis=0)\n",
    "\n",
    "    return result,data_aux_drawdown\n",
    "\n",
    "def get_metrics_all(returns,adj_factor = 12):\n",
    "    metrics1 = get_metrics(returns,adj_factor = 12)\n",
    "    metrics2,_ = VaR_CVaR_Drawdown_metrics(returns)\n",
    "    return pd.merge(metrics1,metrics2, left_index= True, right_index=True, how = \"left\")"
   ]
  },
  {
   "cell_type": "code",
   "execution_count": 4,
   "id": "860f347b",
   "metadata": {},
   "outputs": [],
   "source": [
    "in_sampple_end = \"2018-12-31\"\n",
    "stocks_excess_returns_in_sample = stocks_excess_returns[stocks_excess_returns.index <= in_sampple_end].copy()\n",
    "w_tang = weights_tang(stocks_excess_returns_in_sample, adj_factor = 12)\n",
    "w_tang_reg = weights_tag_reg(stocks_excess_returns_in_sample, adj_factor = 12, diagonal_factor = 1, denominator = 2)\n",
    "weights = pd.merge(w_tang, w_tang_reg, left_index=True, right_index=True)"
   ]
  },
  {
   "cell_type": "code",
   "execution_count": 5,
   "id": "9262aee4",
   "metadata": {},
   "outputs": [
    {
     "name": "stdout",
     "output_type": "stream",
     "text": [
      "Weights of each assets for tangency portfolio and regularized tangency portfolio: \n"
     ]
    },
    {
     "data": {
      "text/html": [
       "<style type=\"text/css\">\n",
       "</style>\n",
       "<table id=\"T_b2565\">\n",
       "  <thead>\n",
       "    <tr>\n",
       "      <th class=\"blank level0\" >&nbsp;</th>\n",
       "      <th id=\"T_b2565_level0_col0\" class=\"col_heading level0 col0\" >w_tan</th>\n",
       "      <th id=\"T_b2565_level0_col1\" class=\"col_heading level0 col1\" >w_tan_reg</th>\n",
       "    </tr>\n",
       "  </thead>\n",
       "  <tbody>\n",
       "    <tr>\n",
       "      <th id=\"T_b2565_level0_row0\" class=\"row_heading level0 row0\" >AAPL</th>\n",
       "      <td id=\"T_b2565_row0_col0\" class=\"data row0 col0\" >-12.78%</td>\n",
       "      <td id=\"T_b2565_row0_col1\" class=\"data row0 col1\" >-1.47%</td>\n",
       "    </tr>\n",
       "    <tr>\n",
       "      <th id=\"T_b2565_level0_row1\" class=\"row_heading level0 row1\" >AMZN</th>\n",
       "      <td id=\"T_b2565_row1_col0\" class=\"data row1 col0\" >-4.06%</td>\n",
       "      <td id=\"T_b2565_row1_col1\" class=\"data row1 col1\" >3.63%</td>\n",
       "    </tr>\n",
       "    <tr>\n",
       "      <th id=\"T_b2565_level0_row2\" class=\"row_heading level0 row2\" >BRK-B</th>\n",
       "      <td id=\"T_b2565_row2_col0\" class=\"data row2 col0\" >13.13%</td>\n",
       "      <td id=\"T_b2565_row2_col1\" class=\"data row2 col1\" >10.92%</td>\n",
       "    </tr>\n",
       "    <tr>\n",
       "      <th id=\"T_b2565_level0_row3\" class=\"row_heading level0 row3\" >GOOGL</th>\n",
       "      <td id=\"T_b2565_row3_col0\" class=\"data row3 col0\" >2.60%</td>\n",
       "      <td id=\"T_b2565_row3_col1\" class=\"data row3 col1\" >5.05%</td>\n",
       "    </tr>\n",
       "    <tr>\n",
       "      <th id=\"T_b2565_level0_row4\" class=\"row_heading level0 row4\" >JNJ</th>\n",
       "      <td id=\"T_b2565_row4_col0\" class=\"data row4 col0\" >13.04%</td>\n",
       "      <td id=\"T_b2565_row4_col1\" class=\"data row4 col1\" >9.92%</td>\n",
       "    </tr>\n",
       "    <tr>\n",
       "      <th id=\"T_b2565_level0_row5\" class=\"row_heading level0 row5\" >JPM</th>\n",
       "      <td id=\"T_b2565_row5_col0\" class=\"data row5 col0\" >-1.39%</td>\n",
       "      <td id=\"T_b2565_row5_col1\" class=\"data row5 col1\" >5.37%</td>\n",
       "    </tr>\n",
       "    <tr>\n",
       "      <th id=\"T_b2565_level0_row6\" class=\"row_heading level0 row6\" >LLY</th>\n",
       "      <td id=\"T_b2565_row6_col0\" class=\"data row6 col0\" >35.27%</td>\n",
       "      <td id=\"T_b2565_row6_col1\" class=\"data row6 col1\" >21.49%</td>\n",
       "    </tr>\n",
       "    <tr>\n",
       "      <th id=\"T_b2565_level0_row7\" class=\"row_heading level0 row7\" >META</th>\n",
       "      <td id=\"T_b2565_row7_col0\" class=\"data row7 col0\" >3.05%</td>\n",
       "      <td id=\"T_b2565_row7_col1\" class=\"data row7 col1\" >3.49%</td>\n",
       "    </tr>\n",
       "    <tr>\n",
       "      <th id=\"T_b2565_level0_row8\" class=\"row_heading level0 row8\" >MSFT</th>\n",
       "      <td id=\"T_b2565_row8_col0\" class=\"data row8 col0\" >13.79%</td>\n",
       "      <td id=\"T_b2565_row8_col1\" class=\"data row8 col1\" >9.00%</td>\n",
       "    </tr>\n",
       "    <tr>\n",
       "      <th id=\"T_b2565_level0_row9\" class=\"row_heading level0 row9\" >NVDA</th>\n",
       "      <td id=\"T_b2565_row9_col0\" class=\"data row9 col0\" >16.35%</td>\n",
       "      <td id=\"T_b2565_row9_col1\" class=\"data row9 col1\" >7.17%</td>\n",
       "    </tr>\n",
       "    <tr>\n",
       "      <th id=\"T_b2565_level0_row10\" class=\"row_heading level0 row10\" >TSLA</th>\n",
       "      <td id=\"T_b2565_row10_col0\" class=\"data row10 col0\" >3.01%</td>\n",
       "      <td id=\"T_b2565_row10_col1\" class=\"data row10 col1\" >3.65%</td>\n",
       "    </tr>\n",
       "    <tr>\n",
       "      <th id=\"T_b2565_level0_row11\" class=\"row_heading level0 row11\" >UNH</th>\n",
       "      <td id=\"T_b2565_row11_col0\" class=\"data row11 col0\" >29.02%</td>\n",
       "      <td id=\"T_b2565_row11_col1\" class=\"data row11 col1\" >18.98%</td>\n",
       "    </tr>\n",
       "    <tr>\n",
       "      <th id=\"T_b2565_level0_row12\" class=\"row_heading level0 row12\" >V</th>\n",
       "      <td id=\"T_b2565_row12_col0\" class=\"data row12 col0\" >30.62%</td>\n",
       "      <td id=\"T_b2565_row12_col1\" class=\"data row12 col1\" >18.46%</td>\n",
       "    </tr>\n",
       "    <tr>\n",
       "      <th id=\"T_b2565_level0_row13\" class=\"row_heading level0 row13\" >XOM</th>\n",
       "      <td id=\"T_b2565_row13_col0\" class=\"data row13 col0\" >-41.65%</td>\n",
       "      <td id=\"T_b2565_row13_col1\" class=\"data row13 col1\" >-15.66%</td>\n",
       "    </tr>\n",
       "  </tbody>\n",
       "</table>\n"
      ],
      "text/plain": [
       "<pandas.io.formats.style.Styler at 0x1e32a52a0f0>"
      ]
     },
     "metadata": {},
     "output_type": "display_data"
    }
   ],
   "source": [
    "print(\"Weights of each assets for tangency portfolio and regularized tangency portfolio: \") \n",
    "display(weights.style.format(\"{:.2%}\"))"
   ]
  },
  {
   "cell_type": "code",
   "execution_count": 6,
   "id": "1a21be6a",
   "metadata": {},
   "outputs": [
    {
     "name": "stdout",
     "output_type": "stream",
     "text": [
      "Sum of the absolutes weightes of the tangency portfolio and regularized tangency portfolio: \n"
     ]
    },
    {
     "data": {
      "text/plain": [
       "w_tan        2.197687\n",
       "w_tan_reg    1.342647\n",
       "dtype: float64"
      ]
     },
     "execution_count": 6,
     "metadata": {},
     "output_type": "execute_result"
    }
   ],
   "source": [
    "print(\"Sum of the absolutes weightes of the tangency portfolio and regularized tangency portfolio: \") \n",
    "np.abs(weights).sum()"
   ]
  },
  {
   "cell_type": "markdown",
   "id": "31da8bdc",
   "metadata": {},
   "source": [
    "### 2.\n",
    "\n",
    "Calculate the annualized summary statistics (mean, Sharpe, vol) of both portfolios in-sample.\n"
   ]
  },
  {
   "cell_type": "code",
   "execution_count": 6,
   "id": "f80650a4",
   "metadata": {},
   "outputs": [
    {
     "name": "stdout",
     "output_type": "stream",
     "text": [
      "In-sample metrics: \n"
     ]
    },
    {
     "data": {
      "text/html": [
       "<style type=\"text/css\">\n",
       "</style>\n",
       "<table id=\"T_8c784\">\n",
       "  <thead>\n",
       "    <tr>\n",
       "      <th class=\"blank level0\" >&nbsp;</th>\n",
       "      <th id=\"T_8c784_level0_col0\" class=\"col_heading level0 col0\" >Mean</th>\n",
       "      <th id=\"T_8c784_level0_col1\" class=\"col_heading level0 col1\" >Volatility</th>\n",
       "      <th id=\"T_8c784_level0_col2\" class=\"col_heading level0 col2\" >Sharpe_Ratio</th>\n",
       "    </tr>\n",
       "  </thead>\n",
       "  <tbody>\n",
       "    <tr>\n",
       "      <th id=\"T_8c784_level0_row0\" class=\"row_heading level0 row0\" >w_tan</th>\n",
       "      <td id=\"T_8c784_row0_col0\" class=\"data row0 col0\" >34.83%</td>\n",
       "      <td id=\"T_8c784_row0_col1\" class=\"data row0 col1\" >13.41%</td>\n",
       "      <td id=\"T_8c784_row0_col2\" class=\"data row0 col2\" >259.79%</td>\n",
       "    </tr>\n",
       "    <tr>\n",
       "      <th id=\"T_8c784_level0_row1\" class=\"row_heading level0 row1\" >w_tan_reg</th>\n",
       "      <td id=\"T_8c784_row1_col0\" class=\"data row1 col0\" >27.66%</td>\n",
       "      <td id=\"T_8c784_row1_col1\" class=\"data row1 col1\" >11.42%</td>\n",
       "      <td id=\"T_8c784_row1_col2\" class=\"data row1 col2\" >242.24%</td>\n",
       "    </tr>\n",
       "  </tbody>\n",
       "</table>\n"
      ],
      "text/plain": [
       "<pandas.io.formats.style.Styler at 0x24b772205c0>"
      ]
     },
     "metadata": {},
     "output_type": "display_data"
    }
   ],
   "source": [
    "print(\"In-sample metrics: \") \n",
    "\n",
    "display(get_metrics(stocks_excess_returns_in_sample @ weights,adj_factor = 12)[[\"Mean\",\"Volatility\",\"Sharpe_Ratio\"]].style.format(\"{:.2%}\"))"
   ]
  },
  {
   "cell_type": "markdown",
   "id": "eb4f7e39",
   "metadata": {},
   "source": [
    "### 3.\n",
    "\n",
    "Use the weights calculated in question (2.2) to produce portfolio returns out-of-sample for both the Traditional and Regularized portfolio (from January 2019 onwards). \n",
    "\n",
    "Report the **last 3 returns** of both portfolios in the out-of-sample (the traditional tangency portfolio and the regularized tangency portfolio)."
   ]
  },
  {
   "cell_type": "code",
   "execution_count": 7,
   "id": "92b30f67",
   "metadata": {},
   "outputs": [
    {
     "name": "stdout",
     "output_type": "stream",
     "text": [
      "Out-of-sample last 3 returns for Tangency portfolio and regularized Tangency: \n"
     ]
    },
    {
     "data": {
      "text/html": [
       "<style type=\"text/css\">\n",
       "</style>\n",
       "<table id=\"T_35b77\">\n",
       "  <thead>\n",
       "    <tr>\n",
       "      <th class=\"blank level0\" >&nbsp;</th>\n",
       "      <th id=\"T_35b77_level0_col0\" class=\"col_heading level0 col0\" >w_tan</th>\n",
       "      <th id=\"T_35b77_level0_col1\" class=\"col_heading level0 col1\" >w_tan_reg</th>\n",
       "    </tr>\n",
       "    <tr>\n",
       "      <th class=\"index_name level0\" >date</th>\n",
       "      <th class=\"blank col0\" >&nbsp;</th>\n",
       "      <th class=\"blank col1\" >&nbsp;</th>\n",
       "    </tr>\n",
       "  </thead>\n",
       "  <tbody>\n",
       "    <tr>\n",
       "      <th id=\"T_35b77_level0_row0\" class=\"row_heading level0 row0\" >2024-07-31 00:00:00</th>\n",
       "      <td id=\"T_35b77_row0_col0\" class=\"data row0 col0\" >-1.60%</td>\n",
       "      <td id=\"T_35b77_row0_col1\" class=\"data row0 col1\" >0.32%</td>\n",
       "    </tr>\n",
       "    <tr>\n",
       "      <th id=\"T_35b77_level0_row1\" class=\"row_heading level0 row1\" >2024-08-31 00:00:00</th>\n",
       "      <td id=\"T_35b77_row1_col0\" class=\"data row1 col0\" >10.12%</td>\n",
       "      <td id=\"T_35b77_row1_col1\" class=\"data row1 col1\" >6.46%</td>\n",
       "    </tr>\n",
       "    <tr>\n",
       "      <th id=\"T_35b77_level0_row2\" class=\"row_heading level0 row2\" >2024-09-30 00:00:00</th>\n",
       "      <td id=\"T_35b77_row2_col0\" class=\"data row2 col0\" >-2.52%</td>\n",
       "      <td id=\"T_35b77_row2_col1\" class=\"data row2 col1\" >-1.65%</td>\n",
       "    </tr>\n",
       "  </tbody>\n",
       "</table>\n"
      ],
      "text/plain": [
       "<pandas.io.formats.style.Styler at 0x24b772200b0>"
      ]
     },
     "metadata": {},
     "output_type": "display_data"
    }
   ],
   "source": [
    "stocks_excess_returns_out_of_sample = stocks_excess_returns[stocks_excess_returns.index > in_sampple_end].copy()\n",
    "out_of_sample_portfolios_returns = stocks_excess_returns_out_of_sample @ weights\n",
    "print(\"Out-of-sample last 3 returns for Tangency portfolio and regularized Tangency: \")\n",
    "display(out_of_sample_portfolios_returns.tail(3).style.format(\"{:.2%}\"))"
   ]
  },
  {
   "cell_type": "markdown",
   "id": "ee6aa5f9-4201-4600-b8ff-48c9af2ff5c3",
   "metadata": {},
   "source": [
    "### 4.\n",
    "\n",
    "Report the annualized summary statistics (Mean, Vol and Sharpe) of both portfolios in the out-of-sample.\n",
    "\n",
    "Note: you are using the weights optimized for the in-sample and generating statistics with the out-of-sample returns."
   ]
  },
  {
   "cell_type": "code",
   "execution_count": 8,
   "id": "63dd2a4b",
   "metadata": {},
   "outputs": [
    {
     "name": "stdout",
     "output_type": "stream",
     "text": [
      "Out-of-sample metrics: \n"
     ]
    },
    {
     "data": {
      "text/html": [
       "<style type=\"text/css\">\n",
       "</style>\n",
       "<table id=\"T_34cca\">\n",
       "  <thead>\n",
       "    <tr>\n",
       "      <th class=\"blank level0\" >&nbsp;</th>\n",
       "      <th id=\"T_34cca_level0_col0\" class=\"col_heading level0 col0\" >Mean</th>\n",
       "      <th id=\"T_34cca_level0_col1\" class=\"col_heading level0 col1\" >Volatility</th>\n",
       "      <th id=\"T_34cca_level0_col2\" class=\"col_heading level0 col2\" >Sharpe_Ratio</th>\n",
       "    </tr>\n",
       "  </thead>\n",
       "  <tbody>\n",
       "    <tr>\n",
       "      <th id=\"T_34cca_level0_row0\" class=\"row_heading level0 row0\" >w_tan</th>\n",
       "      <td id=\"T_34cca_row0_col0\" class=\"data row0 col0\" >32.16%</td>\n",
       "      <td id=\"T_34cca_row0_col1\" class=\"data row0 col1\" >22.24%</td>\n",
       "      <td id=\"T_34cca_row0_col2\" class=\"data row0 col2\" >144.62%</td>\n",
       "    </tr>\n",
       "    <tr>\n",
       "      <th id=\"T_34cca_level0_row1\" class=\"row_heading level0 row1\" >w_tan_reg</th>\n",
       "      <td id=\"T_34cca_row1_col0\" class=\"data row1 col0\" >26.87%</td>\n",
       "      <td id=\"T_34cca_row1_col1\" class=\"data row1 col1\" >17.63%</td>\n",
       "      <td id=\"T_34cca_row1_col2\" class=\"data row1 col2\" >152.37%</td>\n",
       "    </tr>\n",
       "  </tbody>\n",
       "</table>\n"
      ],
      "text/plain": [
       "<pandas.io.formats.style.Styler at 0x24b77013530>"
      ]
     },
     "metadata": {},
     "output_type": "display_data"
    }
   ],
   "source": [
    "print(\"Out-of-sample metrics: \")\n",
    "display(get_metrics(out_of_sample_portfolios_returns,adj_factor = 12)[[\"Mean\",\"Volatility\",\"Sharpe_Ratio\"]].style.format(\"{:.2%}\"))"
   ]
  },
  {
   "cell_type": "markdown",
   "id": "2147058f-7c1b-4f56-ae94-d8ae77b5a96d",
   "metadata": {},
   "source": [
    "### 5.\n",
    "Which portfolio has better adjusted by risk returns in the out-of-sample? Could there be a mathematical/optimization reason why one portfolio had better adjusted by risk performance? \n",
    "\n",
    "Relate your answer to your findings in question (2.2) (Sum of absolute weights in the traditional and regularized tangency portfolio.)"
   ]
  },
  {
   "cell_type": "markdown",
   "id": "8efba680",
   "metadata": {},
   "source": [
    "*Answer*:\n",
    "\n",
    "* The traditional Tangency Portfolio, in the sample, showed a sum of the absolute weights of the assets of approximately 220%, which indicates an \"extreme\" result. This is probably because the covariance matrix is nearly singular (i.e., the determinant is close to zero), making the optimal result unstable and leading to extreme weights and a large net exposure.\n",
    "\n",
    "* On the other hand, the regularized portfolio, which reduces the covariance between the assets by half, does not have this numerical problem with the covariance matrix. As a consequence, the absolute values of the weights are less than those of the traditional Tangency Portfolio (134% vs. 220%).\n",
    "\n",
    "In terms of out-of-sample performance, the Tangency Regularized Portfolio showed better performance in terms of excess return adjusted by volatility compared to the traditional Tangency Portfolio (even though the in-sample data showed the opposite). This is expected due to the regularization process."
   ]
  },
  {
   "cell_type": "markdown",
   "id": "0a8eda25",
   "metadata": {},
   "source": [
    "***"
   ]
  },
  {
   "cell_type": "markdown",
   "id": "45d9f9ca",
   "metadata": {},
   "source": [
    "# 3. Hedging and Replication\n",
    "\n",
    "For this question you will only use data from the sheet `proshares returns`.\n",
    "\n",
    "The following assets excess returns are available in this sheet:\n",
    "\n",
    "- **HDG US Equity**: ProShares Hedge Replication ET\n",
    "- **QAI US Equity**: NYLI Hedge Multi-Strategy Trac\n",
    "- **SPY US Equity**: SPDR S&P 500 ETF Trust\n",
    "- **EEM US Equity**: iShares MSCI Emerging Markets\n",
    "- **EFA US Equity**: iShares MSCI EAFE ETF\n",
    "- **EUO US Equity**: ProShares UltraShort Euro\n",
    "- **IWM US Equity**: iShares Russell 2000 ETF\n",
    "- **SPXU US Equity**: ProShares UltraPro Short S&P 5\n",
    "- **UPRO US Equity**: ProShares UltraPro S&P 500"
   ]
  },
  {
   "cell_type": "code",
   "execution_count": 7,
   "id": "501b3e52",
   "metadata": {},
   "outputs": [],
   "source": [
    "import pandas as pd\n",
    "import numpy as np\n",
    "import seaborn as sns\n",
    "from scipy.stats import skew,kurtosis,norm\n",
    "import statsmodels.api as sm\n",
    "\n",
    "filename = '../data/midterm_1_data.xlsx'\n",
    "# filename = r\"C:\\Users\\josel\\Downloads\\multi_asset_etf_data (1).xlsx\"\n",
    "stocks_excess_returns = pd.read_excel(filename,sheet_name=\"stocks excess returns\",index_col=\"date\")\n",
    "proshares_excess_returns = pd.read_excel(filename,sheet_name=\"proshares excess returns\",index_col=\"date\")\n",
    "fx_carry_returns = pd.read_excel(filename,sheet_name=\"fx carry returns\",index_col=\"date\")"
   ]
  },
  {
   "cell_type": "code",
   "execution_count": 8,
   "id": "5c869c6f",
   "metadata": {},
   "outputs": [
    {
     "data": {
      "text/plain": [
       "Index(['HDG US Equity', 'QAI US Equity', 'SPY US Equity', 'EEM US Equity',\n",
       "       'EFA US Equity', 'EUO US Equity', 'IWM US Equity', 'SPXU US Equity',\n",
       "       'UPRO US Equity'],\n",
       "      dtype='object')"
      ]
     },
     "execution_count": 8,
     "metadata": {},
     "output_type": "execute_result"
    }
   ],
   "source": [
    "proshares_excess_returns.columns"
   ]
  },
  {
   "cell_type": "code",
   "execution_count": 9,
   "id": "7a642bc4",
   "metadata": {},
   "outputs": [],
   "source": [
    "def Linear_Factor_Descomposition(data, y_asset,x_asset, adj = 12, constant = True):\n",
    "\n",
    "    Y = data[y_asset]\n",
    "    X = data[x_asset]\n",
    "\n",
    "    if constant:\n",
    "        X = sm.add_constant(X)\n",
    "\n",
    "    mod = sm.OLS(Y, X).fit()\n",
    "    inter = mod.params.values[0]\n",
    "\n",
    "    rsquare = mod.rsquared\n",
    "    std_errors= mod.resid.std()\n",
    "    tracking_error = mod.resid.std() * np.sqrt(adj)\n",
    "\n",
    "    metrics = pd.DataFrame([[inter,inter*adj,rsquare,std_errors,tracking_error]],columns=[\"Alpha\",\"Alpha Adj\",\"R-square\",\"std_errors\",\"tracking_error\"], index = [y_asset])\n",
    "    return pd.DataFrame(mod.params).T, metrics,mod.summary(),mod.resid"
   ]
  },
  {
   "cell_type": "markdown",
   "id": "b6e16122",
   "metadata": {},
   "source": [
    "### 1. \n",
    "\n",
    "You work at a hedge fund.\n",
    "\n",
    "Suppose the hedge fund is long $1 million of HDG and wants to hedge the position.\n",
    "\n",
    "A junior analyst suggests that we can hedge our position by looking at some select ETFs, and then taking a position in the ETFs that will offset the risk of our HDG position.\n",
    "\n",
    "They pick QAI, SPY, EEM, UPRO, SPXU, IWM, and EFA.\n",
    "\n",
    "What dollar position would we be taking in each ETF to hedge your HDG position?"
   ]
  },
  {
   "cell_type": "code",
   "execution_count": 37,
   "id": "e3af3c64",
   "metadata": {},
   "outputs": [],
   "source": [
    "def time_series_regression(data, y_asset, x_asset, adj=12, constant=True):\n",
    "    Y = data[y_asset]\n",
    "    X = data[x_asset]\n",
    "\n",
    "    if constant:\n",
    "        X = sm.add_constant(X)\n",
    "\n",
    "    mod = sm.OLS(Y, X).fit()\n",
    "\n",
    "    if constant:\n",
    "        inter = mod.params.values[0]\n",
    "        betas = mod.params[1:].values\n",
    "    else:\n",
    "        inter = np.nan\n",
    "        betas = mod.params.values\n",
    "\n",
    "    rsquare = mod.rsquared\n",
    "    std_errors = mod.resid.std()\n",
    "    tracking_error = mod.resid.std() * np.sqrt(adj)\n",
    "\n",
    "    # Calculate Treynor Ratio, Information Ratio, and Tracking Error\n",
    "    treynor_ratio = (adj * Y.mean()) / mod.params[0] if not constant else (adj * Y.mean()) / mod.params[1]\n",
    "    info_ratio = (\n",
    "        np.sqrt(adj) * inter / std_errors if std_errors != 0 and constant else np.nan\n",
    "    )\n",
    "\n",
    "    # Construct the metrics dataframe conditionally\n",
    "    if constant:\n",
    "        metrics_columns = [\n",
    "            \"Alpha\", \"Alpha Adj\",\n",
    "            *([f\"{col}\" for col in x_asset]),\n",
    "            \"R-square\", \"std_errors\", \"Tracking_error\",\n",
    "            \"Treynor Ratio\", \"Information Ratio\"\n",
    "        ]\n",
    "        metrics_values = [\n",
    "            inter, inter * adj,\n",
    "            *betas,\n",
    "            rsquare, std_errors, tracking_error,\n",
    "            treynor_ratio, info_ratio\n",
    "        ]\n",
    "    else:\n",
    "        metrics_columns = [\n",
    "            *([f\"{col}\" for col in x_asset]),\n",
    "            \"R-square\", \"std_errors\", \"Tracking_error\",\n",
    "            \"Treynor Ratio\"\n",
    "        ]\n",
    "        metrics_values = [\n",
    "            *betas,\n",
    "            rsquare, std_errors, tracking_error,\n",
    "            treynor_ratio\n",
    "        ]\n",
    "\n",
    "    metrics = pd.DataFrame([metrics_values], columns=metrics_columns, index=[y_asset])\n",
    "    return metrics"
   ]
  },
  {
   "cell_type": "code",
   "execution_count": 38,
   "id": "7c1c73aa",
   "metadata": {},
   "outputs": [],
   "source": [
    "assets = ['QAI US Equity', 'SPY US Equity', 'EEM US Equity', 'UPRO US Equity', 'SPXU US Equity', 'IWM US Equity','EFA US Equity']"
   ]
  },
  {
   "cell_type": "code",
   "execution_count": 39,
   "id": "ef351e67",
   "metadata": {},
   "outputs": [
    {
     "name": "stderr",
     "output_type": "stream",
     "text": [
      "C:\\Users\\josel\\AppData\\Local\\Temp\\ipykernel_35528\\4217607054.py:22: FutureWarning: Series.__getitem__ treating keys as positions is deprecated. In a future version, integer keys will always be treated as labels (consistent with DataFrame behavior). To access a value by position, use `ser.iloc[pos]`\n",
      "  treynor_ratio = (adj * Y.mean()) / mod.params[0] if not constant else (adj * Y.mean()) / mod.params[1]\n"
     ]
    }
   ],
   "source": [
    "results = time_series_regression(proshares_excess_returns, \"HDG US Equity\", assets, adj=12)"
   ]
  },
  {
   "cell_type": "code",
   "execution_count": 40,
   "id": "243d78aa",
   "metadata": {},
   "outputs": [
    {
     "data": {
      "text/html": [
       "<style type=\"text/css\">\n",
       "</style>\n",
       "<table id=\"T_b2e76\">\n",
       "  <thead>\n",
       "    <tr>\n",
       "      <th class=\"blank level0\" >&nbsp;</th>\n",
       "      <th id=\"T_b2e76_level0_col0\" class=\"col_heading level0 col0\" >QAI US Equity</th>\n",
       "      <th id=\"T_b2e76_level0_col1\" class=\"col_heading level0 col1\" >SPY US Equity</th>\n",
       "      <th id=\"T_b2e76_level0_col2\" class=\"col_heading level0 col2\" >EEM US Equity</th>\n",
       "      <th id=\"T_b2e76_level0_col3\" class=\"col_heading level0 col3\" >UPRO US Equity</th>\n",
       "      <th id=\"T_b2e76_level0_col4\" class=\"col_heading level0 col4\" >SPXU US Equity</th>\n",
       "      <th id=\"T_b2e76_level0_col5\" class=\"col_heading level0 col5\" >IWM US Equity</th>\n",
       "      <th id=\"T_b2e76_level0_col6\" class=\"col_heading level0 col6\" >EFA US Equity</th>\n",
       "    </tr>\n",
       "  </thead>\n",
       "  <tbody>\n",
       "    <tr>\n",
       "      <th id=\"T_b2e76_level0_row0\" class=\"row_heading level0 row0\" >HDG US Equity</th>\n",
       "      <td id=\"T_b2e76_row0_col0\" class=\"data row0 col0\" >$-151,537</td>\n",
       "      <td id=\"T_b2e76_row0_col1\" class=\"data row0 col1\" >$-515,376</td>\n",
       "      <td id=\"T_b2e76_row0_col2\" class=\"data row0 col2\" >$-44,816</td>\n",
       "      <td id=\"T_b2e76_row0_col3\" class=\"data row0 col3\" >$140,222</td>\n",
       "      <td id=\"T_b2e76_row0_col4\" class=\"data row0 col4\" >$-32,654</td>\n",
       "      <td id=\"T_b2e76_row0_col5\" class=\"data row0 col5\" >$-139,036</td>\n",
       "      <td id=\"T_b2e76_row0_col6\" class=\"data row0 col6\" >$-117,000</td>\n",
       "    </tr>\n",
       "  </tbody>\n",
       "</table>\n"
      ],
      "text/plain": [
       "<pandas.io.formats.style.Styler at 0x1e350413320>"
      ]
     },
     "execution_count": 40,
     "metadata": {},
     "output_type": "execute_result"
    }
   ],
   "source": [
    "(results[assets]  * -1_000_000).style.format('${:,.0f}')"
   ]
  },
  {
   "cell_type": "code",
   "execution_count": 13,
   "id": "94dcac88",
   "metadata": {},
   "outputs": [
    {
     "name": "stdout",
     "output_type": "stream",
     "text": [
      "Hedge of HDG with other assets, including intercept (alpha): \n"
     ]
    },
    {
     "data": {
      "text/html": [
       "<style type=\"text/css\">\n",
       "</style>\n",
       "<table id=\"T_91c36\">\n",
       "  <thead>\n",
       "    <tr>\n",
       "      <th class=\"blank level0\" >&nbsp;</th>\n",
       "      <th id=\"T_91c36_level0_col0\" class=\"col_heading level0 col0\" >QAI US Equity</th>\n",
       "      <th id=\"T_91c36_level0_col1\" class=\"col_heading level0 col1\" >SPY US Equity</th>\n",
       "      <th id=\"T_91c36_level0_col2\" class=\"col_heading level0 col2\" >EEM US Equity</th>\n",
       "      <th id=\"T_91c36_level0_col3\" class=\"col_heading level0 col3\" >UPRO US Equity</th>\n",
       "      <th id=\"T_91c36_level0_col4\" class=\"col_heading level0 col4\" >SPXU US Equity</th>\n",
       "      <th id=\"T_91c36_level0_col5\" class=\"col_heading level0 col5\" >IWM US Equity</th>\n",
       "      <th id=\"T_91c36_level0_col6\" class=\"col_heading level0 col6\" >EFA US Equity</th>\n",
       "    </tr>\n",
       "  </thead>\n",
       "  <tbody>\n",
       "    <tr>\n",
       "      <th id=\"T_91c36_level0_row0\" class=\"row_heading level0 row0\" >0</th>\n",
       "      <td id=\"T_91c36_row0_col0\" class=\"data row0 col0\" >$-151,537</td>\n",
       "      <td id=\"T_91c36_row0_col1\" class=\"data row0 col1\" >$-515,376</td>\n",
       "      <td id=\"T_91c36_row0_col2\" class=\"data row0 col2\" >$-44,816</td>\n",
       "      <td id=\"T_91c36_row0_col3\" class=\"data row0 col3\" >$140,222</td>\n",
       "      <td id=\"T_91c36_row0_col4\" class=\"data row0 col4\" >$-32,654</td>\n",
       "      <td id=\"T_91c36_row0_col5\" class=\"data row0 col5\" >$-139,036</td>\n",
       "      <td id=\"T_91c36_row0_col6\" class=\"data row0 col6\" >$-117,000</td>\n",
       "    </tr>\n",
       "  </tbody>\n",
       "</table>\n"
      ],
      "text/plain": [
       "<pandas.io.formats.style.Styler at 0x1e34f926360>"
      ]
     },
     "metadata": {},
     "output_type": "display_data"
    },
    {
     "name": "stdout",
     "output_type": "stream",
     "text": [
      "Total amount invested: $-860,198\n"
     ]
    }
   ],
   "source": [
    "beta, metrics,summary, _ = Linear_Factor_Descomposition(proshares_excess_returns, y_asset = \"HDG US Equity\",x_asset = assets, adj = 12,constant = True)\n",
    "print(\"Hedge of HDG with other assets, including intercept (alpha): \")\n",
    "display((beta[assets] * -1_000_000).style.format('${:,.0f}'))\n",
    "print(f\"Total amount invested: ${(beta[assets] * -1_000_000).sum(axis=1)[0]:,.0f}\")"
   ]
  },
  {
   "cell_type": "code",
   "execution_count": 14,
   "id": "ee17840b",
   "metadata": {},
   "outputs": [
    {
     "data": {
      "text/html": [
       "<table class=\"simpletable\">\n",
       "<caption>OLS Regression Results</caption>\n",
       "<tr>\n",
       "  <th>Dep. Variable:</th>      <td>HDG US Equity</td>  <th>  R-squared:         </th> <td>   0.914</td>\n",
       "</tr>\n",
       "<tr>\n",
       "  <th>Model:</th>                   <td>OLS</td>       <th>  Adj. R-squared:    </th> <td>   0.910</td>\n",
       "</tr>\n",
       "<tr>\n",
       "  <th>Method:</th>             <td>Least Squares</td>  <th>  F-statistic:       </th> <td>   228.7</td>\n",
       "</tr>\n",
       "<tr>\n",
       "  <th>Date:</th>             <td>Wed, 30 Oct 2024</td> <th>  Prob (F-statistic):</th> <td>1.13e-76</td>\n",
       "</tr>\n",
       "<tr>\n",
       "  <th>Time:</th>                 <td>17:03:16</td>     <th>  Log-Likelihood:    </th> <td>  615.52</td>\n",
       "</tr>\n",
       "<tr>\n",
       "  <th>No. Observations:</th>      <td>   158</td>      <th>  AIC:               </th> <td>  -1215.</td>\n",
       "</tr>\n",
       "<tr>\n",
       "  <th>Df Residuals:</th>          <td>   150</td>      <th>  BIC:               </th> <td>  -1191.</td>\n",
       "</tr>\n",
       "<tr>\n",
       "  <th>Df Model:</th>              <td>     7</td>      <th>                     </th>     <td> </td>   \n",
       "</tr>\n",
       "<tr>\n",
       "  <th>Covariance Type:</th>      <td>nonrobust</td>    <th>                     </th>     <td> </td>   \n",
       "</tr>\n",
       "</table>\n",
       "<table class=\"simpletable\">\n",
       "<tr>\n",
       "         <td></td>           <th>coef</th>     <th>std err</th>      <th>t</th>      <th>P>|t|</th>  <th>[0.025</th>    <th>0.975]</th>  \n",
       "</tr>\n",
       "<tr>\n",
       "  <th>const</th>          <td>   -0.0005</td> <td>    0.000</td> <td>   -1.100</td> <td> 0.273</td> <td>   -0.001</td> <td>    0.000</td>\n",
       "</tr>\n",
       "<tr>\n",
       "  <th>QAI US Equity</th>  <td>    0.1879</td> <td>    0.068</td> <td>    2.758</td> <td> 0.007</td> <td>    0.053</td> <td>    0.323</td>\n",
       "</tr>\n",
       "<tr>\n",
       "  <th>SPY US Equity</th>  <td>   -0.0490</td> <td>    0.047</td> <td>   -1.046</td> <td> 0.297</td> <td>   -0.142</td> <td>    0.044</td>\n",
       "</tr>\n",
       "<tr>\n",
       "  <th>EEM US Equity</th>  <td>    0.0538</td> <td>    0.015</td> <td>    3.538</td> <td> 0.001</td> <td>    0.024</td> <td>    0.084</td>\n",
       "</tr>\n",
       "<tr>\n",
       "  <th>EUO US Equity</th>  <td>    0.0340</td> <td>    0.013</td> <td>    2.710</td> <td> 0.008</td> <td>    0.009</td> <td>    0.059</td>\n",
       "</tr>\n",
       "<tr>\n",
       "  <th>SPXU US Equity</th> <td>   -0.0116</td> <td>    0.012</td> <td>   -0.933</td> <td> 0.352</td> <td>   -0.036</td> <td>    0.013</td>\n",
       "</tr>\n",
       "<tr>\n",
       "  <th>IWM US Equity</th>  <td>    0.1305</td> <td>    0.015</td> <td>    8.759</td> <td> 0.000</td> <td>    0.101</td> <td>    0.160</td>\n",
       "</tr>\n",
       "<tr>\n",
       "  <th>EFA US Equity</th>  <td>    0.1378</td> <td>    0.025</td> <td>    5.473</td> <td> 0.000</td> <td>    0.088</td> <td>    0.188</td>\n",
       "</tr>\n",
       "</table>\n",
       "<table class=\"simpletable\">\n",
       "<tr>\n",
       "  <th>Omnibus:</th>       <td>28.239</td> <th>  Durbin-Watson:     </th> <td>   2.550</td>\n",
       "</tr>\n",
       "<tr>\n",
       "  <th>Prob(Omnibus):</th> <td> 0.000</td> <th>  Jarque-Bera (JB):  </th> <td>  89.208</td>\n",
       "</tr>\n",
       "<tr>\n",
       "  <th>Skew:</th>          <td>-0.627</td> <th>  Prob(JB):          </th> <td>4.25e-20</td>\n",
       "</tr>\n",
       "<tr>\n",
       "  <th>Kurtosis:</th>      <td> 6.461</td> <th>  Cond. No.          </th> <td>    176.</td>\n",
       "</tr>\n",
       "</table><br/><br/>Notes:<br/>[1] Standard Errors assume that the covariance matrix of the errors is correctly specified."
      ],
      "text/latex": [
       "\\begin{center}\n",
       "\\begin{tabular}{lclc}\n",
       "\\toprule\n",
       "\\textbf{Dep. Variable:}    &  HDG US Equity   & \\textbf{  R-squared:         } &     0.914   \\\\\n",
       "\\textbf{Model:}            &       OLS        & \\textbf{  Adj. R-squared:    } &     0.910   \\\\\n",
       "\\textbf{Method:}           &  Least Squares   & \\textbf{  F-statistic:       } &     228.7   \\\\\n",
       "\\textbf{Date:}             & Wed, 30 Oct 2024 & \\textbf{  Prob (F-statistic):} &  1.13e-76   \\\\\n",
       "\\textbf{Time:}             &     17:03:16     & \\textbf{  Log-Likelihood:    } &    615.52   \\\\\n",
       "\\textbf{No. Observations:} &         158      & \\textbf{  AIC:               } &    -1215.   \\\\\n",
       "\\textbf{Df Residuals:}     &         150      & \\textbf{  BIC:               } &    -1191.   \\\\\n",
       "\\textbf{Df Model:}         &           7      & \\textbf{                     } &             \\\\\n",
       "\\textbf{Covariance Type:}  &    nonrobust     & \\textbf{                     } &             \\\\\n",
       "\\bottomrule\n",
       "\\end{tabular}\n",
       "\\begin{tabular}{lcccccc}\n",
       "                        & \\textbf{coef} & \\textbf{std err} & \\textbf{t} & \\textbf{P$> |$t$|$} & \\textbf{[0.025} & \\textbf{0.975]}  \\\\\n",
       "\\midrule\n",
       "\\textbf{const}          &      -0.0005  &        0.000     &    -1.100  &         0.273        &       -0.001    &        0.000     \\\\\n",
       "\\textbf{QAI US Equity}  &       0.1879  &        0.068     &     2.758  &         0.007        &        0.053    &        0.323     \\\\\n",
       "\\textbf{SPY US Equity}  &      -0.0490  &        0.047     &    -1.046  &         0.297        &       -0.142    &        0.044     \\\\\n",
       "\\textbf{EEM US Equity}  &       0.0538  &        0.015     &     3.538  &         0.001        &        0.024    &        0.084     \\\\\n",
       "\\textbf{EUO US Equity}  &       0.0340  &        0.013     &     2.710  &         0.008        &        0.009    &        0.059     \\\\\n",
       "\\textbf{SPXU US Equity} &      -0.0116  &        0.012     &    -0.933  &         0.352        &       -0.036    &        0.013     \\\\\n",
       "\\textbf{IWM US Equity}  &       0.1305  &        0.015     &     8.759  &         0.000        &        0.101    &        0.160     \\\\\n",
       "\\textbf{EFA US Equity}  &       0.1378  &        0.025     &     5.473  &         0.000        &        0.088    &        0.188     \\\\\n",
       "\\bottomrule\n",
       "\\end{tabular}\n",
       "\\begin{tabular}{lclc}\n",
       "\\textbf{Omnibus:}       & 28.239 & \\textbf{  Durbin-Watson:     } &    2.550  \\\\\n",
       "\\textbf{Prob(Omnibus):} &  0.000 & \\textbf{  Jarque-Bera (JB):  } &   89.208  \\\\\n",
       "\\textbf{Skew:}          & -0.627 & \\textbf{  Prob(JB):          } & 4.25e-20  \\\\\n",
       "\\textbf{Kurtosis:}      &  6.461 & \\textbf{  Cond. No.          } &     176.  \\\\\n",
       "\\bottomrule\n",
       "\\end{tabular}\n",
       "%\\caption{OLS Regression Results}\n",
       "\\end{center}\n",
       "\n",
       "Notes: \\newline\n",
       " [1] Standard Errors assume that the covariance matrix of the errors is correctly specified."
      ],
      "text/plain": [
       "<class 'statsmodels.iolib.summary.Summary'>\n",
       "\"\"\"\n",
       "                            OLS Regression Results                            \n",
       "==============================================================================\n",
       "Dep. Variable:          HDG US Equity   R-squared:                       0.914\n",
       "Model:                            OLS   Adj. R-squared:                  0.910\n",
       "Method:                 Least Squares   F-statistic:                     228.7\n",
       "Date:                Wed, 30 Oct 2024   Prob (F-statistic):           1.13e-76\n",
       "Time:                        17:03:16   Log-Likelihood:                 615.52\n",
       "No. Observations:                 158   AIC:                            -1215.\n",
       "Df Residuals:                     150   BIC:                            -1191.\n",
       "Df Model:                           7                                         \n",
       "Covariance Type:            nonrobust                                         \n",
       "==================================================================================\n",
       "                     coef    std err          t      P>|t|      [0.025      0.975]\n",
       "----------------------------------------------------------------------------------\n",
       "const             -0.0005      0.000     -1.100      0.273      -0.001       0.000\n",
       "QAI US Equity      0.1879      0.068      2.758      0.007       0.053       0.323\n",
       "SPY US Equity     -0.0490      0.047     -1.046      0.297      -0.142       0.044\n",
       "EEM US Equity      0.0538      0.015      3.538      0.001       0.024       0.084\n",
       "EUO US Equity      0.0340      0.013      2.710      0.008       0.009       0.059\n",
       "SPXU US Equity    -0.0116      0.012     -0.933      0.352      -0.036       0.013\n",
       "IWM US Equity      0.1305      0.015      8.759      0.000       0.101       0.160\n",
       "EFA US Equity      0.1378      0.025      5.473      0.000       0.088       0.188\n",
       "==============================================================================\n",
       "Omnibus:                       28.239   Durbin-Watson:                   2.550\n",
       "Prob(Omnibus):                  0.000   Jarque-Bera (JB):               89.208\n",
       "Skew:                          -0.627   Prob(JB):                     4.25e-20\n",
       "Kurtosis:                       6.461   Cond. No.                         176.\n",
       "==============================================================================\n",
       "\n",
       "Notes:\n",
       "[1] Standard Errors assume that the covariance matrix of the errors is correctly specified.\n",
       "\"\"\""
      ]
     },
     "execution_count": 14,
     "metadata": {},
     "output_type": "execute_result"
    }
   ],
   "source": [
    "summary"
   ]
  },
  {
   "cell_type": "code",
   "execution_count": 28,
   "id": "a4fce2ae",
   "metadata": {},
   "outputs": [
    {
     "name": "stdout",
     "output_type": "stream",
     "text": [
      "Hedge of HDG with other assets, without including intercept (alpha): \n"
     ]
    },
    {
     "data": {
      "text/html": [
       "<style type=\"text/css\">\n",
       "</style>\n",
       "<table id=\"T_cb1bc\">\n",
       "  <thead>\n",
       "    <tr>\n",
       "      <th class=\"blank level0\" >&nbsp;</th>\n",
       "      <th id=\"T_cb1bc_level0_col0\" class=\"col_heading level0 col0\" >QAI US Equity</th>\n",
       "      <th id=\"T_cb1bc_level0_col1\" class=\"col_heading level0 col1\" >SPY US Equity</th>\n",
       "      <th id=\"T_cb1bc_level0_col2\" class=\"col_heading level0 col2\" >EEM US Equity</th>\n",
       "      <th id=\"T_cb1bc_level0_col3\" class=\"col_heading level0 col3\" >UPRO US Equity</th>\n",
       "      <th id=\"T_cb1bc_level0_col4\" class=\"col_heading level0 col4\" >SPXU US Equity</th>\n",
       "      <th id=\"T_cb1bc_level0_col5\" class=\"col_heading level0 col5\" >IWM US Equity</th>\n",
       "      <th id=\"T_cb1bc_level0_col6\" class=\"col_heading level0 col6\" >EFA US Equity</th>\n",
       "    </tr>\n",
       "  </thead>\n",
       "  <tbody>\n",
       "    <tr>\n",
       "      <th id=\"T_cb1bc_level0_row0\" class=\"row_heading level0 row0\" >0</th>\n",
       "      <td id=\"T_cb1bc_row0_col0\" class=\"data row0 col0\" >$-166,629</td>\n",
       "      <td id=\"T_cb1bc_row0_col1\" class=\"data row0 col1\" >$-240,419</td>\n",
       "      <td id=\"T_cb1bc_row0_col2\" class=\"data row0 col2\" >$-44,877</td>\n",
       "      <td id=\"T_cb1bc_row0_col3\" class=\"data row0 col3\" >$69,393</td>\n",
       "      <td id=\"T_cb1bc_row0_col4\" class=\"data row0 col4\" >$-16,065</td>\n",
       "      <td id=\"T_cb1bc_row0_col5\" class=\"data row0 col5\" >$-139,894</td>\n",
       "      <td id=\"T_cb1bc_row0_col6\" class=\"data row0 col6\" >$-120,177</td>\n",
       "    </tr>\n",
       "  </tbody>\n",
       "</table>\n"
      ],
      "text/plain": [
       "<pandas.io.formats.style.Styler at 0x170101f1a60>"
      ]
     },
     "metadata": {},
     "output_type": "display_data"
    },
    {
     "name": "stdout",
     "output_type": "stream",
     "text": [
      "Total amount invested: $-658,669\n"
     ]
    }
   ],
   "source": [
    "beta2, metrics2,summary2,_ = Linear_Factor_Descomposition(proshares_excess_returns, y_asset = \"HDG US Equity\",x_asset = assets, adj = 12,constant = False)\n",
    "print(\"Hedge of HDG with other assets, without including intercept (alpha): \")\n",
    "display((beta2[assets] * -1_000_000).style.format('${:,.0f}'))\n",
    "print(f\"Total amount invested: ${(beta2[assets] * -1_000_000).sum(axis=1)[0]:,.0f}\")"
   ]
  },
  {
   "cell_type": "markdown",
   "id": "538db429",
   "metadata": {},
   "source": [
    "* Notes: We observe that including the intercept in the regression does not significantly impact the other regressors, and the intercept itself is not significant (p-value = 0.273). Therefore, we could exclude it. However, for the next questions, we will consider the regression with the intercept to ensure that the regressors focus on matching the variance rather than the level."
   ]
  },
  {
   "cell_type": "markdown",
   "id": "4917ec2d",
   "metadata": {},
   "source": [
    "### 2.\n",
    "\n",
    "#### (7pts)\n",
    "What is the gross notional of the hedge?\n",
    "\n",
    "What is the R-squared of the hedge?\n",
    "\n",
    "What do these two statistics indicate about the practical use of this hedge?"
   ]
  },
  {
   "cell_type": "markdown",
   "id": "f695251f",
   "metadata": {},
   "source": [
    "*Answer*:\n",
    "\n",
    "1. What is the gross notional of the hedge?"
   ]
  },
  {
   "cell_type": "code",
   "execution_count": 23,
   "id": "67c9638f",
   "metadata": {},
   "outputs": [
    {
     "name": "stdout",
     "output_type": "stream",
     "text": [
      "Total amount invested: $1,141,653\n"
     ]
    }
   ],
   "source": [
    "print(f\"Total amount invested: ${(beta* -1_000_000).abs().sum(axis=1)[0]:,.0f}\")"
   ]
  },
  {
   "cell_type": "code",
   "execution_count": 41,
   "id": "f4c69562",
   "metadata": {},
   "outputs": [
    {
     "data": {
      "text/plain": [
       "HDG US Equity   -1.141653e+06\n",
       "dtype: float64"
      ]
     },
     "execution_count": 41,
     "metadata": {},
     "output_type": "execute_result"
    }
   ],
   "source": [
    "results[assets+[\"Alpha\"]].abs().sum(axis=1)* -1_000_000"
   ]
  },
  {
   "cell_type": "markdown",
   "id": "ad150942",
   "metadata": {},
   "source": [
    "2. What is the R-squared of the hedge?"
   ]
  },
  {
   "cell_type": "code",
   "execution_count": 14,
   "id": "713a1c9a",
   "metadata": {},
   "outputs": [
    {
     "name": "stdout",
     "output_type": "stream",
     "text": [
      "The R-squared of the model is: 91.29%\n"
     ]
    },
    {
     "name": "stderr",
     "output_type": "stream",
     "text": [
      "C:\\Users\\josel\\AppData\\Local\\Temp\\ipykernel_11632\\716814244.py:1: FutureWarning: Series.__getitem__ treating keys as positions is deprecated. In a future version, integer keys will always be treated as labels (consistent with DataFrame behavior). To access a value by position, use `ser.iloc[pos]`\n",
      "  print(f\"The R-squared of the model is: {metrics['R-square'][0]:.2%}\")\n"
     ]
    }
   ],
   "source": [
    "print(f\"The R-squared of the model is: {metrics['R-square'][0]:.2%}\")"
   ]
  },
  {
   "cell_type": "code",
   "execution_count": 42,
   "id": "57b51991",
   "metadata": {},
   "outputs": [
    {
     "data": {
      "text/plain": [
       "HDG US Equity    0.912884\n",
       "Name: R-square, dtype: float64"
      ]
     },
     "execution_count": 42,
     "metadata": {},
     "output_type": "execute_result"
    }
   ],
   "source": [
    "results[\"R-square\"]"
   ]
  },
  {
   "cell_type": "markdown",
   "id": "e9cffd8e",
   "metadata": {},
   "source": [
    "3. What do these two statistics indicate about the practical use of this hedge?"
   ]
  },
  {
   "cell_type": "markdown",
   "id": "6cb9bce4",
   "metadata": {},
   "source": [
    "*Answer*: These show that we are able to replicate the variance of HDG with this portfolio of ETF with a significant result (R-Squared of 91.43%)"
   ]
  },
  {
   "attachments": {},
   "cell_type": "markdown",
   "id": "fc40b82a-d979-42c7-bbca-f7ede2c133f3",
   "metadata": {},
   "source": [
    "### 3.\n",
    "\n",
    "Suppose instead we don't want to hedge our position. We believe that the value of HDG can be *entirely* determined by some combination of the other ETFs. \n",
    "\n",
    "So, you propose the following model:\n",
    "\n",
    "$$\n",
    "HDG_t = \\beta_1 QAI_t + \\beta_2 SPY_t + \\beta_3 EEM_t + \\varepsilon_t\n",
    "$$\n",
    "\n",
    "We think any difference between the value of HDG and the value of the ETFs is a mispricing, and will revert to 0 in the future. We call such a strategy \"trading the residuals\".\n",
    "\n",
    "Therefore, if $\\varepsilon_t > 0$, we should be short HDG and long the basket, and if $\\varepsilon_t < 0$, we should be long HDG and short the basket.\n",
    "\n",
    "Now...\n",
    "* Run the model specified above and report the $\\beta$'s values.\n",
    "* After, create the \"basket\" portfolio, using the $\\beta$'s as weights (they do not need to add up to one). Report the final three values."
   ]
  },
  {
   "cell_type": "code",
   "execution_count": 47,
   "id": "865ecc64",
   "metadata": {},
   "outputs": [],
   "source": [
    "assets = ['QAI US Equity', 'SPY US Equity', 'EEM US Equity']\n",
    "beta, metrics,summary, residuals = Linear_Factor_Descomposition(proshares_excess_returns, y_asset = \"HDG US Equity\",x_asset = assets, adj = 12,constant = False)"
   ]
  },
  {
   "cell_type": "code",
   "execution_count": 226,
   "id": "895ac37d",
   "metadata": {},
   "outputs": [],
   "source": [
    "beta_repeated = pd.DataFrame( [beta.values[0]] * len(residuals), columns=beta.columns, index=residuals.index)\n",
    "residuals = pd.DataFrame(residuals,columns = [\"Residuals\"])"
   ]
  },
  {
   "cell_type": "code",
   "execution_count": 227,
   "id": "edc96254",
   "metadata": {},
   "outputs": [
    {
     "name": "stdout",
     "output_type": "stream",
     "text": [
      "Beta basket portfolio: \n"
     ]
    },
    {
     "data": {
      "text/html": [
       "<div>\n",
       "<style scoped>\n",
       "    .dataframe tbody tr th:only-of-type {\n",
       "        vertical-align: middle;\n",
       "    }\n",
       "\n",
       "    .dataframe tbody tr th {\n",
       "        vertical-align: top;\n",
       "    }\n",
       "\n",
       "    .dataframe thead th {\n",
       "        text-align: right;\n",
       "    }\n",
       "</style>\n",
       "<table border=\"1\" class=\"dataframe\">\n",
       "  <thead>\n",
       "    <tr style=\"text-align: right;\">\n",
       "      <th></th>\n",
       "      <th>QAI US Equity</th>\n",
       "      <th>SPY US Equity</th>\n",
       "      <th>EEM US Equity</th>\n",
       "    </tr>\n",
       "  </thead>\n",
       "  <tbody>\n",
       "    <tr>\n",
       "      <th>0</th>\n",
       "      <td>0.356368</td>\n",
       "      <td>0.162696</td>\n",
       "      <td>0.086523</td>\n",
       "    </tr>\n",
       "  </tbody>\n",
       "</table>\n",
       "</div>"
      ],
      "text/plain": [
       "   QAI US Equity  SPY US Equity  EEM US Equity\n",
       "0       0.356368       0.162696       0.086523"
      ]
     },
     "execution_count": 227,
     "metadata": {},
     "output_type": "execute_result"
    }
   ],
   "source": [
    "print(\"Beta basket portfolio: \")\n",
    "beta"
   ]
  },
  {
   "cell_type": "code",
   "execution_count": 228,
   "id": "ac82311b",
   "metadata": {},
   "outputs": [
    {
     "name": "stdout",
     "output_type": "stream",
     "text": [
      "Basket portfolio returns: \n"
     ]
    },
    {
     "data": {
      "text/plain": [
       "date\n",
       "2024-05-31    0.014722\n",
       "2024-06-30    0.009141\n",
       "2024-07-31    0.006721\n",
       "2024-08-31    0.007373\n",
       "2024-09-30    0.013569\n",
       "dtype: float64"
      ]
     },
     "execution_count": 228,
     "metadata": {},
     "output_type": "execute_result"
    }
   ],
   "source": [
    "print(\"Basket portfolio returns: \")\n",
    "\n",
    "(proshares_excess_returns[assets] @ beta.values[0]).tail(5)"
   ]
  },
  {
   "cell_type": "code",
   "execution_count": 48,
   "id": "46a358f4",
   "metadata": {},
   "outputs": [
    {
     "name": "stderr",
     "output_type": "stream",
     "text": [
      "C:\\Users\\josel\\AppData\\Local\\Temp\\ipykernel_35528\\4217607054.py:22: FutureWarning: Series.__getitem__ treating keys as positions is deprecated. In a future version, integer keys will always be treated as labels (consistent with DataFrame behavior). To access a value by position, use `ser.iloc[pos]`\n",
      "  treynor_ratio = (adj * Y.mean()) / mod.params[0] if not constant else (adj * Y.mean()) / mod.params[1]\n"
     ]
    }
   ],
   "source": [
    "results = time_series_regression(proshares_excess_returns, \"HDG US Equity\", assets, adj=12, constant=False)"
   ]
  },
  {
   "cell_type": "code",
   "execution_count": 49,
   "id": "62a4a9ba",
   "metadata": {},
   "outputs": [
    {
     "data": {
      "text/html": [
       "<div>\n",
       "<style scoped>\n",
       "    .dataframe tbody tr th:only-of-type {\n",
       "        vertical-align: middle;\n",
       "    }\n",
       "\n",
       "    .dataframe tbody tr th {\n",
       "        vertical-align: top;\n",
       "    }\n",
       "\n",
       "    .dataframe thead th {\n",
       "        text-align: right;\n",
       "    }\n",
       "</style>\n",
       "<table border=\"1\" class=\"dataframe\">\n",
       "  <thead>\n",
       "    <tr style=\"text-align: right;\">\n",
       "      <th></th>\n",
       "      <th>QAI US Equity</th>\n",
       "      <th>SPY US Equity</th>\n",
       "      <th>EEM US Equity</th>\n",
       "    </tr>\n",
       "  </thead>\n",
       "  <tbody>\n",
       "    <tr>\n",
       "      <th>HDG US Equity</th>\n",
       "      <td>0.356368</td>\n",
       "      <td>0.162696</td>\n",
       "      <td>0.086523</td>\n",
       "    </tr>\n",
       "  </tbody>\n",
       "</table>\n",
       "</div>"
      ],
      "text/plain": [
       "               QAI US Equity  SPY US Equity  EEM US Equity\n",
       "HDG US Equity       0.356368       0.162696       0.086523"
      ]
     },
     "execution_count": 49,
     "metadata": {},
     "output_type": "execute_result"
    }
   ],
   "source": [
    "results[assets]"
   ]
  },
  {
   "cell_type": "code",
   "execution_count": 50,
   "id": "8e110f35",
   "metadata": {},
   "outputs": [
    {
     "data": {
      "text/plain": [
       "date\n",
       "2011-08-31   -0.019264\n",
       "2011-09-30   -0.034678\n",
       "2011-10-31    0.040854\n",
       "2011-11-30   -0.005206\n",
       "2011-12-31   -0.001341\n",
       "                ...   \n",
       "2024-05-31    0.014722\n",
       "2024-06-30    0.009141\n",
       "2024-07-31    0.006721\n",
       "2024-08-31    0.007373\n",
       "2024-09-30    0.013569\n",
       "Length: 158, dtype: float64"
      ]
     },
     "execution_count": 50,
     "metadata": {},
     "output_type": "execute_result"
    }
   ],
   "source": [
    "proshares_excess_returns[assets] @ results[assets].values[0]"
   ]
  },
  {
   "cell_type": "markdown",
   "id": "607c71d0-bcf5-47e0-8539-7a8dc7f8e4fc",
   "metadata": {},
   "source": [
    "### 4.\n",
    "\n",
    "#### (8pts)\n",
    "\n",
    "Construct the strategy indicated by the approach in the previous problem.\n",
    "\n",
    "For a given period $t$:\n",
    "- if the $\\varepsilon_t \\leq 0$ (is negative or equal to 0), you should be long HDG 200% in HDG and short 100% in the basket portfolio **in period $t+1$**.\n",
    "- if the $\\varepsilon_t > 0$ (is positive), you should be long 200% in the basket portfolio and short 100% **in HDG in period $t+1$**.\n",
    "\n",
    "Do not worry about the look forward bias: in this scenario, you should run the model only once with the entire dataset and define your $\\varepsilon_t$ for any $t$ also considering the model that has acess to data in $t+1, t+2, ...$ to make the calculation.  \n",
    "\n",
    "Report the annualized summary statistics of this strategy (Mean, Vol and Sharpe)."
   ]
  },
  {
   "cell_type": "code",
   "execution_count": 229,
   "id": "74895eea",
   "metadata": {},
   "outputs": [],
   "source": [
    "combined_df = pd.concat([residuals, beta_repeated], axis=1)\n",
    "combined_df['HDG US Equity'] = 1\n",
    "\n",
    "combined_df.loc[combined_df[\"Residuals\"] <= 0,['QAI US Equity', 'SPY US Equity', 'EEM US Equity']] = combined_df.loc[combined_df[\"Residuals\"]<= 0,['QAI US Equity', 'SPY US Equity', 'EEM US Equity']]*(-1)\n",
    "combined_df.loc[combined_df[\"Residuals\"] <= 0,['HDG US Equity']] = combined_df.loc[combined_df[\"Residuals\"]<= 0,['HDG US Equity']]*(2)\n",
    "\n",
    "combined_df.loc[combined_df[\"Residuals\"] > 0,['HDG US Equity']] = combined_df.loc[combined_df[\"Residuals\"]> 0,['HDG US Equity']]*(-1)\n",
    "combined_df.loc[combined_df[\"Residuals\"] > 0,['QAI US Equity', 'SPY US Equity', 'EEM US Equity']] = combined_df.loc[combined_df[\"Residuals\"] > 0,['QAI US Equity', 'SPY US Equity', 'EEM US Equity']]*2\n",
    "\n",
    "basket_portfolio = pd.DataFrame((combined_df[['HDG US Equity','QAI US Equity', 'SPY US Equity', 'EEM US Equity']].shift(1) * proshares_excess_returns[['HDG US Equity','QAI US Equity', 'SPY US Equity', 'EEM US Equity']]).sum(axis = 1), columns = [\"Strategy\"])"
   ]
  },
  {
   "cell_type": "code",
   "execution_count": 230,
   "id": "090dfbea",
   "metadata": {},
   "outputs": [
    {
     "data": {
      "text/html": [
       "<style type=\"text/css\">\n",
       "</style>\n",
       "<table id=\"T_03965\">\n",
       "  <thead>\n",
       "    <tr>\n",
       "      <th class=\"blank level0\" >&nbsp;</th>\n",
       "      <th id=\"T_03965_level0_col0\" class=\"col_heading level0 col0\" >Mean</th>\n",
       "      <th id=\"T_03965_level0_col1\" class=\"col_heading level0 col1\" >Volatility</th>\n",
       "      <th id=\"T_03965_level0_col2\" class=\"col_heading level0 col2\" >Sharpe_Ratio</th>\n",
       "    </tr>\n",
       "  </thead>\n",
       "  <tbody>\n",
       "    <tr>\n",
       "      <th id=\"T_03965_level0_row0\" class=\"row_heading level0 row0\" >Strategy</th>\n",
       "      <td id=\"T_03965_row0_col0\" class=\"data row0 col0\" >3.66%</td>\n",
       "      <td id=\"T_03965_row0_col1\" class=\"data row0 col1\" >6.21%</td>\n",
       "      <td id=\"T_03965_row0_col2\" class=\"data row0 col2\" >58.92%</td>\n",
       "    </tr>\n",
       "  </tbody>\n",
       "</table>\n"
      ],
      "text/plain": [
       "<pandas.io.formats.style.Styler at 0x17cb5e8cb30>"
      ]
     },
     "execution_count": 230,
     "metadata": {},
     "output_type": "execute_result"
    }
   ],
   "source": [
    "get_metrics(basket_portfolio,adj_factor = 12)[[\"Mean\",\"Volatility\",\"Sharpe_Ratio\"]].style.format(\"{:.2%}\")"
   ]
  },
  {
   "cell_type": "markdown",
   "id": "7397b033-f586-49bf-9763-489276723d8a",
   "metadata": {},
   "source": [
    "### 5.\n",
    "\n",
    "On a different matter, we are now studying QAI and want to track (replicate) it using the other available ETFs.\n",
    "\n",
    "Use an intercept and report:\n",
    "\n",
    "- $\\beta$ (and the sum of $\\beta$'s absolute value).\n",
    "- $\\alpha$ and Information Ratio.\n",
    "- $R^2$.\n",
    "- Correlation matrix between the assets used to replicate QAI."
   ]
  },
  {
   "cell_type": "code",
   "execution_count": 63,
   "id": "e731b656",
   "metadata": {},
   "outputs": [],
   "source": [
    "assets = proshares_excess_returns.drop([\"QAI US Equity\"],axis=1).columns.values"
   ]
  },
  {
   "cell_type": "code",
   "execution_count": 51,
   "id": "13610ec4",
   "metadata": {},
   "outputs": [],
   "source": [
    "assets = [\"HDG US Equity\", 'SPY US Equity', 'EEM US Equity', 'EUO US Equity', 'SPXU US Equity', 'IWM US Equity','EFA US Equity']"
   ]
  },
  {
   "cell_type": "code",
   "execution_count": 190,
   "id": "f58880dd",
   "metadata": {},
   "outputs": [],
   "source": [
    "beta, metrics,summary, residuals = Linear_Factor_Descomposition(proshares_excess_returns, y_asset = 'QAI US Equity',x_asset = assets, adj = 12,constant = True)"
   ]
  },
  {
   "cell_type": "code",
   "execution_count": 64,
   "id": "f5252d2c",
   "metadata": {},
   "outputs": [
    {
     "name": "stderr",
     "output_type": "stream",
     "text": [
      "C:\\Users\\josel\\AppData\\Local\\Temp\\ipykernel_35528\\4217607054.py:22: FutureWarning: Series.__getitem__ treating keys as positions is deprecated. In a future version, integer keys will always be treated as labels (consistent with DataFrame behavior). To access a value by position, use `ser.iloc[pos]`\n",
      "  treynor_ratio = (adj * Y.mean()) / mod.params[0] if not constant else (adj * Y.mean()) / mod.params[1]\n"
     ]
    }
   ],
   "source": [
    "results = time_series_regression(proshares_excess_returns, \"QAI US Equity\", assets, adj=12)"
   ]
  },
  {
   "cell_type": "code",
   "execution_count": 65,
   "id": "d91c7e2e",
   "metadata": {},
   "outputs": [
    {
     "data": {
      "text/html": [
       "<div>\n",
       "<style scoped>\n",
       "    .dataframe tbody tr th:only-of-type {\n",
       "        vertical-align: middle;\n",
       "    }\n",
       "\n",
       "    .dataframe tbody tr th {\n",
       "        vertical-align: top;\n",
       "    }\n",
       "\n",
       "    .dataframe thead th {\n",
       "        text-align: right;\n",
       "    }\n",
       "</style>\n",
       "<table border=\"1\" class=\"dataframe\">\n",
       "  <thead>\n",
       "    <tr style=\"text-align: right;\">\n",
       "      <th></th>\n",
       "      <th>Alpha</th>\n",
       "      <th>Alpha Adj</th>\n",
       "      <th>HDG US Equity</th>\n",
       "      <th>SPY US Equity</th>\n",
       "      <th>EEM US Equity</th>\n",
       "      <th>EFA US Equity</th>\n",
       "      <th>EUO US Equity</th>\n",
       "      <th>IWM US Equity</th>\n",
       "      <th>SPXU US Equity</th>\n",
       "      <th>UPRO US Equity</th>\n",
       "      <th>R-square</th>\n",
       "      <th>std_errors</th>\n",
       "      <th>Tracking_error</th>\n",
       "      <th>Treynor Ratio</th>\n",
       "      <th>Information Ratio</th>\n",
       "    </tr>\n",
       "  </thead>\n",
       "  <tbody>\n",
       "    <tr>\n",
       "      <th>QAI US Equity</th>\n",
       "      <td>-0.000525</td>\n",
       "      <td>-0.006296</td>\n",
       "      <td>0.231451</td>\n",
       "      <td>0.565072</td>\n",
       "      <td>0.047792</td>\n",
       "      <td>0.032642</td>\n",
       "      <td>-0.020484</td>\n",
       "      <td>-0.000157</td>\n",
       "      <td>0.051074</td>\n",
       "      <td>-0.095099</td>\n",
       "      <td>0.841988</td>\n",
       "      <td>0.005739</td>\n",
       "      <td>0.019879</td>\n",
       "      <td>0.110836</td>\n",
       "      <td>-0.316726</td>\n",
       "    </tr>\n",
       "  </tbody>\n",
       "</table>\n",
       "</div>"
      ],
      "text/plain": [
       "                  Alpha  Alpha Adj  HDG US Equity  SPY US Equity  \\\n",
       "QAI US Equity -0.000525  -0.006296       0.231451       0.565072   \n",
       "\n",
       "               EEM US Equity  EFA US Equity  EUO US Equity  IWM US Equity  \\\n",
       "QAI US Equity       0.047792       0.032642      -0.020484      -0.000157   \n",
       "\n",
       "               SPXU US Equity  UPRO US Equity  R-square  std_errors  \\\n",
       "QAI US Equity        0.051074       -0.095099  0.841988    0.005739   \n",
       "\n",
       "               Tracking_error  Treynor Ratio  Information Ratio  \n",
       "QAI US Equity        0.019879       0.110836          -0.316726  "
      ]
     },
     "execution_count": 65,
     "metadata": {},
     "output_type": "execute_result"
    }
   ],
   "source": [
    "results"
   ]
  },
  {
   "cell_type": "code",
   "execution_count": 191,
   "id": "7435945c",
   "metadata": {},
   "outputs": [
    {
     "name": "stdout",
     "output_type": "stream",
     "text": [
      "Beta replication: \n"
     ]
    },
    {
     "data": {
      "text/html": [
       "<div>\n",
       "<style scoped>\n",
       "    .dataframe tbody tr th:only-of-type {\n",
       "        vertical-align: middle;\n",
       "    }\n",
       "\n",
       "    .dataframe tbody tr th {\n",
       "        vertical-align: top;\n",
       "    }\n",
       "\n",
       "    .dataframe thead th {\n",
       "        text-align: right;\n",
       "    }\n",
       "</style>\n",
       "<table border=\"1\" class=\"dataframe\">\n",
       "  <thead>\n",
       "    <tr style=\"text-align: right;\">\n",
       "      <th></th>\n",
       "      <th>const</th>\n",
       "      <th>HDG US Equity</th>\n",
       "      <th>SPY US Equity</th>\n",
       "      <th>EEM US Equity</th>\n",
       "      <th>EUO US Equity</th>\n",
       "      <th>SPXU US Equity</th>\n",
       "      <th>IWM US Equity</th>\n",
       "      <th>EFA US Equity</th>\n",
       "    </tr>\n",
       "  </thead>\n",
       "  <tbody>\n",
       "    <tr>\n",
       "      <th>0</th>\n",
       "      <td>-0.000038</td>\n",
       "      <td>0.256858</td>\n",
       "      <td>0.209397</td>\n",
       "      <td>0.045641</td>\n",
       "      <td>-0.022248</td>\n",
       "      <td>0.027051</td>\n",
       "      <td>-0.004894</td>\n",
       "      <td>0.028546</td>\n",
       "    </tr>\n",
       "  </tbody>\n",
       "</table>\n",
       "</div>"
      ],
      "text/plain": [
       "      const  HDG US Equity  SPY US Equity  EEM US Equity  EUO US Equity  \\\n",
       "0 -0.000038       0.256858       0.209397       0.045641      -0.022248   \n",
       "\n",
       "   SPXU US Equity  IWM US Equity  EFA US Equity  \n",
       "0        0.027051      -0.004894       0.028546  "
      ]
     },
     "execution_count": 191,
     "metadata": {},
     "output_type": "execute_result"
    }
   ],
   "source": [
    "print(\"Beta replication: \")\n",
    "beta"
   ]
  },
  {
   "cell_type": "code",
   "execution_count": 66,
   "id": "9915b5fa",
   "metadata": {},
   "outputs": [
    {
     "name": "stdout",
     "output_type": "stream",
     "text": [
      "Sum Absolite Beta replication: \n"
     ]
    },
    {
     "data": {
      "text/plain": [
       "0    0.605588\n",
       "dtype: float64"
      ]
     },
     "execution_count": 66,
     "metadata": {},
     "output_type": "execute_result"
    }
   ],
   "source": [
    "print(\"Sum Absolite Beta replication: \")\n",
    "np.abs(beta).sum(axis=1)"
   ]
  },
  {
   "cell_type": "code",
   "execution_count": 67,
   "id": "d076d4c0",
   "metadata": {},
   "outputs": [
    {
     "data": {
      "text/plain": [
       "QAI US Equity    1.043771\n",
       "dtype: float64"
      ]
     },
     "execution_count": 67,
     "metadata": {},
     "output_type": "execute_result"
    }
   ],
   "source": [
    "results[assets].abs().sum(axis=1)"
   ]
  },
  {
   "cell_type": "code",
   "execution_count": 193,
   "id": "84447ec9",
   "metadata": {},
   "outputs": [
    {
     "name": "stdout",
     "output_type": "stream",
     "text": [
      "Alpha: \n"
     ]
    },
    {
     "data": {
      "text/plain": [
       "QAI US Equity   -0.000452\n",
       "Name: Alpha Adj, dtype: float64"
      ]
     },
     "execution_count": 193,
     "metadata": {},
     "output_type": "execute_result"
    }
   ],
   "source": [
    "print(\"Alpha: \")\n",
    "metrics[\"Alpha Adj\"]"
   ]
  },
  {
   "cell_type": "code",
   "execution_count": 194,
   "id": "ba96a1f6",
   "metadata": {},
   "outputs": [
    {
     "name": "stdout",
     "output_type": "stream",
     "text": [
      "R-Squared: \n"
     ]
    },
    {
     "data": {
      "text/plain": [
       "0.840320194914061"
      ]
     },
     "execution_count": 194,
     "metadata": {},
     "output_type": "execute_result"
    }
   ],
   "source": [
    "print(\"R-Squared: \")\n",
    "\n",
    "metrics[\"R-square\"].values[0]"
   ]
  },
  {
   "cell_type": "code",
   "execution_count": 195,
   "id": "7badbaf9",
   "metadata": {},
   "outputs": [
    {
     "data": {
      "text/html": [
       "<div>\n",
       "<style scoped>\n",
       "    .dataframe tbody tr th:only-of-type {\n",
       "        vertical-align: middle;\n",
       "    }\n",
       "\n",
       "    .dataframe tbody tr th {\n",
       "        vertical-align: top;\n",
       "    }\n",
       "\n",
       "    .dataframe thead th {\n",
       "        text-align: right;\n",
       "    }\n",
       "</style>\n",
       "<table border=\"1\" class=\"dataframe\">\n",
       "  <thead>\n",
       "    <tr style=\"text-align: right;\">\n",
       "      <th></th>\n",
       "      <th>HDG US Equity</th>\n",
       "      <th>SPY US Equity</th>\n",
       "      <th>EEM US Equity</th>\n",
       "      <th>EUO US Equity</th>\n",
       "      <th>SPXU US Equity</th>\n",
       "      <th>IWM US Equity</th>\n",
       "      <th>EFA US Equity</th>\n",
       "    </tr>\n",
       "  </thead>\n",
       "  <tbody>\n",
       "    <tr>\n",
       "      <th>HDG US Equity</th>\n",
       "      <td>1.000000</td>\n",
       "      <td>0.873618</td>\n",
       "      <td>0.801281</td>\n",
       "      <td>-0.419163</td>\n",
       "      <td>-0.814764</td>\n",
       "      <td>0.894708</td>\n",
       "      <td>0.894867</td>\n",
       "    </tr>\n",
       "    <tr>\n",
       "      <th>SPY US Equity</th>\n",
       "      <td>0.873618</td>\n",
       "      <td>1.000000</td>\n",
       "      <td>0.708186</td>\n",
       "      <td>-0.381608</td>\n",
       "      <td>-0.955545</td>\n",
       "      <td>0.867994</td>\n",
       "      <td>0.865371</td>\n",
       "    </tr>\n",
       "    <tr>\n",
       "      <th>EEM US Equity</th>\n",
       "      <td>0.801281</td>\n",
       "      <td>0.708186</td>\n",
       "      <td>1.000000</td>\n",
       "      <td>-0.601403</td>\n",
       "      <td>-0.656500</td>\n",
       "      <td>0.661675</td>\n",
       "      <td>0.833854</td>\n",
       "    </tr>\n",
       "    <tr>\n",
       "      <th>EUO US Equity</th>\n",
       "      <td>-0.419163</td>\n",
       "      <td>-0.381608</td>\n",
       "      <td>-0.601403</td>\n",
       "      <td>1.000000</td>\n",
       "      <td>0.401212</td>\n",
       "      <td>-0.308918</td>\n",
       "      <td>-0.575282</td>\n",
       "    </tr>\n",
       "    <tr>\n",
       "      <th>SPXU US Equity</th>\n",
       "      <td>-0.814764</td>\n",
       "      <td>-0.955545</td>\n",
       "      <td>-0.656500</td>\n",
       "      <td>0.401212</td>\n",
       "      <td>1.000000</td>\n",
       "      <td>-0.805117</td>\n",
       "      <td>-0.812151</td>\n",
       "    </tr>\n",
       "    <tr>\n",
       "      <th>IWM US Equity</th>\n",
       "      <td>0.894708</td>\n",
       "      <td>0.867994</td>\n",
       "      <td>0.661675</td>\n",
       "      <td>-0.308918</td>\n",
       "      <td>-0.805117</td>\n",
       "      <td>1.000000</td>\n",
       "      <td>0.784217</td>\n",
       "    </tr>\n",
       "    <tr>\n",
       "      <th>EFA US Equity</th>\n",
       "      <td>0.894867</td>\n",
       "      <td>0.865371</td>\n",
       "      <td>0.833854</td>\n",
       "      <td>-0.575282</td>\n",
       "      <td>-0.812151</td>\n",
       "      <td>0.784217</td>\n",
       "      <td>1.000000</td>\n",
       "    </tr>\n",
       "  </tbody>\n",
       "</table>\n",
       "</div>"
      ],
      "text/plain": [
       "                HDG US Equity  SPY US Equity  EEM US Equity  EUO US Equity  \\\n",
       "HDG US Equity        1.000000       0.873618       0.801281      -0.419163   \n",
       "SPY US Equity        0.873618       1.000000       0.708186      -0.381608   \n",
       "EEM US Equity        0.801281       0.708186       1.000000      -0.601403   \n",
       "EUO US Equity       -0.419163      -0.381608      -0.601403       1.000000   \n",
       "SPXU US Equity      -0.814764      -0.955545      -0.656500       0.401212   \n",
       "IWM US Equity        0.894708       0.867994       0.661675      -0.308918   \n",
       "EFA US Equity        0.894867       0.865371       0.833854      -0.575282   \n",
       "\n",
       "                SPXU US Equity  IWM US Equity  EFA US Equity  \n",
       "HDG US Equity        -0.814764       0.894708       0.894867  \n",
       "SPY US Equity        -0.955545       0.867994       0.865371  \n",
       "EEM US Equity        -0.656500       0.661675       0.833854  \n",
       "EUO US Equity         0.401212      -0.308918      -0.575282  \n",
       "SPXU US Equity        1.000000      -0.805117      -0.812151  \n",
       "IWM US Equity        -0.805117       1.000000       0.784217  \n",
       "EFA US Equity        -0.812151       0.784217       1.000000  "
      ]
     },
     "execution_count": 195,
     "metadata": {},
     "output_type": "execute_result"
    }
   ],
   "source": [
    "proshares_excess_returns[assets].corr()"
   ]
  },
  {
   "cell_type": "markdown",
   "id": "e23fbaed-bfd0-4ba3-80b1-10282619aba9",
   "metadata": {},
   "source": [
    "### 6.\n",
    "\n",
    "Explain how good is your replication, pointing out at least one good or bad argument related to each of the statistics mentioned in the bullet points above (thus, you should have at least 4 arguments)."
   ]
  },
  {
   "cell_type": "markdown",
   "id": "11d155ce",
   "metadata": {},
   "source": [
    "*Answer:*\n",
    "\n",
    "* The R-squared is significant for replication, at almost 85%.\n",
    "* The betas are reasonable, all less than 1 in absolute value.\n",
    "* The sum of the absolute values of the betas is less than one, indicating that the replication portfolio is not costly.\n",
    "* However, the correlation between the assets is high in some cases, suggesting potential multicollinearity.\n",
    "\n",
    "Overall, the replication is reasonable based on the statistical parameters."
   ]
  },
  {
   "cell_type": "markdown",
   "id": "ecd7b8ee",
   "metadata": {},
   "source": [
    "***"
   ]
  },
  {
   "cell_type": "markdown",
   "id": "cb06f50c-cc60-4ee7-9828-bc6bff90c46d",
   "metadata": {},
   "source": [
    "# 4. "
   ]
  },
  {
   "cell_type": "markdown",
   "id": "4c6cde15-77e9-480a-ac34-0ae92694cdab",
   "metadata": {},
   "source": [
    "The data in sheet `fx carry excess returns` has **excess** daily returns for trading currencies.\n",
    "* You **do NOT need** to know anything about FX, currency, or the underlying strategies.\n",
    "* Rather, just take these return series as given.\n",
    "\n",
    "For the problems below, we will **only use** the `JPY` series."
   ]
  },
  {
   "cell_type": "code",
   "execution_count": 68,
   "id": "907548a8",
   "metadata": {},
   "outputs": [],
   "source": [
    "fx_carry_returns = pd.read_excel(filename,sheet_name=\"fx carry returns\",index_col=\"date\")"
   ]
  },
  {
   "cell_type": "markdown",
   "id": "b827c465-d9dd-4466-bbc7-946e3fce7029",
   "metadata": {},
   "source": [
    "### 1.\n",
    "\n",
    "Calculate the `1%` VaR as follows...\n",
    "\n",
    "Empirical VaR:\n",
    "* At every point in time, calculate the `1st` quantile of the returns up to that point.\n",
    "* No need to scale the answers.\n",
    "  \n",
    "Report the VaR for the final date of the sample."
   ]
  },
  {
   "cell_type": "code",
   "execution_count": 69,
   "id": "997a2515",
   "metadata": {},
   "outputs": [],
   "source": [
    "fx_carry_returns = fx_carry_returns[[\"JPY\"]]"
   ]
  },
  {
   "cell_type": "code",
   "execution_count": null,
   "id": "9d7420a9",
   "metadata": {},
   "outputs": [],
   "source": [
    "fx_carry_returns[\"Hist_VaR\"] = fx_carry_returns.shift().expanding(min_periods = 60).quantile(.01)[\"JPY\"]"
   ]
  },
  {
   "cell_type": "code",
   "execution_count": 40,
   "id": "ee9b8d3e",
   "metadata": {},
   "outputs": [
    {
     "data": {
      "text/plain": [
       "date\n",
       "2024-08-05   -0.017178\n",
       "Name: Hist_VaR, dtype: float64"
      ]
     },
     "execution_count": 40,
     "metadata": {},
     "output_type": "execute_result"
    }
   ],
   "source": [
    "fx_carry_returns[\"Hist_VaR\"].dropna().tail(1)"
   ]
  },
  {
   "cell_type": "code",
   "execution_count": 44,
   "id": "c01d2776",
   "metadata": {},
   "outputs": [
    {
     "data": {
      "text/plain": [
       "<Axes: title={'center': 'Empirical VaR of JPY'}, xlabel='date'>"
      ]
     },
     "execution_count": 44,
     "metadata": {},
     "output_type": "execute_result"
    },
    {
     "data": {
      "image/png": "[encoded data removed]",
      "text/plain": [
       "<Figure size 640x480 with 1 Axes>"
      ]
     },
     "metadata": {},
     "output_type": "display_data"
    }
   ],
   "source": [
    "fx_carry_returns[\"Hist_VaR\"].plot(title=\"Empirical VaR of JPY\")"
   ]
  },
  {
   "cell_type": "markdown",
   "id": "f973bfcf-8d52-4465-8513-f393b85393c4",
   "metadata": {},
   "source": [
    "### 2.\n",
    "\n",
    "Now calculate the `normal VaR` of `JPY` as follows,\n",
    "\n",
    "$$\\text{Normal VaR (1\\%)} = -2.33\\, \\sigma_t$$\n",
    "\n",
    "where $\\sigma_t$ is estimated with\n",
    "* rolling volatility.\n",
    "* using a window of `233` days.\n",
    "* without using a sample mean.\n",
    "\n",
    "Report the VaR for the final `3 days` of the sample."
   ]
  },
  {
   "cell_type": "code",
   "execution_count": 45,
   "id": "330ab713",
   "metadata": {},
   "outputs": [
    {
     "data": {
      "image/png": "[encoded data removed]",
      "text/plain": [
       "<Figure size 640x480 with 1 Axes>"
      ]
     },
     "metadata": {},
     "output_type": "display_data"
    }
   ],
   "source": [
    "fx_carry_returns[\"Rolling_Vol\"] = np.sqrt((fx_carry_returns.shift()[\"JPY\"]**2).rolling(233).mean())\n",
    "fx_carry_returns[\"Rolling_Vol\"].plot(title=\"Rolling Window Volatility (233 days)\")\n",
    "fx_carry_returns[\"Normal_VaR_Rolling_Vol\"] = fx_carry_returns[\"Rolling_Vol\"]*(-2.33)"
   ]
  },
  {
   "cell_type": "code",
   "execution_count": 46,
   "id": "0296d258",
   "metadata": {},
   "outputs": [
    {
     "data": {
      "text/plain": [
       "<Axes: title={'center': 'Normal VaR with Rolling Volatility'}, xlabel='date'>"
      ]
     },
     "execution_count": 46,
     "metadata": {},
     "output_type": "execute_result"
    },
    {
     "data": {
      "image/png": "[encoded data removed]",
      "text/plain": [
       "<Figure size 640x480 with 1 Axes>"
      ]
     },
     "metadata": {},
     "output_type": "display_data"
    }
   ],
   "source": [
    "fx_carry_returns[\"Normal_VaR_Rolling_Vol\"].plot(title=\"Normal VaR with Rolling Volatility\") "
   ]
  },
  {
   "cell_type": "code",
   "execution_count": 47,
   "id": "20316ab0",
   "metadata": {},
   "outputs": [
    {
     "data": {
      "text/plain": [
       "date\n",
       "2024-08-01   -0.013350\n",
       "2024-08-02   -0.013359\n",
       "2024-08-05   -0.013631\n",
       "Name: Normal_VaR_Rolling_Vol, dtype: float64"
      ]
     },
     "execution_count": 47,
     "metadata": {},
     "output_type": "execute_result"
    }
   ],
   "source": [
    "fx_carry_returns[\"Normal_VaR_Rolling_Vol\"].tail(3)"
   ]
  },
  {
   "cell_type": "markdown",
   "id": "98805080-a0db-48bd-ab7a-34574b8ace75",
   "metadata": {},
   "source": [
    "### 3.\n",
    "\n",
    "Now calculate the `normal VaR` of `JPY` as follows,\n",
    "\n",
    "$$\\text{Normal VaR (1\\%)} = -2.33\\, \\sigma_t$$\n",
    "\n",
    "where $\\sigma_t$ is estimated with\n",
    "* EWMA volatility\n",
    "* using $\\lambda = 0.94$.\n",
    "* without using a sample mean.\n",
    "\n",
    "Report the VaR for the final `3 days` of the sample."
   ]
  },
  {
   "cell_type": "code",
   "execution_count": 48,
   "id": "016700c3",
   "metadata": {},
   "outputs": [
    {
     "data": {
      "image/png": "[encoded data removed]",
      "text/plain": [
       "<Figure size 640x480 with 1 Axes>"
      ]
     },
     "metadata": {},
     "output_type": "display_data"
    }
   ],
   "source": [
    "def ewma(returns, theta = 0.94, sigma_zero = 0.2/np.sqrt(252)):\n",
    "    ewma_var = [sigma_zero**2]\n",
    "    for i in range(len(returns)):\n",
    "        var = ewma_var[-1]*theta + (returns.iloc[i]**2)*(1-theta)\n",
    "        ewma_var.append(var)\n",
    "    ewma_var = np.sqrt(ewma_var[1:])\n",
    "    return ewma_var\n",
    "fx_carry_returns[\"EWMA_Vol\"] = ewma(fx_carry_returns[\"JPY\"])\n",
    "fx_carry_returns[\"EWMA_Vol\"].plot(title=\"Exponentially Weighted Moving Average (EWMA) Volatility\")\n",
    "fx_carry_returns[\"Normal_VaR_EWMA_Vol\"] = fx_carry_returns[\"EWMA_Vol\"].shift()*(-2.33)"
   ]
  },
  {
   "cell_type": "code",
   "execution_count": 49,
   "id": "941abc2e",
   "metadata": {},
   "outputs": [
    {
     "data": {
      "text/plain": [
       "date\n",
       "2024-08-01   -0.017824\n",
       "2024-08-02   -0.017430\n",
       "2024-08-05   -0.020140\n",
       "Name: Normal_VaR_EWMA_Vol, dtype: float64"
      ]
     },
     "execution_count": 49,
     "metadata": {},
     "output_type": "execute_result"
    }
   ],
   "source": [
    "fx_carry_returns[\"Normal_VaR_EWMA_Vol\"].tail(3)"
   ]
  },
  {
   "cell_type": "markdown",
   "id": "1778a4f4-0382-4b27-a4bd-5b980fee9f82",
   "metadata": {},
   "source": [
    "### 4.\n",
    "\n",
    "Make a plot of the three timeseries of your VaR estimates.\n",
    "\n",
    "Succinctly point out the pros / cons of these approaches."
   ]
  },
  {
   "cell_type": "code",
   "execution_count": 50,
   "id": "f6628ef7",
   "metadata": {},
   "outputs": [
    {
     "data": {
      "text/plain": [
       "<Axes: xlabel='date'>"
      ]
     },
     "execution_count": 50,
     "metadata": {},
     "output_type": "execute_result"
    },
    {
     "data": {
      "image/png": "[encoded data removed]",
      "text/plain": [
       "<Figure size 640x480 with 1 Axes>"
      ]
     },
     "metadata": {},
     "output_type": "display_data"
    }
   ],
   "source": [
    "fx_carry_returns[['Hist_VaR',\"Normal_VaR_Rolling_Vol\",\"Normal_VaR_EWMA_Vol\"]].plot()"
   ]
  },
  {
   "cell_type": "markdown",
   "id": "31e9d20e",
   "metadata": {},
   "source": [
    "* The Historical VaR requires a larger sample size to produce robust results. With a confidence level of q = 1%, more data is needed than in the homework exercises to avoid direct interpolation. However, the empirical method is easy to calculate and does not make any assumptions about the distribution of returns.\n",
    "* In contrast, other methods (parametric) work properly with less data because they only use volatility to estimate VaR. These methods assume a normal distribution, which is not always accurate. The Rolling Volatility method loses past information, giving more weight to recent dates. The EWMA Volatility method assigns weights to both past and recent data, with a parameter of 0.94 giving more importance to the most recent data."
   ]
  },
  {
   "cell_type": "markdown",
   "id": "766661e3-af58-4918-ba7e-e9aba15333da",
   "metadata": {},
   "source": [
    "### 5.\n",
    "\n",
    "What statistic do we use to judge the performance of a VaR model?\n",
    "\n",
    "Estimate and report this statistic across the VaR methods.\n",
    "\n",
    "Which VaR model do you find is best?"
   ]
  },
  {
   "cell_type": "code",
   "execution_count": 51,
   "id": "84b22435",
   "metadata": {},
   "outputs": [],
   "source": [
    "Hit_Ratio_Hist_VaR = fx_carry_returns.loc[fx_carry_returns[\"JPY\"] < fx_carry_returns[\"Hist_VaR\"],\"JPY\"].count()/len(fx_carry_returns[\"Hist_VaR\"].dropna())\n",
    "Hit_Ratio_Normal_VaR_Rolling_Vol = fx_carry_returns.loc[fx_carry_returns[\"JPY\"] < fx_carry_returns[\"Normal_VaR_Rolling_Vol\"],\"JPY\"].count()/len(fx_carry_returns[\"Normal_VaR_Rolling_Vol\"].dropna())\n",
    "Hit_Ratio_Normal_VaR_EWMA_Vol = fx_carry_returns.loc[fx_carry_returns[\"JPY\"] < fx_carry_returns[\"Normal_VaR_EWMA_Vol\"],\"JPY\"].count()/len(fx_carry_returns[\"Normal_VaR_EWMA_Vol\"].dropna())\n"
   ]
  },
  {
   "cell_type": "code",
   "execution_count": 52,
   "id": "d8c2db94",
   "metadata": {},
   "outputs": [
    {
     "name": "stdout",
     "output_type": "stream",
     "text": [
      "Hit Ratio of Historical VaR:  0.022988505747126436\n",
      "Hit Ratio Error of Historical VaR:  1.2988505747126435\n"
     ]
    }
   ],
   "source": [
    "print(\"Hit Ratio of Historical VaR: \", Hit_Ratio_Hist_VaR)\n",
    "print(\"Hit Ratio Error of Historical VaR: \", abs(Hit_Ratio_Hist_VaR/0.01 - 1))"
   ]
  },
  {
   "cell_type": "code",
   "execution_count": 53,
   "id": "0c94b403",
   "metadata": {},
   "outputs": [
    {
     "name": "stdout",
     "output_type": "stream",
     "text": [
      "Hit Ratio of Rolling VaR:  0.025186567164179104\n",
      "Hit Ratio Error of Rolling VaR:  1.5186567164179103\n"
     ]
    }
   ],
   "source": [
    "print(\"Hit Ratio of Rolling VaR: \", Hit_Ratio_Normal_VaR_Rolling_Vol)\n",
    "print(\"Hit Ratio Error of Rolling VaR: \", abs(Hit_Ratio_Normal_VaR_Rolling_Vol/0.01 - 1))"
   ]
  },
  {
   "cell_type": "code",
   "execution_count": 54,
   "id": "821f82b1",
   "metadata": {},
   "outputs": [
    {
     "name": "stdout",
     "output_type": "stream",
     "text": [
      "Hit Ratio of EWMA Vol VaR:  0.019938650306748466\n",
      "Hit Ratio Error of EWMA Vol VaR:  0.9938650306748464\n"
     ]
    }
   ],
   "source": [
    "print(\"Hit Ratio of EWMA Vol VaR: \", Hit_Ratio_Normal_VaR_EWMA_Vol)\n",
    "print(\"Hit Ratio Error of EWMA Vol VaR: \", abs(Hit_Ratio_Normal_VaR_EWMA_Vol/0.01 - 1))"
   ]
  },
  {
   "cell_type": "markdown",
   "id": "0a0da286",
   "metadata": {},
   "source": [
    "We can see that the empirical VaR and the Rolling VaR underestimate the real VaR, with a Hit Ratio Error of 1.5. On the other hand, the EWMA Volatility VaR showed the best result, with a Hit Ratio Error of 0.14. Therefore, in this case, it is better to use a parametric VaR with an EWMA Volatility model."
   ]
  },
  {
   "cell_type": "markdown",
   "id": "cff0e17f-9126-4f11-99c0-fa9796143021",
   "metadata": {},
   "source": [
    "***"
   ]
  }
 ],
 "metadata": {
  "hide_input": false,
  "kernelspec": {
   "display_name": "base",
   "language": "python",
   "name": "python3"
  },
  "language_info": {
   "codemirror_mode": {
    "name": "ipython",
    "version": 3
   },
   "file_extension": ".py",
   "mimetype": "text/x-python",
   "name": "python",
   "nbconvert_exporter": "python",
   "pygments_lexer": "ipython3",
   "version": "3.12.4"
  }
 },
 "nbformat": 4,
 "nbformat_minor": 5
}

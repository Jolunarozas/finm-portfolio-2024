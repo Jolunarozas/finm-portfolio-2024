{
 "cells": [
  {
   "cell_type": "markdown",
   "id": "559895d2",
   "metadata": {},
   "source": [
    "# Final Exam - Open\n",
    "\n",
    "## FINM 36700 - 2024\n",
    "\n",
    "### UChicago Financial Mathematics\n",
    "\n",
    "* Mark Hendricks\n",
    "* hendricks@uchicago.edu"
   ]
  },
  {
   "cell_type": "markdown",
   "id": "fd68dc12",
   "metadata": {},
   "source": [
    "* Name: Jose Luna \n",
    "* Disclaimer: I used my own code and also utilized GPT for syntax and editing corrections."
   ]
  },
  {
   "cell_type": "markdown",
   "id": "9e0a3816-d8c0-4317-8a45-7047edf45f11",
   "metadata": {},
   "source": [
    "***"
   ]
  },
  {
   "cell_type": "markdown",
   "id": "01cde8d3",
   "metadata": {},
   "source": [
    "# Instructions"
   ]
  },
  {
   "cell_type": "markdown",
   "id": "cc273c1a",
   "metadata": {},
   "source": [
    "## Please note the following:\n",
    "\n",
    "Points\n",
    "* The exam is `85` points.\n",
    "* You have `85` minutes to complete the exam.\n",
    "* For every minute late you submit the exam, you will lose one point.\n",
    "\n",
    "\n",
    "Submission\n",
    "* You will upload your solution to the `Final - Open` assignment on Canvas, where you downloaded this. \n",
    "* Be sure to **submit** on Canvas, not just **save** on Canvas.\n",
    "* Your submission should be readable, (the graders can understand your answers.)\n",
    "* Your submission should **include all code used in your analysis in a file format that the code can be executed.** \n",
    "\n",
    "Rules\n",
    "* The exam is open-material, closed-communication.\n",
    "* You do not need to cite material from the course github repo - you are welcome to use the code posted there without citation.\n",
    "\n",
    "Advice\n",
    "* If you find any question to be unclear, state your interpretation and proceed. We will only answer questions of interpretation if there is a typo, error, etc.\n",
    "* The exam will be graded for partial credit."
   ]
  },
  {
   "cell_type": "markdown",
   "id": "624f27b1",
   "metadata": {},
   "source": [
    "## Data\n",
    "\n",
    "**All data files are found in the class github repo, in the `data` folder.**\n",
    "\n",
    "- For Section 1:\n",
    "    * `data/final_exam_data.xlsx`\n",
    "- for Section 2:\n",
    "    * `data/fx_rf_data.xlsx`"
   ]
  },
  {
   "cell_type": "markdown",
   "id": "ebf6e066",
   "metadata": {},
   "source": [
    "## Scoring\n",
    "\n",
    "| Problem | Points |\n",
    "|---------|--------|\n",
    "| 1       | 40     |\n",
    "| 2       | 45     |"
   ]
  },
  {
   "cell_type": "markdown",
   "id": "7fb2fc26",
   "metadata": {},
   "source": [
    "### Each numbered question is worth 5 points unless otherwise specified."
   ]
  },
  {
   "cell_type": "markdown",
   "id": "632ce7d4",
   "metadata": {},
   "source": [
    "***"
   ]
  },
  {
   "cell_type": "code",
   "execution_count": 1,
   "id": "9853d13d",
   "metadata": {},
   "outputs": [],
   "source": [
    "import pandas as pd\n",
    "import numpy as np\n",
    "import seaborn as sns\n",
    "from scipy.stats import skew,kurtosis,norm\n",
    "import statsmodels.api as sm"
   ]
  },
  {
   "cell_type": "code",
   "execution_count": 2,
   "id": "29fa5dbe",
   "metadata": {},
   "outputs": [],
   "source": [
    "path = \"../data/final_exam_data.xlsx\"\n",
    "Asset_Returns = pd.read_excel(path, sheet_name=\"Asset Returns\", index_col=0)\n",
    "Factor_Returns = pd.read_excel(path, sheet_name=\"Factor Returns\", index_col=0)\n",
    "Asset_Betas = pd.read_excel(path, sheet_name=\"Asset Betas\", index_col=0)"
   ]
  },
  {
   "cell_type": "code",
   "execution_count": null,
   "id": "f6386045",
   "metadata": {},
   "outputs": [],
   "source": [
    "def get_metric_returns(returns, weights=[], adj_factor=12, VaR_q=5):\n",
    "\n",
    "\n",
    "    if len(weights) == 0:\n",
    "        port_metrics = returns.copy()\n",
    "    else:\n",
    "        port_metrics = returns @ weights\n",
    "        port_metrics = pd.DataFrame(port_metrics, columns=['Portfolio'])\n",
    "\n",
    "    result = pd.DataFrame()\n",
    "\n",
    "    if len(weights) == 0:\n",
    "        port_metrics_r = pd.DataFrame({\n",
    "            \"Mean\": port_metrics.mean() * adj_factor,\n",
    "            \"Volatility\": port_metrics.std() * np.sqrt(adj_factor)\n",
    "        })\n",
    "        port_metrics_r[\"Sharpe_Ratio\"] = (port_metrics.mean() / port_metrics.std()) * np.sqrt(adj_factor)\n",
    "        port_metrics_r[\"Skew\"] = port_metrics.apply(skew)\n",
    "        port_metrics_r[\"Excess Kurtosis\"] = port_metrics.apply(kurtosis, fisher=True, bias=False)\n",
    "    else:\n",
    "        asset = 'Portfolio'\n",
    "        port_metrics_r = pd.DataFrame({\n",
    "            \"Mean\": [port_metrics[asset].mean() * adj_factor],\n",
    "            \"Volatility\": [port_metrics[asset].std() * np.sqrt(adj_factor)]\n",
    "        }, index=[asset])\n",
    "        port_metrics_r[\"Sharpe_Ratio\"] = (port_metrics[asset].mean() / port_metrics[asset].std()) * np.sqrt(adj_factor)\n",
    "        port_metrics_r[\"Skew\"] = skew(port_metrics[asset])\n",
    "        port_metrics_r[\"Excess Kurtosis\"] = kurtosis(port_metrics[asset], fisher=True, bias=False)\n",
    "\n",
    "    for asset in port_metrics.columns:\n",
    "        data_aux = port_metrics[[asset]].copy()\n",
    "        VaR = np.percentile(sorted(data_aux.values.flatten()), q=VaR_q)\n",
    "        CVaR = data_aux[data_aux[asset] <= VaR].mean().values[0]\n",
    "\n",
    "        data_aux_acum_return = (data_aux + 1).cumprod()\n",
    "        data_aux_max_cum_return = data_aux_acum_return.cummax()\n",
    "        data_aux_drawdown = ((data_aux_acum_return - data_aux_max_cum_return) / data_aux_max_cum_return)\n",
    "        max_drawdown = data_aux_drawdown.min().values[0]\n",
    "        max_drawdown_date = data_aux_drawdown.idxmin().values[0]\n",
    "        peak_idx = data_aux_max_cum_return.idxmax().values[0]\n",
    "        recovery_data = data_aux_drawdown[data_aux_drawdown.index >= max_drawdown_date]\n",
    "        recovery_idx = recovery_data[recovery_data[asset] >= -0.00001].first_valid_index()\n",
    "        duration = (recovery_idx - max_drawdown_date).days if recovery_idx else np.nan\n",
    "\n",
    "        aux_result = pd.DataFrame(\n",
    "            [[VaR, CVaR, max_drawdown, max_drawdown_date, peak_idx, recovery_idx, duration]],\n",
    "            columns=[\"VaR\", \"CVaR\", \"Max Drawdown\", \"Bottom\", \"Peak\", \"Recovery\", \"Duration (days)\"],\n",
    "            index=[asset]\n",
    "        )\n",
    "        result = pd.concat([result, aux_result], axis=0)\n",
    "\n",
    "    metrics = pd.merge(port_metrics_r, result, left_index=True, right_index=True, how=\"left\")\n",
    "    return metrics"
   ]
  },
  {
   "cell_type": "markdown",
   "id": "9a676293-3a91-4162-823e-4afb44c164e2",
   "metadata": {
    "vscode": {
     "languageId": "plaintext"
    }
   },
   "source": [
    "# 1. Cross-Sectional Factor Pricing\n",
    "\n",
    "Use the data found in the file `final_data.xlsx`. The sheet named `Asset Returns` contains daily excess returns data for various assets; the sheet named `Factor Returns` contains daily excess returns data for some unknown factor; and the sheet named `Asset Betas` contains the betas of each asset with respect to the given factor.\n",
    "\n",
    "Consider the data to have an annualization factor of `252` days per year.\n",
    "\n",
    "### 1.\n",
    "(10pts)\n",
    "\n",
    "Using linear regression, estimate the factor risk premium for __each point in time__, using the following model: $\\phantom{Brian Hood}$ \n",
    "\n",
    "$$\n",
    "\\tilde{r}^{(i)}_t = \\beta^{(i)}\\lambda_t + \\epsilon^{(i)}_t\n",
    "$$\n",
    "\n",
    "Using your estimated series $\\lambda_t$, report...\n",
    "\n",
    "* the last 3 values. \n",
    "\n",
    "* the annualized mean.\n",
    "\n",
    "* the annualized vol."
   ]
  },
  {
   "cell_type": "code",
   "execution_count": 50,
   "id": "6cd750b4",
   "metadata": {},
   "outputs": [],
   "source": [
    "betas = Asset_Betas.squeeze() \n",
    "betas_array = betas.values.reshape(-1, 1)\n",
    "\n",
    "lambda_estimates = []\n",
    "\n",
    "for date in Asset_Returns.index:\n",
    "    r_t = Asset_Returns.loc[date].values\n",
    "    model = sm.OLS(r_t, betas_array).fit()\n",
    "    \n",
    "    lambda_t = model.params[0]\n",
    "    lambda_estimates.append(lambda_t)\n",
    "\n",
    "lambda_t_series = pd.Series(lambda_estimates, index=Asset_Returns.index, name='lambda_t')"
   ]
  },
  {
   "cell_type": "code",
   "execution_count": 49,
   "id": "efeabd86",
   "metadata": {},
   "outputs": [
    {
     "name": "stdout",
     "output_type": "stream",
     "text": [
      "Last 3 values of lambda_t:\n",
      " Date\n",
      "2024-11-06    0.022971\n",
      "2024-11-07    0.001064\n",
      "2024-11-08    0.001768\n",
      "Name: lambda_t, dtype: float64\n"
     ]
    }
   ],
   "source": [
    "print(\"Last 3 values of lambda_t:\\n\", lambda_t_series.tail(3))\n"
   ]
  },
  {
   "cell_type": "code",
   "execution_count": 51,
   "id": "4f7420e2",
   "metadata": {},
   "outputs": [
    {
     "name": "stdout",
     "output_type": "stream",
     "text": [
      "Annualized Mean of λ_t: 0.1754874142533425\n",
      "Annualized Volatility of λ_t: 0.11688953313031768\n"
     ]
    }
   ],
   "source": [
    "annual_factor = 252\n",
    "annual_mean = lambda_t_series.mean() * annual_factor\n",
    "print(\"Annualized Mean of λ_t:\", annual_mean)\n",
    "\n",
    "# Annualized volatility\n",
    "annual_vol = lambda_t_series.std() * np.sqrt(annual_factor)\n",
    "print(\"Annualized Volatility of λ_t:\", annual_vol)"
   ]
  },
  {
   "cell_type": "markdown",
   "id": "be8b8543-cf9f-4aa6-b703-7af7a9dc6872",
   "metadata": {
    "vscode": {
     "languageId": "plaintext"
    }
   },
   "source": [
    "### 2.\n",
    "\n",
    "(10pts)\n",
    "\n",
    "Compare $\\lambda_t$ to the realized factor returns, $\\tilde{f}_t$.\n",
    "\n",
    "* Plot the cumulative (excess) returns of $\\lambda_t$ and $\\tilde{f}_t$.\n",
    "* Report the correlation between these two series.\n",
    "* Report the serial correlation of each series.\n",
    "\n",
    "Should we expect the serial correlation of $\\tilde{f}$ to be near zero? What about $\\lambda_t$?"
   ]
  },
  {
   "cell_type": "code",
   "execution_count": 61,
   "id": "b655252a",
   "metadata": {},
   "outputs": [
    {
     "data": {
      "image/png": "[encoded data removed]",
      "text/plain": [
       "<Figure size 1000x600 with 1 Axes>"
      ]
     },
     "metadata": {},
     "output_type": "display_data"
    }
   ],
   "source": [
    "import matplotlib.pyplot as plt\n",
    "\n",
    "f = Factor_Returns.squeeze().rename(\"f\")\n",
    "\n",
    "cum_lambda = (1 + lambda_t_series).cumprod()\n",
    "cum_f = (1 + f).cumprod()\n",
    "\n",
    "plt.figure(figsize=(10,6))\n",
    "cum_lambda.plot(label='Cumulative Lambda_t')\n",
    "cum_f.plot(label='Cumulative f_t')\n",
    "plt.title(\"Cumulative Returns of λ_t and f_t\")\n",
    "plt.legend()\n",
    "plt.show()"
   ]
  },
  {
   "cell_type": "code",
   "execution_count": 62,
   "id": "dd7050ab",
   "metadata": {},
   "outputs": [
    {
     "name": "stdout",
     "output_type": "stream",
     "text": [
      "Correlation between lambda_t and f_t: 0.9851319641635841\n"
     ]
    }
   ],
   "source": [
    "corr = lambda_t_series.corr(f)\n",
    "print(\"Correlation between lambda_t and f_t:\", corr)"
   ]
  },
  {
   "cell_type": "code",
   "execution_count": 63,
   "id": "6dcf649f",
   "metadata": {},
   "outputs": [
    {
     "name": "stdout",
     "output_type": "stream",
     "text": [
      "Serial correlation of lambda_t: 0.0015639909104252525\n",
      "Serial correlation of f_t: 0.018437949835348768\n"
     ]
    }
   ],
   "source": [
    "lambda_acorr = lambda_t_series.autocorr(lag=1)\n",
    "f_acorr = f.autocorr(lag=1)\n",
    "\n",
    "print(\"Serial correlation of lambda_t:\", lambda_acorr)\n",
    "print(\"Serial correlation of f_t:\", f_acorr)"
   ]
  },
  {
   "cell_type": "markdown",
   "id": "e9423b98",
   "metadata": {},
   "source": [
    "*Answer* : \n",
    "\n",
    "We should expect that the serial correlation should be close to zero if the factor was constructed was FF factors or just like an market factor (returns), usually returns of assets/factor don't have a autocorrelation\n",
    "\n",
    "On the other hand, for lambda t, if it is capable to replicate the factor should have a low autocorrelation, as we can see in the results, but in general if we construct from a cross-sectiona regression, it might not necessarily expect zero "
   ]
  },
  {
   "cell_type": "markdown",
   "id": "dea9adfd-c561-4210-9846-9ae679fdb277",
   "metadata": {
    "vscode": {
     "languageId": "plaintext"
    }
   },
   "source": [
    "### 3.\n",
    "\n",
    "We estimated our factor premium in a regression that excluded an intercept term. Why might we have done this? In what circumstance would we prefer to include an intercept term?"
   ]
  },
  {
   "cell_type": "markdown",
   "id": "2fb30dc1",
   "metadata": {},
   "source": [
    "*Anwer* : \n",
    "\n",
    "The reason is that we're trying to extract the factor risk premium, lambda t, directly from the cross-section of returns using known betas. Including an intercept would absorb a common level effect across all assets, potentially biasing the estimate of lambda t.\n",
    "  \n",
    "We prefer to include an intercept when testing the model specification (e.g., to check if the pricing is accurate or if there is an abnormal return not explained by the factor). In theory, a perfect factor model does not require an intercept because alpha should be zero, and the expected value of the error should also be zero."
   ]
  },
  {
   "cell_type": "markdown",
   "id": "8b21d34d-296c-4c05-ae54-6aefb6863531",
   "metadata": {
    "vscode": {
     "languageId": "plaintext"
    }
   },
   "source": [
    "### 4.\n",
    "\n",
    "(10pts)\n",
    "\n",
    "Now, use the actual factor returns, $\\tilde{f}_t$ to analyze the fit of this pricing model using a __single__ cross-sectional regression to estimate  $\\phantom{Brian Hood}$\n",
    "\n",
    "$$\n",
    "E[r^{(i)}] = \\eta + \\beta^{(i)} E[\\tilde{f}] + \\epsilon^{(i)}\n",
    "$$\n",
    "\n",
    "How well does this factor work for pricing? Provide supporting evidence for your answer."
   ]
  },
  {
   "cell_type": "code",
   "execution_count": 72,
   "id": "80539ac0",
   "metadata": {},
   "outputs": [
    {
     "name": "stdout",
     "output_type": "stream",
     "text": [
      "Summary of the regression model:\n",
      "Intercept eta (annualized) 0.20010744342990833\n",
      "Beta 0.011084283974322555\n",
      "R-squared 0.00030916453633444974\n",
      "Annualized Mean of the factor return: 0.21119172740423076\n"
     ]
    }
   ],
   "source": [
    "mean_asset_returns = Asset_Returns.mean(axis=0) * annual_factor\n",
    "\n",
    "mean_factor_return = f.mean() * annual_factor\n",
    "\n",
    "X = sm.add_constant(Asset_Betas.values) \n",
    "y = mean_asset_returns.values           \n",
    "\n",
    "model = sm.OLS(y, X).fit()\n",
    "print(\"Summary of the regression model:\")\n",
    "print(\"Intercept eta (annualized)\", model.params[0])\n",
    "print(\"Beta\", model.params[1])\n",
    "print(\"R-squared\", model.rsquared)\n",
    "\n",
    "print(\"Annualized Mean of the factor return:\", mean_factor_return)"
   ]
  },
  {
   "cell_type": "markdown",
   "id": "00c03aca",
   "metadata": {},
   "source": [
    "*Answer:*\n",
    "\n",
    "Given that we are estimating a cross-sectional regresion, we expect a high  R-Squared and a (close) zero intercept, in this case the R-Square is very low 0.000309 and the instercept (Eta) is high (0.20), indicading this factors performances bad "
   ]
  },
  {
   "cell_type": "markdown",
   "id": "7191a92c-6f82-46a5-b1df-23a2c4ff8b59",
   "metadata": {},
   "source": [
    "### 5.\n",
    "\n",
    "The factor we've used, $\\tilde{f}$ is actually the **equally**-weighted portfolio of equities. Suppose the CAPM holds exactly, with the **value**-weighted market equity portfolio. In that case, what would we expect, theoretically, from the previous section?"
   ]
  },
  {
   "cell_type": "markdown",
   "id": "74ab3790",
   "metadata": {},
   "source": [
    "*Answer* :\n",
    "\n",
    "If the CAPM holds exactly with the value-weighted market portfolio, then using an equally-weighted portfolio as the factor  should not, in theory, perfectly price assets in a cross-sectional regression. The equally-weighted portfolio is not the true market factor as per CAPM theory.\n",
    "Now if CAPM holds with value weighted the cross sectional regression should have zero intercept, high R-Squared and the slope should be the market premium \n",
    "Since we are using an equally-weighted factor and the CAPM assumes the value-weighted market portfolio, we should not be surprised if the pricing model doesn't work perfectly."
   ]
  },
  {
   "cell_type": "markdown",
   "id": "0a8eda25",
   "metadata": {},
   "source": [
    "***"
   ]
  },
  {
   "cell_type": "code",
   "execution_count": 16,
   "id": "7e71ff2a",
   "metadata": {},
   "outputs": [],
   "source": [
    "path = \"../data/fx_rf_data.xlsx\"\n",
    "risk_free_rate = pd.read_excel(path, sheet_name=\"risk-free rates\", index_col=0)\n",
    "exchange_rate = pd.read_excel(path, sheet_name=\"exchange rates\", index_col=0)"
   ]
  },
  {
   "cell_type": "markdown",
   "id": "51ff849e",
   "metadata": {
    "vscode": {
     "languageId": "plaintext"
    }
   },
   "source": [
    "# 2. Currency Trades\n",
    "\n",
    "For this question, use the data set from `data/fx_rf_data.xlsx`."
   ]
  },
  {
   "cell_type": "markdown",
   "id": "0c366b80-4382-48eb-b626-7b498675ade9",
   "metadata": {},
   "source": [
    "Calculate the **arithmetic** (not log) excess return to holding each foreign currency.\n",
    "\n",
    "Data Note:\n",
    "* Consider the risk-free rate data as being quoted as an annualized value, where this annualization is a scaling of `252`.\n",
    "\n",
    "Throughout this problem, we only consider returns generated between `Jan 2018` and `Aug 2024`."
   ]
  },
  {
   "cell_type": "code",
   "execution_count": 17,
   "id": "eb58450b",
   "metadata": {},
   "outputs": [
    {
     "name": "stderr",
     "output_type": "stream",
     "text": [
      "C:\\Users\\josel\\AppData\\Local\\Temp\\ipykernel_5156\\648887069.py:5: FutureWarning: The default fill_method='pad' in DataFrame.pct_change is deprecated and will be removed in a future version. Either fill in any non-leading NA values prior to calling pct_change or specify 'fill_method=None' to not fill NA values.\n",
      "  exchange_rate_returns = exchange_rate.pct_change().dropna()\n"
     ]
    }
   ],
   "source": [
    "risk_free_rate = risk_free_rate[(risk_free_rate.index >= \"2018-01-01\")&(risk_free_rate.index <= \"2024-08-31\")]\n",
    "exchange_rate = exchange_rate[(exchange_rate.index >= \"2018-01-01\")&(exchange_rate.index <= \"2024-08-31\")]\n",
    "risk_free_rate = risk_free_rate/252\n",
    "\n",
    "exchange_rate_returns = exchange_rate.pct_change().dropna()"
   ]
  },
  {
   "cell_type": "code",
   "execution_count": 18,
   "id": "0df35ace",
   "metadata": {},
   "outputs": [],
   "source": [
    "for currency in exchange_rate.columns:\n",
    "    exchange_rate_returns[currency+\"_excess_return\"] = (1 + risk_free_rate[currency])*(1 + exchange_rate_returns[currency]) - (1 + risk_free_rate[\"USD\"])"
   ]
  },
  {
   "cell_type": "markdown",
   "id": "9ae32f03-33ab-4b4d-ba58-9818a5cd6efc",
   "metadata": {},
   "source": [
    "### 1.\n",
    "\n",
    "Report the first and final three values of each of these excess return series."
   ]
  },
  {
   "cell_type": "code",
   "execution_count": 20,
   "id": "7ead6deb",
   "metadata": {},
   "outputs": [],
   "source": [
    "excess_return_cols = [col for col in exchange_rate_returns.columns if col.endswith(\"_excess_return\")]\n",
    "excess_returns_df = exchange_rate_returns[excess_return_cols]"
   ]
  },
  {
   "cell_type": "code",
   "execution_count": 22,
   "id": "8de2a61f",
   "metadata": {},
   "outputs": [
    {
     "data": {
      "text/html": [
       "<div>\n",
       "<style scoped>\n",
       "    .dataframe tbody tr th:only-of-type {\n",
       "        vertical-align: middle;\n",
       "    }\n",
       "\n",
       "    .dataframe tbody tr th {\n",
       "        vertical-align: top;\n",
       "    }\n",
       "\n",
       "    .dataframe thead th {\n",
       "        text-align: right;\n",
       "    }\n",
       "</style>\n",
       "<table border=\"1\" class=\"dataframe\">\n",
       "  <thead>\n",
       "    <tr style=\"text-align: right;\">\n",
       "      <th></th>\n",
       "      <th>JPY_excess_return</th>\n",
       "      <th>EUR_excess_return</th>\n",
       "      <th>GBP_excess_return</th>\n",
       "      <th>MXN_excess_return</th>\n",
       "      <th>CHF_excess_return</th>\n",
       "    </tr>\n",
       "    <tr>\n",
       "      <th>date</th>\n",
       "      <th></th>\n",
       "      <th></th>\n",
       "      <th></th>\n",
       "      <th></th>\n",
       "      <th></th>\n",
       "    </tr>\n",
       "  </thead>\n",
       "  <tbody>\n",
       "    <tr>\n",
       "      <th>2018-01-02</th>\n",
       "      <td>0.003321</td>\n",
       "      <td>0.003839</td>\n",
       "      <td>0.006413</td>\n",
       "      <td>0.006128</td>\n",
       "      <td>0.003224</td>\n",
       "    </tr>\n",
       "    <tr>\n",
       "      <th>2018-01-03</th>\n",
       "      <td>-0.002080</td>\n",
       "      <td>-0.003722</td>\n",
       "      <td>-0.005475</td>\n",
       "      <td>0.009806</td>\n",
       "      <td>-0.005435</td>\n",
       "    </tr>\n",
       "    <tr>\n",
       "      <th>2018-01-04</th>\n",
       "      <td>-0.002196</td>\n",
       "      <td>0.004339</td>\n",
       "      <td>0.002553</td>\n",
       "      <td>0.003328</td>\n",
       "      <td>0.002254</td>\n",
       "    </tr>\n",
       "  </tbody>\n",
       "</table>\n",
       "</div>"
      ],
      "text/plain": [
       "            JPY_excess_return  EUR_excess_return  GBP_excess_return  \\\n",
       "date                                                                  \n",
       "2018-01-02           0.003321           0.003839           0.006413   \n",
       "2018-01-03          -0.002080          -0.003722          -0.005475   \n",
       "2018-01-04          -0.002196           0.004339           0.002553   \n",
       "\n",
       "            MXN_excess_return  CHF_excess_return  \n",
       "date                                              \n",
       "2018-01-02           0.006128           0.003224  \n",
       "2018-01-03           0.009806          -0.005435  \n",
       "2018-01-04           0.003328           0.002254  "
      ]
     },
     "execution_count": 22,
     "metadata": {},
     "output_type": "execute_result"
    }
   ],
   "source": [
    "excess_returns_df.head(3)"
   ]
  },
  {
   "cell_type": "code",
   "execution_count": 24,
   "id": "51dc7e21",
   "metadata": {},
   "outputs": [
    {
     "data": {
      "text/html": [
       "<div>\n",
       "<style scoped>\n",
       "    .dataframe tbody tr th:only-of-type {\n",
       "        vertical-align: middle;\n",
       "    }\n",
       "\n",
       "    .dataframe tbody tr th {\n",
       "        vertical-align: top;\n",
       "    }\n",
       "\n",
       "    .dataframe thead th {\n",
       "        text-align: right;\n",
       "    }\n",
       "</style>\n",
       "<table border=\"1\" class=\"dataframe\">\n",
       "  <thead>\n",
       "    <tr style=\"text-align: right;\">\n",
       "      <th></th>\n",
       "      <th>JPY_excess_return</th>\n",
       "      <th>EUR_excess_return</th>\n",
       "      <th>GBP_excess_return</th>\n",
       "      <th>MXN_excess_return</th>\n",
       "      <th>CHF_excess_return</th>\n",
       "    </tr>\n",
       "    <tr>\n",
       "      <th>date</th>\n",
       "      <th></th>\n",
       "      <th></th>\n",
       "      <th></th>\n",
       "      <th></th>\n",
       "      <th></th>\n",
       "    </tr>\n",
       "  </thead>\n",
       "  <tbody>\n",
       "    <tr>\n",
       "      <th>2024-08-28</th>\n",
       "      <td>-0.004522</td>\n",
       "      <td>-0.005789</td>\n",
       "      <td>-0.005291</td>\n",
       "      <td>0.006145</td>\n",
       "      <td>-0.000840</td>\n",
       "    </tr>\n",
       "    <tr>\n",
       "      <th>2024-08-29</th>\n",
       "      <td>-0.002950</td>\n",
       "      <td>-0.003933</td>\n",
       "      <td>-0.001756</td>\n",
       "      <td>-0.010201</td>\n",
       "      <td>-0.006232</td>\n",
       "    </tr>\n",
       "    <tr>\n",
       "      <th>2024-08-30</th>\n",
       "      <td>-0.008323</td>\n",
       "      <td>-0.002684</td>\n",
       "      <td>-0.003128</td>\n",
       "      <td>0.006370</td>\n",
       "      <td>-0.002795</td>\n",
       "    </tr>\n",
       "  </tbody>\n",
       "</table>\n",
       "</div>"
      ],
      "text/plain": [
       "            JPY_excess_return  EUR_excess_return  GBP_excess_return  \\\n",
       "date                                                                  \n",
       "2024-08-28          -0.004522          -0.005789          -0.005291   \n",
       "2024-08-29          -0.002950          -0.003933          -0.001756   \n",
       "2024-08-30          -0.008323          -0.002684          -0.003128   \n",
       "\n",
       "            MXN_excess_return  CHF_excess_return  \n",
       "date                                              \n",
       "2024-08-28           0.006145          -0.000840  \n",
       "2024-08-29          -0.010201          -0.006232  \n",
       "2024-08-30           0.006370          -0.002795  "
      ]
     },
     "execution_count": 24,
     "metadata": {},
     "output_type": "execute_result"
    }
   ],
   "source": [
    "excess_returns_df.tail(3)"
   ]
  },
  {
   "cell_type": "markdown",
   "id": "e1d841fa-782c-4613-9a87-925233741f5a",
   "metadata": {},
   "source": [
    "### 2.\n",
    "\n",
    "Report the following performance metrics. Annualize the mean and volatility using an assumption of `252` days per year.\n",
    "\n",
    "* mean\n",
    "* volatility\n",
    "* skewness\n",
    "* (excess) kurtosis\n",
    "* max drawdown\n",
    "\n",
    "Also report the correlation matrix."
   ]
  },
  {
   "cell_type": "code",
   "execution_count": 26,
   "id": "5ca66d5d",
   "metadata": {},
   "outputs": [
    {
     "name": "stderr",
     "output_type": "stream",
     "text": [
      "C:\\Users\\josel\\AppData\\Local\\Temp\\ipykernel_5156\\450534681.py:54: FutureWarning: The behavior of DataFrame concatenation with empty or all-NA entries is deprecated. In a future version, this will no longer exclude empty or all-NA columns when determining the result dtypes. To retain the old behavior, exclude the relevant entries before the concat operation.\n",
      "  result = pd.concat([result, aux_result], axis=0)\n",
      "C:\\Users\\josel\\AppData\\Local\\Temp\\ipykernel_5156\\450534681.py:54: FutureWarning: The behavior of DataFrame concatenation with empty or all-NA entries is deprecated. In a future version, this will no longer exclude empty or all-NA columns when determining the result dtypes. To retain the old behavior, exclude the relevant entries before the concat operation.\n",
      "  result = pd.concat([result, aux_result], axis=0)\n"
     ]
    },
    {
     "data": {
      "text/html": [
       "<div>\n",
       "<style scoped>\n",
       "    .dataframe tbody tr th:only-of-type {\n",
       "        vertical-align: middle;\n",
       "    }\n",
       "\n",
       "    .dataframe tbody tr th {\n",
       "        vertical-align: top;\n",
       "    }\n",
       "\n",
       "    .dataframe thead th {\n",
       "        text-align: right;\n",
       "    }\n",
       "</style>\n",
       "<table border=\"1\" class=\"dataframe\">\n",
       "  <thead>\n",
       "    <tr style=\"text-align: right;\">\n",
       "      <th></th>\n",
       "      <th>Mean</th>\n",
       "      <th>Volatility</th>\n",
       "      <th>Skew</th>\n",
       "      <th>Excess Kurtosis</th>\n",
       "      <th>Max Drawdown</th>\n",
       "    </tr>\n",
       "  </thead>\n",
       "  <tbody>\n",
       "    <tr>\n",
       "      <th>JPY_excess_return</th>\n",
       "      <td>-0.056823</td>\n",
       "      <td>0.084743</td>\n",
       "      <td>0.520696</td>\n",
       "      <td>6.526638</td>\n",
       "      <td>-0.439791</td>\n",
       "    </tr>\n",
       "    <tr>\n",
       "      <th>EUR_excess_return</th>\n",
       "      <td>-0.026064</td>\n",
       "      <td>0.070615</td>\n",
       "      <td>0.033741</td>\n",
       "      <td>1.485390</td>\n",
       "      <td>-0.289534</td>\n",
       "    </tr>\n",
       "    <tr>\n",
       "      <th>GBP_excess_return</th>\n",
       "      <td>-0.005692</td>\n",
       "      <td>0.089102</td>\n",
       "      <td>-0.100132</td>\n",
       "      <td>3.864357</td>\n",
       "      <td>-0.275513</td>\n",
       "    </tr>\n",
       "    <tr>\n",
       "      <th>MXN_excess_return</th>\n",
       "      <td>0.062422</td>\n",
       "      <td>0.125085</td>\n",
       "      <td>-0.486829</td>\n",
       "      <td>2.991920</td>\n",
       "      <td>-0.264490</td>\n",
       "    </tr>\n",
       "    <tr>\n",
       "      <th>CHF_excess_return</th>\n",
       "      <td>-0.001459</td>\n",
       "      <td>0.071578</td>\n",
       "      <td>0.334086</td>\n",
       "      <td>2.359595</td>\n",
       "      <td>-0.168497</td>\n",
       "    </tr>\n",
       "  </tbody>\n",
       "</table>\n",
       "</div>"
      ],
      "text/plain": [
       "                       Mean  Volatility      Skew  Excess Kurtosis  \\\n",
       "JPY_excess_return -0.056823    0.084743  0.520696         6.526638   \n",
       "EUR_excess_return -0.026064    0.070615  0.033741         1.485390   \n",
       "GBP_excess_return -0.005692    0.089102 -0.100132         3.864357   \n",
       "MXN_excess_return  0.062422    0.125085 -0.486829         2.991920   \n",
       "CHF_excess_return -0.001459    0.071578  0.334086         2.359595   \n",
       "\n",
       "                   Max Drawdown  \n",
       "JPY_excess_return     -0.439791  \n",
       "EUR_excess_return     -0.289534  \n",
       "GBP_excess_return     -0.275513  \n",
       "MXN_excess_return     -0.264490  \n",
       "CHF_excess_return     -0.168497  "
      ]
     },
     "execution_count": 26,
     "metadata": {},
     "output_type": "execute_result"
    }
   ],
   "source": [
    "get_metric_returns(excess_returns_df, adj_factor=252, VaR_q=5)[[\"Mean\", \"Volatility\", \"Skew\", \"Excess Kurtosis\", \"Max Drawdown\"]]"
   ]
  },
  {
   "cell_type": "code",
   "execution_count": 27,
   "id": "730cc74a",
   "metadata": {},
   "outputs": [
    {
     "data": {
      "text/plain": [
       "<Axes: >"
      ]
     },
     "execution_count": 27,
     "metadata": {},
     "output_type": "execute_result"
    },
    {
     "data": {
      "image/png": "[encoded data removed]",
      "text/plain": [
       "<Figure size 640x480 with 2 Axes>"
      ]
     },
     "metadata": {},
     "output_type": "display_data"
    }
   ],
   "source": [
    "sns.heatmap(excess_returns_df.corr(), annot=True)"
   ]
  },
  {
   "cell_type": "markdown",
   "id": "b6f08180-6ac3-4d42-bfa0-bb35cc71776e",
   "metadata": {},
   "source": [
    "### 3.\n",
    "\n",
    "As of `Dec 2017`, which of these currency trades has the most **carry**? \n",
    "\n",
    "Does this indicate high or low reeturns, assuming UIP?"
   ]
  },
  {
   "cell_type": "code",
   "execution_count": 31,
   "id": "a10f01a9",
   "metadata": {},
   "outputs": [
    {
     "name": "stdout",
     "output_type": "stream",
     "text": [
      "Carry as of Dec 2017:\n",
      " JPY   -0.000059\n",
      "EUR   -0.000073\n",
      "GBP   -0.000029\n",
      "MXN    0.000232\n",
      "CHF   -0.000090\n",
      "Name: 2017-12-29 00:00:00, dtype: float64\n",
      "Currency with highest carry as of Dec 2017: MXN\n"
     ]
    }
   ],
   "source": [
    "path = \"../data/fx_rf_data.xlsx\"\n",
    "risk_free_rate = pd.read_excel(path, sheet_name=\"risk-free rates\", index_col=0)\n",
    "exchange_rate = pd.read_excel(path, sheet_name=\"exchange rates\", index_col=0)\n",
    "risk_free_rate = risk_free_rate/252\n",
    "\n",
    "dec_2017_date = \"2017-12-31\"\n",
    "dec_2017_rf = risk_free_rate.loc[:dec_2017_date].iloc[-1]\n",
    "\n",
    "usd_rate = dec_2017_rf[\"USD\"]\n",
    "\n",
    "carry = dec_2017_rf.drop(\"USD\") - usd_rate\n",
    "print(\"Carry as of Dec 2017:\\n\", carry)\n",
    "\n",
    "\n",
    "max_carry_currency = carry.idxmax()\n",
    "print(\"Currency with highest carry as of Dec 2017:\", max_carry_currency)"
   ]
  },
  {
   "cell_type": "markdown",
   "id": "1b18bc49",
   "metadata": {},
   "source": [
    "*Answer* :  According to the UIP, currencies with higher interest rates should depreciate resulting in no systematic profit form carry trades like this (in practice usually is not true), i.e no higher returns, should implies a lower return on the FX "
   ]
  },
  {
   "cell_type": "markdown",
   "id": "899a222c-3a39-4fc8-826b-f732ebd0a9d6",
   "metadata": {},
   "source": [
    "### 4."
   ]
  },
  {
   "cell_type": "markdown",
   "id": "5985d281-f88f-487d-9f74-383b524ac00b",
   "metadata": {},
   "source": [
    "Calculate an **average currency factor** which is the equal-weighted average of the currency return series already calculated. Call this factor, $Z$.\n",
    "\n",
    "Estimate the Linear Factor Decomposition of each of the currency trades on this factor, $\\tilde{r}^z_t$. Report,\n",
    "* annualized alphas\n",
    "* betas\n",
    "* r-squared values"
   ]
  },
  {
   "cell_type": "code",
   "execution_count": null,
   "id": "f6cd9970",
   "metadata": {},
   "outputs": [
    {
     "name": "stdout",
     "output_type": "stream",
     "text": [
      "                   Annualized_alpha      Beta  R_Squared\n",
      "JPY_excess_return         -0.052224  0.832710   0.389112\n",
      "EUR_excess_return         -0.020939  0.927855   0.695777\n",
      "GBP_excess_return          0.000508  1.122580   0.639675\n",
      "MXN_excess_return          0.069313  1.247766   0.401005\n",
      "CHF_excess_return          0.003342  0.869089   0.594110\n"
     ]
    }
   ],
   "source": [
    "Z = excess_returns_df.mean(axis=1).rename(\"Z\")\n",
    "\n",
    "results_dict = {}\n",
    "annual_factor = 252  \n",
    "\n",
    "for c in excess_returns_df.columns:\n",
    "    y = excess_returns_df[c].dropna()\n",
    "    x = Z.loc[y.index]\n",
    "    X = sm.add_constant(x)\n",
    "    model = sm.OLS(y, X).fit()\n",
    "    alpha = model.params['const'] * annual_factor\n",
    "    beta = model.params['Z']\n",
    "\n",
    "    r2 = model.rsquared\n",
    "    results_dict[c] = {\"Annualized_alpha\": alpha,\n",
    "                       \"Beta\": beta,\n",
    "                       \"R_Squared\": r2}\n",
    "\n",
    "factor_decomposition = pd.DataFrame(results_dict).T\n",
    "print(factor_decomposition)\n"
   ]
  },
  {
   "cell_type": "markdown",
   "id": "05d0692c-7325-496f-8008-ae6578402156",
   "metadata": {},
   "source": [
    "### 5."
   ]
  },
  {
   "cell_type": "markdown",
   "id": "d7d716c3-eb48-4c87-8ab6-8e4ea8759a87",
   "metadata": {},
   "source": [
    "Do your estimates seem in line with a factor pricing model for these trades where $\\tilde{r}^z$ is the single factor? \n",
    "\n",
    "Explain your conclusion. Don't worry about small sample sizes."
   ]
  },
  {
   "cell_type": "markdown",
   "id": "3d283872",
   "metadata": {},
   "source": [
    "*Answer* :  We can observe that the Annualized Alpha for almost all the factors are different that zero, therefore with this data at least the factor pricing model for these trades is not good, Z is not able to explain the excess of returns "
   ]
  },
  {
   "cell_type": "markdown",
   "id": "46c22dfe-d203-49b1-9776-eafc764d064d",
   "metadata": {},
   "source": [
    "### 6. \n",
    "\n",
    "From the performance metrics of these currency trades, \n",
    "* Do you expect diversification is particularly useful or not? Be specific.\n",
    "* Do you expect mean-variance optimization will do relatively well out of sample? Be specific."
   ]
  },
  {
   "cell_type": "markdown",
   "id": "9399fc07",
   "metadata": {},
   "source": [
    "*Answer* :  in this case, the correlation are relative low, except for EUR/CHF, which is 75%, with this, we expect that the inverst of the covariance matrix presents some instability due to the high correlation (as for example with FF factor). So diversification will not be so useful, but eventhough we can achive a ever performance using the asset, but for MV optimization could have some inestability out-of-sample due this correlation (EUR/CHF)"
   ]
  },
  {
   "cell_type": "markdown",
   "id": "c2137495-5add-4af7-b992-7377c6b7103b",
   "metadata": {},
   "source": [
    "### 7.\n",
    "\n",
    "Calculate the tangency weights for a portfolio of these currency trades. \n",
    "\n",
    "Report the performance metrics of `2.2` for this tangency portfolio."
   ]
  },
  {
   "cell_type": "code",
   "execution_count": 37,
   "id": "06b46e04",
   "metadata": {},
   "outputs": [],
   "source": [
    "def weights_tang(return_db, adj_factor = 12):\n",
    "    sigma = (return_db.cov()*adj_factor)\n",
    "    mu_excess = (return_db.mean()*adj_factor)\n",
    "    vector = np.ones(len(mu_excess))\n",
    "    w_tan = (np.linalg.inv(sigma) @ mu_excess )/(np.transpose(vector) @ np.linalg.inv(sigma) @ mu_excess)\n",
    "    weights_db = pd.DataFrame({\"w_tan\": w_tan})\n",
    "    weights_db.index = return_db.columns\n",
    "    return weights_db\n"
   ]
  },
  {
   "cell_type": "code",
   "execution_count": 38,
   "id": "9a498ca5",
   "metadata": {},
   "outputs": [
    {
     "name": "stdout",
     "output_type": "stream",
     "text": [
      "Tangency Portfolio Weights:\n",
      "                       w_tan\n",
      "JPY_excess_return  2.662836\n",
      "EUR_excess_return  4.282536\n",
      "GBP_excess_return -0.683833\n",
      "MXN_excess_return -1.338286\n",
      "CHF_excess_return -3.923253\n"
     ]
    }
   ],
   "source": [
    "weights = weights_tang(excess_returns_df, adj_factor=252) \n",
    "\n",
    "print(\"Tangency Portfolio Weights:\\n\", weights)\n"
   ]
  },
  {
   "cell_type": "code",
   "execution_count": 39,
   "id": "c1446c8d",
   "metadata": {},
   "outputs": [
    {
     "data": {
      "text/html": [
       "<div>\n",
       "<style scoped>\n",
       "    .dataframe tbody tr th:only-of-type {\n",
       "        vertical-align: middle;\n",
       "    }\n",
       "\n",
       "    .dataframe tbody tr th {\n",
       "        vertical-align: top;\n",
       "    }\n",
       "\n",
       "    .dataframe thead th {\n",
       "        text-align: right;\n",
       "    }\n",
       "</style>\n",
       "<table border=\"1\" class=\"dataframe\">\n",
       "  <thead>\n",
       "    <tr style=\"text-align: right;\">\n",
       "      <th></th>\n",
       "      <th>Mean</th>\n",
       "      <th>Volatility</th>\n",
       "      <th>Sharpe_Ratio</th>\n",
       "      <th>Skew</th>\n",
       "      <th>Excess Kurtosis</th>\n",
       "      <th>VaR</th>\n",
       "      <th>CVaR</th>\n",
       "      <th>Max Drawdown</th>\n",
       "      <th>Bottom</th>\n",
       "      <th>Peak</th>\n",
       "      <th>Recovery</th>\n",
       "      <th>Duration (days)</th>\n",
       "    </tr>\n",
       "  </thead>\n",
       "  <tbody>\n",
       "    <tr>\n",
       "      <th>w_tan</th>\n",
       "      <td>-0.336854</td>\n",
       "      <td>0.290669</td>\n",
       "      <td>-1.158891</td>\n",
       "      <td>0.676095</td>\n",
       "      <td>3.818263</td>\n",
       "      <td>-0.029233</td>\n",
       "      <td>-0.038807</td>\n",
       "      <td>-0.947624</td>\n",
       "      <td>2024-06-21</td>\n",
       "      <td>2018-05-07</td>\n",
       "      <td>None</td>\n",
       "      <td>NaN</td>\n",
       "    </tr>\n",
       "  </tbody>\n",
       "</table>\n",
       "</div>"
      ],
      "text/plain": [
       "           Mean  Volatility  Sharpe_Ratio      Skew  Excess Kurtosis  \\\n",
       "w_tan -0.336854    0.290669     -1.158891  0.676095         3.818263   \n",
       "\n",
       "            VaR      CVaR  Max Drawdown     Bottom       Peak Recovery  \\\n",
       "w_tan -0.029233 -0.038807     -0.947624 2024-06-21 2018-05-07     None   \n",
       "\n",
       "       Duration (days)  \n",
       "w_tan              NaN  "
      ]
     },
     "execution_count": 39,
     "metadata": {},
     "output_type": "execute_result"
    }
   ],
   "source": [
    "get_metric_returns(excess_returns_df @ weights, adj_factor=252, VaR_q=5)"
   ]
  },
  {
   "cell_type": "markdown",
   "id": "293e65e5-2b25-4f83-9575-79e3f1b808c6",
   "metadata": {},
   "source": [
    "### 8.\n",
    "\n",
    "Suppose you are a USD-based investor, but you want to short `1 JPY`, and use it to go long the equivalent amount of USD.\n",
    "\n",
    "Calculate the excess return to this short-yen (SY) trade, denoted $\\tilde{r}_{t+1}^{SY}$.\n",
    "\n",
    "We're still examining `January 2018` through `August 2024`.\n",
    "\n",
    "Report the first and last three values of the timeseries of excess returns."
   ]
  },
  {
   "cell_type": "code",
   "execution_count": null,
   "id": "cc9583f3",
   "metadata": {},
   "outputs": [
    {
     "name": "stdout",
     "output_type": "stream",
     "text": [
      "First three values of SY excess returns:\n"
     ]
    },
    {
     "data": {
      "text/html": [
       "<div>\n",
       "<style scoped>\n",
       "    .dataframe tbody tr th:only-of-type {\n",
       "        vertical-align: middle;\n",
       "    }\n",
       "\n",
       "    .dataframe tbody tr th {\n",
       "        vertical-align: top;\n",
       "    }\n",
       "\n",
       "    .dataframe thead th {\n",
       "        text-align: right;\n",
       "    }\n",
       "</style>\n",
       "<table border=\"1\" class=\"dataframe\">\n",
       "  <thead>\n",
       "    <tr style=\"text-align: right;\">\n",
       "      <th></th>\n",
       "      <th>JPY_excess_return</th>\n",
       "    </tr>\n",
       "    <tr>\n",
       "      <th>date</th>\n",
       "      <th></th>\n",
       "    </tr>\n",
       "  </thead>\n",
       "  <tbody>\n",
       "    <tr>\n",
       "      <th>2018-01-02</th>\n",
       "      <td>-0.003321</td>\n",
       "    </tr>\n",
       "    <tr>\n",
       "      <th>2018-01-03</th>\n",
       "      <td>0.002080</td>\n",
       "    </tr>\n",
       "    <tr>\n",
       "      <th>2018-01-04</th>\n",
       "      <td>0.002196</td>\n",
       "    </tr>\n",
       "  </tbody>\n",
       "</table>\n",
       "</div>"
      ],
      "text/plain": [
       "            JPY_excess_return\n",
       "date                         \n",
       "2018-01-02          -0.003321\n",
       "2018-01-03           0.002080\n",
       "2018-01-04           0.002196"
      ]
     },
     "metadata": {},
     "output_type": "display_data"
    },
    {
     "name": "stdout",
     "output_type": "stream",
     "text": [
      "Last three values of SY excess returns:\n"
     ]
    },
    {
     "data": {
      "text/html": [
       "<div>\n",
       "<style scoped>\n",
       "    .dataframe tbody tr th:only-of-type {\n",
       "        vertical-align: middle;\n",
       "    }\n",
       "\n",
       "    .dataframe tbody tr th {\n",
       "        vertical-align: top;\n",
       "    }\n",
       "\n",
       "    .dataframe thead th {\n",
       "        text-align: right;\n",
       "    }\n",
       "</style>\n",
       "<table border=\"1\" class=\"dataframe\">\n",
       "  <thead>\n",
       "    <tr style=\"text-align: right;\">\n",
       "      <th></th>\n",
       "      <th>JPY_excess_return</th>\n",
       "    </tr>\n",
       "    <tr>\n",
       "      <th>date</th>\n",
       "      <th></th>\n",
       "    </tr>\n",
       "  </thead>\n",
       "  <tbody>\n",
       "    <tr>\n",
       "      <th>2024-08-28</th>\n",
       "      <td>0.004522</td>\n",
       "    </tr>\n",
       "    <tr>\n",
       "      <th>2024-08-29</th>\n",
       "      <td>0.002950</td>\n",
       "    </tr>\n",
       "    <tr>\n",
       "      <th>2024-08-30</th>\n",
       "      <td>0.008323</td>\n",
       "    </tr>\n",
       "  </tbody>\n",
       "</table>\n",
       "</div>"
      ],
      "text/plain": [
       "            JPY_excess_return\n",
       "date                         \n",
       "2024-08-28           0.004522\n",
       "2024-08-29           0.002950\n",
       "2024-08-30           0.008323"
      ]
     },
     "metadata": {},
     "output_type": "display_data"
    }
   ],
   "source": [
    "print(\"First three values of SY excess returns:\")\n",
    "display((-excess_returns_df[[\"JPY_excess_return\"]]).head(3))\n",
    "print(\"Last three values of SY excess returns:\")\n",
    "display((-excess_returns_df[[\"JPY_excess_return\"]]).tail(3))\n"
   ]
  },
  {
   "cell_type": "markdown",
   "id": "60cb4edc-bbe0-4a81-b87f-61dfa53f2f20",
   "metadata": {},
   "source": [
    "### 9.\n",
    "\n",
    "Report the performance statistics requested in `2.2` for this short-yen trade. \n",
    "\n",
    "Also, what date is the min and max return for this trade?"
   ]
  },
  {
   "cell_type": "code",
   "execution_count": 43,
   "id": "87331c09",
   "metadata": {},
   "outputs": [
    {
     "data": {
      "text/html": [
       "<div>\n",
       "<style scoped>\n",
       "    .dataframe tbody tr th:only-of-type {\n",
       "        vertical-align: middle;\n",
       "    }\n",
       "\n",
       "    .dataframe tbody tr th {\n",
       "        vertical-align: top;\n",
       "    }\n",
       "\n",
       "    .dataframe thead th {\n",
       "        text-align: right;\n",
       "    }\n",
       "</style>\n",
       "<table border=\"1\" class=\"dataframe\">\n",
       "  <thead>\n",
       "    <tr style=\"text-align: right;\">\n",
       "      <th></th>\n",
       "      <th>Mean</th>\n",
       "      <th>Volatility</th>\n",
       "      <th>Sharpe_Ratio</th>\n",
       "      <th>Skew</th>\n",
       "      <th>Excess Kurtosis</th>\n",
       "      <th>VaR</th>\n",
       "      <th>CVaR</th>\n",
       "      <th>Max Drawdown</th>\n",
       "      <th>Bottom</th>\n",
       "      <th>Peak</th>\n",
       "      <th>Recovery</th>\n",
       "      <th>Duration (days)</th>\n",
       "    </tr>\n",
       "  </thead>\n",
       "  <tbody>\n",
       "    <tr>\n",
       "      <th>JPY_excess_return</th>\n",
       "      <td>0.056823</td>\n",
       "      <td>0.084743</td>\n",
       "      <td>0.670533</td>\n",
       "      <td>-0.520696</td>\n",
       "      <td>6.526638</td>\n",
       "      <td>-0.008115</td>\n",
       "      <td>-0.012977</td>\n",
       "      <td>-0.146787</td>\n",
       "      <td>2023-01-13</td>\n",
       "      <td>2024-07-10</td>\n",
       "      <td>2023-08-16</td>\n",
       "      <td>215</td>\n",
       "    </tr>\n",
       "  </tbody>\n",
       "</table>\n",
       "</div>"
      ],
      "text/plain": [
       "                       Mean  Volatility  Sharpe_Ratio      Skew  \\\n",
       "JPY_excess_return  0.056823    0.084743      0.670533 -0.520696   \n",
       "\n",
       "                   Excess Kurtosis       VaR      CVaR  Max Drawdown  \\\n",
       "JPY_excess_return         6.526638 -0.008115 -0.012977     -0.146787   \n",
       "\n",
       "                      Bottom       Peak   Recovery  Duration (days)  \n",
       "JPY_excess_return 2023-01-13 2024-07-10 2023-08-16              215  "
      ]
     },
     "execution_count": 43,
     "metadata": {},
     "output_type": "execute_result"
    }
   ],
   "source": [
    "get_metric_returns(-excess_returns_df[[\"JPY_excess_return\"]], adj_factor=252, VaR_q=5)"
   ]
  },
  {
   "cell_type": "code",
   "execution_count": 45,
   "id": "38c0d9ee",
   "metadata": {},
   "outputs": [],
   "source": [
    "min_date = (-excess_returns_df[[\"JPY_excess_return\"]]).idxmin()\n",
    "max_date = (-excess_returns_df[[\"JPY_excess_return\"]]).idxmax()"
   ]
  },
  {
   "cell_type": "code",
   "execution_count": 46,
   "id": "2da19473",
   "metadata": {},
   "outputs": [
    {
     "name": "stdout",
     "output_type": "stream",
     "text": [
      "Short-Yen Minimum Return Date: JPY_excess_return   2022-12-20\n",
      "dtype: datetime64[ns] Value: date\n",
      "2022-12-20   -0.039119\n",
      "Name: SY_excess_return, dtype: float64\n",
      "Short-Yen Maximum Return Date: JPY_excess_return   2020-03-10\n",
      "dtype: datetime64[ns] Value: date\n",
      "2020-03-10    0.030964\n",
      "Name: SY_excess_return, dtype: float64\n"
     ]
    }
   ],
   "source": [
    "print(\"Short-Yen Minimum Return Date:\", min_date, \"Value:\", sy.loc[min_date])\n",
    "print(\"Short-Yen Maximum Return Date:\", max_date, \"Value:\", sy.loc[max_date])"
   ]
  },
  {
   "cell_type": "markdown",
   "id": "d6cf51ec",
   "metadata": {
    "vscode": {
     "languageId": "plaintext"
    }
   },
   "source": [
    "***"
   ]
  }
 ],
 "metadata": {
  "hide_input": false,
  "kernelspec": {
   "display_name": "base",
   "language": "python",
   "name": "python3"
  },
  "language_info": {
   "codemirror_mode": {
    "name": "ipython",
    "version": 3
   },
   "file_extension": ".py",
   "mimetype": "text/x-python",
   "name": "python",
   "nbconvert_exporter": "python",
   "pygments_lexer": "ipython3",
   "version": "3.12.4"
  }
 },
 "nbformat": 4,
 "nbformat_minor": 5
}
